{
 "cells": [
  {
   "cell_type": "code",
   "execution_count": 1,
   "id": "3940bc0f-40ab-476e-a598-d9ab33d5c2d3",
   "metadata": {
    "tags": []
   },
   "outputs": [],
   "source": [
    "import json\n",
    "import random\n",
    "import os\n",
    "import openai\n",
    "from colorama import Fore, Back, Style"
   ]
  },
  {
   "cell_type": "code",
   "execution_count": 2,
   "id": "6126b7b2-d666-48cd-9133-29c03c28b1ac",
   "metadata": {
    "tags": []
   },
   "outputs": [],
   "source": [
    "def load_jsonl(filename):\n",
    "    records = []\n",
    "    with open(filename, 'r') as file:\n",
    "        for line in file:\n",
    "            records.append(json.loads(line))\n",
    "    return records\n",
    "\n",
    "def save_json(data, filename):\n",
    "    with open(filename, \"w\") as file:\n",
    "        json.dump(data, indent=4)\n",
    "\n",
    "def save_jsonl(data_list, filename):\n",
    "    with open(filename, 'w') as file:\n",
    "        for record in data_list:\n",
    "            json.dump(record, file)\n",
    "            file.write('\\n')\n",
    "\n",
    "def pickle_save(obj, filename):\n",
    "    with open(filename, \"wb\") as file:\n",
    "        pickle.dump(obj, file)\n",
    "\n",
    "def pickle_load(filename):\n",
    "    with open(filename, 'rb') as file:\n",
    "        return pickle.load(file)"
   ]
  },
  {
   "cell_type": "markdown",
   "id": "944c383b-4e87-4edb-af60-54decadcebc2",
   "metadata": {},
   "source": [
    "# Read dataset"
   ]
  },
  {
   "cell_type": "code",
   "execution_count": 3,
   "id": "0eeff41b-e0ca-4c2a-bb8b-e034c9a55baa",
   "metadata": {
    "tags": []
   },
   "outputs": [
    {
     "data": {
      "text/plain": [
       "4216"
      ]
     },
     "execution_count": 3,
     "metadata": {},
     "output_type": "execute_result"
    }
   ],
   "source": [
    "test_set = load_jsonl(\"DECODE[dialogue-contradiction-detection]/decode_v0.1/test.jsonl\")\n",
    "len(test_set)"
   ]
  },
  {
   "cell_type": "code",
   "execution_count": 4,
   "id": "a9e749ce-52a1-443b-ab49-1abddbe6456e",
   "metadata": {
    "tags": []
   },
   "outputs": [
    {
     "name": "stdout",
     "output_type": "stream",
     "text": [
      "2108 2108\n"
     ]
    }
   ],
   "source": [
    "samples_with_contradiction = []\n",
    "samples_no_contradiction = []\n",
    "for i, x in enumerate(test_set):\n",
    "    if x[\"is_contradiction\"]:\n",
    "        samples_with_contradiction.append((i, x))\n",
    "    else:\n",
    "        samples_no_contradiction.append((i, x))\n",
    "print(len(samples_with_contradiction), len(samples_no_contradiction))"
   ]
  },
  {
   "cell_type": "code",
   "execution_count": 5,
   "id": "015d1b62-0f92-47c2-9ec5-ded52bcd0c48",
   "metadata": {
    "tags": []
   },
   "outputs": [],
   "source": [
    "with_contra_random_samples = random.sample(samples_with_contradiction, 100)\n",
    "no_contra_random_samples = random.sample(samples_no_contradiction, 100)"
   ]
  },
  {
   "cell_type": "code",
   "execution_count": 6,
   "id": "45b8cc58-2be0-42d3-8b1b-b75c8f597ef4",
   "metadata": {
    "tags": []
   },
   "outputs": [],
   "source": [
    "def show_instance(sample):\n",
    "    index, instance = sample\n",
    "    contradiction_indices = instance['aggregated_contradiction_indices']\n",
    "    contradiction_indices = [x for x in contradiction_indices if x != len(instance['turns']) - 1]  # remove the last utterance, because it is always there\n",
    "    # print(\"contra ids\", contradiction_indices)\n",
    "    for t in sorted(instance['turns'], key=lambda x: x['turn_id']):\n",
    "        if t['turn_id'] in contradiction_indices:\n",
    "            print(Back.YELLOW + f\"{t['agent_id']}: {t['text']}\", end=\"\")\n",
    "            print(Style.RESET_ALL)\n",
    "        elif t['auxiliary']['contradiction']:\n",
    "            print(Fore.RED + f\"{t['agent_id']}: {t['text']}\", end=\"\")\n",
    "            print(Style.RESET_ALL)\n",
    "        else:\n",
    "            print(f\"{t['agent_id']}: {t['text']}\")"
   ]
  },
  {
   "cell_type": "code",
   "execution_count": null,
   "id": "d95b79bc-b11d-4027-bb66-bd833141df65",
   "metadata": {
    "tags": []
   },
   "outputs": [],
   "source": [
    "# an example with contradiction\n",
    "# the last utterance (red) is contradicting to the 4-th utterance (highlighed in yellow)\n",
    "show_instance(with_contra_random_samples[0])"
   ]
  },
  {
   "cell_type": "code",
   "execution_count": null,
   "id": "3d1b70fe-1daf-4a5e-b7ee-96f9611e5184",
   "metadata": {
    "tags": []
   },
   "outputs": [],
   "source": [
    "# an example without contradiction\n",
    "show_instance(no_contra_random_samples[0])"
   ]
  },
  {
   "cell_type": "markdown",
   "id": "c2f4a28d-6184-4397-8627-c165772e56a3",
   "metadata": {
    "tags": []
   },
   "source": [
    "# Construct Prompt"
   ]
  },
  {
   "cell_type": "markdown",
   "id": "1f2e7d74-625c-43eb-9516-5fbe89b90fa6",
   "metadata": {},
   "source": [
    "Note: no need to distinguish between samples with/without contradiction when constructing prompt (I previously did this to test label-reversing modifications. But not required at the moment)."
   ]
  },
  {
   "cell_type": "markdown",
   "id": "c3f49729-b1b0-43bd-a331-e175bc5af3de",
   "metadata": {},
   "source": [
    "Differences compared to sent's version\n",
    "* mention that modification should be done on LAST TURN\n",
    "* two fields: DIALOGUE and LAST TURN\n",
    "* mention that the modified LAST TURN is still coherent with the previous dialogue context."
   ]
  },
  {
   "cell_type": "code",
   "execution_count": 7,
   "id": "fff12324-4fa5-4ee6-ac82-5f105d58e28c",
   "metadata": {
    "tags": []
   },
   "outputs": [],
   "source": [
    "system_instruction = '''You are a linguist specializing in doing text annotation in the English language. You will be tasked with making minimal modification to the LAST TURN of a conversation based on some linguistics aspects to expose biases in machine learning models. Maker sure the modified LAST TURN is still coherent with previous dialogue context.\n",
    "\n",
    "The given text are samples in the conversational contradiction detection task.\n",
    "\n",
    "Each sample has two fields: \n",
    "- DIALOGUE: a conversation with multiple turns.\n",
    "- LAST TURN: the last turn/utterance of the conversation\n",
    "\n",
    "A task may ask for one or multiple modifications for LAST TURN. Each modification should be an object with 3 fields: \n",
    "type: the type of modification\n",
    "modified_last_turn: the modified last turn of the dialogue.\n",
    "rationale: the reason why and how the modifications are made.\n",
    "\n",
    "Please return a json object which consists of one or multiple modifications.\n",
    "'''"
   ]
  },
  {
   "cell_type": "markdown",
   "id": "2da76d67-76ed-4ffe-9423-a6cf6906951f",
   "metadata": {},
   "source": [
    "## example: antiderivation"
   ]
  },
  {
   "cell_type": "markdown",
   "id": "0dfa84aa-0f04-4e14-b6ec-ce277474122f",
   "metadata": {},
   "source": [
    "Differences compared to sent's version\n",
    "* the prompt specifies that modification should be done for the LAST TURN\n",
    "* only gives task instruction and examples (so we can append the DIALOGUE and the LAST TURN later)"
   ]
  },
  {
   "cell_type": "code",
   "execution_count": null,
   "id": "c93ac81a-1689-4e2b-bc32-c23b83633f02",
   "metadata": {
    "tags": []
   },
   "outputs": [],
   "source": [
    "antiderivation_replacement_instruction ='''Find any non-derived word (a word without suffixes or prefixes) in the LAST TURN below and change it into a derived word (word with a prefix or a suffix). Do not add grammatical suffixes (-s, -ed, -er, -est). Make sure the conversation is natural after modification.\n",
    "\n",
    "Example: a sometimes dull film ->  a sometimes tedious film (tedious is derived from tedium using a -ios suffix)\n",
    "\n",
    "Example: an very hard task -> an increasingly hard task (increasingly is derived from increasing using a -ly suffix)\n",
    "\n",
    "Example: amazing accomplishment -> Skip (both words are already derived)\n",
    "'''"
   ]
  },
  {
   "cell_type": "code",
   "execution_count": 91,
   "id": "9e22ad2b-eb8e-4e08-91c3-57421eda73fb",
   "metadata": {
    "tags": []
   },
   "outputs": [],
   "source": []
  },
  {
   "cell_type": "code",
   "execution_count": null,
   "id": "4a3bf339-2936-4ed3-8059-f1acf7a2cd29",
   "metadata": {
    "tags": []
   },
   "outputs": [],
   "source": [
    "prompt = create_prompt(with_contra_random_samples[0], antiderivation_replacement_instruction)\n",
    "print(prompt)"
   ]
  },
  {
   "cell_type": "code",
   "execution_count": 8,
   "id": "f8d7ca6f",
   "metadata": {},
   "outputs": [],
   "source": [
    "import openai\n",
    "import pandas as pd\n",
    "import numpy as np\n",
    "import os\n",
    "import json\n",
    "import random\n",
    "import nltk\n",
    "from nltk.corpus import stopwords\n",
    "from google_pygram import GooglePyGram as gpg\n",
    "from nltk.stem import WordNetLemmatizer\n",
    "lemmatizer = WordNetLemmatizer()\n",
    "from datasets import load_dataset\n",
    "from string import punctuation\n",
    "import json"
   ]
  },
  {
   "cell_type": "code",
   "execution_count": 9,
   "id": "c27c2971",
   "metadata": {},
   "outputs": [],
   "source": [
    "from tqdm import tqdm"
   ]
  },
  {
   "cell_type": "code",
   "execution_count": 10,
   "id": "39d84c1f",
   "metadata": {},
   "outputs": [],
   "source": [
    "from tenacity import (\n",
    "    retry,\n",
    "    stop_after_attempt,\n",
    "    wait_random_exponential,\n",
    ")  # for exponential backoff\n"
   ]
  },
  {
   "cell_type": "code",
   "execution_count": 12,
   "id": "cbab2478",
   "metadata": {},
   "outputs": [],
   "source": [
    "stoplist = set(stopwords.words('english'))"
   ]
  },
  {
   "cell_type": "code",
   "execution_count": 13,
   "id": "3b1c9274",
   "metadata": {},
   "outputs": [],
   "source": [
    "MODEL = \"gpt-4-1106-preview\""
   ]
  },
  {
   "cell_type": "code",
   "execution_count": 14,
   "id": "b4bc2844",
   "metadata": {},
   "outputs": [],
   "source": [
    "def format_prompt(system_instruction, instruction, input):\n",
    "    message = create_prompt(input, instruction)\n",
    "    # message = instruction.format(sample = str(input))\n",
    "    messages = [\n",
    "        {\"role\": \"system\", \"content\": system_instruction},\n",
    "        {\"role\": \"user\", \"content\": message},\n",
    "    ]\n",
    "    # print(messages)\n",
    "    return messages"
   ]
  },
  {
   "cell_type": "code",
   "execution_count": null,
   "id": "6b5bf19d",
   "metadata": {},
   "outputs": [],
   "source": [
    "%pprint"
   ]
  },
  {
   "cell_type": "code",
   "execution_count": null,
   "id": "327ac32e",
   "metadata": {},
   "outputs": [],
   "source": [
    "print(format_prompt(system_instruction, frequency_bias_instruction, with_contra_random_samples[0])[0]['content'])\n"
   ]
  },
  {
   "cell_type": "code",
   "execution_count": null,
   "id": "f1f43131",
   "metadata": {},
   "outputs": [],
   "source": [
    "print(format_prompt(system_instruction, frequency_bias_instruction, with_contra_random_samples[0])[1]['content'])"
   ]
  },
  {
   "cell_type": "code",
   "execution_count": 114,
   "id": "6c751e99",
   "metadata": {},
   "outputs": [],
   "source": [
    "# Example OpenAI Python library request\n",
    "@retry(wait=wait_random_exponential(min=1, max=60), stop=stop_after_attempt(6))\n",
    "def request(samples, prompt_type):\n",
    "    modified_samples = []\n",
    "    for sample in tqdm(samples):\n",
    "        # print(samples)\n",
    "        # create_prompt(sample, prompt_type)\n",
    "        messages = format_prompt(system_instruction, prompt_type, sample)\n",
    "        # print(messages)\n",
    "        response = openai.ChatCompletion.create(\n",
    "            model=MODEL,\n",
    "            response_format={ \"type\": \"json_object\" },\n",
    "            messages= messages,\n",
    "            temperature=0,\n",
    "        )\n",
    "        ans_model = response['choices'][0]['message']['content']\n",
    "        modified_samples.append(ans_model)\n",
    "        # print(messages[1]['content'])\n",
    "        # print(sample)\n",
    "        # print(ans_model)\n",
    "        # print('===================')\n",
    "    return modified_samples"
   ]
  },
  {
   "cell_type": "code",
   "execution_count": 16,
   "id": "0b0ba5db",
   "metadata": {},
   "outputs": [],
   "source": [
    "subsaharan_africa = ['Angola', 'Benin', 'Botswana', 'Burkina Faso', 'Burundi', 'Cameroon', 'Cape Verde',\n",
    "          'Central African Republic', 'Chad', 'Comoros', 'Djibouti', 'Republic of the Congo', 'Democratic Republic of the Congo (Zaire)',\n",
    "          \"Côte d'Ivoire\", 'Equatorial Guinea', 'Eritrea', 'Ethiopia', 'Gabon', 'Gambia', 'Ghana', 'Guinea', \n",
    "          'Guinea-Bissau', 'Kenya', 'Lesotho', 'Liberia', 'Madagascar', 'Malawi', 'Mali', 'Mauritius', 'Mozambique', \n",
    "          'Namibia', 'Niger', 'Nigeria', 'Rwanda', 'São Tomé and Príncipe', 'Senegal', 'Seychelles', 'Sierra Leone', \n",
    "          'Somalia', 'South Africa', 'South Sudan', 'Swaziland', 'Tanzania', 'Togo', 'Uganda']\n",
    "          \n",
    "\n",
    "#Middle East, North Africa, and Turkey\t\t   \n",
    "menat = ['Algeria', 'Bahrain', 'Iran', 'Iraq', 'Jordan', 'Egypt', 'Kuwait', 'Lebanon', 'Libya', 'Mauritania',\n",
    "          'Morocco', 'Oman', 'Palestine', 'Qatar', 'Saudi Arabia', 'Sudan', 'Syria', 'Turkey',\n",
    "          'Tunisia', 'United Arab Emirates', 'Yemen']\n",
    "\n",
    "\n",
    "southeast_asia = ['Brunei', 'Cambodia', 'Timor Leste', 'Indonesia', 'Laos', 'Malaysia', 'Myanmar',\n",
    "        'Philippines', 'Singapore', 'Thailand', 'Vietnam']\n",
    "\n",
    "east_asia = ['China', 'Japan', 'Mongolia', 'North Korea', 'South Korea', 'Taiwan']\n",
    "\n",
    "south_asia = ['Bangladesh', 'Bhutan', 'India', 'The Maldives', 'Nepal', 'Pakistan', 'Sri Lanka']\n",
    "\n",
    "central_asia = ['Afghanistan', 'Armenia', 'Azerbaijan', 'Georgia', 'Kazakhstan', 'Kyrgyzstan', \n",
    "        'Tajikistan', 'Turkmenistan', 'Uzbekistan']\n",
    "\n",
    "\n",
    "#Oceania, Melanesia, and Polynesia\n",
    "oceania = ['Fiji', 'Federated States of Micronesia', 'Kiribati', 'Marshall Islands', 'Nauru', \n",
    "           'Palau', 'Papua New Guinea', 'Samoa', 'Solomon Islands', 'Tonga', 'Tuvalu', 'Vanuatu']\n",
    "\n",
    "australia_nz = ['Australia', 'New Zealand']\n",
    "\n",
    "\n",
    "#Carribean and Latin America\n",
    "latin_america = ['Mexico', 'Puerto Rico', 'Dominican Republic', 'Cuba', 'Haiti', 'Belize', 'Grenada', 'Saint Lucia',\n",
    "           'Costa Rica', 'El Salvador', 'Guatemala', 'Honduras', 'Nicaragua', 'Panama', 'Jamaica', 'Bahamas', 'Barbados',\n",
    "           'Dominica', 'Brazil', 'Argentina', 'Bolivia', 'Chile', 'Colombia', 'Ecuador', 'Guyana', 'Paraguay', 'Peru',\n",
    "           'Suriname', 'Trinidad and Tobago', 'Uruguay', 'Venezuela', 'Antigua and Barbuda', 'Saint Kitts and Nevis']\n",
    "\n",
    "north_america = ['Canada', 'United States of America']\n",
    "\n",
    "#Northern Europe (nordic)\n",
    "northern_europe = ['Denmark', 'Estonia', 'Finland', 'Iceland', 'Latvia', 'Lithuania', 'Norway', 'Sweden']\n",
    "\t\t   \n",
    "western_europe = ['Belgium', 'France', 'Republic of Ireland', 'Luxembourg', 'Monaco', 'Netherlands', 'United Kingdom']\n",
    "\n",
    "central_europe = ['Austria', 'Czech Republic', 'Germany', 'Hungary', 'Liechtenstein', 'Poland', 'Slovakia', 'Switzerland']\n",
    "\n",
    "southern_europe = ['Andorra', 'Italy', 'Malta', 'Portugal', 'San Marino', 'Spain', 'Vatican City']\n",
    "\n",
    "#Southeastern Europe (mostly Balkan)\n",
    "southeastern_europe = ['Albania', 'Bosnia and Herzegovina', 'Bulgaria', 'Croatia', 'Cyprus', 'Greece',\n",
    "          'Kosovo', 'North Macedonia', 'Moldova', 'Montenegro', 'Romania', 'Serbia', 'Slovenia']\n",
    "\t\t   \n",
    "eastern_europe = ['Russia', 'Belarus', 'Ukraine']\n",
    "regions = [subsaharan_africa, menat, southeast_asia, east_asia, central_asia, oceania, latin_america, southeastern_europe]"
   ]
  },
  {
   "cell_type": "code",
   "execution_count": 17,
   "id": "9c16ee80",
   "metadata": {},
   "outputs": [],
   "source": [
    "def format_prompt_loc(system_instruction, instruction, input, region):\n",
    "    # print(input)\n",
    "    loc = random.sample(region,1)\n",
    "    message = create_prompt(input, instruction, loc = loc[0])\n",
    "    # message = instruction.format(sample = input, loc=loc)\n",
    "    messages = [\n",
    "        {\"role\": \"system\", \"content\": system_instruction},\n",
    "        {\"role\": \"user\", \"content\": message},\n",
    "    ]\n",
    "    return messages"
   ]
  },
  {
   "cell_type": "code",
   "execution_count": 19,
   "id": "d28cceb7",
   "metadata": {},
   "outputs": [],
   "source": [
    "def create_prompt(sample, modification_instruction, loc = None, nonce = None):\n",
    "    index, instance = sample\n",
    "        \n",
    "    utterances = sorted(instance['turns'], key=lambda x: x['turn_id'])\n",
    "    last_utterance = utterances[-1]['text']\n",
    "    \n",
    "    if loc != None:\n",
    "        # print(loc)\n",
    "        modification_instruction = modification_instruction.format(loc = loc)\n",
    "        # print(modification_instruction)\n",
    "    if nonce != None:\n",
    "        modification_instruction = modification_instruction.format(nonce = nonce)\n",
    "\n",
    "    prompt = modification_instruction\n",
    "    prompt += \"\\n\\nDIALOGUE:\\n\" + \"\\n\".join([f\"Agent {u['agent_id']}: {u['text']}\" for u in utterances])\n",
    "    prompt += \"\\n\\nLAST TURN:\\n\" + last_utterance\n",
    "    \n",
    "    return prompt"
   ]
  },
  {
   "cell_type": "code",
   "execution_count": 20,
   "id": "a1cdc274",
   "metadata": {},
   "outputs": [
    {
     "ename": "NameError",
     "evalue": "name 'geographical_bias_instruction' is not defined",
     "output_type": "error",
     "traceback": [
      "\u001b[0;31m---------------------------------------------------------------------------\u001b[0m",
      "\u001b[0;31mNameError\u001b[0m                                 Traceback (most recent call last)",
      "Cell \u001b[0;32mIn[20], line 1\u001b[0m\n\u001b[0;32m----> 1\u001b[0m format_prompt_loc(system_instruction, \u001b[43mgeographical_bias_instruction\u001b[49m, no_contra_random_samples[\u001b[38;5;241m0\u001b[39m], subsaharan_africa)\n",
      "\u001b[0;31mNameError\u001b[0m: name 'geographical_bias_instruction' is not defined"
     ]
    }
   ],
   "source": [
    "format_prompt_loc(system_instruction, geographical_bias_instruction, no_contra_random_samples[0], subsaharan_africa)"
   ]
  },
  {
   "cell_type": "code",
   "execution_count": 21,
   "id": "315a6510",
   "metadata": {},
   "outputs": [],
   "source": [
    "@retry(wait=wait_random_exponential(min=1, max=60), stop=stop_after_attempt(6))\n",
    "def request_loc(samples, prompt_type):\n",
    "    modified_samples = []\n",
    "    for sample in tqdm(samples):\n",
    "        for region in regions:\n",
    "            # print(region)\n",
    "            messages = format_prompt_loc(system_instruction, prompt_type, sample, region)\n",
    "            # print(messages)\n",
    "            response = openai.ChatCompletion.create(\n",
    "                model=MODEL,\n",
    "                response_format={ \"type\": \"json_object\" },\n",
    "                messages= messages,\n",
    "                temperature=0,\n",
    "            )\n",
    "            ans_model = response['choices'][0]['message']['content']\n",
    "            modified_samples.append(ans_model)\n",
    "            # print(sample)\n",
    "            # print(ans_model)\n",
    "        # print('===================')\n",
    "    return modified_samples"
   ]
  },
  {
   "cell_type": "code",
   "execution_count": 22,
   "id": "a3f936e1",
   "metadata": {},
   "outputs": [],
   "source": [
    "nonce_words = [\"roagly\", \"vibble\", \"drok\", \"scrop\", \"plard\", \"hif\", \"tepable\", \"plawic\", \"bluth\", \"sprat\", \"flurf\"]"
   ]
  },
  {
   "cell_type": "code",
   "execution_count": 23,
   "id": "b9994e8b",
   "metadata": {},
   "outputs": [],
   "source": [
    "def format_prompt_concepts(system_instruction, instruction, input):\n",
    "    \n",
    "    nonce = random.sample(nonce_words,1)\n",
    "    message = create_prompt(input, instruction, nonce = nonce)\n",
    "    # message = instruction.format(sample = input, nonce= nonce)\n",
    "    messages = [\n",
    "        {\"role\": \"system\", \"content\": system_instruction},\n",
    "        {\"role\": \"user\", \"content\": message},\n",
    "    ]\n",
    "    return messages"
   ]
  },
  {
   "cell_type": "code",
   "execution_count": 24,
   "id": "02d04760",
   "metadata": {},
   "outputs": [],
   "source": [
    "@retry(wait=wait_random_exponential(min=1, max=60), stop=stop_after_attempt(6))\n",
    "def request_concepts(samples, prompt_type):\n",
    "    modified_samples = []\n",
    "    for sample in tqdm(samples):\n",
    "        messages = format_prompt_concepts(system_instruction, prompt_type, sample)\n",
    "        response = openai.ChatCompletion.create(\n",
    "            model=MODEL,\n",
    "            response_format={ \"type\": \"json_object\" },\n",
    "            messages= messages,\n",
    "            temperature=0,\n",
    "        )\n",
    "        ans_model = response['choices'][0]['message']['content']\n",
    "        modified_samples.append(ans_model)\n",
    "        # print(messages[1]['content'])\n",
    "        # print(sample)\n",
    "        # print(ans_model)\n",
    "        # print('===================')\n",
    "    return modified_samples"
   ]
  },
  {
   "cell_type": "code",
   "execution_count": 25,
   "id": "96349c2a",
   "metadata": {},
   "outputs": [],
   "source": [
    "def show_instance(sample):\n",
    "    index, instance = sample\n",
    "    contradiction_indices = instance['aggregated_contradiction_indices']\n",
    "    contradiction_indices = [x for x in contradiction_indices if x != len(instance['turns']) - 1]  # remove the last utterance, because it is always there\n",
    "    # print(\"contra ids\", contradiction_indices)\n",
    "    dialog = []\n",
    "    obj = {}\n",
    "    utterances = sorted(instance['turns'], key=lambda x: x['turn_id'])\n",
    "    for t in utterances:\n",
    "        # if t['turn_id'] in contradiction_indices:\n",
    "        #     print(Back.YELLOW + f\"{t['agent_id']}: {t['text']}\", end=\"\")\n",
    "        #     print(Style.RESET_ALL)\n",
    "        # elif t['auxiliary']['contradiction']:\n",
    "        #     print(Fore.RED + f\"{t['agent_id']}: {t['text']}\", end=\"\")\n",
    "        #     print(Style.RESET_ALL)\n",
    "        # else:\n",
    "        #     print(f\"{t['agent_id']}: {t['text']}\")\n",
    "        dialog.append(f\"{t['agent_id']}: {t['text']}\")\n",
    "    obj['id'] = index\n",
    "    obj['dialog'] = '\\n'.join(dialog)\n",
    "    obj['last_turn'] = utterances[-1]\n",
    "    return obj\n",
    "\n"
   ]
  },
  {
   "cell_type": "code",
   "execution_count": 26,
   "id": "95b85ee3",
   "metadata": {},
   "outputs": [
    {
     "data": {
      "text/plain": [
       "{'id': 3258,\n",
       " 'dialog': \"0: Oh really? what kind of effects does it have? I am all for benefits!\\n1: It is especially good for people with high blood pressure\\n0: That's great, I should mention that when selling mine at the market\\n1: Yes, beetroot has many benefits, I juice mine with apples and carrots daily and love it!\\n0: That sounds really good. Do you ever add any spices or anything?\\n1: Not really mostly lemons, kale or greens of some kind.\\n0: I could never put kale in it, but I'd like to try adding lemons\\n1: You really can't taste the kale, as the kale has calcium and great benefits as well as the beetroot.\\n0: No kale for me, but if you enjoy it that's great!\\n1: lol, to each there own I have heard beetroot is good for the kidneys?\\n0: Yeah, probably helps circulation quite a bit. \",\n",
       " 'last_turn': {'turn_id': 10,\n",
       "  'agent_id': 0,\n",
       "  'text': 'Yeah, probably helps circulation quite a bit. ',\n",
       "  'turn_context': '',\n",
       "  'auxiliary': {'contradiction': None}}}"
      ]
     },
     "execution_count": 26,
     "metadata": {},
     "output_type": "execute_result"
    }
   ],
   "source": [
    "show_instance(no_contra_random_samples[0])"
   ]
  },
  {
   "cell_type": "code",
   "execution_count": 27,
   "id": "2c4263d6",
   "metadata": {},
   "outputs": [],
   "source": [
    "# write original\n",
    "with open('decode_no/original.jsonl', 'w') as f:\n",
    "    for sample in no_contra_random_samples:\n",
    "        # object = show_instance(sample)\n",
    "        line = json.dumps(sample) + \"\\n\"\n",
    "        f.write(line)\n",
    "f.close()\n"
   ]
  },
  {
   "cell_type": "markdown",
   "id": "b41540d6",
   "metadata": {},
   "source": [
    "# Bias tests"
   ]
  },
  {
   "cell_type": "markdown",
   "id": "c0264e4f",
   "metadata": {},
   "source": [
    "### Frequency bias"
   ]
  },
  {
   "cell_type": "code",
   "execution_count": 28,
   "id": "80be5d52",
   "metadata": {},
   "outputs": [],
   "source": [
    "frequency_bias_instruction = '''Replace one word of higher frequency in English vocabulary with a less frequent word. Add \"replaced_word\" and \"new_word\" fields to json output with the replaced and new words, accordingly.\n",
    "\n",
    "Example:\n",
    "\n",
    "Text: The cat licked its paw.\n",
    "Modified Text: The yak licked its paw.\n",
    "\n",
    "type: \"frequency_bias\"'''"
   ]
  },
  {
   "cell_type": "code",
   "execution_count": null,
   "id": "3a50f731",
   "metadata": {},
   "outputs": [],
   "source": []
  },
  {
   "cell_type": "code",
   "execution_count": 29,
   "id": "2558717b",
   "metadata": {},
   "outputs": [
    {
     "name": "stderr",
     "output_type": "stream",
     "text": [
      "100%|██████████| 100/100 [07:31<00:00,  4.52s/it]\n"
     ]
    }
   ],
   "source": [
    "modified_samples = request(no_contra_random_samples, frequency_bias_instruction)\n",
    "with open('decode_no/frequency_bias.jsonl', 'w') as f:\n",
    "    for item in modified_samples:\n",
    "        object = json.loads(item)\n",
    "        line = json.dumps(object) + \"\\n\"\n",
    "        f.write(line)\n",
    "f.close()"
   ]
  },
  {
   "cell_type": "markdown",
   "id": "48cb3fed",
   "metadata": {},
   "source": [
    "### Temporal bias"
   ]
  },
  {
   "cell_type": "code",
   "execution_count": 30,
   "id": "ad258935",
   "metadata": {},
   "outputs": [],
   "source": [
    "temporal_bias_instruction = '''Please replace one word with its old-fashioned synonym. \n",
    "\n",
    "type: \"temporal_bias\"'''\n"
   ]
  },
  {
   "cell_type": "code",
   "execution_count": 31,
   "id": "6253106e",
   "metadata": {},
   "outputs": [
    {
     "name": "stderr",
     "output_type": "stream",
     "text": [
      "100%|██████████| 100/100 [06:33<00:00,  3.93s/it]\n"
     ]
    }
   ],
   "source": [
    "modified_samples = request(no_contra_random_samples, temporal_bias_instruction)\n",
    "with open('decode_no/temporal_bias.jsonl', 'w') as f:\n",
    "    for item in modified_samples:\n",
    "        object = json.loads(item)\n",
    "        line = json.dumps(object) + \"\\n\"\n",
    "        f.write(line)\n",
    "f.close()"
   ]
  },
  {
   "cell_type": "code",
   "execution_count": 32,
   "id": "6a7b20b6",
   "metadata": {},
   "outputs": [],
   "source": [
    "geographical_bias_instruction = '''Change the entity name in the sentence with name commonly used in {loc}. \n",
    "Change the other words in the sentence so that it is culturally fitted with context of {loc}.\n",
    "Write the modified sentences in English.\n",
    "\n",
    "type: \"geographical_bias\"'''"
   ]
  },
  {
   "cell_type": "markdown",
   "id": "e9f3d2e9",
   "metadata": {},
   "source": [
    "### Geographical bias"
   ]
  },
  {
   "cell_type": "code",
   "execution_count": 33,
   "id": "f3364045",
   "metadata": {},
   "outputs": [
    {
     "name": "stderr",
     "output_type": "stream",
     "text": [
      " 49%|████▉     | 49/100 [36:46<38:17, 45.04s/it]  \n",
      " 16%|█▌        | 16/100 [35:49<3:08:02, 134.32s/it]\n",
      "100%|██████████| 100/100 [1:15:20<00:00, 45.21s/it]\n"
     ]
    }
   ],
   "source": [
    "modified_samples = request_loc(no_contra_random_samples, geographical_bias_instruction)\n",
    "with open('decode_no/geographical_bias.jsonl', 'w') as f:\n",
    "    for item in modified_samples:\n",
    "        object = json.loads(item)\n",
    "        line = json.dumps(object) + \"\\n\"\n",
    "        f.write(line)\n",
    "f.close()"
   ]
  },
  {
   "cell_type": "markdown",
   "id": "ce9bd5d2",
   "metadata": {},
   "source": [
    "### Position bias"
   ]
  },
  {
   "cell_type": "code",
   "execution_count": 34,
   "id": "e3f372a0",
   "metadata": {},
   "outputs": [],
   "source": [
    "position_bias_instruction = '''Move important sentiment words to another position in the same sentence.\n",
    "type: \"position_bias\"'''"
   ]
  },
  {
   "cell_type": "code",
   "execution_count": 35,
   "id": "1c6d2341",
   "metadata": {},
   "outputs": [
    {
     "name": "stderr",
     "output_type": "stream",
     "text": [
      "100%|██████████| 100/100 [07:53<00:00,  4.74s/it]\n"
     ]
    }
   ],
   "source": [
    "modified_samples = request(no_contra_random_samples, position_bias_instruction)\n",
    "with open('decode_no/position_bias.jsonl', 'w') as f:\n",
    "    for item in modified_samples:\n",
    "        object = json.loads(item)\n",
    "        line = json.dumps(object) + \"\\n\"\n",
    "        f.write(line)\n",
    "f.close()"
   ]
  },
  {
   "cell_type": "markdown",
   "id": "3d71adee",
   "metadata": {},
   "source": [
    "### Length Bias "
   ]
  },
  {
   "cell_type": "code",
   "execution_count": 36,
   "id": "1d688cc8",
   "metadata": {},
   "outputs": [],
   "source": [
    "length_bias_instruction = '''Modify the sentence length, but retain sentence meaning.\n",
    "\n",
    "1. \"shorter_sentence\": Remove 1 - 3 words from the sentence.\n",
    "2. \"longer_sentence\": Add 2 - 5 words to the sentence.'''"
   ]
  },
  {
   "cell_type": "code",
   "execution_count": 37,
   "id": "9d3d6050",
   "metadata": {},
   "outputs": [
    {
     "name": "stderr",
     "output_type": "stream",
     "text": [
      "100%|██████████| 100/100 [12:01<00:00,  7.22s/it]\n"
     ]
    }
   ],
   "source": [
    "modified_samples = request(no_contra_random_samples, length_bias_instruction)\n",
    "with open('decode_no/length_bias.jsonl', 'w') as f:\n",
    "    for item in modified_samples:\n",
    "        object = json.loads(item)\n",
    "        line = json.dumps(object) + \"\\n\"\n",
    "        f.write(line)\n",
    "f.close()"
   ]
  },
  {
   "cell_type": "markdown",
   "id": "a41d2c1b",
   "metadata": {},
   "source": [
    "## Orthography"
   ]
  },
  {
   "cell_type": "markdown",
   "id": "ed72470a",
   "metadata": {},
   "source": [
    "### Typos"
   ]
  },
  {
   "cell_type": "code",
   "execution_count": 115,
   "id": "f67c2259",
   "metadata": {},
   "outputs": [],
   "source": [
    "typo_instruction = '''Add typos to the text. Common types of typos are:\n",
    "\n",
    "1. \"addition\": Adding a letter: Forty (correct) vs. Fourty\n",
    "2. \"omission\": Omitting a letter: Embarrass (correct) vs. Embarass\n",
    "3. \"flipping\": flipping letters: Friend (correct) vs. Freind'''"
   ]
  },
  {
   "cell_type": "code",
   "execution_count": 116,
   "id": "5809e706",
   "metadata": {},
   "outputs": [
    {
     "name": "stderr",
     "output_type": "stream",
     "text": [
      "100%|██████████| 100/100 [13:48<00:00,  8.29s/it]\n"
     ]
    }
   ],
   "source": [
    "modified_samples = request(no_contra_random_samples, typo_instruction)\n",
    "with open('decode_no/typo_bias.jsonl', 'w') as f:\n",
    "    for item in modified_samples:\n",
    "        object = json.loads(item)\n",
    "        line = json.dumps(object) + \"\\n\"\n",
    "        f.write(line)\n",
    "f.close()"
   ]
  },
  {
   "cell_type": "markdown",
   "id": "d9571f47",
   "metadata": {},
   "source": [
    "## Capitalization"
   ]
  },
  {
   "cell_type": "code",
   "execution_count": 117,
   "id": "404f0641",
   "metadata": {},
   "outputs": [],
   "source": [
    "capitalization_instruction = '''Modify the text capitalization by:\n",
    "\n",
    "1. \"lower\": change a word with upper case to lower case.\n",
    "\n",
    "2. \"upper\": change a word starting with lower case to upper case.\n",
    "\n",
    "3. \"all_caps\": change a word to ALL CAPS.\n",
    "\n",
    "4. \"sponge\": change a word to SpOnGeBoBcASe.\n",
    "\n",
    "Reply with the modified text for each type of change.'''"
   ]
  },
  {
   "cell_type": "code",
   "execution_count": 118,
   "id": "88605cc4",
   "metadata": {},
   "outputs": [
    {
     "name": "stderr",
     "output_type": "stream",
     "text": [
      "100%|██████████| 100/100 [17:40<00:00, 10.60s/it]"
     ]
    },
    {
     "name": "stdout",
     "output_type": "stream",
     "text": [
      "0 {'modifications': [{'type': 'lower', 'modified_last_turn': 'yeah, probably helps circulation quite a bit.', 'rationale': \"Changed the first word 'Yeah' to lowercase to demonstrate the effect of lowercasing a word that typically starts with an uppercase letter at the beginning of a sentence.\"}, {'type': 'upper', 'modified_last_turn': 'Yeah, Probably helps circulation quite a bit.', 'rationale': \"Changed the second word 'probably' to uppercase to demonstrate the effect of capitalizing a word that typically starts with a lowercase letter.\"}, {'type': 'all_caps', 'modified_last_turn': 'Yeah, probably helps CIRCULATION quite a bit.', 'rationale': \"Changed the word 'circulation' to ALL CAPS to emphasize it and demonstrate the effect of all capital letters on a word within a sentence.\"}, {'type': 'sponge', 'modified_last_turn': 'Yeah, probably helps circulation qUiTe a bit.', 'rationale': \"Changed the word 'quite' to SpOnGeBoBcASe to demonstrate the effect of alternating capitalization within a word.\"}]}\n",
      "1 {'modifications': [{'type': 'lower', 'modified_last_turn': \"you're the same age as my father. the hard part for me was learning the midwestern dialect\", 'rationale': 'Changed the first letter of the first word and all proper nouns to lower case to demonstrate the effect of incorrect capitalization.'}, {'type': 'upper', 'modified_last_turn': \"You're the same age as my father. The hard part for me was learning the Midwestern dialect\", 'rationale': \"Changed the word 'midwestern' to start with an upper case letter to correct its capitalization as it is a proper noun.\"}, {'type': 'all_caps', 'modified_last_turn': \"You're the SAME age as my father. The hard part for me was learning the midwestern dialect\", 'rationale': \"Changed the word 'same' to ALL CAPS to emphasize the word and to show how capitalization can be used for stress.\"}, {'type': 'sponge', 'modified_last_turn': \"You're the same age as my father. The hard part for me was learning the miDwEsTeRn dialect\", 'rationale': \"Changed the word 'midwestern' to SpOnGeBoBcASe to demonstrate non-standard capitalization often used in internet culture for mocking or playful tone.\"}]}\n",
      "2 {'modifications': [{'type': 'lower', 'modified_last_turn': 'i can believe that! i know superbowl ads are ridiculously expensive! what other facts can you share about american football?', 'rationale': \"Changed the first letter of each sentence and proper nouns 'I' and 'Superbowl' from upper case to lower case to demonstrate the 'lower' capitalization change.\"}, {'type': 'upper', 'modified_last_turn': 'I Can believe that! I Know Superbowl ads are ridiculously expensive! What Other facts can you share about American football?', 'rationale': \"Changed the first letter of some words that originally started with lower case to upper case within the sentence to demonstrate the 'upper' capitalization change.\"}, {'type': 'all_caps', 'modified_last_turn': 'I can believe that! I know SUPERBOWL ads are ridiculously expensive! What other facts can you share about AMERICAN football?', 'rationale': \"Changed the words 'Superbowl' and 'American' to ALL CAPS to emphasize them and demonstrate the 'all_caps' capitalization change.\"}, {'type': 'sponge', 'modified_last_turn': 'I can believe that! I know SuPeRbOwL ads are ridiculously expensive! What other facts can you share about American football?', 'rationale': \"Changed the word 'Superbowl' to SpOnGeBoBcASe to demonstrate the 'sponge' capitalization change.\"}]}\n",
      "3 {'modifications': [{'type': 'lower', 'modified_last_turn': 'ha , i bet they would , i do not wear helmets i wear watermelons on my head instead', 'rationale': 'The text did not contain any words with upper case to change to lower case, so the last turn remains the same.'}, {'type': 'upper', 'modified_last_turn': 'Ha , I bet they would , I do not wear helmets I wear watermelons on my head instead', 'rationale': \"The first letter of each sentence and the pronoun 'I' have been capitalized.\"}, {'type': 'all_caps', 'modified_last_turn': 'ha , i bet they would , i do not wear helmets i wear WATERMELONS on my head instead', 'rationale': \"The word 'watermelons' has been changed to ALL CAPS to emphasize it.\"}, {'type': 'sponge', 'modified_last_turn': 'ha , i bet they would , i do not wear helmets i wear watermelons on my hEaD instead', 'rationale': \"The word 'head' has been changed to SpOnGeBoBcASe for a whimsical effect, matching the humorous content of wearing watermelons.\"}]}\n",
      "4 {'modifications': [{'type': 'lower', 'modified_last_turn': 'that must have been really hard.', 'rationale': \"The first word of the sentence 'That' has been changed to lowercase 'that' to demonstrate the 'lower' capitalization change.\"}, {'type': 'upper', 'modified_last_turn': 'That Must have been really hard.', 'rationale': \"The word 'must' has been capitalized to 'Must' to demonstrate the 'upper' capitalization change.\"}, {'type': 'all_caps', 'modified_last_turn': 'That must have been REALLY hard.', 'rationale': \"The word 'really' has been changed to all caps 'REALLY' to demonstrate the 'all_caps' capitalization change.\"}, {'type': 'sponge', 'modified_last_turn': 'That must have been really HaRd.', 'rationale': \"The word 'hard' has been changed to 'HaRd' in SpOnGeBoBcASe to demonstrate the 'sponge' capitalization change.\"}]}\n",
      "5 {'modifications': [{'type': 'lower', 'modified_last_turn': \"it was an adaptation of 'the last unicorn'. it had parts that took place in the water, and parts that took place on a giant trapeze!\", 'rationale': \"Changed the first letter of the first word 'It' to lowercase to demonstrate the 'lower' capitalization change.\"}, {'type': 'upper', 'modified_last_turn': \"It was an adaptation of 'The Last Unicorn'. It had Parts that took place in the water, and parts that took place on a giant trapeze!\", 'rationale': \"Changed the first letter of the word 'parts' after the comma to uppercase to demonstrate the 'upper' capitalization change.\"}, {'type': 'all_caps', 'modified_last_turn': \"It was an adaptation of 'THE LAST UNICORN'. It had parts that took place in the water, and parts that took place on a giant trapeze!\", 'rationale': \"Changed the title 'The Last Unicorn' to ALL CAPS to demonstrate the 'all_caps' capitalization change.\"}, {'type': 'sponge', 'modified_last_turn': \"It was an adaptation of 'The Last Unicorn'. It had parts that took place in the water, and parts that took place on a giant tRaPeZe!\", 'rationale': \"Changed the word 'trapeze' to SpOnGeBoBcASe to demonstrate the 'sponge' capitalization change.\"}]}\n",
      "6 {'modifications': [{'type': 'lower', 'modified_last_turn': 'much better, thanks :) yeah, i was really just doing anything to feel a connection.', 'rationale': \"The first letter of each sentence and the word 'Yeah' were originally capitalized. The modification changes them to lowercase to meet the 'lower' capitalization requirement.\"}, {'type': 'upper', 'modified_last_turn': 'Much better, Thanks :) Yeah, I was really just doing anything to feel a connection.', 'rationale': \"The word 'thanks' after the comma should be lowercase in standard English capitalization rules. The modification changes it to uppercase to meet the 'upper' capitalization requirement.\"}, {'type': 'all_caps', 'modified_last_turn': 'Much better, THANKS :) Yeah, I was really just doing anything to FEEL a connection.', 'rationale': \"The words 'thanks' and 'feel' have been changed to ALL CAPS to emphasize them and to meet the 'all_caps' capitalization requirement.\"}, {'type': 'sponge', 'modified_last_turn': 'Much better, thanks :) Yeah, I was really just doing anything to feel a CoNnEcTiOn.', 'rationale': \"The word 'connection' has been changed to SpOnGeBoBcASe to meet the 'sponge' capitalization requirement, which involves alternating the capitalization of each letter.\"}]}\n",
      "7 {'modifications': [{'type': 'lower', 'modified_last_turn': \"she's a poodle! they're a very smart breed. what about you?\", 'rationale': \"Changed the first letter of each sentence and proper noun 'She's' and 'They're' to lowercase to demonstrate the effect of incorrect sentence capitalization.\"}, {'type': 'upper', 'modified_last_turn': \"She's a Poodle! They're a very smart breed. What about you?\", 'rationale': \"Capitalized the noun 'poodle' to show improper use of uppercase in the middle of a sentence where it is not grammatically required.\"}, {'type': 'all_caps', 'modified_last_turn': \"She's a POODLE! They're a VERY smart breed. What about YOU?\", 'rationale': \"Changed 'poodle', 'very', and 'you' to ALL CAPS to emphasize these words artificially, which is not conventional in standard writing.\"}, {'type': 'sponge', 'modified_last_turn': \"She's a poodle! They're a vErY smart breed. What about you?\", 'rationale': \"Altered the word 'very' to SpOnGeBoBcASe to mimic the meme format that conveys a mocking or sarcastic tone.\"}]}\n",
      "8 {'modifications': [{'type': 'lower', 'modified_last_turn': 'a harley davidson. what kind of car do you have?', 'rationale': \"Changed 'Harley Davidson' to 'harley davidson' to make the proper nouns lowercase.\"}, {'type': 'upper', 'modified_last_turn': 'A harley davidson. What kind of car do you have?', 'rationale': \"Capitalized the first letter of the sentence for 'a' to 'A' and 'what' to 'What' to demonstrate the change from lower case to upper case at the beginning of sentences.\"}, {'type': 'all_caps', 'modified_last_turn': 'A HARLEY DAVIDSON. WHAT KIND OF CAR DO YOU HAVE?', 'rationale': 'Changed the entire sentence to ALL CAPS to emphasize shouting or loud speech.'}, {'type': 'sponge', 'modified_last_turn': 'a hArLeY dAvIdSoN. wHaT kInD oF cAr dO yOu HaVe?', 'rationale': \"Altered the casing of each letter in 'a harley davidson. what kind of car do you have?' to SpOnGeBoBcASe to mimic the meme for mocking or sarcasm.\"}]}\n",
      "9 {'modifications': [{'type': 'lower', 'modified_last_turn': 'not really but i love driving in the mountains.', 'rationale': \"Changed the first word 'Not' to lowercase to demonstrate the effect of lowercasing an uppercase word.\"}, {'type': 'upper', 'modified_last_turn': 'Not really But I love driving in the mountains.', 'rationale': \"Changed the word 'but' to uppercase to demonstrate the effect of capitalizing a word that starts with a lowercase letter.\"}, {'type': 'all_caps', 'modified_last_turn': 'Not really but I LOVE driving in the mountains.', 'rationale': \"Changed the word 'love' to ALL CAPS to emphasize the word and demonstrate the effect of all caps on a word.\"}, {'type': 'sponge', 'modified_last_turn': 'Not really but I love driving In tHe mOuNtAiNs.', 'rationale': \"Changed the phrase 'in the mountains' to SpOnGeBoBcASe to demonstrate the effect of alternating capitalization within a phrase.\"}]}\n",
      "10 {'modifications': [{'type': 'lower', 'modified_last_turn': 'i would love to be able to have horses', 'rationale': 'The original text is already in lowercase, so no modification is needed.'}, {'type': 'upper', 'modified_last_turn': 'I would love to be able to have horses', 'rationale': \"The first word of the sentence 'i' is changed to uppercase 'I' to follow standard sentence capitalization rules.\"}, {'type': 'all_caps', 'modified_last_turn': 'I WOULD LOVE TO BE ABLE TO HAVE HORSES', 'rationale': 'All letters in the sentence are changed to uppercase to demonstrate the ALL CAPS modification.'}, {'type': 'sponge', 'modified_last_turn': 'i wOuLd LoVe To Be AbLe To HaVe HoRsEs', 'rationale': 'Every alternate letter in the sentence is changed to uppercase to mimic the SpOnGeBoBcASe style.'}]}\n",
      "11 {'modifications': [{'type': 'lower', 'modified_last_turn': \"his favorite sandwich was the fool's gold loaf, and it consisted of peanut butter, a pound of bacon, and grape jelly.\", 'rationale': 'Changed the first letter of the sentence and proper nouns to lower case to demonstrate the effect of improper noun capitalization.'}, {'type': 'upper', 'modified_last_turn': \"His favorite sandwich was the Fool's Gold Loaf, And it consisted of peanut butter, A pound of bacon, And grape jelly.\", 'rationale': 'Capitalized the first letter of some conjunctions and prepositions to show the effect of incorrect capitalization within a sentence.'}, {'type': 'all_caps', 'modified_last_turn': \"His favorite sandwich was the FOOL'S GOLD LOAF, and it consisted of PEANUT BUTTER, a POUND OF BACON, and GRAPE JELLY.\", 'rationale': \"Changed specific nouns and noun phrases to ALL CAPS to emphasize certain words artificially, which can be used to test the model's response to emphasis.\"}, {'type': 'sponge', 'modified_last_turn': \"His favorite sandwich was the Fool's Gold Loaf, and it consisted of peanut butter, a pound of bacon, and gRaPe jElLy.\", 'rationale': \"Altered the case of letters in the phrase 'grape jelly' to SpongeBobCase to test the model's robustness against non-standard text casing.\"}]}\n",
      "12 {'modifications': [{'type': 'lower', 'modified_last_turn': \"what do you do on bad days when there's no catch. trip to the store ? haha\", 'rationale': 'The original text did not contain any words with upper case, so no changes were needed to convert words to lower case.'}, {'type': 'upper', 'modified_last_turn': \"What do you do on bad days when there's no catch. Trip to the store ? haha\", 'rationale': 'The first word of the sentence and the first word after the period were capitalized to follow standard sentence capitalization rules.'}, {'type': 'all_caps', 'modified_last_turn': \"what do you do on BAD days when there's no catch. trip to the store ? haha\", 'rationale': \"The word 'bad' was changed to ALL CAPS to emphasize the negative aspect of the situation, which could potentially expose biases in machine learning models related to sentiment analysis.\"}, {'type': 'sponge', 'modified_last_turn': \"what do you do on bad days when there's no cAtCh. trip to the store ? haha\", 'rationale': \"The word 'catch' was changed to SpOnGeBoBcASe to introduce a non-standard capitalization pattern, which could challenge machine learning models' ability to process text with irregular capitalization.\"}]}\n",
      "13 {'modifications': [{'type': 'lower', 'modified_last_turn': 'that is good to hear i would enjoy a night with some great music.', 'rationale': \"Changed the first letter of each sentence and proper nouns to lower case to demonstrate the 'lower' capitalization change.\"}, {'type': 'upper', 'modified_last_turn': 'That Is Good To Hear I Would Enjoy A Night With Some Great Music.', 'rationale': \"Changed the first letter of each word to upper case to demonstrate the 'upper' capitalization change.\"}, {'type': 'all_caps', 'modified_last_turn': 'THAT IS GOOD TO HEAR I WOULD ENJOY A NIGHT WITH SOME GREAT MUSIC.', 'rationale': \"Changed all letters to upper case to demonstrate the 'all_caps' capitalization change.\"}, {'type': 'sponge', 'modified_last_turn': 'ThAt iS GoOd tO HeAr i wOuLd eNjOy a nIgHt wItH SoMe gReAt mUsIc.', 'rationale': \"Changed the text to alternate between lower case and upper case to mimic the 'SpOnGeBoBcASe' meme for the 'sponge' capitalization change.\"}]}\n",
      "14 {'modifications': [{'type': 'lower', 'modified_last_turn': 'just instinc i think i have always been afraid of heights', 'rationale': 'The original text did not contain any words with upper case to change to lower case, so the text remains the same.'}, {'type': 'upper', 'modified_last_turn': 'Just instinc I think I have always been afraid of heights', 'rationale': \"The first word of the sentence 'just' has been capitalized to 'Just' to demonstrate changing a word starting with lower case to upper case.\"}, {'type': 'all_caps', 'modified_last_turn': 'just instinc I think I have ALWAYS been afraid of heights', 'rationale': \"The word 'always' has been changed to ALL CAPS to emphasize it and to show the modification of a word to ALL CAPS.\"}, {'type': 'sponge', 'modified_last_turn': 'just instinc i think i have always been afraid of HeIgHtS', 'rationale': \"The word 'heights' has been changed to 'HeIgHtS' to demonstrate the SpOnGeBoBcASe, alternating the capitalization of each letter.\"}]}\n",
      "15 {'modifications': [{'type': 'lower', 'modified_last_turn': 'i had to take some math classes to finish my nursing degree. i only took them because they were mandatory though. why are you studying math?', 'rationale': \"All words that were originally in uppercase at the beginning of sentences and the pronoun 'I' have been changed to lowercase to fulfill the 'lower' modification requirement.\"}, {'type': 'upper', 'modified_last_turn': 'I Had to take some math classes to finish my Nursing degree. I Only took them because they were mandatory though. Why are you studying math?', 'rationale': \"The first letter of some words that were originally in lowercase at the beginning of sentences and the pronoun 'i' have been changed to uppercase to fulfill the 'upper' modification requirement.\"}, {'type': 'all_caps', 'modified_last_turn': 'I had to take some MATH classes to finish my NURSING degree. I only took them because they were MANDATORY though. Why are you studying MATH?', 'rationale': \"Selected words ('math', 'nursing', 'mandatory') have been changed to ALL CAPS to emphasize them and fulfill the 'all_caps' modification requirement.\"}, {'type': 'sponge', 'modified_last_turn': 'I had to take some math classes to finish my nursing degree. I only took them because they were mandatory though. Why are you StUdYiNg math?', 'rationale': \"The word 'studying' has been changed to SpOnGeBoBcASe to fulfill the 'sponge' modification requirement, providing an example of alternating capitalization often used to convey a mocking or playful tone.\"}]}\n",
      "16 {'modifications': [{'type': 'lower', 'modified_last_turn': 'how did cardigans become so popular?', 'rationale': \"The first word of the sentence 'How' has been changed to lowercase to demonstrate the effect of incorrect sentence capitalization.\"}, {'type': 'upper', 'modified_last_turn': 'How Did cardigans become so popular?', 'rationale': \"The second word of the sentence 'did' has been changed to uppercase to demonstrate the effect of inappropriate capitalization within a sentence.\"}, {'type': 'all_caps', 'modified_last_turn': 'HOW did cardigans become so popular?', 'rationale': \"The first word of the sentence 'How' has been changed to ALL CAPS to demonstrate the effect of emphasis through capitalization.\"}, {'type': 'sponge', 'modified_last_turn': 'How did cArDiGaNs become so popular?', 'rationale': \"The word 'cardigans' has been changed to SpOnGeBoBcASe to demonstrate the effect of irregular capitalization for stylistic or mocking purposes.\"}]}\n",
      "17 {'modifications': [{'type': 'lower', 'modified_last_turn': 'sorry about that ! maybe i can bring my little league kids over .', 'rationale': \"The text already has proper capitalization with no words in upper case, so no changes are made for the 'lower' modification.\"}, {'type': 'upper', 'modified_last_turn': 'Sorry about that ! Maybe i can bring my little league kids over .', 'rationale': \"The word 'sorry' at the beginning of the sentence is capitalized to 'Sorry' to demonstrate the change from lower case to upper case at the start of a sentence.\"}, {'type': 'all_caps', 'modified_last_turn': 'sorry about that ! maybe I can bring my LITTLE LEAGUE kids over .', 'rationale': \"The phrase 'little league' is changed to 'LITTLE LEAGUE' to emphasize it in ALL CAPS, highlighting the importance of the event in the context of the conversation.\"}, {'type': 'sponge', 'modified_last_turn': 'sorry about that ! maybe i can bring my little league kids oVeR .', 'rationale': \"The word 'over' is modified to 'oVeR' in SpOnGeBoBcASe to demonstrate the 'sponge' case change, which is a playful alteration of text capitalization.\"}]}\n",
      "18 {'modifications': [{'type': 'lower', 'modified_last_turn': 'i guess they had to figure out stuff to do to keep them entertained.', 'rationale': \"Changed the first letter of the sentence from uppercase 'I' to lowercase 'i' to demonstrate the effect of incorrect sentence capitalization.\"}, {'type': 'upper', 'modified_last_turn': 'I Guess they had to figure out stuff to do to keep them entertained.', 'rationale': \"Changed the first letter of the second word 'guess' to uppercase 'G' to show improper capitalization within a sentence.\"}, {'type': 'all_caps', 'modified_last_turn': 'I guess they had to figure out stuff to do to KEEP them entertained.', 'rationale': \"Changed the word 'keep' to ALL CAPS to emphasize the word artificially and to show how it can affect the tone of the sentence.\"}, {'type': 'sponge', 'modified_last_turn': 'I guess they had to figure out stuff to do to keep them eNtErTaInEd.', 'rationale': \"Changed the word 'entertained' to SpOnGeBoBcASe to demonstrate non-standard capitalization and its potential effect on text interpretation.\"}]}\n",
      "19 {'modifications': [{'type': 'lower', 'modified_last_turn': 'that is really cool!', 'rationale': \"Changed the first letter of the sentence from upper case 'That' to lower case 'that' to demonstrate the 'lower' capitalization change.\"}, {'type': 'upper', 'modified_last_turn': 'That Is really cool!', 'rationale': \"Changed the first letter of the second word 'is' from lower case to upper case 'Is' to demonstrate the 'upper' capitalization change.\"}, {'type': 'all_caps', 'modified_last_turn': 'THAT is really cool!', 'rationale': \"Changed the first word 'That' to all caps 'THAT' to demonstrate the 'all_caps' capitalization change.\"}, {'type': 'sponge', 'modified_last_turn': 'That is really cOoL!', 'rationale': \"Changed the last word 'cool' to SpOnGeBoBcASe 'cOoL' to demonstrate the 'sponge' capitalization change.\"}]}\n",
      "20 {'modifications': [{'type': 'lower', 'modified_last_turn': 'Ha! you are in good company there! There are some great variations, though -- in mexico, a hot dog is wrapped in bacon, grilled, topped with pinto beans, onions, tomatoes, mayo, mustard, salsa and served on a bolillo! sound good?!', 'rationale': \"The word 'Mexico' is a proper noun and should be capitalized, but for the purpose of this task, it has been changed to lowercase to demonstrate the effect of incorrect capitalization.\"}, {'type': 'upper', 'modified_last_turn': 'Ha! You Are in good company there! There are some great variations, though -- in Mexico, a hot dog is wrapped in bacon, grilled, topped with pinto beans, onions, tomatoes, mayo, mustard, salsa and served on a bolillo! Sound good?!', 'rationale': \"The word 'are' is not typically capitalized in the middle of a sentence, but for the purpose of this task, it has been capitalized to show the effect of unconventional capitalization.\"}, {'type': 'all_caps', 'modified_last_turn': 'Ha! You are in good company there! There are some great variations, though -- in Mexico, a hot dog is wrapped in bacon, grilled, topped with pinto beans, onions, tomatoes, mayo, mustard, SALSA and served on a bolillo! Sound good?!', 'rationale': \"The word 'salsa' is not typically written in all caps, but for the purpose of this task, it has been changed to ALL CAPS to emphasize the word artificially.\"}, {'type': 'sponge', 'modified_last_turn': 'Ha! You are in good company there! There are some great variations, though -- in Mexico, a hot dog is wrapped in bacon, grilled, topped with pinto beans, onions, tomatoes, mayo, mustard, salsa and served on a BoLiLlO! Sound good?!', 'rationale': \"The word 'bolillo' is not typically written in alternating caps, but for the purpose of this task, it has been changed to SpOnGeBoBcASe to demonstrate the effect of non-standard capitalization for comedic or stylistic effect.\"}]}\n",
      "21 {'modifications': [{'type': 'lower', 'modified_last_turn': 'what sort of writing do you hope to do in the future?', 'rationale': \"Changed the first letter of the sentence from upper case to lower case to demonstrate the 'lower' capitalization change.\"}, {'type': 'upper', 'modified_last_turn': 'What Sort of writing do you hope to do in the future?', 'rationale': \"Changed the first letter of the second word from lower case to upper case to demonstrate the 'upper' capitalization change.\"}, {'type': 'all_caps', 'modified_last_turn': 'WHAT SORT OF WRITING DO YOU HOPE TO DO IN THE FUTURE?', 'rationale': \"Changed all letters of the sentence to upper case to demonstrate the 'all_caps' capitalization change.\"}, {'type': 'sponge', 'modified_last_turn': 'WhAt sOrT oF wRiTiNg dO yOu hOpE tO dO iN tHe fUtUrE?', 'rationale': \"Changed the sentence to alternate between upper and lower case letters to demonstrate the 'sponge' capitalization change, mimicking the meme 'SpOnGeBoBcASe'.\"}]}\n",
      "22 {'modifications': [{'type': 'lower', 'modified_last_turn': \"no, i didn't hear about that. it wouldn't matter to me much anyways, after 14 seasons with the colts, he does no wrong in my eyes.\", 'rationale': \"Changed the first letter of each sentence and proper nouns ('No', 'I', 'It', 'Colts') to lowercase to demonstrate the effect of improper noun capitalization.\"}, {'type': 'upper', 'modified_last_turn': \"No, I didn't hear about that. It wouldn't Matter to me much anyways, after 14 seasons with the colts, he does no wrong in my eyes.\", 'rationale': \"Capitalized the word 'Matter' which originally started with lowercase to show the effect of random capitalization in the middle of a sentence.\"}, {'type': 'all_caps', 'modified_last_turn': \"No, I didn't hear about that. It wouldn't matter to me much anyways, after 14 seasons with the COLTS, he does no wrong in my eyes.\", 'rationale': \"Changed 'Colts' to ALL CAPS to emphasize the team name and to show the effect of shouting or strong emphasis in text.\"}, {'type': 'sponge', 'modified_last_turn': \"No, I didn't hear about that. It wouldn't matter to me much anyways, after 14 seasons with the Colts, he does no wrong in my EyEs.\", 'rationale': \"Changed 'eyes' to 'EyEs' in SpOnGeBoBcASe to mimic the mocking or sarcastic tone often associated with this meme-inspired text alteration.\"}]}\n",
      "23 {'modifications': [{'type': 'lower', 'modified_last_turn': 'wow, that is a lot of care. what do you do for a living that takes you out of town so much?', 'rationale': \"Changed the first word 'Wow' to lowercase to demonstrate the effect of lowercasing a word that typically starts with an uppercase letter when beginning a sentence.\"}, {'type': 'upper', 'modified_last_turn': 'Wow, That is a lot of care. What do you do for a living that takes you out of town so much?', 'rationale': \"Capitalized the word 'That' to demonstrate the effect of uppercasing a word that typically starts with a lowercase letter within a sentence.\"}, {'type': 'all_caps', 'modified_last_turn': 'Wow, that is a lot of care. WHAT do you do for a living that takes you out of town so much?', 'rationale': \"Changed the word 'what' to ALL CAPS to emphasize it and to show the effect of all caps on a word within a sentence.\"}, {'type': 'sponge', 'modified_last_turn': 'Wow, that is a lot of care. What do you do for a living that takes you out of town so much?', 'rationale': \"The word 'so' has been modified to SpOnGeBoBcASe as 'sO' to demonstrate the effect of this type of capitalization within a sentence.\"}]}\n",
      "24 {'modifications': [{'type': 'lower', 'modified_last_turn': \"well,  we had initially agreed to meet at 11. wouldn't you know it,  she didn't end up returning my text until 3pm!\", 'rationale': \"Changed 'Well' to 'well' and 'PM' to 'pm' to demonstrate the effect of lowercasing words that were originally in uppercase.\"}, {'type': 'upper', 'modified_last_turn': \"Well,  We had initially agreed to meet at 11. Wouldn't you know it,  She didn't end up returning my text until 3PM!\", 'rationale': \"Changed 'we' to 'We' and 'she' to 'She' to demonstrate the effect of capitalizing words that were originally in lowercase at the beginning of a sentence.\"}, {'type': 'all_caps', 'modified_last_turn': \"Well,  we had initially agreed to meet at 11. WOULDN'T you know it,  she didn't end up returning my text until 3PM!\", 'rationale': \"Changed 'wouldn't' to 'WOULDN'T' to demonstrate the effect of changing a word to all caps for emphasis.\"}, {'type': 'sponge', 'modified_last_turn': \"Well,  we had initially agreed to meet at 11. Wouldn't you know it,  she didn't end up returning my text until 3pM!\", 'rationale': \"Changed 'PM' to 'pM' to demonstrate the effect of SpongeBob case, which is a mix of uppercase and lowercase letters, typically used to convey a mocking or playful tone.\"}]}\n",
      "25 {'modifications': [{'type': 'lower', 'modified_last_turn': \"well it's very important to be in that tertiary sector and account for billions in revenues.  i appreciate your hard work!\", 'rationale': \"Changed the first word 'Well' to 'well' to demonstrate the effect of incorrect capitalization at the beginning of a sentence.\"}, {'type': 'upper', 'modified_last_turn': \"Well It's very important to be in that tertiary sector and account for billions in revenues.  I appreciate your hard work!\", 'rationale': \"Capitalized the 'i' in 'it's' to 'It's' to show incorrect capitalization within a sentence.\"}, {'type': 'all_caps', 'modified_last_turn': \"Well it's very important to be in that tertiary sector and account for BILLIONS in revenues.  I appreciate your hard work!\", 'rationale': \"Changed the word 'billions' to 'BILLIONS' to emphasize the word and demonstrate the use of all caps for emphasis.\"}, {'type': 'sponge', 'modified_last_turn': \"Well it's very important to be in that tertiary sector and account for billions in revenues.  I appreciate your hArD work!\", 'rationale': \"Changed the phrase 'hard work' to 'hArD work' to mimic the SpongeBob meme case, which is used to convey a mocking or sarcastic tone.\"}]}\n",
      "26 {'modifications': [{'type': 'lower', 'modified_last_turn': \"you definitely can -- that's how most fans of the game i know play the game!\", 'rationale': 'Changed the first letter of each sentence and proper nouns to lower case to demonstrate the effect of improper capitalization.'}, {'type': 'upper', 'modified_last_turn': \"You Definitely can -- That's how Most fans of the game I know Play the game!\", 'rationale': 'Changed the first letter of some words that are not at the beginning of the sentence to upper case to show the effect of random capitalization within a sentence.'}, {'type': 'all_caps', 'modified_last_turn': \"You definitely can -- that's how most fans of the game I know PLAY the game!\", 'rationale': \"Changed the word 'play' to ALL CAPS to emphasize it and to show how capitalization can be used for emphasis in text.\"}, {'type': 'sponge', 'modified_last_turn': \"You definitely cAn -- that's how most fans of the gAme I know play the gAme!\", 'rationale': \"Changed the word 'can' and 'game' to SpOnGeBoBcASe to mimic the meme format that conveys a mocking or sarcastic tone.\"}]}\n",
      "27 {'modifications': [{'type': 'lower', 'modified_last_turn': 'that is nice . what kind of movies do you like ?', 'rationale': 'The text is already in lower case, so no modification is needed.'}, {'type': 'upper', 'modified_last_turn': 'That is nice . What kind of movies do you like ?', 'rationale': 'The first letter of the first word in each sentence has been capitalized to follow standard English sentence capitalization rules.'}, {'type': 'all_caps', 'modified_last_turn': 'THAT is nice . WHAT kind of movies do you like ?', 'rationale': \"The words 'that' and 'what' have been changed to ALL CAPS to emphasize them and to show how the model handles emphasized words.\"}, {'type': 'sponge', 'modified_last_turn': 'that is nice . what kind of movies do you lIkE ?', 'rationale': \"The word 'like' has been modified to SpOnGeBoBcASe to test the model's robustness to non-standard capitalization patterns.\"}]}\n",
      "28 {'modifications': [{'type': 'lower', 'modified_last_turn': 'oh that is very interesting. thank you for explaining it to me. so some of the things in nature that are the colour green do have very important roles then?', 'rationale': \"Changed the first letter of the sentences and proper nouns to lower case to demonstrate the 'lower' capitalization change.\"}, {'type': 'upper', 'modified_last_turn': 'Oh that is very interesting. Thank you for explaining it to me. So some of the things in nature that are the colour green do have very important roles then?', 'rationale': \"Capitalized the first letter of each sentence to demonstrate the 'upper' capitalization change.\"}, {'type': 'all_caps', 'modified_last_turn': 'OH THAT IS VERY INTERESTING. THANK YOU FOR EXPLAINING IT TO ME. SO SOME OF THE THINGS IN NATURE THAT ARE THE COLOUR GREEN DO HAVE VERY IMPORTANT ROLES THEN?', 'rationale': \"Changed all letters to uppercase to demonstrate the 'all_caps' capitalization change.\"}, {'type': 'sponge', 'modified_last_turn': 'oH tHaT iS vErY iNtErEsTiNg. ThAnK yOu FoR eXpLaInInG iT tO mE. sO sOmE oF tHe ThInGs In NaTuRe ThAt ArE tHe CoLoUr GrEeN dO hAvE vErY iMpOrTaNt RoLeS tHeN?', 'rationale': \"Changed the text to alternating capitalization to demonstrate the 'sponge' capitalization change.\"}]}\n",
      "29 {'modifications': [{'type': 'lower', 'modified_last_turn': 'i hope you find a new puppy love soon.', 'rationale': \"Changed the first letter of the sentence from upper case 'I' to lower case 'i' to demonstrate the 'lower' capitalization modification.\"}, {'type': 'upper', 'modified_last_turn': 'I Hope you find a new puppy love soon.', 'rationale': \"Changed the first letter of the second word 'hope' from lower case to upper case 'Hope' to demonstrate the 'upper' capitalization modification.\"}, {'type': 'all_caps', 'modified_last_turn': 'I hope you find a new PUPPY love soon.', 'rationale': \"Changed the word 'puppy' to all caps 'PUPPY' to demonstrate the 'all_caps' capitalization modification.\"}, {'type': 'sponge', 'modified_last_turn': 'I hope you find a new puppy love SoOn.', 'rationale': \"Changed the word 'soon' to SpOnGeBoBcASe 'SoOn' to demonstrate the 'sponge' capitalization modification.\"}]}\n",
      "30 {'modifications': [{'type': 'lower', 'modified_last_turn': 'my family is over 2, 000 miles away in alaska,  its tough!', 'rationale': \"The word 'My' at the beginning of the sentence and 'Alaska' being a proper noun have been changed to lowercase to demonstrate the effect of incorrect capitalization.\"}, {'type': 'upper', 'modified_last_turn': 'My family is Over 2, 000 miles away in Alaska,  its tough!', 'rationale': \"The word 'over' has been capitalized to show the effect of inappropriate capitalization within a sentence.\"}, {'type': 'all_caps', 'modified_last_turn': 'My family is over 2, 000 miles away in ALASKA,  its tough!', 'rationale': \"The word 'Alaska' has been changed to ALL CAPS to emphasize the location and to show how all caps can be used for emphasis in text.\"}, {'type': 'sponge', 'modified_last_turn': 'My family is over 2, 000 miles away in Alaska,  its tOuGh!', 'rationale': \"The word 'tough' has been modified to 'SpOnGeBoBcASe' to demonstrate non-standard capitalization often used in internet culture to convey a mocking or playful tone.\"}]}\n",
      "31 {'modifications': [{'type': 'lower', 'modified_last_turn': 'they were sex workers. i read psychology journals sometimes. do you?', 'rationale': \"Changed the first letter of 'They' from upper case to lower case to demonstrate the 'lower' capitalization modification.\"}, {'type': 'upper', 'modified_last_turn': 'They were sex workers. I read psychology journals sometimes. Do you?', 'rationale': \"Changed the first letter of 'i' and 'do' from lower case to upper case to demonstrate the 'upper' capitalization modification.\"}, {'type': 'all_caps', 'modified_last_turn': 'THEY were sex workers. I read psychology journals sometimes. DO you?', 'rationale': \"Changed 'they' and 'do' to ALL CAPS to demonstrate the 'all_caps' capitalization modification.\"}, {'type': 'sponge', 'modified_last_turn': 'they were sex workers. i read psychology journals sometimes. dO yOu?', 'rationale': \"Changed 'do you' to SpOnGeBoBcASe to demonstrate the 'sponge' capitalization modification.\"}]}\n",
      "32 {'modifications': [{'type': 'lower', 'modified_last_turn': 'i dropped my money while my hands were full, ran into the door, and the bag busted sending a 2 liter bouncing through the parking lot. and of course there were a lot of people that saw.', 'rationale': \"Changed the first letter of the sentence from uppercase 'I' to lowercase 'i' to demonstrate the effect of incorrect capitalization at the beginning of a sentence.\"}, {'type': 'upper', 'modified_last_turn': 'I dropped my Money while my hands were full, ran into the door, and the bag busted sending a 2 liter bouncing through the parking lot. And of course there were a lot of people that saw.', 'rationale': \"Changed the word 'money' to start with an uppercase 'M' to show improper capitalization of a common noun.\"}, {'type': 'all_caps', 'modified_last_turn': 'I dropped my money while my hands were full, ran into the door, and the bag busted sending a 2 LITER bouncing through the parking lot. And of course there were a lot of people that saw.', 'rationale': \"Changed the phrase '2 liter' to '2 LITER' in all caps to emphasize the object and to show how all caps can be used for emphasis, which might affect the tone perceived by a machine learning model.\"}, {'type': 'sponge', 'modified_last_turn': 'I dropped my money while my hands were full, ran into the door, and the bag busted sending a 2 liter bouncing through the parking lot. And of course there were a lot of people that sAw.', 'rationale': \"Changed the word 'saw' to 'sAw' in SpOnGeBoBcASe to demonstrate non-standard capitalization and how it might affect the interpretation of text by machine learning models.\"}]}\n",
      "33 {'modifications': [{'type': 'lower', 'modified_last_turn': \"that's definitely a hard part of getting older!\", 'rationale': \"Changed the first word 'That's' to 'that's' to demonstrate the effect of lower case at the beginning of a sentence.\"}, {'type': 'upper', 'modified_last_turn': \"That's Definitely a hard part of getting older!\", 'rationale': \"Changed the word 'definitely' to 'Definitely' to demonstrate the effect of upper case at the beginning of a word.\"}, {'type': 'all_caps', 'modified_last_turn': \"That's definitely a HARD part of getting older!\", 'rationale': \"Changed the word 'hard' to 'HARD' to demonstrate the effect of ALL CAPS for emphasis.\"}, {'type': 'sponge', 'modified_last_turn': \"That's definitely a hard part of gEtTiNg older!\", 'rationale': \"Changed the word 'getting' to 'gEtTiNg' to demonstrate the effect of SpOnGeBoBcASe as a form of mocking or playful emphasis.\"}]}\n",
      "34 {'modifications': [{'type': 'lower', 'modified_last_turn': \"i usually like fantasy movies.  you know i get enough of the real world, so i'd like to see something fantastical to dive into people's imaginations.\", 'rationale': \"Changed the first letter of each sentence and proper nouns from upper case to lower case to demonstrate the 'lower' capitalization change.\"}, {'type': 'upper', 'modified_last_turn': \"I Usually like fantasy movies.  You Know I get enough of the real world, so I'd like to see something fantastical to dive into people's imaginations.\", 'rationale': \"Changed the first letter of some words that originally started with lower case to upper case to demonstrate the 'upper' capitalization change.\"}, {'type': 'all_caps', 'modified_last_turn': \"I usually like FANTASY movies.  You know I get enough of the REAL world, so I'd like to see something FANTASTICAL to dive into people's IMAGINATIONS.\", 'rationale': \"Changed some keywords to ALL CAPS to emphasize them and demonstrate the 'all_caps' capitalization change.\"}, {'type': 'sponge', 'modified_last_turn': \"I usually like fantasy movies.  You know I get enough of the real world, so I'd like to see something fAnTaStIcAl to dive into people's imaginations.\", 'rationale': \"Changed the word 'fantastical' to SpOnGeBoBcASe to demonstrate the 'sponge' capitalization change.\"}]}\n",
      "35 {'modifications': [{'type': 'lower', 'modified_last_turn': 'yes it can be quite pretty.  i like the orange sky of the sunset more.', 'rationale': \"Changed the first letter of the first word 'Yes' to lowercase to demonstrate the effect of not capitalizing the beginning of a sentence.\"}, {'type': 'upper', 'modified_last_turn': 'Yes It can be quite pretty.  I like the orange sky of the sunset more.', 'rationale': \"Changed the first letter of the second word 'it' to uppercase to demonstrate the effect of inappropriately capitalizing a word that is not a proper noun or at the beginning of a sentence.\"}, {'type': 'all_caps', 'modified_last_turn': 'Yes it can be quite pretty.  I like the ORANGE sky of the sunset more.', 'rationale': \"Changed the word 'orange' to ALL CAPS to emphasize the word and to demonstrate the effect of using all caps for emphasis in text.\"}, {'type': 'sponge', 'modified_last_turn': 'Yes it can be quite pretty.  I like the orange sky of the SuNsEt more.', 'rationale': \"Changed the word 'sunset' to SpOnGeBoBcASe to demonstrate the effect of irregular capitalization for stylistic or humorous effect.\"}]}\n",
      "36 {'modifications': [{'type': 'lower', 'modified_last_turn': 'i enjoy dining out as well . what is your favorite restaurant so far?', 'rationale': \"Changed the first letter of the sentence and the proper noun 'I' to lowercase to demonstrate the effect of improper capitalization.\"}, {'type': 'upper', 'modified_last_turn': 'I enjoy Dining out as well . what is your favorite restaurant so far?', 'rationale': \"Changed the word 'dining' to start with an uppercase letter to show incorrect capitalization within a sentence.\"}, {'type': 'all_caps', 'modified_last_turn': 'I enjoy dining out as well . what is your FAVORITE restaurant so far?', 'rationale': \"Changed the word 'favorite' to ALL CAPS to emphasize the word artificially and to show how it can affect the tone of the sentence.\"}, {'type': 'sponge', 'modified_last_turn': 'I enjoy dining out as well . what is your favorite rEsTaUrAnT so far?', 'rationale': \"Changed the word 'restaurant' to SpOnGeBoBcASe to demonstrate non-standard capitalization that mimics meme culture, which could confuse machine learning models not trained on such data.\"}]}\n",
      "37 {'modifications': [{'type': 'lower', 'modified_last_turn': 'being outside is fantastic.', 'rationale': 'The original text did not contain any uppercase words that needed to be changed to lowercase.'}, {'type': 'upper', 'modified_last_turn': 'Being outside is fantastic.', 'rationale': \"The first word of the sentence 'being' was capitalized to 'Being' to demonstrate changing a word starting with lowercase to uppercase.\"}, {'type': 'all_caps', 'modified_last_turn': 'BEING outside is FANTASTIC.', 'rationale': \"The words 'being' and 'fantastic' were changed to ALL CAPS to emphasize the sentiment and to show the effect of all caps on certain words.\"}, {'type': 'sponge', 'modified_last_turn': 'bEiNg outside is fAnTaStIc.', 'rationale': \"The word 'being' was modified to 'bEiNg' in SpOnGeBoBcASe to demonstrate the effect of alternating capitalization within a word.\"}]}\n",
      "38 {'modifications': [{'type': 'lower', 'modified_last_turn': 'i spent my first night out at a whataburger, eating alone.', 'rationale': \"Changed the first letter of the sentence from uppercase 'I' to lowercase 'i' to demonstrate the effect of lowercasing a word that should be capitalized at the beginning of a sentence.\"}, {'type': 'upper', 'modified_last_turn': 'I spent my first night out at a Whataburger, Eating alone.', 'rationale': \"Changed the word 'eating' to start with an uppercase 'E' to demonstrate the effect of capitalizing a word that should be in lowercase in the middle of a sentence.\"}, {'type': 'all_caps', 'modified_last_turn': 'I spent my first night out at a WHATABURGER, eating alone.', 'rationale': \"Changed the word 'Whataburger' to 'WHATABURGER' to demonstrate the effect of changing a word to all caps for emphasis.\"}, {'type': 'sponge', 'modified_last_turn': 'I spent my first night out at a WhAtAbUrGeR, eating alone.', 'rationale': \"Changed the word 'Whataburger' to 'WhAtAbUrGeR' to demonstrate the effect of SpongeBob case, which is a form of alternating capitalization often used to convey a mocking or playful tone.\"}]}\n",
      "39 {'modifications': [{'type': 'lower', 'modified_last_turn': 'i am not sure i understand, but ok then.', 'rationale': \"The word 'OK' is typically capitalized as it is an abbreviation for 'okay'. In this modification, it is changed to lowercase to meet the 'lower' change requirement.\"}, {'type': 'upper', 'modified_last_turn': 'I am not sure I understand, but ok then.', 'rationale': \"The pronoun 'I' is already capitalized as per standard English grammar rules. However, to demonstrate an 'upper' change, the first letter of the sentence is capitalized, which is also in line with standard English grammar.\"}, {'type': 'all_caps', 'modified_last_turn': 'I am not sure I understand, but OK then.', 'rationale': \"The word 'ok' is changed to 'OK' in ALL CAPS to emphasize it and to meet the 'all_caps' change requirement.\"}, {'type': 'sponge', 'modified_last_turn': 'i am not sure i understand, but oK tHeN.', 'rationale': \"The phrase 'ok then' is modified to 'oK tHeN' in SpOnGeBoBcASe to meet the 'sponge' change requirement, alternating the capitalization of each letter.\"}]}\n",
      "40 {'modifications': [{'type': 'lower', 'modified_last_turn': \"i hope they don't drink while doing the roofing!!\", 'rationale': \"Changed the first letter of the first word 'I' to lowercase to demonstrate the effect of incorrect capitalization at the beginning of a sentence.\"}, {'type': 'upper', 'modified_last_turn': \"I Hope they don't drink while doing the Roofing!!\", 'rationale': \"Changed the first letter of the second word 'hope' to uppercase to show improper capitalization within a sentence.\"}, {'type': 'all_caps', 'modified_last_turn': \"I hope they don't drink while doing the ROOFING!!\", 'rationale': \"Changed the word 'roofing' to all caps to emphasize the word and to show how capitalization can be used for emphasis.\"}, {'type': 'sponge', 'modified_last_turn': \"I hope they don't drink while doing the RoOfInG!!\", 'rationale': \"Changed the word 'roofing' to SpOnGeBoBcASe to demonstrate non-standard capitalization for comedic or sarcastic effect.\"}]}\n",
      "41 {'modifications': [{'type': 'lower', 'modified_last_turn': 'It is for my molecular biology class,  I feel pretty good that I am going to ace it.', 'rationale': \"The word 'Ace' was capitalized as if it were a proper noun or the beginning of a sentence. In this context, it should be lowercase to indicate that it is being used as a verb meaning to do very well.\"}, {'type': 'upper', 'modified_last_turn': 'It is for my Molecular biology class,  I feel pretty good that I am going to Ace it.', 'rationale': \"The word 'molecular' at the beginning of the phrase 'molecular biology class' was capitalized to emphasize the specific subject of the class, although it is not a standard convention to capitalize academic subjects.\"}, {'type': 'all_caps', 'modified_last_turn': 'It is for my molecular biology class,  I feel pretty good that I am going to ACE it.', 'rationale': \"The word 'ace' was changed to ALL CAPS to emphasize the confidence of the speaker in their ability to do very well on the exam.\"}, {'type': 'sponge', 'modified_last_turn': 'It is for my molecular biology class,  I feel pretty good that I am going to AcE it.', 'rationale': \"The word 'ace' was changed to SpOnGeBoBcASe to introduce a playful, mocking tone, which is often used on the internet to convey a sarcastic or light-hearted mood.\"}]}\n",
      "42 {'modifications': [{'type': 'lower', 'modified_last_turn': 'catalonia is located in ilberian peninsula. barcelona, the capital is one of 4 provinces.', 'rationale': \"Changed the first letter of 'Catalonia', 'Ilberian', 'Peninsula', 'Barcelona', and 'The' from upper case to lower case to demonstrate the 'lower' capitalization change.\"}, {'type': 'upper', 'modified_last_turn': 'Catalonia Is Located In Ilberian Peninsula. Barcelona, The Capital Is One Of 4 Provinces.', 'rationale': \"Changed the first letter of each word from lower case to upper case to demonstrate the 'upper' capitalization change.\"}, {'type': 'all_caps', 'modified_last_turn': 'CATALONIA IS LOCATED IN ILBERIAN PENINSULA. BARCELONA, THE CAPITAL IS ONE OF 4 PROVINCES.', 'rationale': \"Changed all letters of the last turn to ALL CAPS to demonstrate the 'all_caps' capitalization change.\"}, {'type': 'sponge', 'modified_last_turn': 'CaTaLoNiA iS lOcAtEd In IlBeRiAn PeNiNsUlA. BaRcElOnA, tHe CaPiTaL iS oNe Of 4 pRoViNcEs.', 'rationale': \"Changed the last turn to SpOnGeBoBcASe, alternating between upper and lower case letters to demonstrate the 'sponge' capitalization change.\"}]}\n",
      "43 {'modifications': [{'type': 'lower', 'modified_last_turn': 'do you agree that exercise can help when having problems?', 'rationale': \"The initial letter of the first word 'Do' has been changed from upper case to lower case to demonstrate the 'lower' type of capitalization change.\"}, {'type': 'upper', 'modified_last_turn': 'Do You agree that exercise can help when having problems?', 'rationale': \"The first letter of the second word 'you' has been changed from lower case to upper case to demonstrate the 'upper' type of capitalization change.\"}, {'type': 'all_caps', 'modified_last_turn': 'Do you agree that exercise can HELP when having problems?', 'rationale': \"The word 'help' has been changed to ALL CAPS to emphasize it and to demonstrate the 'all_caps' type of capitalization change.\"}, {'type': 'sponge', 'modified_last_turn': 'Do you agree that exercise can help when hAvInG problems?', 'rationale': \"The word 'having' has been changed to SpOnGeBoBcASe to demonstrate the 'sponge' type of capitalization change, alternating between upper and lower case letters.\"}]}\n",
      "44 {'modifications': [{'type': 'lower', 'modified_last_turn': 'chad kroeger is the leading vocalist of the group.', 'rationale': \"Changed the first letter of 'Chad' and 'Kroeger' from upper case to lower case to demonstrate the 'lower' capitalization change.\"}, {'type': 'upper', 'modified_last_turn': 'Chad kroeger is the leading vocalist of the group.', 'rationale': \"Changed the first letter of 'is' from lower case to upper case to demonstrate the 'upper' capitalization change.\"}, {'type': 'all_caps', 'modified_last_turn': 'CHAD KROEGER IS THE LEADING VOCALIST OF THE GROUP.', 'rationale': \"Changed all letters of the sentence to ALL CAPS to demonstrate the 'all_caps' capitalization change.\"}, {'type': 'sponge', 'modified_last_turn': 'ChAd KrOeGeR Is tHe lEaDiNg vOcAlIsT Of tHe gRoUp.', 'rationale': \"Changed the sentence to SpOnGeBoBcASe by alternating the capitalization of each letter to demonstrate the 'sponge' capitalization change.\"}]}\n",
      "45 {'modifications': [{'type': 'lower', 'modified_last_turn': 'i quit my job to find a husband. its hard when your are my age.', 'rationale': 'The original text did not contain any words with upper case at the beginning, so no changes were made.'}, {'type': 'upper', 'modified_last_turn': 'I quit my job to find a husband. Its hard when your are my age.', 'rationale': \"The first word of the sentence 'i' was capitalized to 'I' to follow standard sentence capitalization rules.\"}, {'type': 'all_caps', 'modified_last_turn': 'I quit my job to find a HUSBAND. its hard when your are my age.', 'rationale': \"The word 'husband' was changed to ALL CAPS to emphasize the importance of the word in the context of the sentence.\"}, {'type': 'sponge', 'modified_last_turn': 'i quit my job to find a husband. its hard when your are my aGe.', 'rationale': \"The word 'age' was changed to SpOnGeBoBcASe to introduce a non-standard capitalization pattern, mimicking the meme for random capitalization.\"}]}\n",
      "46 {'modifications': [{'type': 'lower', 'modified_last_turn': \"she is so excited. she's even making more than i am.\", 'rationale': \"Changed the first letter of each sentence and the pronoun 'I' to lower case to demonstrate the 'lower' capitalization modification.\"}, {'type': 'upper', 'modified_last_turn': \"She Is so excited. She's Even making more than I am.\", 'rationale': \"Changed the first letter of 'is' and 'even' to upper case to demonstrate the 'upper' capitalization modification.\"}, {'type': 'all_caps', 'modified_last_turn': \"She is so EXCITED. She's even making more than I am.\", 'rationale': \"Changed the word 'excited' to ALL CAPS to emphasize the emotion and demonstrate the 'all_caps' capitalization modification.\"}, {'type': 'sponge', 'modified_last_turn': \"She is so excited. She's even making more than I aM.\", 'rationale': \"Changed the last letter of 'am' to SpOnGeBoBcASe to demonstrate the 'sponge' capitalization modification.\"}]}\n",
      "47 {'modifications': [{'type': 'lower', 'modified_last_turn': 'i would imagine that it is possible, since it does does to the heart. but, the anxiety is probably the wort part of it, physical symptoms such as fast heart rate and shakiness.', 'rationale': \"The first letter of each sentence and proper nouns should be capitalized in standard English grammar. By changing the first letter of each sentence and the pronoun 'I' to lowercase, we are introducing a capitalization error to test the model's sensitivity to standard capitalization rules.\"}, {'type': 'upper', 'modified_last_turn': 'I Would imagine that it is possible, since it does does to the heart. But, the anxiety is probably the wort part of it, physical symptoms such as fast heart rate and shakiness.', 'rationale': \"The word 'would' at the beginning of the sentence is not typically capitalized unless it is the first word of the sentence. By capitalizing 'Would', we introduce an unusual capitalization to test the model's handling of non-standard capitalization within a sentence.\"}, {'type': 'all_caps', 'modified_last_turn': 'I would imagine that it is possible, since it does does to the HEART. But, the anxiety is probably the wort part of it, physical symptoms such as fast heart rate and shakiness.', 'rationale': \"Capitalizing the word 'heart' to ALL CAPS emphasizes the word and can be used to test the model's interpretation of emphasis or shouting when it is not standard to do so for that word in the given context.\"}, {'type': 'sponge', 'modified_last_turn': 'I would imagine that it is possible, since it does does to the heart. But, the anxiety is probably the wOrT part of it, physical symptoms such as fast heart rate and shakiness.', 'rationale': \"The 'sponge' modification, inspired by the 'mocking SpongeBob' meme, alternates the capitalization of letters in the word 'wort' to 'wOrT'. This tests the model's ability to handle non-standard and meme-inspired text alterations.\"}]}\n",
      "48 {'modifications': [{'type': 'lower', 'modified_last_turn': \"oh that's fantastic! what are your plans after graduation?\", 'rationale': \"Changed the first letter of the sentence and the word 'What' from upper case to lower case to demonstrate the 'lower' capitalization change.\"}, {'type': 'upper', 'modified_last_turn': \"Oh That's fantastic! What are your plans after graduation?\", 'rationale': \"Changed the 't' in 'that's' to upper case to demonstrate the 'upper' capitalization change.\"}, {'type': 'all_caps', 'modified_last_turn': \"OH THAT'S FANTASTIC! WHAT ARE YOUR PLANS AFTER GRADUATION?\", 'rationale': \"Changed the entire sentence to ALL CAPS to demonstrate the 'all_caps' capitalization change.\"}, {'type': 'sponge', 'modified_last_turn': \"Oh tHaT's fAnTaStIc! WhAt aRe yOuR pLaNs aFtEr gRaDuAtIoN?\", 'rationale': \"Changed the sentence to SpOnGeBoBcASe to demonstrate the 'sponge' capitalization change.\"}]}\n",
      "49 {'modifications': [{'type': 'lower', 'modified_last_turn': 'bummer , i take my dog for long walks to de stress , how about you ?', 'rationale': 'The original text did not contain any words with upper case at the beginning, so no changes were made.'}, {'type': 'upper', 'modified_last_turn': 'Bummer , I take my dog for long walks to de stress , how about you ?', 'rationale': \"The first letter of each sentence and the pronoun 'I' have been capitalized to follow standard English capitalization rules.\"}, {'type': 'all_caps', 'modified_last_turn': 'BUMMER , I TAKE MY DOG FOR LONG WALKS TO DE STRESS , HOW ABOUT YOU ?', 'rationale': 'All letters in the sentence have been changed to uppercase to demonstrate the ALL CAPS modification.'}, {'type': 'sponge', 'modified_last_turn': 'bummer , I tAkE mY dOg fOr lOnG wAlKs tO dE sTrEsS , hOw aBoUt yOu ?', 'rationale': \"The case of each letter has been alternated between upper and lower case to mimic the 'SpOnGeBoBcASe' style.\"}]}\n",
      "50 {'modifications': [{'type': 'lower', 'modified_last_turn': \"in today's world its a competitive sport, i think they even have it at the olympics\", 'rationale': \"Changed the first letter of the sentence and the pronoun 'I' from upper case to lower case to demonstrate the 'lower' capitalization change.\"}, {'type': 'upper', 'modified_last_turn': \"In Today's world its a competitive sport, I think they even have it at the olympics\", 'rationale': \"Changed the 't' in 'today's' to upper case to demonstrate the 'upper' capitalization change.\"}, {'type': 'all_caps', 'modified_last_turn': \"In today's world its a competitive sport, I think they even have it at the OLYMPICS\", 'rationale': \"Changed the word 'olympics' to ALL CAPS to emphasize it and demonstrate the 'all_caps' capitalization change.\"}, {'type': 'sponge', 'modified_last_turn': \"In today's world its a competitive sport, I think they even have it at the oLyMpIcS\", 'rationale': \"Changed the word 'olympics' to SpOnGeBoBcASe to demonstrate the 'sponge' capitalization change.\"}]}\n",
      "51 {'modifications': [{'type': 'lower', 'modified_last_turn': 'oh, very cool. high school? college? i loved history classes.', 'rationale': \"Changed the first letter of each sentence and proper nouns to lower case to demonstrate the 'lower' capitalization change.\"}, {'type': 'upper', 'modified_last_turn': 'Oh, Very cool. High school? College? I loved History classes.', 'rationale': \"Changed the first letter of some words that originally started with lower case to upper case to demonstrate the 'upper' capitalization change.\"}, {'type': 'all_caps', 'modified_last_turn': 'Oh, very cool. HIGH school? College? I loved history classes.', 'rationale': \"Changed the word 'high' to ALL CAPS to emphasize it and demonstrate the 'all_caps' capitalization change.\"}, {'type': 'sponge', 'modified_last_turn': 'Oh, very cool. High school? College? I lOvEd history classes.', 'rationale': \"Changed the word 'loved' to SpOnGeBoBcASe to demonstrate the 'sponge' capitalization change.\"}]}\n",
      "52 {'modifications': [{'type': 'lower', 'modified_last_turn': 'Yeah, im just grateful for youtube!', 'rationale': \"The word 'Yeah' is already in lower case except the first letter, which is capitalized as it is the beginning of the sentence. The word 'im' is already in lower case, but it should be 'I'm' with a capital 'I' and an apostrophe to be grammatically correct. However, since the task is to change a word with upper case to lower case and there are no other upper case words, no change is needed.\"}, {'type': 'upper', 'modified_last_turn': 'Yeah, Im just grateful for youtube!', 'rationale': \"The word 'im' starts with a lower case 'i' and should be capitalized to 'Im' to indicate the proper use of the pronoun 'I'. The rest of the sentence is already in lower case.\"}, {'type': 'all_caps', 'modified_last_turn': 'Yeah, IM just grateful for YOUTUBE!', 'rationale': \"The words 'im' and 'youtube' have been changed to ALL CAPS to emphasize them and to demonstrate the all_caps modification.\"}, {'type': 'sponge', 'modified_last_turn': 'Yeah, iM jUsT gRaTeFuL fOr YoUtUbE!', 'rationale': 'The sentence has been modified to SpOnGeBoBcASe by alternating the capitalization of each letter in the sentence to mimic the meme format.'}]}\n",
      "53 {'modifications': [{'type': 'lower', 'modified_last_turn': \"i can imagine ireland would be beautiful also. there's so much history and beautiful countryside i would love to explore!\", 'rationale': \"Changed the first letter of each sentence and proper nouns 'I' and 'Ireland' from upper case to lower case to demonstrate the 'lower' capitalization change.\"}, {'type': 'upper', 'modified_last_turn': \"I Can imagine Ireland would be beautiful also. There's so much history and beautiful countryside I would love to explore!\", 'rationale': \"Changed the second word 'can' from lower case to upper case to demonstrate the 'upper' capitalization change.\"}, {'type': 'all_caps', 'modified_last_turn': \"I can imagine IRELAND would be beautiful also. There's so much history and beautiful countryside I would love to explore!\", 'rationale': \"Changed the word 'Ireland' to ALL CAPS to emphasize the country name and demonstrate the 'all_caps' capitalization change.\"}, {'type': 'sponge', 'modified_last_turn': \"I can imagine Ireland would be beautiful also. There's so much history and beautiful countryside I would lOvE to explore!\", 'rationale': \"Changed the word 'love' to SpOnGeBoBcASe to demonstrate the 'sponge' capitalization change, alternating the capitalization of each letter.\"}]}\n",
      "54 {'modifications': [{'type': 'lower', 'modified_last_turn': \"that is good exercise. i've a trail by my new house\", 'rationale': \"The word 'I've' starts with an uppercase 'I' which is the correct capitalization for the pronoun 'I'. To apply the 'lower' modification, the 'I' in 'I've' has been changed to lowercase.\"}, {'type': 'upper', 'modified_last_turn': \"That is good exercise. I've a trail by my new house\", 'rationale': \"The word 'that' at the beginning of the sentence was originally in lowercase. To apply the 'upper' modification, the first letter of 'that' has been changed to uppercase to start the sentence properly.\"}, {'type': 'all_caps', 'modified_last_turn': \"that is good exercise. I'VE a trail by my new house\", 'rationale': \"To emphasize the word and apply the 'all_caps' modification, 'I've' has been changed to all uppercase letters.\"}, {'type': 'sponge', 'modified_last_turn': \"that is good exercise. i'Ve A trail by my new house\", 'rationale': \"To apply the 'sponge' modification, the word 'have' within 'I've' and the word 'a' have been altered to have alternating uppercase and lowercase letters, mimicking the 'SpOnGeBoBcASe'.\"}]}\n",
      "55 {'modifications': [{'type': 'lower', 'modified_last_turn': 'its ceo david zaslav was the one who got the idea of such a channel and founded it in his 30s', 'rationale': \"Changed 'Its' to 'its' and 'CEO' to 'ceo' to demonstrate the effect of lowercasing proper nouns and acronyms.\"}, {'type': 'upper', 'modified_last_turn': 'Its CEO David Zaslav Was The One Who Got The Idea Of Such A Channel And Founded It In His 30s', 'rationale': 'Capitalized the first letter of each word to show the effect of starting with an uppercase letter, which is not conventional for running text.'}, {'type': 'all_caps', 'modified_last_turn': 'Its CEO DAVID ZASLAV was the one who got the idea of such a channel and founded it in HIS 30s', 'rationale': \"Changed 'David Zaslav' and 'his' to ALL CAPS to emphasize the name and the age, which could be used to expose biases related to name recognition and age in machine learning models.\"}, {'type': 'sponge', 'modified_last_turn': 'Its CEO David Zaslav was the one who got the idea of such a channel and founded it in his 30s', 'rationale': 'No modification made as the SpOnGeBoBcASe is not applicable to this context without altering the meaning or coherence of the text.'}]}\n",
      "56 {'modifications': [{'type': 'lower', 'modified_last_turn': 'i bet she is going to be so surprised! is she hard to surpise?', 'rationale': \"Changed the first letter of the first word 'I' to lowercase to demonstrate the effect of incorrect capitalization at the beginning of a sentence.\"}, {'type': 'upper', 'modified_last_turn': 'I bet She is going to be so surprised! Is she hard to surpise?', 'rationale': \"Changed the first letter of the word 'she' to uppercase to show improper capitalization within a sentence.\"}, {'type': 'all_caps', 'modified_last_turn': 'I bet she is going to be so SURPRISED! Is she hard to SURPISE?', 'rationale': \"Changed the word 'surprised' to ALL CAPS to emphasize the word and to show how all caps can be used to convey heightened emotion or importance.\"}, {'type': 'sponge', 'modified_last_turn': 'I bet she is going to be so sUrPrIsEd! Is she hard to sUrPiSe?', 'rationale': \"Changed the word 'surprised' to SpOnGeBoBcASe to demonstrate non-standard capitalization often used to convey a mocking or playful tone.\"}]}\n",
      "57 {'modifications': [{'type': 'lower', 'modified_last_turn': 'thank you,  my husband got two great job offers!', 'rationale': \"Changed the first word 'Thank' from uppercase to lowercase to demonstrate the effect of incorrect capitalization at the beginning of a sentence.\"}, {'type': 'upper', 'modified_last_turn': 'Thank you,  My husband got two great job offers!', 'rationale': \"Changed the word 'my' from lowercase to uppercase to show improper capitalization of a non-proper noun in the middle of a sentence.\"}, {'type': 'all_caps', 'modified_last_turn': 'Thank you,  my husband got two GREAT job offers!', 'rationale': \"Changed the word 'great' to ALL CAPS to emphasize the word artificially, which can be used to test the model's sensitivity to perceived shouting or emphasis.\"}, {'type': 'sponge', 'modified_last_turn': 'Thank you,  my husband got two great job offers!', 'rationale': 'No modification needed as the original text does not contain any words that would be changed to SpOnGeBoBcASe without altering the meaning or coherence of the sentence.'}]}\n",
      "58 {'modifications': [{'type': 'lower', 'modified_last_turn': \"yeezy's, the worst part is the second pair of shoes were both right footed.\", 'rationale': \"Changed the first word 'Yeezy's' from starting with an uppercase 'Y' to lowercase 'y' to demonstrate the effect of lowercasing proper nouns.\"}, {'type': 'upper', 'modified_last_turn': \"Yeezy's, The worst part is the second pair of shoes were both right footed.\", 'rationale': \"Capitalized the first letter of the second sentence 'the' to 'The' to show the effect of uppercasing the beginning of a sentence.\"}, {'type': 'all_caps', 'modified_last_turn': \"Yeezy's, the WORST part is the second pair of shoes were both right footed.\", 'rationale': \"Changed the word 'worst' to ALL CAPS to emphasize the word and demonstrate the effect of all caps in text.\"}, {'type': 'sponge', 'modified_last_turn': \"Yeezy's, the worst part is the second pair of shoes were both rIgHt footed.\", 'rationale': \"Altered the word 'right' to 'SpOnGeBoBcASe' to show the effect of non-standard capitalization for illustrative purposes.\"}]}\n",
      "59 {'modifications': [{'type': 'lower', 'modified_last_turn': 'i have not confronted them. i am still thinking over it.', 'rationale': \"Changed the first letter of each sentence and the pronoun 'I' to lowercase to demonstrate the effect of improper noun capitalization.\"}, {'type': 'upper', 'modified_last_turn': 'I Have not confronted them. I Am still thinking over it.', 'rationale': 'Capitalized the first letter of some words that do not usually start with uppercase in the middle of sentences to show the effect of incorrect capitalization.'}, {'type': 'all_caps', 'modified_last_turn': 'I have not confronted THEM. I am still THINKING over it.', 'rationale': \"Changed 'them' and 'thinking' to ALL CAPS to emphasize these words artificially, which can affect the tone and perceived emotion of the sentence.\"}, {'type': 'sponge', 'modified_last_turn': 'I have not cOnFrOnTeD them. I am still thinking oVeR it.', 'rationale': \"Altered 'confronted' and 'over' to SpOnGeBoBcASe to demonstrate how altering the case of letters within a word can affect readability and interpretation.\"}]}\n",
      "60 {'modifications': [{'type': 'lower', 'modified_last_turn': 'i love reading academic books and books about history! books about chinese, russian and french history are fascinating!', 'rationale': 'Changed the first letter of each sentence and proper nouns (I, Chinese, Russian, French) to lower case to demonstrate the effect of incorrect capitalization.'}, {'type': 'upper', 'modified_last_turn': 'I Love reading academic books and books about history! Books about Chinese, Russian and French history are fascinating!', 'rationale': 'Changed the first letter of the second word in the first sentence and the first word of the second sentence to upper case to show improper capitalization after the first word of a sentence.'}, {'type': 'all_caps', 'modified_last_turn': 'I love reading ACADEMIC books and books about HISTORY! Books about CHINESE, RUSSIAN and FRENCH history are FASCINATING!', 'rationale': \"Changed the words 'academic', 'history', 'Chinese', 'Russian', 'French', and 'fascinating' to ALL CAPS to emphasize certain words and show how it affects the tone of the message.\"}, {'type': 'sponge', 'modified_last_turn': 'I love reading academic books and books about history! Books about cHiNeSe, RuSsIaN and FrEnCh history are fascinating!', 'rationale': \"Changed the words 'Chinese', 'Russian', and 'French' to SpOnGeBoBcASe to demonstrate a mocking or playful tone, which can be interpreted differently by machine learning models.\"}]}\n",
      "61 {'modifications': [{'type': 'lower', 'modified_last_turn': 'this advertising company! the owner was there - you should have seen his face. my last freelance project was a real winner. think i got it?', 'rationale': \"Changed the first letter of each sentence and proper nouns from upper case to lower case to demonstrate the 'lower' capitalization change.\"}, {'type': 'upper', 'modified_last_turn': 'This Advertising company! The Owner was there - You should have seen his face. My Last freelance project was a real winner. Think I got it?', 'rationale': \"Changed the first letter of some words that originally started with lower case to upper case to demonstrate the 'upper' capitalization change.\"}, {'type': 'all_caps', 'modified_last_turn': 'This ADVERTISING company! The owner was there - you should have seen his face. My last FREELANCE project was a real WINNER. Think I got it?', 'rationale': \"Changed some words to ALL CAPS to emphasize them and demonstrate the 'all_caps' capitalization change.\"}, {'type': 'sponge', 'modified_last_turn': 'This advertising company! The owner was there - you should have seen his face. My last freelance project was a real winner. Think I GoT iT?', 'rationale': \"Changed the last sentence to SpOnGeBoBcASe to demonstrate the 'sponge' capitalization change, alternating between upper and lower case.\"}]}\n",
      "62 {'modifications': [{'type': 'lower', 'modified_last_turn': 'it is so great to hear about a happy couple :)', 'rationale': \"Changed the first letter of the sentence from upper case 'It' to lower case 'it' to demonstrate the effect of incorrect sentence capitalization.\"}, {'type': 'upper', 'modified_last_turn': 'It Is so great to hear about a happy couple :)', 'rationale': \"Changed the first letter of the second word 'is' to upper case 'Is' to show improper use of capitalization within a sentence.\"}, {'type': 'all_caps', 'modified_last_turn': 'It is so great to hear about a HAPPY couple :)', 'rationale': \"Changed the word 'happy' to ALL CAPS to emphasize the word and to show how capitalization can affect the tone of the message.\"}, {'type': 'sponge', 'modified_last_turn': 'It is so great to hear about a hApPy couple :)', 'rationale': \"Changed the word 'happy' to SpOnGeBoBcASe to demonstrate non-standard capitalization and its potential effect on text interpretation.\"}]}\n",
      "63 {'modifications': [{'type': 'lower', 'modified_last_turn': 'Yes,  i am torn between my desire to keep the tv and my guilt. What should i do?', 'rationale': \"Changed the word 'I' to 'i' and 'TV' to 'tv' to demonstrate the effect of lower case capitalization.\"}, {'type': 'upper', 'modified_last_turn': 'Yes,  I am torn between my Desire to keep the TV and my guilt. What should I do?', 'rationale': \"Changed the word 'desire' to 'Desire' to demonstrate the effect of upper case capitalization at the beginning of a word.\"}, {'type': 'all_caps', 'modified_last_turn': 'Yes,  I am torn between my desire to keep the TV and my GUILT. What should I do?', 'rationale': \"Changed the word 'guilt' to 'GUILT' to demonstrate the effect of ALL CAPS for emphasis.\"}, {'type': 'sponge', 'modified_last_turn': 'Yes,  I am torn between my desire to keep the TV and my guilt. What should I dO?', 'rationale': \"Changed the word 'do' to 'dO' to demonstrate the effect of SpOnGeBoBcASe.\"}]}\n",
      "64 {'modifications': [{'type': 'lower', 'modified_last_turn': 'does she draw or paint? how any students are in this program?', 'rationale': \"Changed the first letter of the first word 'Does' to lowercase to demonstrate the 'lower' capitalization change.\"}, {'type': 'upper', 'modified_last_turn': 'Does She draw or paint? How any students are in this program?', 'rationale': \"Changed the first letter of the second word 'she' to uppercase to demonstrate the 'upper' capitalization change.\"}, {'type': 'all_caps', 'modified_last_turn': 'Does she DRAW or paint? How any students are in this program?', 'rationale': \"Changed the word 'draw' to ALL CAPS to demonstrate the 'all_caps' capitalization change.\"}, {'type': 'sponge', 'modified_last_turn': 'Does she draw or pAiNt? How any students are in this program?', 'rationale': \"Changed the word 'paint' to SpOnGeBoBcASe to demonstrate the 'sponge' capitalization change.\"}]}\n",
      "65 {'modifications': [{'type': 'lower', 'modified_last_turn': \"i don't have a personal favorite, i like a lot. what about you?\", 'rationale': \"Changed the first letter of each sentence and proper nouns to lower case to demonstrate the 'lower' capitalization modification.\"}, {'type': 'upper', 'modified_last_turn': \"I don't have a personal Favorite, I like a lot. What about you?\", 'rationale': \"Changed the first letter of a non-initial word 'favorite' to upper case to demonstrate the 'upper' capitalization modification.\"}, {'type': 'all_caps', 'modified_last_turn': \"I don't have a personal favorite, I LIKE a lot. What about you?\", 'rationale': \"Changed the word 'like' to ALL CAPS to emphasize it and demonstrate the 'all_caps' capitalization modification.\"}, {'type': 'sponge', 'modified_last_turn': \"I don't have a personal favorite, I like a lot. WhAt AbOuT yOu?\", 'rationale': \"Changed the phrase 'What about you?' to SpOnGeBoBcASe to demonstrate the 'sponge' capitalization modification.\"}]}\n",
      "66 {'modifications': [{'type': 'lower', 'modified_last_turn': 'yeah! the best known gymnastics is the competitive artistic gymnastics', 'rationale': \"Changed the first word 'Yeah' to lowercase to demonstrate the effect of lowercasing an uppercase word.\"}, {'type': 'upper', 'modified_last_turn': 'Yeah! The best known gymnastics is the competitive artistic gymnastics', 'rationale': \"Capitalized the first letter of 'the' to demonstrate the effect of uppercasing a word that starts with a lowercase letter.\"}, {'type': 'all_caps', 'modified_last_turn': 'Yeah! the best known gymnastics is the COMPETITIVE artistic gymnastics', 'rationale': \"Changed the word 'competitive' to all caps to demonstrate the effect of emphasizing a word with ALL CAPS.\"}, {'type': 'sponge', 'modified_last_turn': 'Yeah! the best known gymnastics is the competitive artistic GyMnAsTiCs', 'rationale': \"Changed the word 'gymnastics' at the end of the sentence to SpOnGeBoBcASe to demonstrate the effect of altering the case in a non-standard pattern.\"}]}\n",
      "67 {'modifications': [{'type': 'lower', 'modified_last_turn': 'either way , not enough to live on . do you have any animals ?', 'rationale': 'The original text did not contain any words in upper case, so no changes were made.'}, {'type': 'upper', 'modified_last_turn': 'Either way , not enough to live on . Do you have any animals ?', 'rationale': 'The first letter of the first word in each sentence has been capitalized to follow standard sentence capitalization rules.'}, {'type': 'all_caps', 'modified_last_turn': 'either way , not enough to LIVE on . do you have any ANIMALS ?', 'rationale': \"Selected words 'LIVE' and 'ANIMALS' have been changed to ALL CAPS to emphasize these words and potentially alter the sentiment or focus of the sentence.\"}, {'type': 'sponge', 'modified_last_turn': 'either way , not enough to live on . do you have any aNiMaLs ?', 'rationale': \"The word 'animals' has been changed to SpOnGeBoBcASe to introduce a non-standard capitalization pattern, which could be used to test the robustness of machine learning models in handling non-standard text input.\"}]}\n",
      "68 {'modifications': [{'type': 'lower', 'modified_last_turn': 'i am a nascar fan too !', 'rationale': 'The original text is already in lower case, so no modification is needed.'}, {'type': 'upper', 'modified_last_turn': 'I am a nascar fan too !', 'rationale': 'The first letter of the sentence has been capitalized to demonstrate the change from lower case to upper case.'}, {'type': 'all_caps', 'modified_last_turn': 'I AM A NASCAR FAN TOO !', 'rationale': 'The entire sentence has been changed to ALL CAPS to emphasize the statement and show the effect of all caps modification.'}, {'type': 'sponge', 'modified_last_turn': 'i aM a nAsCaR fAn tOo !', 'rationale': 'The text has been modified to SpOnGeBoBcASe by alternating the capitalization of each letter to mimic the meme-based text style.'}]}\n",
      "69 {'modifications': [{'type': 'lower', 'modified_last_turn': \"i'm not sure.\", 'rationale': \"Changed the first letter of the first word from upper case to lower case to demonstrate the 'lower' capitalization change.\"}, {'type': 'upper', 'modified_last_turn': \"I'm Not sure.\", 'rationale': \"Changed the first letter of the second word from lower case to upper case to demonstrate the 'upper' capitalization change.\"}, {'type': 'all_caps', 'modified_last_turn': \"I'M NOT SURE.\", 'rationale': \"Changed all letters of the sentence to upper case to demonstrate the 'all_caps' capitalization change.\"}, {'type': 'sponge', 'modified_last_turn': \"I'm nOt sUrE.\", 'rationale': \"Changed the sentence to alternate between lower case and upper case starting with the second word to demonstrate the 'sponge' capitalization change.\"}]}\n",
      "70 {'modifications': [{'type': 'lower', 'modified_last_turn': 'i speak english only', 'rationale': 'The original text is already in lower case, so no modification is needed.'}, {'type': 'upper', 'modified_last_turn': 'I speak english only', 'rationale': \"The first word of the sentence 'i' has been changed to upper case 'I' to demonstrate capitalization at the beginning of a sentence.\"}, {'type': 'all_caps', 'modified_last_turn': 'I SPEAK ENGLISH ONLY', 'rationale': 'All letters of the sentence have been changed to upper case to demonstrate ALL CAPS for emphasis.'}, {'type': 'sponge', 'modified_last_turn': 'i sPeAk eNgLiSh oNlY', 'rationale': \"Random letters of the sentence have been changed to alternating cases to mimic the 'SpOnGeBoBcASe' meme for sarcastic or mocking emphasis.\"}]}\n",
      "71 {'modifications': [{'type': 'lower', 'modified_last_turn': 'oh, yes, you are right.', 'rationale': \"Changed the first letter of the first word 'Oh' to lowercase to demonstrate the 'lower' capitalization change.\"}, {'type': 'upper', 'modified_last_turn': 'Oh, Yes, you are right.', 'rationale': \"Changed the first letter of the second word 'yes' to uppercase to demonstrate the 'upper' capitalization change.\"}, {'type': 'all_caps', 'modified_last_turn': 'OH, YES, YOU ARE RIGHT.', 'rationale': \"Changed all letters of the entire sentence to uppercase to demonstrate the 'all_caps' capitalization change.\"}, {'type': 'sponge', 'modified_last_turn': 'Oh, yEs, yOu aRe rIgHt.', 'rationale': \"Changed the sentence to SpOnGeBoBcASe by alternating the capitalization of each letter to demonstrate the 'sponge' capitalization change.\"}]}\n",
      "72 {'modifications': [{'type': 'lower', 'modified_last_turn': 'i am working on a set of space opera novels.', 'rationale': \"Changed the first letter of the first word 'I' from upper case to lower case to demonstrate the 'lower' capitalization change.\"}, {'type': 'upper', 'modified_last_turn': 'I Am working on a set of space opera novels.', 'rationale': \"Changed the first letter of the second word 'am' from lower case to upper case to demonstrate the 'upper' capitalization change.\"}, {'type': 'all_caps', 'modified_last_turn': 'I am working on a set of SPACE opera novels.', 'rationale': \"Changed the word 'space' to ALL CAPS to emphasize it and demonstrate the 'all_caps' capitalization change.\"}, {'type': 'sponge', 'modified_last_turn': 'I am working on a set of space opera nOvElS.', 'rationale': \"Changed the last word 'novels' to SpOnGeBoBcASe to demonstrate the 'sponge' capitalization change.\"}]}\n",
      "73 {'modifications': [{'type': 'lower', 'modified_last_turn': 'then that might be the perfect pet for me. is it true that they eat live rats?', 'rationale': \"Changed the first letter of the first word 'Then' to lowercase to make 'then' and also the 'Is' to 'is' to maintain coherence with the previous dialogue context while applying the 'lower' capitalization change.\"}, {'type': 'upper', 'modified_last_turn': 'Then That might be the perfect pet for me. Is it true that they eat live rats?', 'rationale': \"Changed the first letter of the second word 'that' to uppercase to make 'That' to demonstrate the 'upper' capitalization change while keeping the sentence coherent.\"}, {'type': 'all_caps', 'modified_last_turn': 'Then that might be the PERFECT pet for me. Is it true that they eat live rats?', 'rationale': \"Changed the word 'perfect' to 'PERFECT' in ALL CAPS to emphasize it and to show the 'all_caps' capitalization change without altering the coherence of the conversation.\"}, {'type': 'sponge', 'modified_last_turn': 'Then that might be the perfect pet for me. Is it true that they eat live rAtS?', 'rationale': \"Changed the word 'rats' to 'rAtS' in SpOnGeBoBcASe to illustrate the 'sponge' capitalization change while keeping the sentence coherent with the previous dialogue.\"}]}\n",
      "74 {'modifications': [{'type': 'lower', 'modified_last_turn': 'really?  my hair is blue and orange right now', 'rationale': \"Changed the first word 'Really?' to 'really?' to demonstrate the effect of lower case at the beginning of a sentence.\"}, {'type': 'upper', 'modified_last_turn': 'Really?  My Hair is blue and orange right now', 'rationale': \"Changed the word 'hair' to 'Hair' to show the effect of capitalizing a noun that is not typically capitalized in the middle of a sentence.\"}, {'type': 'all_caps', 'modified_last_turn': 'Really?  My hair is BLUE and orange right now', 'rationale': \"Changed the word 'blue' to 'BLUE' to demonstrate emphasis through the use of all caps.\"}, {'type': 'sponge', 'modified_last_turn': 'Really?  My hair is blue and oRaNgE right now', 'rationale': \"Changed the word 'orange' to 'oRaNgE' to mimic the SpongeBob meme case, which alternates between upper and lower case letters to convey a mocking or playful tone.\"}]}\n",
      "75 {'modifications': [{'type': 'lower', 'modified_last_turn': 'interesting, i would have never guessed', 'rationale': \"Changed the first word 'Interesting' to 'interesting' to demonstrate the effect of lower case capitalization.\"}, {'type': 'upper', 'modified_last_turn': 'Interesting, I Would have never guessed', 'rationale': \"Changed the word 'would' to 'Would' to demonstrate the effect of upper case capitalization at the beginning of a word.\"}, {'type': 'all_caps', 'modified_last_turn': 'Interesting, I would have never GUESSED', 'rationale': \"Changed the word 'guessed' to 'GUESSED' to demonstrate the effect of ALL CAPS for emphasis.\"}, {'type': 'sponge', 'modified_last_turn': 'Interesting, I would have never gUeSsEd', 'rationale': \"Changed the word 'guessed' to 'gUeSsEd' to demonstrate the effect of SpOnGeBoBcASe for a mocking or playful tone.\"}]}\n",
      "76 {'modifications': [{'type': 'lower', 'modified_last_turn': 'oh yea i think bowling used to be a huge sport back in the day, more so than now.', 'rationale': \"Changed the first word 'Oh' to 'oh' and 'I' to 'i' to demonstrate the effect of lowercasing proper nouns and sentence-initial words.\"}, {'type': 'upper', 'modified_last_turn': 'OH yea I think bowling used to be a huge sport back in the day, more so than now.', 'rationale': \"Changed the interjection 'oh' to 'OH' to demonstrate the effect of uppercasing a word that typically starts with a lowercase letter.\"}, {'type': 'all_caps', 'modified_last_turn': 'OH YEA I THINK BOWLING USED TO BE A HUGE SPORT BACK IN THE DAY, MORE SO THAN NOW.', 'rationale': 'Changed the entire sentence to ALL CAPS to demonstrate the effect of emphasizing the entire message.'}, {'type': 'sponge', 'modified_last_turn': 'Oh yEa I tHiNk bOwLiNg uSeD tO bE a hUgE sPoRt bAcK iN tHe dAy, mOrE sO tHaN nOw.', 'rationale': 'Changed the sentence to SpOnGeBoBcASe to demonstrate the effect of alternating capitalization, mimicking the meme for sarcastic or mocking tone.'}]}\n",
      "77 {'modifications': [{'type': 'lower', 'modified_last_turn': \"that's a great way to stay connected for sure! i should do that a little more often with my family!\", 'rationale': \"Changed the first letter of each sentence and the pronoun 'I' to lowercase to demonstrate the effect of improper noun and sentence case.\"}, {'type': 'upper', 'modified_last_turn': \"That's a Great way to stay connected for sure! I Should do that a little more often with my family!\", 'rationale': 'Capitalized the first letter of some words that are not typically capitalized in the middle of sentences to show incorrect capitalization.'}, {'type': 'all_caps', 'modified_last_turn': \"That's a great way to stay connected for SURE! I should do that a little more often with my FAMILY!\", 'rationale': \"Changed 'sure' and 'family' to ALL CAPS to emphasize these words artificially, which can alter the perceived tone of the message.\"}, {'type': 'sponge', 'modified_last_turn': \"That's a great way to stay connected for sure! I should do that a little more often with my fAmIlY!\", 'rationale': \"Changed 'family' to SpOnGeBoBcASe to demonstrate non-standard capitalization that mimics a mocking or playful tone.\"}]}\n",
      "78 {'modifications': [{'type': 'lower', 'modified_last_turn': \"yeah but maybe elon musk can find a way to get around nasa's red tape.\", 'rationale': \"Changed the first word 'Yeah' to lowercase to demonstrate the effect of lowercasing a word that typically starts with an uppercase letter at the beginning of a sentence.\"}, {'type': 'upper', 'modified_last_turn': \"Yeah but maybe elon musk can find a way to get around NASA's red tape.\", 'rationale': \"Changed 'elon' to 'Elon' to demonstrate the effect of capitalizing a proper noun that should start with an uppercase letter.\"}, {'type': 'all_caps', 'modified_last_turn': \"Yeah but maybe ELON MUSK can find a way to get around NASA's red tape.\", 'rationale': \"Changed 'Elon Musk' to 'ELON MUSK' to demonstrate the effect of changing words to all caps for emphasis, especially since it is a proper noun.\"}, {'type': 'sponge', 'modified_last_turn': \"Yeah but maybe Elon Musk can find a way to get around nAsA's red tape.\", 'rationale': \"Changed 'NASA' to 'nAsA' to demonstrate the effect of SpongeBobCase, which is a mix of uppercase and lowercase letters used to convey a mocking or playful tone.\"}]}\n",
      "79 {'modifications': [{'type': 'lower', 'modified_last_turn': 'dang thats so long ago', 'rationale': \"The word 'dang' is already in lower case, so no change is needed.\"}, {'type': 'upper', 'modified_last_turn': 'Dang thats so long ago', 'rationale': \"The first word of the sentence 'dang' has been capitalized to 'Dang' to demonstrate the change from lower case to upper case.\"}, {'type': 'all_caps', 'modified_last_turn': 'DANG thats so long ago', 'rationale': \"The word 'dang' has been changed to all caps 'DANG' to emphasize the word.\"}, {'type': 'sponge', 'modified_last_turn': 'dAnG thats so long ago', 'rationale': \"The word 'dang' has been modified to 'dAnG' in SpOnGeBoBcASe to demonstrate the change.\"}]}\n",
      "80 {'modifications': [{'type': 'lower', 'modified_last_turn': 'yep, but work keeps me up late sometimes.', 'rationale': \"Changed the first word 'Yep' to 'yep' to demonstrate the effect of lower case capitalization.\"}, {'type': 'upper', 'modified_last_turn': 'Yep, But work keeps me up late sometimes.', 'rationale': \"Changed the word 'but' to 'But' to demonstrate the effect of upper case capitalization at the beginning of a word.\"}, {'type': 'all_caps', 'modified_last_turn': 'Yep, but work keeps me up late SOMETIMES.', 'rationale': \"Changed the word 'sometimes' to 'SOMETIMES' to demonstrate the effect of ALL CAPS for emphasis.\"}, {'type': 'sponge', 'modified_last_turn': 'Yep, but work keeps me Up lAtE sometimes.', 'rationale': \"Changed the phrase 'up late' to 'Up lAtE' to demonstrate the effect of SpOnGeBoBcASe for a whimsical or mocking emphasis.\"}]}\n",
      "81 {'modifications': [{'type': 'lower', 'modified_last_turn': 'olive oil.  if you like nuts, they are a good source of protein too.  just add some cashews or walnuts!', 'rationale': \"Changed 'Olive' and 'If' to lowercase to demonstrate the effect of not capitalizing proper nouns and the first word of a sentence.\"}, {'type': 'upper', 'modified_last_turn': 'Olive oil.  If You like nuts, they are a good source of protein too.  Just add some cashews or walnuts!', 'rationale': \"Capitalized 'You' to show the effect of inappropriate capitalization in the middle of a sentence.\"}, {'type': 'all_caps', 'modified_last_turn': 'Olive oil.  If you like nuts, they are a GOOD source of protein too.  Just add some cashews or walnuts!', 'rationale': \"Changed 'good' to 'GOOD' to emphasize the word and demonstrate ALL CAPS for emphasis within a sentence.\"}, {'type': 'sponge', 'modified_last_turn': 'Olive oil.  If you like nuts, they are a good source of protein too.  Just add some cAsHeWs or walnuts!', 'rationale': \"Changed 'cashews' to 'cAsHeWs' to mimic the SpongeBob meme case, which is used to convey a mocking or sarcastic tone.\"}]}\n",
      "82 {'modifications': [{'type': 'lower', 'modified_last_turn': \"yes,  it just makes me sick to my stomach. you think you know someone but the whole time they are stealing you blind. i don't get some people\", 'rationale': \"Changed the first letter of the sentences and proper nouns to lower case to demonstrate the 'lower' capitalization change.\"}, {'type': 'upper', 'modified_last_turn': \"Yes,  It just makes me sick to my stomach. You think you know someone but the whole time they are stealing you blind. I don't get some people\", 'rationale': \"Changed the first letter of the second sentence to upper case to demonstrate the 'upper' capitalization change.\"}, {'type': 'all_caps', 'modified_last_turn': \"Yes,  it just makes me sick to my stomach. You think you KNOW someone but the whole time they are stealing you blind. I don't get some people\", 'rationale': \"Changed the word 'know' to ALL CAPS to emphasize it and demonstrate the 'all_caps' capitalization change.\"}, {'type': 'sponge', 'modified_last_turn': \"Yes,  it just makes me sick to my stomach. You think you know someone but the whole time they are stealing you blind. I don't get SoMe pEoPlE\", 'rationale': \"Changed the phrase 'some people' to SpOnGeBoBcASe to demonstrate the 'sponge' capitalization change.\"}]}\n",
      "83 {'modifications': [{'type': 'lower', 'modified_last_turn': 'it has really helped to have their support. i am so grateful for them', 'rationale': \"Changed the first letter of each sentence from upper case to lower case to demonstrate the 'lower' capitalization modification.\"}, {'type': 'upper', 'modified_last_turn': 'It Has really helped to have their support. I Am so grateful for them', 'rationale': \"Changed the first letter of 'has' and 'am' from lower case to upper case to demonstrate the 'upper' capitalization modification.\"}, {'type': 'all_caps', 'modified_last_turn': 'It has really helped to have their SUPPORT. I am so GRATEFUL for them', 'rationale': \"Changed the words 'support' and 'grateful' to ALL CAPS to emphasize them and demonstrate the 'all_caps' capitalization modification.\"}, {'type': 'sponge', 'modified_last_turn': 'It has really helped to have their sUpPoRt. I am so grateful for tHeM', 'rationale': \"Changed the words 'support' and 'them' to SpOnGeBoBcASe to demonstrate the 'sponge' capitalization modification.\"}]}\n",
      "84 {'modifications': [{'type': 'lower', 'modified_last_turn': 'sure it is! why are you hiding from madonna?', 'rationale': 'The text already has all words starting with lower case, so no modification is needed.'}, {'type': 'upper', 'modified_last_turn': 'Sure it is! Why are you hiding from madonna?', 'rationale': 'The first letter of the first word in each sentence has been capitalized to follow standard English sentence capitalization.'}, {'type': 'all_caps', 'modified_last_turn': 'SURE it is! WHY are you hiding from MADONNA?', 'rationale': \"Selected words ('sure', 'why', 'madonna') have been changed to ALL CAPS to emphasize them, as if they were being shouted or to convey strong emotion.\"}, {'type': 'sponge', 'modified_last_turn': 'sure it is! why are you hiding from mAdOnNa?', 'rationale': \"The word 'madonna' has been modified to SpOnGeBoBcASe to mimic the meme format that alternates capital and lowercase letters, often used to convey a mocking or playful tone.\"}]}\n",
      "85 {'modifications': [{'type': 'lower', 'modified_last_turn': 'do you have any pets', 'rationale': 'The original text is already in lower case, so no modification is needed.'}, {'type': 'upper', 'modified_last_turn': 'Do you have any pets', 'rationale': 'The first letter of the sentence is capitalized to follow standard English sentence capitalization.'}, {'type': 'all_caps', 'modified_last_turn': 'DO YOU HAVE ANY PETS', 'rationale': 'The entire sentence is changed to all caps to emphasize the question.'}, {'type': 'sponge', 'modified_last_turn': 'dO yOu hAvE aNy pEtS', 'rationale': 'The sentence is modified to SpOnGeBoBcASe for a humorous effect, alternating between lower and upper case letters.'}]}\n",
      "86 {'modifications': [{'type': 'lower', 'modified_last_turn': \"we are. they've helped a lot during my life, but this might have been the biggest one.\", 'rationale': \"Changed the first letter of the first word 'We' to lowercase to demonstrate the effect of lowercasing a word that typically starts with an uppercase letter in a sentence.\"}, {'type': 'upper', 'modified_last_turn': \"We are. They've helped a lot during my life, But this might have been the biggest one.\", 'rationale': \"Changed the first letter of the conjunction 'but' to uppercase to show the effect of capitalizing a word that typically starts with a lowercase letter in a sentence.\"}, {'type': 'all_caps', 'modified_last_turn': \"We are. They've helped a lot during my LIFE, but this might have been the biggest one.\", 'rationale': \"Changed the word 'life' to ALL CAPS to emphasize it and to show the effect of capitalizing an entire word within a sentence.\"}, {'type': 'sponge', 'modified_last_turn': \"We are. They've helped a lot during my life, but this might have been the BiGgEsT one.\", 'rationale': \"Changed the word 'biggest' to SpOnGeBoBcASe to demonstrate the effect of altering the capitalization of a word in a non-standard way for emphasis or stylistic effect.\"}]}\n",
      "87 {'modifications': [{'type': 'lower', 'modified_last_turn': 'yes and because of there excessive hunting , it  contributed to the endangerment, extirpation and extinction of many animals. we need to stop that from  happening', 'rationale': \"Changed the first word 'Yes' to 'yes' to demonstrate the effect of lower case capitalization.\"}, {'type': 'upper', 'modified_last_turn': 'Yes And because of there excessive hunting , it  contributed to the endangerment, extirpation and extinction of many animals. We need to stop that from  happening', 'rationale': \"Changed the word 'and' to 'And' to demonstrate the effect of upper case capitalization at the beginning of a word.\"}, {'type': 'all_caps', 'modified_last_turn': 'Yes and because of there excessive hunting , it  contributed to the ENDANGERMENT, extirpation and extinction of many animals. We need to stop that from  happening', 'rationale': \"Changed the word 'endangerment' to 'ENDANGERMENT' to demonstrate the effect of ALL CAPS for emphasis.\"}, {'type': 'sponge', 'modified_last_turn': 'Yes and because of there excessive hunting , it  contributed to the endangerment, extirpation and eXtInCtIoN of many animals. We need to stop that from  happening', 'rationale': \"Changed the word 'extinction' to 'eXtInCtIoN' to demonstrate the effect of SpOnGeBoBcASe as a form of mocking or playful emphasis.\"}]}\n",
      "88 {'modifications': [{'type': 'lower', 'modified_last_turn': \"i also know they have another way of storing power by use of pressurized fluid that's in hydraulic hybrids. they are also coming up with newer technologies.\", 'rationale': 'Changed the first letter of the sentence and proper nouns to lower case to demonstrate the effect of incorrect capitalization on the understanding of sentence boundaries and proper nouns.'}, {'type': 'upper', 'modified_last_turn': \"I Also know they have another way of storing power by use of pressurized fluid that's in hydraulic hybrids. They Are also coming up with newer technologies.\", 'rationale': 'Capitalized the first letter of some words that are not at the beginning of the sentence or proper nouns to show the effect of incorrect application of capitalization within a sentence.'}, {'type': 'all_caps', 'modified_last_turn': \"I also know they have another way of storing power by use of pressurized fluid that's in HYDRAULIC HYBRIDS. They are also coming up with NEWER TECHNOLOGIES.\", 'rationale': 'Changed specific nouns and phrases to all caps to emphasize certain words and to show how this can affect the tone and perceived importance of parts of the text.'}, {'type': 'sponge', 'modified_last_turn': \"I also know they have another way of storing power by use of pressurized fluid that's in hydraulic hybrids. They are also coming up with nEwEr tEcHnOlOgIeS.\", 'rationale': \"Altered the case of letters in the phrase 'newer technologies' to SpongeBob case to demonstrate how altering the case can convey a mocking or playful tone.\"}]}\n",
      "89 {'modifications': [{'type': 'lower', 'modified_last_turn': 'is it programming?', 'rationale': \"Changed the first letter of the sentence from upper case 'Is' to lower case 'is' to demonstrate the effect of lower case capitalization.\"}, {'type': 'upper', 'modified_last_turn': 'Is It programming?', 'rationale': \"Changed the 'it' in the middle of the sentence to 'It' with an upper case 'I' to demonstrate the effect of upper case capitalization within a sentence.\"}, {'type': 'all_caps', 'modified_last_turn': 'IS IT PROGRAMMING?', 'rationale': 'Changed the entire sentence to all caps to demonstrate the effect of ALL CAPS for emphasis or shouting.'}, {'type': 'sponge', 'modified_last_turn': 'Is iT pRoGrAmMiNg?', 'rationale': 'Changed the sentence to SpOnGeBoBcASe to demonstrate the effect of alternating capitalization, often used to convey a mocking or playful tone.'}]}\n",
      "90 {'modifications': [{'type': 'lower', 'modified_last_turn': 'i feel so lucky to have her as a sister-in-law and a friend.  she is always there to offer a supporting ear and encouraging word.', 'rationale': \"Changed the first letter of the sentences and the pronoun 'I' from upper case to lower case to demonstrate the 'lower' capitalization change.\"}, {'type': 'upper', 'modified_last_turn': 'I Feel so lucky to have her as a sister-in-law and a friend.  She Is always there to offer a supporting ear and encouraging word.', 'rationale': \"Changed the first letter of the second sentence and the first letter of 'feel' to upper case to demonstrate the 'upper' capitalization change.\"}, {'type': 'all_caps', 'modified_last_turn': 'I feel so LUCKY to have her as a sister-in-law and a friend.  She is always there to offer a supporting ear and encouraging word.', 'rationale': \"Changed the word 'lucky' to ALL CAPS to emphasize it and to demonstrate the 'all_caps' capitalization change.\"}, {'type': 'sponge', 'modified_last_turn': 'I feel so lucky to have her as a sister-in-law and a friend.  She is always there to offer a supporting ear and eNcOuRaGiNg word.', 'rationale': \"Changed the word 'encouraging' to SpOnGeBoBcASe to demonstrate the 'sponge' capitalization change.\"}]}\n",
      "91 {'modifications': [{'type': 'lower', 'modified_last_turn': \"i wasn't aware at first but nickelback is not american there originating from canada\", 'rationale': \"Changed the first letter of the sentence and the proper noun 'Nickelback' to lowercase to demonstrate the 'lower' capitalization change.\"}, {'type': 'upper', 'modified_last_turn': \"I wasn't aware at first but nickelback is not American there originating from Canada\", 'rationale': \"Changed the adjectives 'American' and 'Canada' to start with uppercase to demonstrate the 'upper' capitalization change.\"}, {'type': 'all_caps', 'modified_last_turn': \"I wasn't aware at first but NICKELBACK is not American there originating from Canada\", 'rationale': \"Changed the proper noun 'Nickelback' to ALL CAPS to emphasize the band's name and demonstrate the 'all_caps' capitalization change.\"}, {'type': 'sponge', 'modified_last_turn': \"I wasn't aware at first but Nickelback is not American there originating from cAnAdA\", 'rationale': \"Changed the word 'Canada' to SpOnGeBoBcASe to demonstrate the 'sponge' capitalization change, alternating the capitalization of each letter.\"}]}\n",
      "92 {'modifications': [{'type': 'lower', 'modified_last_turn': 'good', 'rationale': \"The word 'good' is already in lowercase, so no modification is needed.\"}, {'type': 'upper', 'modified_last_turn': 'Good', 'rationale': \"The first letter of the word 'good' is changed to uppercase to demonstrate capitalization at the beginning of a sentence.\"}, {'type': 'all_caps', 'modified_last_turn': 'GOOD', 'rationale': \"The word 'good' is changed to all caps to demonstrate emphasis or shouting.\"}, {'type': 'sponge', 'modified_last_turn': 'gOoD', 'rationale': \"The word 'good' is modified to 'SpOnGeBoBcASe' to demonstrate a mocking or playful tone.\"}]}\n",
      "93 {'modifications': [{'type': 'lower', 'modified_last_turn': 'also,they million records worldwide, including 45 million in the united states.', 'rationale': \"The word 'Also' at the beginning of the sentence has been changed from 'Also' to 'also' to demonstrate the effect of changing a word with upper case to lower case.\"}, {'type': 'upper', 'modified_last_turn': 'Also,They million records worldwide, including 45 million in the United States.', 'rationale': \"The word 'they' after the comma has been changed from 'they' to 'They' to demonstrate the effect of changing a word starting with lower case to upper case.\"}, {'type': 'all_caps', 'modified_last_turn': 'Also,they million records WORLDWIDE, including 45 million in the United States.', 'rationale': \"The word 'worldwide' has been changed to 'WORLDWIDE' to demonstrate the effect of changing a word to ALL CAPS.\"}, {'type': 'sponge', 'modified_last_turn': 'Also,they million records worldwide, including 45 MiLlIoN in the United States.', 'rationale': \"The phrase '45 million' has been changed to '45 MiLlIoN' to demonstrate the effect of changing a word to SpOnGeBoBcASe.\"}]}\n",
      "94 {'modifications': [{'type': 'lower', 'modified_last_turn': 'not yet,  but i was his bedside nurse all day. anything he needed i was sure to get.', 'rationale': \"Changed the first letter of the sentence and the pronoun 'I' from upper case to lower case to demonstrate the 'lower' capitalization change.\"}, {'type': 'upper', 'modified_last_turn': 'Not Yet,  but I was his bedside nurse all day. Anything he needed I was sure to get.', 'rationale': \"Changed the first letter of the words 'yet' and 'anything' from lower case to upper case to demonstrate the 'upper' capitalization change.\"}, {'type': 'all_caps', 'modified_last_turn': 'Not yet,  but I was his bedside NURSE all day. Anything he needed I was sure to get.', 'rationale': \"Changed the word 'nurse' to ALL CAPS to emphasize the word and demonstrate the 'all_caps' capitalization change.\"}, {'type': 'sponge', 'modified_last_turn': 'Not yet,  but I was his bedside nurse all day. Anything he needed I was sure to GeT.', 'rationale': \"Changed the word 'get' to SpOnGeBoBcASe to demonstrate the 'sponge' capitalization change, alternating the capitalization of each letter.\"}]}\n",
      "95 {'modifications': [{'type': 'lower', 'modified_last_turn': \"oh that's cool, that would have been fun to see. elvis grew up in memphis from the age of 13, have you been there?\", 'rationale': \"The first letter of the first word 'Oh' has been changed to lowercase to demonstrate the effect of not capitalizing the beginning of a sentence.\"}, {'type': 'upper', 'modified_last_turn': \"Oh That's cool, that would have been fun to see. Elvis grew up in Memphis from the age of 13, have you been there?\", 'rationale': \"The word 'That's' has been modified to start with an uppercase 'T' to show the effect of inappropriate capitalization within a sentence.\"}, {'type': 'all_caps', 'modified_last_turn': \"Oh that's COOL, that would have been fun to see. Elvis grew up in Memphis from the age of 13, have you been there?\", 'rationale': \"The word 'cool' has been changed to 'COOL' in all caps to emphasize the word and to show how all caps can be used to convey heightened emotion or shouting.\"}, {'type': 'sponge', 'modified_last_turn': \"Oh that's cool, that would have been fun to see. Elvis grew up in Memphis from the age of 13, have you been ThErE?\", 'rationale': \"The word 'there' has been modified to 'ThErE' in SpOnGeBoBcASe to demonstrate the effect of alternating capitalization, often used to convey a mocking or playful tone.\"}]}\n",
      "96 {'modifications': [{'type': 'lower', 'modified_last_turn': 'i work on construction right now.', 'rationale': 'The original text is already in lowercase, so no changes are needed.'}, {'type': 'upper', 'modified_last_turn': 'I work on construction right now.', 'rationale': 'The first letter of the sentence has been capitalized to demonstrate the change from lower case to upper case.'}, {'type': 'all_caps', 'modified_last_turn': 'I WORK ON CONSTRUCTION RIGHT NOW.', 'rationale': 'The entire sentence has been changed to ALL CAPS to emphasize the text.'}, {'type': 'sponge', 'modified_last_turn': 'i wOrK oN cOnStRuCtIoN rIgHt nOw.', 'rationale': 'The sentence has been modified to SpOnGeBoBcASe to demonstrate the change in capitalization pattern.'}]}\n",
      "97 {'modifications': [{'type': 'lower', 'modified_last_turn': 'i did,  i played a few sessions of age of empires and i plan to play some command and conquer red alert tonight before bed,  still great games.', 'rationale': \"Changed the first letter of the first word 'I' to lowercase to demonstrate the 'lower' capitalization change.\"}, {'type': 'upper', 'modified_last_turn': 'I did,  I played a few sessions of age of empires and I plan to play some command and conquer red alert tonight before bed,  still great games.', 'rationale': \"Changed the first letter of the words 'i' after commas to uppercase to demonstrate the 'upper' capitalization change.\"}, {'type': 'all_caps', 'modified_last_turn': 'I did,  I played a few sessions of AGE OF EMPIRES and I plan to play some COMMAND AND CONQUER RED ALERT tonight before bed,  still great games.', 'rationale': \"Changed the names of the games 'age of empires' and 'command and conquer red alert' to ALL CAPS to emphasize them and demonstrate the 'all_caps' capitalization change.\"}, {'type': 'sponge', 'modified_last_turn': 'I did,  i played a few sessions of age of empires and i plan to play some command and conquer red alert tonight before bed,  still GrEaT gAmEs.', 'rationale': \"Changed the last two words 'great games' to SpOnGeBoBcASe to demonstrate the 'sponge' capitalization change.\"}]}\n",
      "98 {'modifications': [{'type': 'lower', 'modified_last_turn': \"wow that's awesome, kudos to her!\", 'rationale': \"Changed the first word 'Wow' to 'wow' to demonstrate the effect of lower case capitalization.\"}, {'type': 'upper', 'modified_last_turn': \"Wow That's awesome, kudos to her!\", 'rationale': \"Changed the second word 'that's' to 'That's' to demonstrate the effect of upper case capitalization at the beginning of the word.\"}, {'type': 'all_caps', 'modified_last_turn': \"Wow that's AWESOME, kudos to her!\", 'rationale': \"Changed the word 'awesome' to 'AWESOME' to demonstrate the effect of ALL CAPS for emphasis.\"}, {'type': 'sponge', 'modified_last_turn': \"Wow that's awesome, kUdOs to her!\", 'rationale': \"Changed the word 'kudos' to 'kUdOs' to demonstrate the effect of SpOnGeBoBcASe as a form of mocking or playful emphasis.\"}]}\n",
      "99 {'modifications': [{'type': 'lower', 'modified_last_turn': 'some people are like that. did you tell your husband?', 'rationale': \"Changed the first letter of each sentence and the proper noun 'Some' and 'Did' to lowercase to demonstrate the effect of improper sentence capitalization.\"}, {'type': 'upper', 'modified_last_turn': 'Some people are Like that. Did you tell your Husband?', 'rationale': \"Changed the words 'like' and 'husband' to start with uppercase letters to show incorrect capitalization within a sentence.\"}, {'type': 'all_caps', 'modified_last_turn': 'Some people are like that. Did you tell your HUSBAND?', 'rationale': \"Changed the word 'husband' to ALL CAPS to emphasize the word and to show how capitalization can be used for emphasis in text.\"}, {'type': 'sponge', 'modified_last_turn': 'Some people are like that. Did you tell your hUsBaNd?', 'rationale': \"Changed the word 'husband' to SpOnGeBoBcASe to mimic the meme format that conveys a mocking or sarcastic tone.\"}]}\n"
     ]
    },
    {
     "name": "stderr",
     "output_type": "stream",
     "text": [
      "\n"
     ]
    }
   ],
   "source": [
    "modified_samples = request(no_contra_random_samples, capitalization_instruction)\n",
    "with open('decode_no/capitalization.jsonl', 'w') as f:\n",
    "    for  i,item in enumerate(modified_samples):\n",
    "        object = json.loads(item)\n",
    "        print(i,object)\n",
    "        line = json.dumps(object) + \"\\n\"\n",
    "        f.write(line)\n",
    "f.close()"
   ]
  },
  {
   "cell_type": "markdown",
   "id": "478c4835",
   "metadata": {},
   "source": [
    "## Punctuation"
   ]
  },
  {
   "cell_type": "code",
   "execution_count": 119,
   "id": "569549b1",
   "metadata": {},
   "outputs": [],
   "source": [
    "punctuation_instruction = '''Make change to the punctuation of the text:\n",
    "\n",
    "1. \"addition\": add a random comma, semi-colon etc \n",
    "\n",
    "2. \"replacement\": change the full stop to the exclamation or question mark \n",
    "\n",
    "3. \"glueing\": remove white space between two words (glue them together). \n",
    "\n",
    "Reply with the modified text for each type of change.'''"
   ]
  },
  {
   "cell_type": "code",
   "execution_count": 120,
   "id": "69f2730d",
   "metadata": {},
   "outputs": [
    {
     "name": "stderr",
     "output_type": "stream",
     "text": [
      "100%|██████████| 100/100 [14:41<00:00,  8.82s/it]\n"
     ]
    }
   ],
   "source": [
    "modified_samples = request(no_contra_random_samples, punctuation_instruction)\n",
    "with open('decode_no/punctuation.jsonl', 'w') as f:\n",
    "    for item in modified_samples:\n",
    "        object = json.loads(item)\n",
    "        line = json.dumps(object) + \"\\n\"\n",
    "        f.write(line)\n",
    "f.close()"
   ]
  },
  {
   "cell_type": "markdown",
   "id": "48942d14",
   "metadata": {},
   "source": [
    "## Morphology"
   ]
  },
  {
   "cell_type": "markdown",
   "id": "9f6ce5c4",
   "metadata": {},
   "source": [
    "## Derivation"
   ]
  },
  {
   "cell_type": "code",
   "execution_count": 46,
   "id": "ab0f8894",
   "metadata": {},
   "outputs": [],
   "source": [
    "derivation_replacement_instruction ='''Find a derived word (a word with a suffix or a prefix) in the text below and replace it with a non-derived word (word without any prefixes or suffixes).\n",
    "\n",
    "\n",
    "Example: a sometimes tedious film -> a sometimes dull film (tedious is derived from tedium using a -ios suffix)\n",
    "\n",
    "Example: a very good film -> Skip\n",
    "\n",
    "type: \"derivation\"'''"
   ]
  },
  {
   "cell_type": "code",
   "execution_count": 47,
   "id": "f68d40ef",
   "metadata": {},
   "outputs": [
    {
     "name": "stderr",
     "output_type": "stream",
     "text": [
      "100%|██████████| 100/100 [06:43<00:00,  4.03s/it]\n"
     ]
    }
   ],
   "source": [
    "modified_samples = request(no_contra_random_samples, derivation_replacement_instruction)\n",
    "with open('decode_no/derivation.jsonl', 'w') as f:\n",
    "    for item in modified_samples:\n",
    "        object = json.loads(item)\n",
    "        line = json.dumps(object) + \"\\n\"\n",
    "        f.write(line)\n",
    "f.close()"
   ]
  },
  {
   "cell_type": "code",
   "execution_count": 48,
   "id": "ba8e5103",
   "metadata": {},
   "outputs": [],
   "source": [
    "antiderivation_replacement_instruction ='''Find any non-derived word (a word without suffixes or prefixes) in the text below and change it into a derived word (word with a prefix or a suffix). Do not add grammatical suffixes (-s, -ed, -er, -est).\n",
    "\n",
    "Example: a sometimes dull film ->  a sometimes tedious film (tedious is derived from tedium using a -ios suffix)\n",
    "\n",
    "Example: an very hard task -> an increasingly hard task (increasingly is derived from increasing using a -ly suffix)\n",
    "\n",
    "Example: amazing accomplishment -> Skip (both words are already derived)\n",
    "\n",
    "type: \"anti_derivation\"'''"
   ]
  },
  {
   "cell_type": "code",
   "execution_count": 49,
   "id": "89884793",
   "metadata": {},
   "outputs": [
    {
     "name": "stderr",
     "output_type": "stream",
     "text": [
      "100%|██████████| 100/100 [06:34<00:00,  3.94s/it]\n"
     ]
    }
   ],
   "source": [
    "modified_samples = request(no_contra_random_samples, antiderivation_replacement_instruction)\n",
    "with open('decode_no/anti_derivation.jsonl', 'w') as f:\n",
    "    for item in modified_samples:\n",
    "        object = json.loads(item)\n",
    "        line = json.dumps(object) + \"\\n\"\n",
    "        f.write(line)\n",
    "f.close()"
   ]
  },
  {
   "cell_type": "markdown",
   "id": "b475b721",
   "metadata": {},
   "source": [
    "## Compound words"
   ]
  },
  {
   "cell_type": "code",
   "execution_count": 50,
   "id": "5296ad5a",
   "metadata": {},
   "outputs": [],
   "source": [
    "compound_word_instruction ='''Find any non-compond (single-root) word in the text below and change it into a compound word (word with several roots).\n",
    "\n",
    "type: \"compound_word\"\n",
    "\n",
    "Example: \n",
    "\"a sequence of ridiculous shooting scenes\" -> \"a sequence of ridiculous shoot-'em-up scenes\"\n",
    "Example: dull acting ->  lacklustre acting'''"
   ]
  },
  {
   "cell_type": "code",
   "execution_count": 51,
   "id": "6f0bdcf9",
   "metadata": {},
   "outputs": [
    {
     "name": "stderr",
     "output_type": "stream",
     "text": [
      "100%|██████████| 100/100 [06:28<00:00,  3.89s/it]\n"
     ]
    }
   ],
   "source": [
    "modified_samples = request(no_contra_random_samples, compound_word_instruction)\n",
    "with open('decode_no/compound_word.jsonl', 'w') as f:\n",
    "    for item in modified_samples:\n",
    "        object = json.loads(item)\n",
    "        line = json.dumps(object) + \"\\n\"\n",
    "        f.write(line)\n",
    "f.close()"
   ]
  },
  {
   "cell_type": "markdown",
   "id": "d857d9ce",
   "metadata": {},
   "source": [
    "## Irregular verbs"
   ]
  },
  {
   "cell_type": "code",
   "execution_count": 52,
   "id": "998f30f3",
   "metadata": {},
   "outputs": [],
   "source": [
    "regular_verb_instruction ='''Find a regular verb in the past tense and replace it with an irregular verb.\n",
    "\n",
    "Example: he received a prize -> he got a prize\n",
    "\n",
    "Example: amazing stuff  ->  Skip'''"
   ]
  },
  {
   "cell_type": "code",
   "execution_count": 53,
   "id": "82f92f9a",
   "metadata": {},
   "outputs": [
    {
     "name": "stderr",
     "output_type": "stream",
     "text": [
      "100%|██████████| 100/100 [07:00<00:00,  4.21s/it]\n"
     ]
    }
   ],
   "source": [
    "modified_samples = request(no_contra_random_samples, regular_verb_instruction)\n",
    "with open('decode_no/irregular_verb.jsonl', 'w') as f:\n",
    "    for item in modified_samples:\n",
    "        object = json.loads(item)\n",
    "        line = json.dumps(object) + \"\\n\"\n",
    "        f.write(line)\n",
    "f.close()"
   ]
  },
  {
   "cell_type": "markdown",
   "id": "947b4f5e",
   "metadata": {},
   "source": [
    "## Syntax"
   ]
  },
  {
   "cell_type": "markdown",
   "id": "0cb75419",
   "metadata": {},
   "source": [
    "### Active to passive"
   ]
  },
  {
   "cell_type": "code",
   "execution_count": 54,
   "id": "13bfacd9",
   "metadata": {},
   "outputs": [],
   "source": [
    "passive_voice_instruction = '''Rewrite the text in passive voice.\n",
    "\n",
    "type: \"passive_voice\"'''"
   ]
  },
  {
   "cell_type": "code",
   "execution_count": 55,
   "id": "0d4e8003",
   "metadata": {},
   "outputs": [
    {
     "name": "stderr",
     "output_type": "stream",
     "text": [
      "100%|██████████| 100/100 [07:51<00:00,  4.72s/it]\n"
     ]
    }
   ],
   "source": [
    "modified_samples = request(no_contra_random_samples, passive_voice_instruction)\n",
    "with open('decode_no/active_to_passive.jsonl', 'w') as f:\n",
    "    for item in modified_samples:\n",
    "        object = json.loads(item)\n",
    "        line = json.dumps(object) + \"\\n\"\n",
    "        f.write(line)\n",
    "f.close()"
   ]
  },
  {
   "cell_type": "markdown",
   "id": "e4714df0",
   "metadata": {},
   "source": [
    "### Coordinating conjunctions"
   ]
  },
  {
   "cell_type": "code",
   "execution_count": 56,
   "id": "6b23f504",
   "metadata": {},
   "outputs": [],
   "source": [
    "coordinating_conjunction_instruction = '''Change a noun or verb in this sentence into multiple nouns or verbs combined with coordinating conjunction.\n",
    "\n",
    "type: \"coordinating_conjunction\"'''"
   ]
  },
  {
   "cell_type": "code",
   "execution_count": 57,
   "id": "68247945",
   "metadata": {},
   "outputs": [
    {
     "name": "stderr",
     "output_type": "stream",
     "text": [
      "100%|██████████| 100/100 [07:09<00:00,  4.30s/it]\n"
     ]
    }
   ],
   "source": [
    "modified_samples = request(no_contra_random_samples, coordinating_conjunction_instruction)\n",
    "with open('decode_no/coordinating_conjunction.jsonl', 'w') as f:\n",
    "    for item in modified_samples:\n",
    "        object = json.loads(item)\n",
    "        line = json.dumps(object) + \"\\n\"\n",
    "        f.write(line)\n",
    "f.close()"
   ]
  },
  {
   "cell_type": "markdown",
   "id": "a70dc1ef",
   "metadata": {},
   "source": [
    "### Tense"
   ]
  },
  {
   "cell_type": "code",
   "execution_count": 58,
   "id": "be22775d",
   "metadata": {},
   "outputs": [],
   "source": [
    "tense_instruction = '''Change the tense of verbs in the sentence. Keep the tenses consistent across the passage.'''"
   ]
  },
  {
   "cell_type": "code",
   "execution_count": 59,
   "id": "d8896ace",
   "metadata": {},
   "outputs": [
    {
     "name": "stderr",
     "output_type": "stream",
     "text": [
      "100%|██████████| 100/100 [06:59<00:00,  4.19s/it]\n"
     ]
    }
   ],
   "source": [
    "modified_samples = request(no_contra_random_samples, tense_instruction)\n",
    "with open('decode_no/tense.jsonl', 'w') as f:\n",
    "    for item in modified_samples:\n",
    "        object = json.loads(item)\n",
    "        line = json.dumps(object) + \"\\n\"\n",
    "        f.write(line)\n",
    "f.close()"
   ]
  },
  {
   "cell_type": "markdown",
   "id": "3c4abea1",
   "metadata": {},
   "source": [
    "### Grammatical role"
   ]
  },
  {
   "cell_type": "code",
   "execution_count": 60,
   "id": "0c576a06",
   "metadata": {},
   "outputs": [],
   "source": [
    "grammatical_role_instruction = '''Modify the position of grammatical role in the sentence.\n",
    "\n",
    "1. \"subject_object\": swap the subject with object\n",
    "Example: \n",
    "Miranda asked him a question. --> He asked Miranda a question.\n",
    "\n",
    "2. \"entities\": swap the position of other entities\n",
    "Example:\n",
    "Samantha, the older Rico's friend, will be appointed as Chair of Student Body replacing Marie. --> Marie, the older Samantha's friend, will be appointed as Chair of Student Body replacing Rico.'''"
   ]
  },
  {
   "cell_type": "code",
   "execution_count": 61,
   "id": "b043f484",
   "metadata": {},
   "outputs": [
    {
     "name": "stderr",
     "output_type": "stream",
     "text": [
      "100%|██████████| 100/100 [09:26<00:00,  5.66s/it]\n"
     ]
    }
   ],
   "source": [
    "modified_samples = request(no_contra_random_samples, grammatical_role_instruction)\n",
    "with open('decode_no/grammatical_role.jsonl', 'w') as f:\n",
    "    for item in modified_samples:\n",
    "        object = json.loads(item)\n",
    "        line = json.dumps(object) + \"\\n\"\n",
    "        f.write(line)\n",
    "f.close()"
   ]
  },
  {
   "cell_type": "markdown",
   "id": "021aab15",
   "metadata": {},
   "source": [
    "### Clause structure"
   ]
  },
  {
   "cell_type": "code",
   "execution_count": 62,
   "id": "be240ed4",
   "metadata": {},
   "outputs": [],
   "source": [
    "sentence_structure_instruction = '''Change the position of main and subordinate clause. If the input is simple sentence, skip.\n",
    "type: \"clause_structure\"'''"
   ]
  },
  {
   "cell_type": "code",
   "execution_count": 63,
   "id": "4e2bfe5c",
   "metadata": {},
   "outputs": [
    {
     "name": "stderr",
     "output_type": "stream",
     "text": [
      "100%|██████████| 100/100 [06:22<00:00,  3.82s/it]\n"
     ]
    }
   ],
   "source": [
    "modified_samples = request(no_contra_random_samples, sentence_structure_instruction)\n",
    "with open('decode_no/clause_structure.jsonl', 'w') as f:\n",
    "    for item in modified_samples:\n",
    "        object = json.loads(item)\n",
    "        line = json.dumps(object) + \"\\n\"\n",
    "        f.write(line)\n",
    "f.close()"
   ]
  },
  {
   "cell_type": "markdown",
   "id": "f344258b",
   "metadata": {},
   "source": [
    "## Semantics and lexicon"
   ]
  },
  {
   "cell_type": "markdown",
   "id": "ce1a0e89",
   "metadata": {},
   "source": [
    "## Concept replacement"
   ]
  },
  {
   "cell_type": "code",
   "execution_count": 64,
   "id": "bc14a27b",
   "metadata": {},
   "outputs": [],
   "source": [
    "concept_replacement_instruction ='''Replace a concept with one that is similar but fail the quality.\n",
    "\n",
    "Replacement types include:\n",
    "\n",
    "1. \"synonym\": synonyms\n",
    "Example: embodies the character with an effortlessly regal charisma . -> embodies the character with an effortlessly regal charm. (charm and charisma are synonyms)\n",
    "\n",
    "2. \"hierarchy\": hyper/hyponyms\n",
    "Example: The title not only describes its main characters, but the lazy people behind the camera as well. -> The title not only describes its main characters, but the lazy people behind the equipment as well. (equipment is a hypernym of camera)\n",
    "\n",
    "3. \"nonce\": the following nonce word: {nonce}\n",
    "Example: Has a lot of the virtues of eastwood at his best. - Has a lot of the virtues of bluth at his best. (bluth is a nonce word)\n",
    "\n",
    "4. \"idiom\": metaphors/idioms\n",
    "Example: This is a train wreck of an action film -> This is a disastrous action film (train wreck is a metaphor for disastrous)'''"
   ]
  },
  {
   "cell_type": "code",
   "execution_count": 65,
   "id": "e702d833",
   "metadata": {},
   "outputs": [
    {
     "name": "stderr",
     "output_type": "stream",
     "text": [
      "100%|██████████| 100/100 [18:26<00:00, 11.06s/it]\n"
     ]
    }
   ],
   "source": [
    "modified_samples = request_concepts(no_contra_random_samples, concept_replacement_instruction)\n",
    "with open('decode_no/concept_replacement.jsonl', 'w') as f:\n",
    "    for item in modified_samples:\n",
    "        object = json.loads(item)\n",
    "        line = json.dumps(object) + \"\\n\"\n",
    "        f.write(line)\n",
    "f.close()"
   ]
  },
  {
   "cell_type": "markdown",
   "id": "6f1d03ed",
   "metadata": {},
   "source": [
    "## Adjectives/adverbs change"
   ]
  },
  {
   "cell_type": "code",
   "execution_count": 66,
   "id": "724d6add",
   "metadata": {},
   "outputs": [],
   "source": [
    "adjective_adverb_remove_instruction = '''Remove an adjective or adverb from the sentence.\n",
    "type: \"adjective_adverb_remove\"'''"
   ]
  },
  {
   "cell_type": "code",
   "execution_count": 67,
   "id": "f915dbb7",
   "metadata": {},
   "outputs": [
    {
     "name": "stderr",
     "output_type": "stream",
     "text": [
      "100%|██████████| 100/100 [06:44<00:00,  4.04s/it]\n"
     ]
    }
   ],
   "source": [
    "modified_samples = request(no_contra_random_samples, adjective_adverb_remove_instruction)\n",
    "with open('decode_no/adjective_adverbs_remove.jsonl', 'w') as f:\n",
    "    for item in modified_samples:\n",
    "        object = json.loads(item)\n",
    "        line = json.dumps(object) + \"\\n\"\n",
    "        f.write(line)\n",
    "f.close()"
   ]
  },
  {
   "cell_type": "code",
   "execution_count": 68,
   "id": "ec671921",
   "metadata": {},
   "outputs": [],
   "source": [
    "adjective_adverb_add_instruction = '''Add an adjective or an adverb to the sentence.\n",
    "\n",
    "type: \"adjective_adverb_add\"'''"
   ]
  },
  {
   "cell_type": "code",
   "execution_count": 69,
   "id": "1e2d31a4",
   "metadata": {},
   "outputs": [
    {
     "name": "stderr",
     "output_type": "stream",
     "text": [
      "100%|██████████| 100/100 [07:45<00:00,  4.66s/it]\n"
     ]
    }
   ],
   "source": [
    "modified_samples = request(no_contra_random_samples, adjective_adverb_add_instruction)\n",
    "with open('decode_no/adjective_adverbs_add.jsonl', 'w') as f:\n",
    "    for item in modified_samples:\n",
    "        object = json.loads(item)\n",
    "        line = json.dumps(object) + \"\\n\"\n",
    "        f.write(line)\n",
    "f.close()"
   ]
  },
  {
   "cell_type": "markdown",
   "id": "be1abb26",
   "metadata": {},
   "source": [
    "## Pragmatics and discourse"
   ]
  },
  {
   "cell_type": "markdown",
   "id": "8702e31f",
   "metadata": {},
   "source": [
    "### Negation"
   ]
  },
  {
   "cell_type": "code",
   "execution_count": 70,
   "id": "4d681ca9",
   "metadata": {},
   "outputs": [],
   "source": [
    "negation_instruction = '''Negate the text by making minimal modifications to introduce different types of negation. The types of negation include:\n",
    "\n",
    "1. \"verbal\": verbal negation: when the negation is grammatically associated with the verb, the head of the clause.\n",
    "Examples:\n",
    "He trusts them. => He does not trust them.\n",
    "\n",
    "2. \"absolute\": Absolute negator: no (including compounds nobody, nothing, etc., and the independent form none), neither, nor, never.\n",
    "Example:\n",
    "He trusts them. => He trusts noone.\n",
    "\n",
    "3. \"approximate\": Approximate negators: few, little; barely, hardly, scarcely; rarely, seldom.\n",
    "Example:\n",
    "He trusts people. => He rarely trusts people.\n",
    "\n",
    "4. \"affixal\": Affixal negators: un-, in-, non-, -less, etc. Do not change the root of the word you add the affix to.\n",
    "Example:\n",
    "He is healthy => He is unhealthy.\n",
    "\n",
    "5. \"lexical\": Lexical negation: when the negation is added by substituting the main predicate of the sentence with its antonym or word carrying negative meaning.\n",
    "Examples:\n",
    "The house is big. => The house is small.\n",
    "\n",
    "6. \"unimportant\": Unimportant negation: when the negation does not affect the main clause of the text.\n",
    "Examples:\n",
    "A man is driving his car. => A shirtless man is driving his car.\n",
    "\n",
    "7. \"double\": Double negation: when there are two instances of negation that cancel each other and the meaning is affirmative.'''"
   ]
  },
  {
   "cell_type": "code",
   "execution_count": 71,
   "id": "8eb16ad2",
   "metadata": {},
   "outputs": [
    {
     "name": "stderr",
     "output_type": "stream",
     "text": [
      "100%|██████████| 100/100 [35:06<00:00, 21.06s/it]\n"
     ]
    }
   ],
   "source": [
    "modified_samples = request(no_contra_random_samples, negation_instruction)\n",
    "with open('decode_no/negation.jsonl', 'w') as f:\n",
    "    for item in modified_samples:\n",
    "        object = json.loads(item)\n",
    "        line = json.dumps(object) + \"\\n\"\n",
    "        f.write(line)\n",
    "f.close()"
   ]
  },
  {
   "cell_type": "code",
   "execution_count": 72,
   "id": "e87927e8",
   "metadata": {},
   "outputs": [],
   "source": [
    "antinegation_instruction = '''Check if the text contains negation, and if it does, remove it. Do not make any other modifications. If there is no negation, output Skip. \n",
    "\n",
    "type: \"remove_negation\"\n",
    "\n",
    "Examples:  \n",
    "\n",
    "Text: The house is not pretty. \n",
    "Modified text: The house is pretty.  \n",
    "\n",
    " \n",
    "Text: The story didn't leave anyone unaffected. \n",
    "Modified text: The story left everyone unaffected. \n",
    "\n",
    "\n",
    "Text: The house is pretty. \n",
    "Modified text: Skip.  ''' "
   ]
  },
  {
   "cell_type": "code",
   "execution_count": 73,
   "id": "8dba05ee",
   "metadata": {},
   "outputs": [
    {
     "name": "stderr",
     "output_type": "stream",
     "text": [
      "100%|██████████| 100/100 [04:47<00:00,  2.88s/it]\n"
     ]
    }
   ],
   "source": [
    "modified_samples = request(no_contra_random_samples, antinegation_instruction)\n",
    "with open('decode_no/remove_negation.jsonl', 'w') as f:\n",
    "    for item in modified_samples:\n",
    "        object = json.loads(item)\n",
    "        line = json.dumps(object) + \"\\n\"\n",
    "        f.write(line)\n",
    "f.close()"
   ]
  },
  {
   "cell_type": "markdown",
   "id": "6ad40063",
   "metadata": {},
   "source": [
    "## Discourse markers"
   ]
  },
  {
   "cell_type": "code",
   "execution_count": 74,
   "id": "84606d20",
   "metadata": {},
   "outputs": [],
   "source": [
    "discourse_instruction = '''Make modification to the discourse makers in the text. The types of modification include:\n",
    "\n",
    "1. \"addition\": Add discourse markers to the sentence.\n",
    "Example:\n",
    "He was hungry, he went out to eat => He was hungry, so he went out to eat.\n",
    "\n",
    "2. \"replacement\": Change the discourse marker into a different one. If there is no discourse marker, output Skip.\n",
    "Example:\n",
    "He was hungry although he had dinner => He was hungry so he had dinner. (although => so)\n",
    "\n",
    "3. \"deletion\": Delete the discourse marker. If there is no discourse marker, output Skip.\n",
    "Example:\n",
    "He was hungry so he had dinner => He was hungry, he had dinner.\n",
    "\n",
    "For each type of modification, reply with the modified sentences.'''"
   ]
  },
  {
   "cell_type": "code",
   "execution_count": 75,
   "id": "66954952",
   "metadata": {},
   "outputs": [
    {
     "name": "stderr",
     "output_type": "stream",
     "text": [
      "100%|██████████| 100/100 [14:35<00:00,  8.75s/it]\n"
     ]
    }
   ],
   "source": [
    "modified_samples = request(no_contra_random_samples, discourse_instruction)\n",
    "with open('decode_no/discourse.jsonl', 'w') as f:\n",
    "    for item in modified_samples:\n",
    "        object = json.loads(item)\n",
    "        line = json.dumps(object) + \"\\n\"\n",
    "        f.write(line)\n",
    "f.close()"
   ]
  },
  {
   "cell_type": "markdown",
   "id": "05efe2a5",
   "metadata": {},
   "source": [
    "## Sentiment"
   ]
  },
  {
   "cell_type": "code",
   "execution_count": 76,
   "id": "6f44e0d2",
   "metadata": {},
   "outputs": [],
   "source": [
    "sentiment_instruction = '''Add a word or a phrase with a positive or negative sentiment to the sentence. \n",
    "\n",
    "Example: We beat the competition -> We are happy to beat the competition.'''"
   ]
  },
  {
   "cell_type": "code",
   "execution_count": 77,
   "id": "74ede79e",
   "metadata": {},
   "outputs": [
    {
     "name": "stderr",
     "output_type": "stream",
     "text": [
      "100%|██████████| 100/100 [08:49<00:00,  5.30s/it]\n"
     ]
    }
   ],
   "source": [
    "modified_samples = request(no_contra_random_samples, sentiment_instruction)\n",
    "with open('decode_no/sentiment.jsonl', 'w') as f:\n",
    "    for item in modified_samples:\n",
    "        object = json.loads(item)\n",
    "        line = json.dumps(object) + \"\\n\"\n",
    "        f.write(line)\n",
    "f.close()"
   ]
  },
  {
   "cell_type": "markdown",
   "id": "403d2ea9",
   "metadata": {},
   "source": [
    "## Style"
   ]
  },
  {
   "cell_type": "markdown",
   "id": "4558066c",
   "metadata": {},
   "source": [
    "### Casual vs formal style"
   ]
  },
  {
   "cell_type": "code",
   "execution_count": 78,
   "id": "a4010a40",
   "metadata": {},
   "outputs": [],
   "source": [
    "casual_instruction = '''Rewrite the sentence in informal way.'''"
   ]
  },
  {
   "cell_type": "code",
   "execution_count": 79,
   "id": "3351cf9b",
   "metadata": {},
   "outputs": [
    {
     "name": "stderr",
     "output_type": "stream",
     "text": [
      "100%|██████████| 100/100 [08:21<00:00,  5.01s/it]\n"
     ]
    }
   ],
   "source": [
    "modified_samples = request(no_contra_random_samples, casual_instruction)\n",
    "with open('decode_no/casual.jsonl', 'w') as f:\n",
    "    for item in modified_samples:\n",
    "        object = json.loads(item)\n",
    "        line = json.dumps(object) + \"\\n\"\n",
    "        f.write(line)\n",
    "f.close()"
   ]
  },
  {
   "cell_type": "markdown",
   "id": "b7e1ed5d",
   "metadata": {},
   "source": [
    "### Simple vs Complex English"
   ]
  },
  {
   "cell_type": "markdown",
   "id": "a0ad1279",
   "metadata": {},
   "source": [
    "### Plain English"
   ]
  },
  {
   "cell_type": "code",
   "execution_count": 80,
   "id": "72c352f1",
   "metadata": {},
   "outputs": [],
   "source": [
    "plain_english_instruction = '''Please rewrite the sentence in order to make it easier to understand by non-native speakers of English. \n",
    "You can do so by replacing complex words with simpler synonyms (i.e. paraphrasing), deleting unimportant information (i.e. compres-sion), and/or splitting a long complex sentence into several simpler ones. The final simplified sentence needs to be grammatical, fluent, and retain the main ideas of its original counterpart without altering its meaning.\n",
    "\n",
    "type: \"plain_english\"'''"
   ]
  },
  {
   "cell_type": "code",
   "execution_count": 81,
   "id": "f1312946",
   "metadata": {},
   "outputs": [
    {
     "name": "stderr",
     "output_type": "stream",
     "text": [
      "100%|██████████| 100/100 [08:23<00:00,  5.04s/it]\n"
     ]
    }
   ],
   "source": [
    "modified_samples = request(no_contra_random_samples, plain_english_instruction)\n",
    "with open('decode_no/plain_english.jsonl', 'w') as f:\n",
    "    for item in modified_samples:\n",
    "        object = json.loads(item)\n",
    "        line = json.dumps(object) + \"\\n\"\n",
    "        f.write(line)\n",
    "f.close()"
   ]
  },
  {
   "cell_type": "markdown",
   "id": "594d0509",
   "metadata": {},
   "source": [
    "### Complex English"
   ]
  },
  {
   "cell_type": "code",
   "execution_count": 82,
   "id": "32d7dc59",
   "metadata": {},
   "outputs": [],
   "source": [
    "complex_english_instruction = '''Transform the original sentence into more complex English. \n",
    "Change some words with their more sophisticated technical synonym.\n",
    "Change the sentence structure into more complex one.\n",
    "Keep the modified sentence has nearly similar length with original one and do not alter its meaning.\n",
    "\n",
    "type: \"complex_english\"'''"
   ]
  },
  {
   "cell_type": "code",
   "execution_count": 83,
   "id": "a43d212e",
   "metadata": {},
   "outputs": [
    {
     "name": "stderr",
     "output_type": "stream",
     "text": [
      "100%|██████████| 100/100 [09:43<00:00,  5.83s/it]\n"
     ]
    }
   ],
   "source": [
    "modified_samples = request(no_contra_random_samples, complex_english_instruction)\n",
    "with open('decode_no/complex_english.jsonl', 'w') as f:\n",
    "    for item in modified_samples:\n",
    "        object = json.loads(item)\n",
    "        line = json.dumps(object) + \"\\n\"\n",
    "        f.write(line)\n",
    "f.close()"
   ]
  },
  {
   "cell_type": "markdown",
   "id": "dc5c0d43",
   "metadata": {},
   "source": [
    "### Dialectal features"
   ]
  },
  {
   "cell_type": "markdown",
   "id": "b4cdfe3d",
   "metadata": {},
   "source": [
    "#### African American English"
   ]
  },
  {
   "cell_type": "code",
   "execution_count": 84,
   "id": "77494155",
   "metadata": {},
   "outputs": [],
   "source": [
    "aave_english_instruction = '''Rewrite the text in African American Vernacular English.\n",
    "\n",
    "type: \"aave_english\"'''"
   ]
  },
  {
   "cell_type": "code",
   "execution_count": 85,
   "id": "95a386fa",
   "metadata": {},
   "outputs": [
    {
     "name": "stderr",
     "output_type": "stream",
     "text": [
      "100%|██████████| 100/100 [08:43<00:00,  5.23s/it]\n"
     ]
    }
   ],
   "source": [
    "modified_samples = request(no_contra_random_samples, aave_english_instruction)\n",
    "with open('decode_no/aave_english.jsonl', 'w') as f:\n",
    "    for item in modified_samples:\n",
    "        object = json.loads(item)\n",
    "        line = json.dumps(object) + \"\\n\"\n",
    "        f.write(line)\n",
    "f.close()"
   ]
  },
  {
   "cell_type": "code",
   "execution_count": 86,
   "id": "0f6a8fe7",
   "metadata": {},
   "outputs": [],
   "source": [
    "singlish_instruction = '''Rewrite the text in Singapore Colloquial English (Singlish, Basilect).\n",
    "\n",
    "type: \"singlish\"'''"
   ]
  },
  {
   "cell_type": "code",
   "execution_count": 87,
   "id": "dbd93dea",
   "metadata": {},
   "outputs": [
    {
     "name": "stderr",
     "output_type": "stream",
     "text": [
      "100%|██████████| 100/100 [08:45<00:00,  5.26s/it]\n"
     ]
    }
   ],
   "source": [
    "modified_samples = request(no_contra_random_samples, singlish_instruction)\n",
    "with open('decode_no/singlish.jsonl', 'w') as f:\n",
    "    for item in modified_samples:\n",
    "        object = json.loads(item)\n",
    "        line = json.dumps(object) + \"\\n\"\n",
    "        f.write(line)\n",
    "f.close()"
   ]
  },
  {
   "cell_type": "markdown",
   "id": "e0296592",
   "metadata": {},
   "source": [
    "#### Indian English "
   ]
  },
  {
   "cell_type": "code",
   "execution_count": 88,
   "id": "ee087e57",
   "metadata": {},
   "outputs": [],
   "source": [
    "higlish_instruction = '''Rewrite the text using Indianisms and Indian English grammar.\n",
    "\n",
    "type: \"indian_english\"'''"
   ]
  },
  {
   "cell_type": "code",
   "execution_count": 89,
   "id": "6b2f4e06",
   "metadata": {},
   "outputs": [
    {
     "name": "stderr",
     "output_type": "stream",
     "text": [
      "100%|██████████| 100/100 [08:30<00:00,  5.11s/it]\n"
     ]
    }
   ],
   "source": [
    "modified_samples = request(no_contra_random_samples, higlish_instruction)\n",
    "with open('decode_no/indian_english.jsonl', 'w') as f:\n",
    "    for item in modified_samples:\n",
    "        object = json.loads(item)\n",
    "        line = json.dumps(object) + \"\\n\"\n",
    "        f.write(line)\n",
    "f.close()"
   ]
  },
  {
   "cell_type": "code",
   "execution_count": null,
   "id": "c3200781",
   "metadata": {},
   "outputs": [],
   "source": []
  }
 ],
 "metadata": {
  "kernelspec": {
   "display_name": "Python 3 (ipykernel)",
   "language": "python",
   "name": "python3"
  },
  "language_info": {
   "codemirror_mode": {
    "name": "ipython",
    "version": 3
   },
   "file_extension": ".py",
   "mimetype": "text/x-python",
   "name": "python",
   "nbconvert_exporter": "python",
   "pygments_lexer": "ipython3",
   "version": "3.10.11"
  }
 },
 "nbformat": 4,
 "nbformat_minor": 5
}
