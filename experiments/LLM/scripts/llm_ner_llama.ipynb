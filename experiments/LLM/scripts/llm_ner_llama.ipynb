{
 "cells": [
  {
   "cell_type": "code",
   "execution_count": 3,
   "metadata": {},
   "outputs": [],
   "source": [
    "from datasets import load_dataset\n",
    "import dspy\n",
    "import openai\n",
    "import os\n",
    "import re\n",
    "import pandas as pd\n",
    "import ast\n",
    "import json\n",
    "from dotenv import load_dotenv\n",
    "import numpy as np"
   ]
  },
  {
   "cell_type": "code",
   "execution_count": 4,
   "metadata": {},
   "outputs": [
    {
     "data": {
      "text/plain": [
       "True"
      ]
     },
     "execution_count": 4,
     "metadata": {},
     "output_type": "execute_result"
    }
   ],
   "source": [
    "load_dotenv()"
   ]
  },
  {
   "cell_type": "code",
   "execution_count": 5,
   "metadata": {},
   "outputs": [],
   "source": [
    "\n",
    "openai.api_key = os.getenv('OPENAI_API_KEY')\n",
    "openai.organization = os.getenv('OPENAI_ORGANIZATION')\n"
   ]
  },
  {
   "cell_type": "code",
   "execution_count": 6,
   "metadata": {},
   "outputs": [],
   "source": [
    "lm = dspy.LM('together_ai/meta-llama/Meta-Llama-3.1-405B-Instruct-Turbo', temperature=0, max_tokens=1024)\n",
    "dspy.configure(lm=lm)"
   ]
  },
  {
   "cell_type": "code",
   "execution_count": 41,
   "metadata": {},
   "outputs": [],
   "source": [
    "ds = pd.read_json('../preprocessing/train_dev_test_data/ner/fewnerd_sample_test.json', encoding_errors='replace')\n",
    "ds = ds.to_dict('records')\n"
   ]
  },
  {
   "cell_type": "code",
   "execution_count": 42,
   "metadata": {},
   "outputs": [
    {
     "data": {
      "text/plain": [
       "{'id': 1,\n",
       " 'text': 'In the early 1930s the band moved to the Grill Room of the Taft Hotel in New York ; the band was renamed ``George Hall and His Hotel Taft Orchestra``.',\n",
       " 'label': [{'Grill Room': 'BUILDING'},\n",
       "  {'Taft Hotel': 'BUILDING'},\n",
       "  {'New York': 'LOCATION'},\n",
       "  {'George Hall and His Hotel Taft Orchestra': 'ORGANIZATION'}],\n",
       " 'dataset': 'few_nerd',\n",
       " 'entity': ['Grill Room',\n",
       "  'Taft Hotel',\n",
       "  'New York',\n",
       "  'George Hall and His Hotel Taft Orchestra']}"
      ]
     },
     "execution_count": 42,
     "metadata": {},
     "output_type": "execute_result"
    }
   ],
   "source": [
    "ds[0]"
   ]
  },
  {
   "cell_type": "code",
   "execution_count": 43,
   "metadata": {},
   "outputs": [],
   "source": [
    "def remove_space(text):\n",
    "    \"\"\"Clean up spacing and formatting in dialogue text.\"\"\"\n",
    "    lines = text.split('\\n')\n",
    "    cleaned_lines = []\n",
    "    \n",
    "    for line in lines:\n",
    "        # Remove multiple spaces\n",
    "        cleaned = ' '.join(line.split())\n",
    "        \n",
    "        # Fix spacing around punctuation\n",
    "        cleaned = re.sub(r'\\s+([.,!?:;])', r'\\1', cleaned)\n",
    "        cleaned = re.sub(r'([.,!?:;])\\s+', r'\\1 ', cleaned)\n",
    "        \n",
    "        # Fix contractions\n",
    "        cleaned = re.sub(r'\\s*\\'\\s*s\\b', \"'s\", cleaned)\n",
    "        cleaned = re.sub(r'\\s*n\\s*\\'\\s*t\\b', \"n't\", cleaned)\n",
    "        cleaned = re.sub(r'\\s*\\'\\s*ve\\b', \"'ve\", cleaned)\n",
    "        cleaned = re.sub(r'\\s*\\'\\s*re\\b', \"'re\", cleaned)\n",
    "        cleaned = re.sub(r'\\s*\\'\\s*ll\\b', \"'ll\", cleaned)\n",
    "        cleaned = re.sub(r'\\s*\\'\\s*d\\b', \"'d\", cleaned)\n",
    "        cleaned = re.sub(r'\\s*\\'\\s*m\\b', \"'m\", cleaned)\n",
    "        \n",
    "        # Fix spaces around parentheses\n",
    "        cleaned = re.sub(r'\\(\\s+', '(', cleaned)\n",
    "        cleaned = re.sub(r'\\s+\\)', ')', cleaned)\n",
    "        \n",
    "        # Remove leading/trailing whitespace\n",
    "        cleaned = cleaned.strip()\n",
    "        \n",
    "        cleaned_lines.append(cleaned)\n",
    "        \n",
    "    return '\\n'.join(cleaned_lines)\n"
   ]
  },
  {
   "cell_type": "code",
   "execution_count": 44,
   "metadata": {},
   "outputs": [],
   "source": [
    "examples = [\n",
    "    dspy.Example({ \n",
    "                  \"text\" : r[\"text\"], \n",
    "                  \"label\": str(r['label'])\n",
    "                }\n",
    "                  ).with_inputs(\"text\")\n",
    "    \n",
    "    for r in ds\n",
    "    ]\n"
   ]
  },
  {
   "cell_type": "code",
   "execution_count": 45,
   "metadata": {},
   "outputs": [
    {
     "name": "stdout",
     "output_type": "stream",
     "text": [
      "\n",
      "TEXT:\n",
      "\n",
      "In the early 1930s the band moved to the Grill Room of the Taft Hotel in New York ; the band was renamed ``George Hall and His Hotel Taft Orchestra``.\n",
      "\n",
      "LABEL:\n",
      "\n",
      "[{'Grill Room': 'BUILDING'}, {'Taft Hotel': 'BUILDING'}, {'New York': 'LOCATION'}, {'George Hall and His Hotel Taft Orchestra': 'ORGANIZATION'}]\n"
     ]
    }
   ],
   "source": [
    "example = examples[0]\n",
    "for k, v in example.items():\n",
    "    print(f\"\\n{k.upper()}:\\n\")\n",
    "    print(v)\n"
   ]
  },
  {
   "cell_type": "code",
   "execution_count": 46,
   "metadata": {},
   "outputs": [],
   "source": [
    "def calculate_f1_ent(gold_entities, predicted_entities):\n",
    "    \"\"\"\n",
    "    Calculates the F1 score given the true labels and predicted labels.\n",
    "    \"\"\"\n",
    "    # print(\"Input types:\")\n",
    "    # print(f\"gold_entities type: {type(gold_entities)}\")\n",
    "    # print(f\"predicted_entities type: {type(predicted_entities)}\")\n",
    "    \n",
    "    if predicted_entities is None:\n",
    "        return 0.0, 0.0, 0.0\n",
    "\n",
    "    true_entities = {}\n",
    "    pred_entities = {}\n",
    "    \n",
    "    # Convert to empty list if NaN\n",
    "    def handle_nan(entities):\n",
    "        # print(f\"Handling NaN for: {type(entities)}\")\n",
    "        # If it's already a list, return it as is\n",
    "        if isinstance(entities, list):\n",
    "            return entities\n",
    "        # Handle pandas/numpy types\n",
    "        if isinstance(entities, (pd.Series, np.ndarray)):\n",
    "            nan_check = pd.isna(entities)\n",
    "            if isinstance(nan_check, (pd.Series, np.ndarray)):\n",
    "                if nan_check.any():\n",
    "                    return \"[]\"\n",
    "            elif nan_check:\n",
    "                return \"[]\"\n",
    "        # Handle single values\n",
    "        elif pd.isna(entities):\n",
    "            return \"[]\"\n",
    "        return entities\n",
    "\n",
    "    # Handle NaN cases\n",
    "    gold_entities = handle_nan(gold_entities)\n",
    "    predicted_entities = handle_nan(predicted_entities)\n",
    "            \n",
    "    # Parse strings if needed\n",
    "    if isinstance(gold_entities, str):\n",
    "        gold_entities = ast.literal_eval(gold_entities)\n",
    "    if isinstance(predicted_entities, str):\n",
    "        predicted_entities = ast.literal_eval(predicted_entities)\n",
    "\n",
    "    # Process gold entities\n",
    "    # print(gold_entities)\n",
    "    for entity in gold_entities:\n",
    "        # print(entity)\n",
    "        if isinstance(entity, str):\n",
    "            entity = ast.literal_eval(entity)\n",
    "        if entity.get('text') is not None:\n",
    "            true_entities[entity['text']] = entity['value']\n",
    "        else:\n",
    "            for key, value in entity.items():\n",
    "                true_entities[key] = value\n",
    "    \n",
    "    # Process predicted entities\n",
    "    for entity in predicted_entities:\n",
    "        if isinstance(entity, str):\n",
    "            entity = ast.literal_eval(entity)\n",
    "        if entity.get('text') is not None:  \n",
    "            pred_entities[entity['text']] = entity['value']\n",
    "        else:\n",
    "            for key, value in entity.items():\n",
    "                pred_entities[key] = value\n",
    "\n",
    "    # Calculate metrics\n",
    "    true_positives = sum(1 for text in true_entities if text in pred_entities and true_entities[text] == pred_entities[text])\n",
    "    false_positives = sum(1 for text in pred_entities if text not in true_entities)\n",
    "    false_negatives = sum(1 for text in true_entities if text not in pred_entities)\n",
    "\n",
    "    if true_positives == 0:\n",
    "        return 0.0, 0.0, 0.0\n",
    "\n",
    "    precision = true_positives / (true_positives + false_positives)\n",
    "    recall = true_positives / (true_positives + false_negatives)\n",
    "    f1_score = 2 * (precision * recall) / (precision + recall)\n",
    "\n",
    "    return precision, recall, f1_score"
   ]
  },
  {
   "cell_type": "code",
   "execution_count": 47,
   "metadata": {},
   "outputs": [],
   "source": [
    "def extract_prediction(pred):\n",
    "    matches = re.findall(r\"\\[\\{.*\\}\\]\", pred)\n",
    "    # print(matches)\n",
    "    parsed_answer = matches[-1] if matches else \"\"\n",
    "    if parsed_answer == \"\":\n",
    "        return {}\n",
    "    parsed_answer = ast.literal_eval(parsed_answer)\n",
    "    return parsed_answer\n"
   ]
  },
  {
   "cell_type": "code",
   "execution_count": 48,
   "metadata": {},
   "outputs": [],
   "source": [
    "def eval_metric(true, prediction, trace=None):\n",
    "    pred = prediction.label\n",
    "    \n",
    "    matches = re.findall(r\"\\[\\{.*\\}\\]\", pred)\n",
    "    # print(matches)\n",
    "    parsed_answer = matches[-1] if matches else \"\"\n",
    "    if parsed_answer == \"\":\n",
    "        return 0.0\n",
    "    parsed_answer = ast.literal_eval(parsed_answer)\n",
    "    # print(type(parsed_answer))\n",
    "    gold_entities = ast.literal_eval(true.label)\n",
    "    # print(parsed_answer)\n",
    "    precision, recall, f1_score = calculate_f1_ent(gold_entities=gold_entities, predicted_entities= parsed_answer)\n",
    "    return f1_score"
   ]
  },
  {
   "cell_type": "code",
   "execution_count": 49,
   "metadata": {},
   "outputs": [],
   "source": [
    "from dspy.evaluate import Evaluate\n",
    "\n",
    "evaluate = Evaluate(devset= examples, metric=eval_metric, num_threads=6, display_progress=True, display_table=10)\n"
   ]
  },
  {
   "cell_type": "code",
   "execution_count": 50,
   "metadata": {},
   "outputs": [],
   "source": [
    "class Ent(dspy.Signature):\n",
    "    \"\"\"Extract named entities from the text. Possible entity type: ART, BUILDING, EVENT, LOCATION, ORGANIZATION, OTHER, PERSON, PRODUCT\"\"\"\n",
    "    text = dspy.InputField()\n",
    "    label = dspy.OutputField(desc='The list of named entities in the text: [{\"text\": the text span, \"value\": the entity label},].', prefix = 'Entities:')"
   ]
  },
  {
   "cell_type": "code",
   "execution_count": 51,
   "metadata": {},
   "outputs": [],
   "source": [
    "class SimpleEnt(dspy.Module):\n",
    "    def __init__(self):\n",
    "        super().__init__()\n",
    "        self.prog = dspy.Predict(Ent)\n",
    "\n",
    "    def forward(self, text):\n",
    "\n",
    "        return self.prog(text = text)\n"
   ]
  },
  {
   "cell_type": "code",
   "execution_count": 52,
   "metadata": {},
   "outputs": [],
   "source": [
    "simple_ent = SimpleEnt()"
   ]
  },
  {
   "cell_type": "code",
   "execution_count": 53,
   "metadata": {},
   "outputs": [
    {
     "name": "stdout",
     "output_type": "stream",
     "text": [
      "\n",
      "TEXT:\n",
      "\n",
      "In the early 1930s the band moved to the Grill Room of the Taft Hotel in New York ; the band was renamed ``George Hall and His Hotel Taft Orchestra``.\n",
      "\n",
      "ANSWER:\n",
      "\n",
      "[{'Grill Room': 'BUILDING'}, {'Taft Hotel': 'BUILDING'}, {'New York': 'LOCATION'}, {'George Hall and His Hotel Taft Orchestra': 'ORGANIZATION'}]\n",
      "\n",
      "PREDICTION:\n",
      "\n",
      "Prediction(\n",
      "    label='[{\"text\": \"George Hall\", \"value\": \"PERSON\"}, {\"text\": \"Grill Room of the Taft Hotel\", \"value\": \"LOCATION\"}, {\"text\": \"New York\", \"value\": \"LOCATION\"}, {\"text\": \"Hotel Taft Orchestra\", \"value\": \"ORGANIZATION\"}, {\"text\": \"George Hall and His Hotel Taft Orchestra\", \"value\": \"ORGANIZATION\"}, {\"text\": \"Taft Hotel\", \"value\": \"LOCATION\"}]'\n",
      ")\n"
     ]
    }
   ],
   "source": [
    "pred = simple_ent(text=example.text)\n",
    "print(\"\\nTEXT:\\n\")\n",
    "print(example.text)\n",
    "\n",
    "print(\"\\nANSWER:\\n\")\n",
    "print(example.label)\n",
    "print(\"\\nPREDICTION:\\n\")\n",
    "print(pred)\n"
   ]
  },
  {
   "cell_type": "code",
   "execution_count": 54,
   "metadata": {},
   "outputs": [
    {
     "data": {
      "text/plain": [
       "0.5"
      ]
     },
     "execution_count": 54,
     "metadata": {},
     "output_type": "execute_result"
    }
   ],
   "source": [
    "eval_metric(example, pred)"
   ]
  },
  {
   "cell_type": "code",
   "execution_count": 55,
   "metadata": {},
   "outputs": [
    {
     "name": "stderr",
     "output_type": "stream",
     "text": [
      "Average Metric: 0.5 / 1  (50.0):   0%|          | 0/251 [00:00<?, ?it/s]"
     ]
    },
    {
     "name": "stderr",
     "output_type": "stream",
     "text": [
      "Average Metric: 154.06580151874277 / 251  (61.4): 100%|██████████| 251/251 [01:05<00:00,  3.83it/s]\n"
     ]
    },
    {
     "data": {
      "text/html": [
       "<style type=\"text/css\">\n",
       "#T_b3fc9 th {\n",
       "  text-align: left;\n",
       "}\n",
       "#T_b3fc9 td {\n",
       "  text-align: left;\n",
       "}\n",
       "#T_b3fc9_row0_col0, #T_b3fc9_row0_col1, #T_b3fc9_row0_col2, #T_b3fc9_row0_col3, #T_b3fc9_row1_col0, #T_b3fc9_row1_col1, #T_b3fc9_row1_col2, #T_b3fc9_row1_col3, #T_b3fc9_row2_col0, #T_b3fc9_row2_col1, #T_b3fc9_row2_col2, #T_b3fc9_row2_col3, #T_b3fc9_row3_col0, #T_b3fc9_row3_col1, #T_b3fc9_row3_col2, #T_b3fc9_row3_col3, #T_b3fc9_row4_col0, #T_b3fc9_row4_col1, #T_b3fc9_row4_col2, #T_b3fc9_row4_col3, #T_b3fc9_row5_col0, #T_b3fc9_row5_col1, #T_b3fc9_row5_col2, #T_b3fc9_row5_col3, #T_b3fc9_row6_col0, #T_b3fc9_row6_col1, #T_b3fc9_row6_col2, #T_b3fc9_row6_col3, #T_b3fc9_row7_col0, #T_b3fc9_row7_col1, #T_b3fc9_row7_col2, #T_b3fc9_row7_col3, #T_b3fc9_row8_col0, #T_b3fc9_row8_col1, #T_b3fc9_row8_col2, #T_b3fc9_row8_col3, #T_b3fc9_row9_col0, #T_b3fc9_row9_col1, #T_b3fc9_row9_col2, #T_b3fc9_row9_col3 {\n",
       "  text-align: left;\n",
       "  white-space: pre-wrap;\n",
       "  word-wrap: break-word;\n",
       "  max-width: 400px;\n",
       "}\n",
       "</style>\n",
       "<table id=\"T_b3fc9\">\n",
       "  <thead>\n",
       "    <tr>\n",
       "      <th class=\"blank level0\" >&nbsp;</th>\n",
       "      <th id=\"T_b3fc9_level0_col0\" class=\"col_heading level0 col0\" >text</th>\n",
       "      <th id=\"T_b3fc9_level0_col1\" class=\"col_heading level0 col1\" >example_label</th>\n",
       "      <th id=\"T_b3fc9_level0_col2\" class=\"col_heading level0 col2\" >pred_label</th>\n",
       "      <th id=\"T_b3fc9_level0_col3\" class=\"col_heading level0 col3\" >eval_metric</th>\n",
       "    </tr>\n",
       "  </thead>\n",
       "  <tbody>\n",
       "    <tr>\n",
       "      <th id=\"T_b3fc9_level0_row0\" class=\"row_heading level0 row0\" >0</th>\n",
       "      <td id=\"T_b3fc9_row0_col0\" class=\"data row0 col0\" >In the early 1930s the band moved to the Grill Room of the Taft Hotel in New York ; the band was renamed ``George Hall...</td>\n",
       "      <td id=\"T_b3fc9_row0_col1\" class=\"data row0 col1\" >[{'Grill Room': 'BUILDING'}, {'Taft Hotel': 'BUILDING'}, {'New York': 'LOCATION'}, {'George Hall and His Hotel Taft Orchestra': 'ORGANIZATION'}]</td>\n",
       "      <td id=\"T_b3fc9_row0_col2\" class=\"data row0 col2\" >[{\"text\": \"George Hall\", \"value\": \"PERSON\"}, {\"text\": \"Grill Room of the Taft Hotel\", \"value\": \"LOCATION\"}, {\"text\": \"New York\", \"value\": \"LOCATION\"}, {\"text\": \"Hotel Taft Orchestra\", \"value\": \"ORGANIZATION\"},...</td>\n",
       "      <td id=\"T_b3fc9_row0_col3\" class=\"data row0 col3\" >✔️ [0.500]</td>\n",
       "    </tr>\n",
       "    <tr>\n",
       "      <th id=\"T_b3fc9_level0_row1\" class=\"row_heading level0 row1\" >1</th>\n",
       "      <td id=\"T_b3fc9_row1_col0\" class=\"data row1 col0\" >The final season of minor league play Elkin Memorial Park saw season attendance of 16,322, an average of 299 per contest.</td>\n",
       "      <td id=\"T_b3fc9_row1_col1\" class=\"data row1 col1\" >[{'Elkin Memorial Park': 'LOCATION'}]</td>\n",
       "      <td id=\"T_b3fc9_row1_col2\" class=\"data row1 col2\" >[{\"text\": \"Elkin Memorial Park\", \"value\": \"LOCATION\"}]</td>\n",
       "      <td id=\"T_b3fc9_row1_col3\" class=\"data row1 col3\" >✔️ [1.000]</td>\n",
       "    </tr>\n",
       "    <tr>\n",
       "      <th id=\"T_b3fc9_level0_row2\" class=\"row_heading level0 row2\" >2</th>\n",
       "      <td id=\"T_b3fc9_row2_col0\" class=\"data row2 col0\" >They finished the season 14\\u201319, 9\\u20139 in C-USA play to finish in seventh place.</td>\n",
       "      <td id=\"T_b3fc9_row2_col1\" class=\"data row2 col1\" >[{'C-USA play': 'EVENT'}]</td>\n",
       "      <td id=\"T_b3fc9_row2_col2\" class=\"data row2 col2\" >[{\"text\": \"C-USA\", \"value\": \"ORGANIZATION\"}]</td>\n",
       "      <td id=\"T_b3fc9_row2_col3\" class=\"data row2 col3\" ></td>\n",
       "    </tr>\n",
       "    <tr>\n",
       "      <th id=\"T_b3fc9_level0_row3\" class=\"row_heading level0 row3\" >3</th>\n",
       "      <td id=\"T_b3fc9_row3_col0\" class=\"data row3 col0\" >The B-52 pilot, Major Larry G.Messinger, later recalled,</td>\n",
       "      <td id=\"T_b3fc9_row3_col1\" class=\"data row3 col1\" >[{'B-52': 'PRODUCT'}, {'Larry G.Messinger': 'PERSON'}]</td>\n",
       "      <td id=\"T_b3fc9_row3_col2\" class=\"data row3 col2\" >[{\"text\": \"B-52\", \"value\": \"PRODUCT\"}, {\"text\": \"Major Larry G.Messinger\", \"value\": \"PERSON\"}]</td>\n",
       "      <td id=\"T_b3fc9_row3_col3\" class=\"data row3 col3\" >✔️ [0.500]</td>\n",
       "    </tr>\n",
       "    <tr>\n",
       "      <th id=\"T_b3fc9_level0_row4\" class=\"row_heading level0 row4\" >4</th>\n",
       "      <td id=\"T_b3fc9_row4_col0\" class=\"data row4 col0\" >The Austro-Hungarian Navy built and operated two classes of protected cruisers.</td>\n",
       "      <td id=\"T_b3fc9_row4_col1\" class=\"data row4 col1\" >[{'Austro-Hungarian Navy': 'ORGANIZATION'}]</td>\n",
       "      <td id=\"T_b3fc9_row4_col2\" class=\"data row4 col2\" >[{\"text\": \"Austro-Hungarian Navy\", \"value\": \"ORGANIZATION\"}]</td>\n",
       "      <td id=\"T_b3fc9_row4_col3\" class=\"data row4 col3\" >✔️ [1.000]</td>\n",
       "    </tr>\n",
       "    <tr>\n",
       "      <th id=\"T_b3fc9_level0_row5\" class=\"row_heading level0 row5\" >5</th>\n",
       "      <td id=\"T_b3fc9_row5_col0\" class=\"data row5 col0\" >Elin Hilderbrand is an American writer mostly of romance novels.</td>\n",
       "      <td id=\"T_b3fc9_row5_col1\" class=\"data row5 col1\" >[{'Elin Hilderbrand': 'PERSON'}, {'American': 'LOCATION'}]</td>\n",
       "      <td id=\"T_b3fc9_row5_col2\" class=\"data row5 col2\" >[{\"text\": \"Elin Hilderbrand\", \"value\": \"PERSON\"}, {\"text\": \"American\", \"value\": \"LOCATION\"}]</td>\n",
       "      <td id=\"T_b3fc9_row5_col3\" class=\"data row5 col3\" >✔️ [1.000]</td>\n",
       "    </tr>\n",
       "    <tr>\n",
       "      <th id=\"T_b3fc9_level0_row6\" class=\"row_heading level0 row6\" >6</th>\n",
       "      <td id=\"T_b3fc9_row6_col0\" class=\"data row6 col0\" >A prototype was fitted in the mid-'60s in a one-off DB5 extended 4'' after the doors and driven by Marek personally, and a normally 6-cylinder...</td>\n",
       "      <td id=\"T_b3fc9_row6_col1\" class=\"data row6 col1\" >[{\"DB5 extended 4''\": 'PRODUCT'}, {'Marek': 'PERSON'}, {'Aston Martin DB7': 'PRODUCT'}, {'V8 unit': 'PRODUCT'}]</td>\n",
       "      <td id=\"T_b3fc9_row6_col2\" class=\"data row6 col2\" >[{\"text\": \"DB5\", \"value\": \"PRODUCT\"}, {\"text\": \"Marek\", \"value\": \"PERSON\"}, {\"text\": \"Aston Martin DB7\", \"value\": \"PRODUCT\"}]</td>\n",
       "      <td id=\"T_b3fc9_row6_col3\" class=\"data row6 col3\" >✔️ [0.571]</td>\n",
       "    </tr>\n",
       "    <tr>\n",
       "      <th id=\"T_b3fc9_level0_row7\" class=\"row_heading level0 row7\" >7</th>\n",
       "      <td id=\"T_b3fc9_row7_col0\" class=\"data row7 col0\" >He has caught the attention of major publications and media outlets such as CNN, The Huffington Post, Hypebeast, The Guardian, Juxtapoz Magazine, Daily Mail, NRDC,...</td>\n",
       "      <td id=\"T_b3fc9_row7_col1\" class=\"data row7 col1\" >[{'CNN': 'ORGANIZATION'}, {'The Huffington Post': 'ORGANIZATION'}, {'Hypebeast': 'ORGANIZATION'}, {'The Guardian': 'ORGANIZATION'}, {'Juxtapoz Magazine': 'ORGANIZATION'}, {'Daily Mail, NRDC': 'ORGANIZATION'}, {'Aljazeera': 'ORGANIZATION'}, {'Hi-Fructose Magazine': 'ORGANIZATION'}]</td>\n",
       "      <td id=\"T_b3fc9_row7_col2\" class=\"data row7 col2\" >[{\"text\": \"CNN\", \"value\": \"ORGANIZATION\"}, {\"text\": \"The Huffington Post\", \"value\": \"ORGANIZATION\"}, {\"text\": \"Hypebeast\", \"value\": \"ORGANIZATION\"}, {\"text\": \"The Guardian\", \"value\": \"ORGANIZATION\"}, {\"text\": \"Juxtapoz Magazine\", \"value\": \"ORGANIZATION\"}, {\"text\":...</td>\n",
       "      <td id=\"T_b3fc9_row7_col3\" class=\"data row7 col3\" >✔️ [0.824]</td>\n",
       "    </tr>\n",
       "    <tr>\n",
       "      <th id=\"T_b3fc9_level0_row8\" class=\"row_heading level0 row8\" >8</th>\n",
       "      <td id=\"T_b3fc9_row8_col0\" class=\"data row8 col0\" >The Cnidaria are a group of animals found exclusively in aquatic and mostly marine environments.</td>\n",
       "      <td id=\"T_b3fc9_row8_col1\" class=\"data row8 col1\" >[{'Cnidaria': 'OTHER'}]</td>\n",
       "      <td id=\"T_b3fc9_row8_col2\" class=\"data row8 col2\" >[{\"text\": \"Cnidaria\", \"value\": \"OTHER\"}]</td>\n",
       "      <td id=\"T_b3fc9_row8_col3\" class=\"data row8 col3\" >✔️ [1.000]</td>\n",
       "    </tr>\n",
       "    <tr>\n",
       "      <th id=\"T_b3fc9_level0_row9\" class=\"row_heading level0 row9\" >9</th>\n",
       "      <td id=\"T_b3fc9_row9_col0\" class=\"data row9 col0\" >The Ninth suffered a serious defeat at the Battle of Camulodunum under Quintus Petillius Cerialis in the rebellion of Boudica (61), when most of the...</td>\n",
       "      <td id=\"T_b3fc9_row9_col1\" class=\"data row9 col1\" >[{'Camulodunum': 'EVENT'}, {'Quintus Petillius Cerialis': 'PERSON'}, {'Boudica': 'EVENT'}, {'Camulodunum': 'LOCATION'}, {'Colchester': 'LOCATION'}]</td>\n",
       "      <td id=\"T_b3fc9_row9_col2\" class=\"data row9 col2\" >[{\"text\": \"Ninth\", \"value\": \"ORGANIZATION\"}, {\"text\": \"Battle of Camulodunum\", \"value\": \"EVENT\"}, {\"text\": \"Quintus Petillius Cerialis\", \"value\": \"PERSON\"}, {\"text\": \"Boudica\", \"value\": \"PERSON\"}, {\"text\": \"Camulodunum\", \"value\": \"LOCATION\"}, {\"text\":...</td>\n",
       "      <td id=\"T_b3fc9_row9_col3\" class=\"data row9 col3\" >✔️ [0.750]</td>\n",
       "    </tr>\n",
       "  </tbody>\n",
       "</table>\n"
      ],
      "text/plain": [
       "<pandas.io.formats.style.Styler at 0x144902e10>"
      ]
     },
     "metadata": {},
     "output_type": "display_data"
    },
    {
     "data": {
      "text/html": [
       "\n",
       "                <div style='\n",
       "                    text-align: center;\n",
       "                    font-size: 16px;\n",
       "                    font-weight: bold;\n",
       "                    color: #555;\n",
       "                    margin: 10px 0;'>\n",
       "                    ... 241 more rows not displayed ...\n",
       "                </div>\n",
       "                "
      ],
      "text/plain": [
       "<IPython.core.display.HTML object>"
      ]
     },
     "metadata": {},
     "output_type": "display_data"
    }
   ],
   "source": [
    "evaluate = Evaluate(devset= examples, metric=eval_metric, num_threads=6, display_progress=True, display_table=10, return_outputs= True, return_all_scores=True)\n",
    "results = evaluate(simple_ent)\n",
    "items = []\n",
    "for sample in results[1]:\n",
    "\n",
    "    item = {}\n",
    "    sentence = sample[0]['text']\n",
    "    label = sample[0]['label']\n",
    "    if sample[1] == {}:\n",
    "        pred = {}\n",
    "    else:\n",
    "        pred = sample[1]['label']\n",
    "    item['text'] = sentence\n",
    "    item['label'] = label\n",
    "    item['pred'] = pred\n",
    "    items.append(item)\n",
    "df_result = pd.DataFrame(data = items)\n",
    "df_result.to_csv('results/ner/llama-0shot-ner.csv')"
   ]
  },
  {
   "cell_type": "code",
   "execution_count": 56,
   "metadata": {},
   "outputs": [],
   "source": [
    "def evaluate_modified_set(ds, program):\n",
    "    examples = [\n",
    "    dspy.Example({ \n",
    "                  \"text\" : remove_space(r[\"modified_text\"]), \n",
    "                  \"label\": str(r['modified_label']),\n",
    "                  \"original_text\": remove_space(r['original_text']),\n",
    "                  \"original_label\": str(r['original_label']),\n",
    "                  \"index\": r['index'],\n",
    "                  \"type\": r['subtype'] if 'subtype' in r else None\n",
    "                #   \"original_label\": str(r['original_label'])\n",
    "                }\n",
    "                  ).with_inputs(\"text\")\n",
    "    \n",
    "    for r in ds\n",
    "    ]\n",
    "    evaluate = Evaluate(devset= examples, metric=eval_metric, num_threads=6, display_progress=True, display_table=1, return_outputs= True, return_all_scores=True, provide_traceback=True)\n",
    "    results = evaluate(program)\n",
    "    return results"
   ]
  },
  {
   "cell_type": "code",
   "execution_count": 57,
   "metadata": {},
   "outputs": [],
   "source": [
    "class Ent(dspy.Signature):\n",
    "    \"\"\"Extract named entities from the text. Possible entity type: ART, BUILDING, EVENT, LOCATION, ORGANIZATION, OTHER, PERSON, PRODUCT\"\"\"\n",
    "    text = dspy.InputField()\n",
    "    label = dspy.OutputField(desc='The list of named entities in the text: [{\"text\": the text span, \"value\": the entity label},].', prefix = \"Entities:\")\n",
    "\n",
    "class SimpleEnt(dspy.Module):\n",
    "    def __init__(self):\n",
    "        super().__init__()\n",
    "        self.prog = dspy.Predict(Ent)\n",
    "\n",
    "    def forward(self, text):\n",
    "\n",
    "        return self.prog(text = text)\n",
    "simple_ent = SimpleEnt()\n"
   ]
  },
  {
   "cell_type": "code",
   "execution_count": 58,
   "metadata": {},
   "outputs": [],
   "source": [
    "import glob\n",
    "import difflib\n"
   ]
  },
  {
   "cell_type": "code",
   "execution_count": 59,
   "metadata": {},
   "outputs": [
    {
     "name": "stdout",
     "output_type": "stream",
     "text": [
      "../preprocessing/data_after_phase2/rahmad/casual_100.json\n"
     ]
    },
    {
     "name": "stderr",
     "output_type": "stream",
     "text": [
      "Average Metric: 54.91143431731665 / 92  (59.7): 100%|██████████| 92/92 [00:00<00:00, 2542.07it/s] \n"
     ]
    },
    {
     "data": {
      "text/html": [
       "<style type=\"text/css\">\n",
       "#T_dfa21 th {\n",
       "  text-align: left;\n",
       "}\n",
       "#T_dfa21 td {\n",
       "  text-align: left;\n",
       "}\n",
       "#T_dfa21_row0_col0, #T_dfa21_row0_col1, #T_dfa21_row0_col2, #T_dfa21_row0_col3, #T_dfa21_row0_col4, #T_dfa21_row0_col5, #T_dfa21_row0_col6, #T_dfa21_row0_col7 {\n",
       "  text-align: left;\n",
       "  white-space: pre-wrap;\n",
       "  word-wrap: break-word;\n",
       "  max-width: 400px;\n",
       "}\n",
       "</style>\n",
       "<table id=\"T_dfa21\">\n",
       "  <thead>\n",
       "    <tr>\n",
       "      <th class=\"blank level0\" >&nbsp;</th>\n",
       "      <th id=\"T_dfa21_level0_col0\" class=\"col_heading level0 col0\" >text</th>\n",
       "      <th id=\"T_dfa21_level0_col1\" class=\"col_heading level0 col1\" >example_label</th>\n",
       "      <th id=\"T_dfa21_level0_col2\" class=\"col_heading level0 col2\" >original_text</th>\n",
       "      <th id=\"T_dfa21_level0_col3\" class=\"col_heading level0 col3\" >original_label</th>\n",
       "      <th id=\"T_dfa21_level0_col4\" class=\"col_heading level0 col4\" >index</th>\n",
       "      <th id=\"T_dfa21_level0_col5\" class=\"col_heading level0 col5\" >type</th>\n",
       "      <th id=\"T_dfa21_level0_col6\" class=\"col_heading level0 col6\" >pred_label</th>\n",
       "      <th id=\"T_dfa21_level0_col7\" class=\"col_heading level0 col7\" >eval_metric</th>\n",
       "    </tr>\n",
       "  </thead>\n",
       "  <tbody>\n",
       "    <tr>\n",
       "      <th id=\"T_dfa21_level0_row0\" class=\"row_heading level0 row0\" >0</th>\n",
       "      <td id=\"T_dfa21_row0_col0\" class=\"data row0 col0\" >He produced Kim Fowley and BMX Bandits' ``Hidden Agenda At the Thirteenth Not`` for Receiver Records.</td>\n",
       "      <td id=\"T_dfa21_row0_col1\" class=\"data row0 col1\" >[{'text': 'Kim Fowley', 'value': 'PERSON'}, {'text': 'BMX Bandits', 'value': 'ORGANIZATION'}, {'text': 'Receiver Records', 'value': 'ORGANIZATION'}, {'text': 'Hidden Agenda At the Thirteenth Not', 'value': 'ART'}]</td>\n",
       "      <td id=\"T_dfa21_row0_col2\" class=\"data row0 col2\" >He went on to produce Kim Fowley and the BMX Bandits (band) Receiver Records' album ``Hidden Agenda At the Thirteenth Not``.</td>\n",
       "      <td id=\"T_dfa21_row0_col3\" class=\"data row0 col3\" >[{'Kim Fowley': 'PERSON'}, {'BMX Bandits': 'ORGANIZATION'}, {'Receiver Records': 'ORGANIZATION'}, {'Hidden Agenda At the Thirteenth Not': 'ART'}]</td>\n",
       "      <td id=\"T_dfa21_row0_col4\" class=\"data row0 col4\" >25</td>\n",
       "      <td id=\"T_dfa21_row0_col5\" class=\"data row0 col5\" >None</td>\n",
       "      <td id=\"T_dfa21_row0_col6\" class=\"data row0 col6\" >[{\"text\": \"Kim Fowley\", \"value\": \"PERSON\"}, {\"text\": \"BMX Bandits\", \"value\": \"ORGANIZATION\"}, {\"text\": \"Receiver Records\", \"value\": \"ORGANIZATION\"}]</td>\n",
       "      <td id=\"T_dfa21_row0_col7\" class=\"data row0 col7\" >✔️ [0.857]</td>\n",
       "    </tr>\n",
       "  </tbody>\n",
       "</table>\n"
      ],
      "text/plain": [
       "<pandas.io.formats.style.Styler at 0x132e826f0>"
      ]
     },
     "metadata": {},
     "output_type": "display_data"
    },
    {
     "data": {
      "text/html": [
       "\n",
       "                <div style='\n",
       "                    text-align: center;\n",
       "                    font-size: 16px;\n",
       "                    font-weight: bold;\n",
       "                    color: #555;\n",
       "                    margin: 10px 0;'>\n",
       "                    ... 91 more rows not displayed ...\n",
       "                </div>\n",
       "                "
      ],
      "text/plain": [
       "<IPython.core.display.HTML object>"
      ]
     },
     "metadata": {},
     "output_type": "display_data"
    },
    {
     "name": "stdout",
     "output_type": "stream",
     "text": [
      "../preprocessing/data_after_phase2/rahmad/discourse_100.json\n"
     ]
    },
    {
     "name": "stderr",
     "output_type": "stream",
     "text": [
      "Average Metric: 44.59163059163058 / 72  (61.9): 100%|██████████| 72/72 [00:00<00:00, 2821.86it/s] \n"
     ]
    },
    {
     "data": {
      "text/html": [
       "<style type=\"text/css\">\n",
       "#T_d4f5d th {\n",
       "  text-align: left;\n",
       "}\n",
       "#T_d4f5d td {\n",
       "  text-align: left;\n",
       "}\n",
       "#T_d4f5d_row0_col0, #T_d4f5d_row0_col1, #T_d4f5d_row0_col2, #T_d4f5d_row0_col3, #T_d4f5d_row0_col4, #T_d4f5d_row0_col5, #T_d4f5d_row0_col6, #T_d4f5d_row0_col7 {\n",
       "  text-align: left;\n",
       "  white-space: pre-wrap;\n",
       "  word-wrap: break-word;\n",
       "  max-width: 400px;\n",
       "}\n",
       "</style>\n",
       "<table id=\"T_d4f5d\">\n",
       "  <thead>\n",
       "    <tr>\n",
       "      <th class=\"blank level0\" >&nbsp;</th>\n",
       "      <th id=\"T_d4f5d_level0_col0\" class=\"col_heading level0 col0\" >text</th>\n",
       "      <th id=\"T_d4f5d_level0_col1\" class=\"col_heading level0 col1\" >example_label</th>\n",
       "      <th id=\"T_d4f5d_level0_col2\" class=\"col_heading level0 col2\" >original_text</th>\n",
       "      <th id=\"T_d4f5d_level0_col3\" class=\"col_heading level0 col3\" >original_label</th>\n",
       "      <th id=\"T_d4f5d_level0_col4\" class=\"col_heading level0 col4\" >index</th>\n",
       "      <th id=\"T_d4f5d_level0_col5\" class=\"col_heading level0 col5\" >type</th>\n",
       "      <th id=\"T_d4f5d_level0_col6\" class=\"col_heading level0 col6\" >pred_label</th>\n",
       "      <th id=\"T_d4f5d_level0_col7\" class=\"col_heading level0 col7\" >eval_metric</th>\n",
       "    </tr>\n",
       "  </thead>\n",
       "  <tbody>\n",
       "    <tr>\n",
       "      <th id=\"T_d4f5d_level0_row0\" class=\"row_heading level0 row0\" >0</th>\n",
       "      <td id=\"T_d4f5d_row0_col0\" class=\"data row0 col0\" >Santa is actually innocent of the crime, which was instead masterminded by scheming relative Cousin Mel, who is mentioned briefly in the song, made into...</td>\n",
       "      <td id=\"T_d4f5d_row0_col1\" class=\"data row0 col1\" >[{'text': 'Santa', 'value': 'PERSON'}, {'text': 'Cousin Mel', 'value': 'PERSON'}]</td>\n",
       "      <td id=\"T_d4f5d_row0_col2\" class=\"data row0 col2\" >Moreover, Santa is actually innocent of the crime, which was instead masterminded by scheming relative Cousin Mel, who is mentioned briefly in the song but...</td>\n",
       "      <td id=\"T_d4f5d_row0_col3\" class=\"data row0 col3\" >[{'Santa': 'PERSON'}, {'Cousin Mel': 'PERSON'}]</td>\n",
       "      <td id=\"T_d4f5d_row0_col4\" class=\"data row0 col4\" >43</td>\n",
       "      <td id=\"T_d4f5d_row0_col5\" class=\"data row0 col5\" >delete</td>\n",
       "      <td id=\"T_d4f5d_row0_col6\" class=\"data row0 col6\" >[{\"text\": \"Santa\", \"value\": \"PERSON\"}, {\"text\": \"Cousin Mel\", \"value\": \"PERSON\"}]</td>\n",
       "      <td id=\"T_d4f5d_row0_col7\" class=\"data row0 col7\" >✔️ [1.000]</td>\n",
       "    </tr>\n",
       "  </tbody>\n",
       "</table>\n"
      ],
      "text/plain": [
       "<pandas.io.formats.style.Styler at 0x12fb90470>"
      ]
     },
     "metadata": {},
     "output_type": "display_data"
    },
    {
     "data": {
      "text/html": [
       "\n",
       "                <div style='\n",
       "                    text-align: center;\n",
       "                    font-size: 16px;\n",
       "                    font-weight: bold;\n",
       "                    color: #555;\n",
       "                    margin: 10px 0;'>\n",
       "                    ... 71 more rows not displayed ...\n",
       "                </div>\n",
       "                "
      ],
      "text/plain": [
       "<IPython.core.display.HTML object>"
      ]
     },
     "metadata": {},
     "output_type": "display_data"
    },
    {
     "name": "stdout",
     "output_type": "stream",
     "text": [
      "../preprocessing/data_after_phase2/rahmad/compound_word_100.json\n"
     ]
    },
    {
     "name": "stderr",
     "output_type": "stream",
     "text": [
      "Average Metric: 53.39575163398692 / 86  (62.1): 100%|██████████| 86/86 [00:00<00:00, 2779.95it/s] \n"
     ]
    },
    {
     "data": {
      "text/html": [
       "<style type=\"text/css\">\n",
       "#T_2077f th {\n",
       "  text-align: left;\n",
       "}\n",
       "#T_2077f td {\n",
       "  text-align: left;\n",
       "}\n",
       "#T_2077f_row0_col0, #T_2077f_row0_col1, #T_2077f_row0_col2, #T_2077f_row0_col3, #T_2077f_row0_col4, #T_2077f_row0_col5, #T_2077f_row0_col6, #T_2077f_row0_col7 {\n",
       "  text-align: left;\n",
       "  white-space: pre-wrap;\n",
       "  word-wrap: break-word;\n",
       "  max-width: 400px;\n",
       "}\n",
       "</style>\n",
       "<table id=\"T_2077f\">\n",
       "  <thead>\n",
       "    <tr>\n",
       "      <th class=\"blank level0\" >&nbsp;</th>\n",
       "      <th id=\"T_2077f_level0_col0\" class=\"col_heading level0 col0\" >text</th>\n",
       "      <th id=\"T_2077f_level0_col1\" class=\"col_heading level0 col1\" >example_label</th>\n",
       "      <th id=\"T_2077f_level0_col2\" class=\"col_heading level0 col2\" >original_text</th>\n",
       "      <th id=\"T_2077f_level0_col3\" class=\"col_heading level0 col3\" >original_label</th>\n",
       "      <th id=\"T_2077f_level0_col4\" class=\"col_heading level0 col4\" >index</th>\n",
       "      <th id=\"T_2077f_level0_col5\" class=\"col_heading level0 col5\" >type</th>\n",
       "      <th id=\"T_2077f_level0_col6\" class=\"col_heading level0 col6\" >pred_label</th>\n",
       "      <th id=\"T_2077f_level0_col7\" class=\"col_heading level0 col7\" >eval_metric</th>\n",
       "    </tr>\n",
       "  </thead>\n",
       "  <tbody>\n",
       "    <tr>\n",
       "      <th id=\"T_2077f_level0_row0\" class=\"row_heading level0 row0\" >0</th>\n",
       "      <td id=\"T_2077f_row0_col0\" class=\"data row0 col0\" >Most of the town is actually a high-security gated community called Orchid Island Golf and Beach Club.</td>\n",
       "      <td id=\"T_2077f_row0_col1\" class=\"data row0 col1\" >[{'text': 'Orchid Island Golf and Beach Club', 'value': 'LOCATION'}]</td>\n",
       "      <td id=\"T_2077f_row0_col2\" class=\"data row0 col2\" >Most of the town is actually a gated community called Orchid Island Golf and Beach Club.</td>\n",
       "      <td id=\"T_2077f_row0_col3\" class=\"data row0 col3\" >[{'Orchid Island Golf and Beach Club': 'LOCATION'}]</td>\n",
       "      <td id=\"T_2077f_row0_col4\" class=\"data row0 col4\" >47</td>\n",
       "      <td id=\"T_2077f_row0_col5\" class=\"data row0 col5\" >None</td>\n",
       "      <td id=\"T_2077f_row0_col6\" class=\"data row0 col6\" >[{\"text\": \"Orchid Island Golf and Beach Club\", \"value\": \"LOCATION\"}]</td>\n",
       "      <td id=\"T_2077f_row0_col7\" class=\"data row0 col7\" >✔️ [1.000]</td>\n",
       "    </tr>\n",
       "  </tbody>\n",
       "</table>\n"
      ],
      "text/plain": [
       "<pandas.io.formats.style.Styler at 0x1448a4650>"
      ]
     },
     "metadata": {},
     "output_type": "display_data"
    },
    {
     "data": {
      "text/html": [
       "\n",
       "                <div style='\n",
       "                    text-align: center;\n",
       "                    font-size: 16px;\n",
       "                    font-weight: bold;\n",
       "                    color: #555;\n",
       "                    margin: 10px 0;'>\n",
       "                    ... 85 more rows not displayed ...\n",
       "                </div>\n",
       "                "
      ],
      "text/plain": [
       "<IPython.core.display.HTML object>"
      ]
     },
     "metadata": {},
     "output_type": "display_data"
    },
    {
     "name": "stdout",
     "output_type": "stream",
     "text": [
      "../preprocessing/data_after_phase2/rahmad/temporal_bias_100.json\n"
     ]
    },
    {
     "name": "stderr",
     "output_type": "stream",
     "text": [
      "Average Metric: 55.99611238434767 / 91  (61.5): 100%|██████████| 91/91 [00:00<00:00, 2999.44it/s] \n"
     ]
    },
    {
     "data": {
      "text/html": [
       "<style type=\"text/css\">\n",
       "#T_e93ce th {\n",
       "  text-align: left;\n",
       "}\n",
       "#T_e93ce td {\n",
       "  text-align: left;\n",
       "}\n",
       "#T_e93ce_row0_col0, #T_e93ce_row0_col1, #T_e93ce_row0_col2, #T_e93ce_row0_col3, #T_e93ce_row0_col4, #T_e93ce_row0_col5, #T_e93ce_row0_col6, #T_e93ce_row0_col7 {\n",
       "  text-align: left;\n",
       "  white-space: pre-wrap;\n",
       "  word-wrap: break-word;\n",
       "  max-width: 400px;\n",
       "}\n",
       "</style>\n",
       "<table id=\"T_e93ce\">\n",
       "  <thead>\n",
       "    <tr>\n",
       "      <th class=\"blank level0\" >&nbsp;</th>\n",
       "      <th id=\"T_e93ce_level0_col0\" class=\"col_heading level0 col0\" >text</th>\n",
       "      <th id=\"T_e93ce_level0_col1\" class=\"col_heading level0 col1\" >example_label</th>\n",
       "      <th id=\"T_e93ce_level0_col2\" class=\"col_heading level0 col2\" >original_text</th>\n",
       "      <th id=\"T_e93ce_level0_col3\" class=\"col_heading level0 col3\" >original_label</th>\n",
       "      <th id=\"T_e93ce_level0_col4\" class=\"col_heading level0 col4\" >index</th>\n",
       "      <th id=\"T_e93ce_level0_col5\" class=\"col_heading level0 col5\" >type</th>\n",
       "      <th id=\"T_e93ce_level0_col6\" class=\"col_heading level0 col6\" >pred_label</th>\n",
       "      <th id=\"T_e93ce_level0_col7\" class=\"col_heading level0 col7\" >eval_metric</th>\n",
       "    </tr>\n",
       "  </thead>\n",
       "  <tbody>\n",
       "    <tr>\n",
       "      <th id=\"T_e93ce_level0_row0\" class=\"row_heading level0 row0\" >0</th>\n",
       "      <td id=\"T_e93ce_row0_col0\" class=\"data row0 col0\" >Moreover, Santa is actually innocent of the crime, which was instead masterminded by scheming relative Cousin Mel, who is mentioned briefly in the song but...</td>\n",
       "      <td id=\"T_e93ce_row0_col1\" class=\"data row0 col1\" >[{'text': 'Santa', 'value': 'PERSON'}, {'text': 'Cousin Mel', 'value': 'PERSON'}]</td>\n",
       "      <td id=\"T_e93ce_row0_col2\" class=\"data row0 col2\" >Moreover, Santa is actually innocent of the crime, which was instead masterminded by scheming relative Cousin Mel, who is mentioned briefly in the song but...</td>\n",
       "      <td id=\"T_e93ce_row0_col3\" class=\"data row0 col3\" >[{'Santa': 'PERSON'}, {'Cousin Mel': 'PERSON'}]</td>\n",
       "      <td id=\"T_e93ce_row0_col4\" class=\"data row0 col4\" >43</td>\n",
       "      <td id=\"T_e93ce_row0_col5\" class=\"data row0 col5\" >None</td>\n",
       "      <td id=\"T_e93ce_row0_col6\" class=\"data row0 col6\" >[{\"text\": \"Santa\", \"value\": \"PERSON\"}, {\"text\": \"Cousin Mel\", \"value\": \"PERSON\"}]</td>\n",
       "      <td id=\"T_e93ce_row0_col7\" class=\"data row0 col7\" >✔️ [1.000]</td>\n",
       "    </tr>\n",
       "  </tbody>\n",
       "</table>\n"
      ],
      "text/plain": [
       "<pandas.io.formats.style.Styler at 0x1449c16d0>"
      ]
     },
     "metadata": {},
     "output_type": "display_data"
    },
    {
     "data": {
      "text/html": [
       "\n",
       "                <div style='\n",
       "                    text-align: center;\n",
       "                    font-size: 16px;\n",
       "                    font-weight: bold;\n",
       "                    color: #555;\n",
       "                    margin: 10px 0;'>\n",
       "                    ... 90 more rows not displayed ...\n",
       "                </div>\n",
       "                "
      ],
      "text/plain": [
       "<IPython.core.display.HTML object>"
      ]
     },
     "metadata": {},
     "output_type": "display_data"
    },
    {
     "name": "stdout",
     "output_type": "stream",
     "text": [
      "../preprocessing/data_after_phase2/rahmad/coordinating_conjunction_100.json\n"
     ]
    },
    {
     "name": "stderr",
     "output_type": "stream",
     "text": [
      "Average Metric: 46.700649350649336 / 61  (76.6): 100%|██████████| 61/61 [00:00<00:00, 2696.02it/s]\n"
     ]
    },
    {
     "data": {
      "text/html": [
       "<style type=\"text/css\">\n",
       "#T_2e792 th {\n",
       "  text-align: left;\n",
       "}\n",
       "#T_2e792 td {\n",
       "  text-align: left;\n",
       "}\n",
       "#T_2e792_row0_col0, #T_2e792_row0_col1, #T_2e792_row0_col2, #T_2e792_row0_col3, #T_2e792_row0_col4, #T_2e792_row0_col5, #T_2e792_row0_col6, #T_2e792_row0_col7 {\n",
       "  text-align: left;\n",
       "  white-space: pre-wrap;\n",
       "  word-wrap: break-word;\n",
       "  max-width: 400px;\n",
       "}\n",
       "</style>\n",
       "<table id=\"T_2e792\">\n",
       "  <thead>\n",
       "    <tr>\n",
       "      <th class=\"blank level0\" >&nbsp;</th>\n",
       "      <th id=\"T_2e792_level0_col0\" class=\"col_heading level0 col0\" >text</th>\n",
       "      <th id=\"T_2e792_level0_col1\" class=\"col_heading level0 col1\" >example_label</th>\n",
       "      <th id=\"T_2e792_level0_col2\" class=\"col_heading level0 col2\" >original_text</th>\n",
       "      <th id=\"T_2e792_level0_col3\" class=\"col_heading level0 col3\" >original_label</th>\n",
       "      <th id=\"T_2e792_level0_col4\" class=\"col_heading level0 col4\" >index</th>\n",
       "      <th id=\"T_2e792_level0_col5\" class=\"col_heading level0 col5\" >type</th>\n",
       "      <th id=\"T_2e792_level0_col6\" class=\"col_heading level0 col6\" >pred_label</th>\n",
       "      <th id=\"T_2e792_level0_col7\" class=\"col_heading level0 col7\" >eval_metric</th>\n",
       "    </tr>\n",
       "  </thead>\n",
       "  <tbody>\n",
       "    <tr>\n",
       "      <th id=\"T_2e792_level0_row0\" class=\"row_heading level0 row0\" >0</th>\n",
       "      <td id=\"T_2e792_row0_col0\" class=\"data row0 col0\" >Internal conflicts, especially between Covaci and Baniciu, were escalating and making headlines in the media.</td>\n",
       "      <td id=\"T_2e792_row0_col1\" class=\"data row0 col1\" >[{'text': 'Baniciu', 'value': 'PERSON'}, {'text': 'Covaci', 'value': 'PERSON'}]</td>\n",
       "      <td id=\"T_2e792_row0_col2\" class=\"data row0 col2\" >Internal conflicts, especially between Covaci and Baniciu, were making headlines in the media.</td>\n",
       "      <td id=\"T_2e792_row0_col3\" class=\"data row0 col3\" >[{'text': 'Baniciu', 'value': 'PERSON'}, {'text': 'Covaci', 'value': 'PERSON'}]</td>\n",
       "      <td id=\"T_2e792_row0_col4\" class=\"data row0 col4\" >57</td>\n",
       "      <td id=\"T_2e792_row0_col5\" class=\"data row0 col5\" >None</td>\n",
       "      <td id=\"T_2e792_row0_col6\" class=\"data row0 col6\" >[{\"text\": \"Covaci\", \"value\": \"PERSON\"}, {\"text\": \"Baniciu\", \"value\": \"PERSON\"}]</td>\n",
       "      <td id=\"T_2e792_row0_col7\" class=\"data row0 col7\" >✔️ [1.000]</td>\n",
       "    </tr>\n",
       "  </tbody>\n",
       "</table>\n"
      ],
      "text/plain": [
       "<pandas.io.formats.style.Styler at 0x12fbc2ff0>"
      ]
     },
     "metadata": {},
     "output_type": "display_data"
    },
    {
     "data": {
      "text/html": [
       "\n",
       "                <div style='\n",
       "                    text-align: center;\n",
       "                    font-size: 16px;\n",
       "                    font-weight: bold;\n",
       "                    color: #555;\n",
       "                    margin: 10px 0;'>\n",
       "                    ... 60 more rows not displayed ...\n",
       "                </div>\n",
       "                "
      ],
      "text/plain": [
       "<IPython.core.display.HTML object>"
      ]
     },
     "metadata": {},
     "output_type": "display_data"
    },
    {
     "name": "stdout",
     "output_type": "stream",
     "text": [
      "../preprocessing/data_after_phase2/rahmad/capitalization_100.json\n"
     ]
    },
    {
     "name": "stderr",
     "output_type": "stream",
     "text": [
      "Average Metric: 58.761624649859925 / 100  (58.8): 100%|██████████| 100/100 [00:00<00:00, 3063.55it/s]\n"
     ]
    },
    {
     "data": {
      "text/html": [
       "<style type=\"text/css\">\n",
       "#T_73d69 th {\n",
       "  text-align: left;\n",
       "}\n",
       "#T_73d69 td {\n",
       "  text-align: left;\n",
       "}\n",
       "#T_73d69_row0_col0, #T_73d69_row0_col1, #T_73d69_row0_col2, #T_73d69_row0_col3, #T_73d69_row0_col4, #T_73d69_row0_col5, #T_73d69_row0_col6, #T_73d69_row0_col7 {\n",
       "  text-align: left;\n",
       "  white-space: pre-wrap;\n",
       "  word-wrap: break-word;\n",
       "  max-width: 400px;\n",
       "}\n",
       "</style>\n",
       "<table id=\"T_73d69\">\n",
       "  <thead>\n",
       "    <tr>\n",
       "      <th class=\"blank level0\" >&nbsp;</th>\n",
       "      <th id=\"T_73d69_level0_col0\" class=\"col_heading level0 col0\" >text</th>\n",
       "      <th id=\"T_73d69_level0_col1\" class=\"col_heading level0 col1\" >example_label</th>\n",
       "      <th id=\"T_73d69_level0_col2\" class=\"col_heading level0 col2\" >original_text</th>\n",
       "      <th id=\"T_73d69_level0_col3\" class=\"col_heading level0 col3\" >original_label</th>\n",
       "      <th id=\"T_73d69_level0_col4\" class=\"col_heading level0 col4\" >index</th>\n",
       "      <th id=\"T_73d69_level0_col5\" class=\"col_heading level0 col5\" >type</th>\n",
       "      <th id=\"T_73d69_level0_col6\" class=\"col_heading level0 col6\" >pred_label</th>\n",
       "      <th id=\"T_73d69_level0_col7\" class=\"col_heading level0 col7\" >eval_metric</th>\n",
       "    </tr>\n",
       "  </thead>\n",
       "  <tbody>\n",
       "    <tr>\n",
       "      <th id=\"T_73d69_level0_row0\" class=\"row_heading level0 row0\" >0</th>\n",
       "      <td id=\"T_73d69_row0_col0\" class=\"data row0 col0\" >The B-52 PILOT, Major Larry G.Messinger, later recalled,</td>\n",
       "      <td id=\"T_73d69_row0_col1\" class=\"data row0 col1\" >[{'text': 'B-52', 'value': 'PRODUCT'}, {'text': 'Larry G.Messinger', 'value': 'PERSON'}]</td>\n",
       "      <td id=\"T_73d69_row0_col2\" class=\"data row0 col2\" >The B-52 pilot, Major Larry G.Messinger, later recalled,</td>\n",
       "      <td id=\"T_73d69_row0_col3\" class=\"data row0 col3\" >[{'B-52': 'PRODUCT'}, {'Larry G.Messinger': 'PERSON'}]</td>\n",
       "      <td id=\"T_73d69_row0_col4\" class=\"data row0 col4\" >3</td>\n",
       "      <td id=\"T_73d69_row0_col5\" class=\"data row0 col5\" >None</td>\n",
       "      <td id=\"T_73d69_row0_col6\" class=\"data row0 col6\" >[{\"text\": \"B-52\", \"value\": \"PRODUCT\"}, {\"text\": \"Major Larry G.Messinger\", \"value\": \"PERSON\"}]</td>\n",
       "      <td id=\"T_73d69_row0_col7\" class=\"data row0 col7\" >✔️ [0.500]</td>\n",
       "    </tr>\n",
       "  </tbody>\n",
       "</table>\n"
      ],
      "text/plain": [
       "<pandas.io.formats.style.Styler at 0x144901d60>"
      ]
     },
     "metadata": {},
     "output_type": "display_data"
    },
    {
     "data": {
      "text/html": [
       "\n",
       "                <div style='\n",
       "                    text-align: center;\n",
       "                    font-size: 16px;\n",
       "                    font-weight: bold;\n",
       "                    color: #555;\n",
       "                    margin: 10px 0;'>\n",
       "                    ... 99 more rows not displayed ...\n",
       "                </div>\n",
       "                "
      ],
      "text/plain": [
       "<IPython.core.display.HTML object>"
      ]
     },
     "metadata": {},
     "output_type": "display_data"
    },
    {
     "name": "stdout",
     "output_type": "stream",
     "text": [
      "../preprocessing/data_after_phase2/rahmad/dialectal_100.json\n"
     ]
    },
    {
     "name": "stderr",
     "output_type": "stream",
     "text": [
      "Average Metric: 61.20051353874881 / 99  (61.8): 100%|██████████| 99/99 [00:00<00:00, 3242.31it/s] \n"
     ]
    },
    {
     "data": {
      "text/html": [
       "<style type=\"text/css\">\n",
       "#T_558ae th {\n",
       "  text-align: left;\n",
       "}\n",
       "#T_558ae td {\n",
       "  text-align: left;\n",
       "}\n",
       "#T_558ae_row0_col0, #T_558ae_row0_col1, #T_558ae_row0_col2, #T_558ae_row0_col3, #T_558ae_row0_col4, #T_558ae_row0_col5, #T_558ae_row0_col6, #T_558ae_row0_col7 {\n",
       "  text-align: left;\n",
       "  white-space: pre-wrap;\n",
       "  word-wrap: break-word;\n",
       "  max-width: 400px;\n",
       "}\n",
       "</style>\n",
       "<table id=\"T_558ae\">\n",
       "  <thead>\n",
       "    <tr>\n",
       "      <th class=\"blank level0\" >&nbsp;</th>\n",
       "      <th id=\"T_558ae_level0_col0\" class=\"col_heading level0 col0\" >text</th>\n",
       "      <th id=\"T_558ae_level0_col1\" class=\"col_heading level0 col1\" >example_label</th>\n",
       "      <th id=\"T_558ae_level0_col2\" class=\"col_heading level0 col2\" >original_text</th>\n",
       "      <th id=\"T_558ae_level0_col3\" class=\"col_heading level0 col3\" >original_label</th>\n",
       "      <th id=\"T_558ae_level0_col4\" class=\"col_heading level0 col4\" >index</th>\n",
       "      <th id=\"T_558ae_level0_col5\" class=\"col_heading level0 col5\" >type</th>\n",
       "      <th id=\"T_558ae_level0_col6\" class=\"col_heading level0 col6\" >pred_label</th>\n",
       "      <th id=\"T_558ae_level0_col7\" class=\"col_heading level0 col7\" >eval_metric</th>\n",
       "    </tr>\n",
       "  </thead>\n",
       "  <tbody>\n",
       "    <tr>\n",
       "      <th id=\"T_558ae_level0_row0\" class=\"row_heading level0 row0\" >0</th>\n",
       "      <td id=\"T_558ae_row0_col0\" class=\"data row0 col0\" >The kampong people also not happy lor, then from 1846 to 1848, they more and more against Sturdza.</td>\n",
       "      <td id=\"T_558ae_row0_col1\" class=\"data row0 col1\" >[{'text': 'Sturdza', 'value': 'PERSON'}]</td>\n",
       "      <td id=\"T_558ae_row0_col2\" class=\"data row0 col2\" >The peasantry was also aggrieved, and between 1846 and 1848 opposition to Sturdza intensified.</td>\n",
       "      <td id=\"T_558ae_row0_col3\" class=\"data row0 col3\" >[{'Sturdza': 'PERSON'}]</td>\n",
       "      <td id=\"T_558ae_row0_col4\" class=\"data row0 col4\" >41</td>\n",
       "      <td id=\"T_558ae_row0_col5\" class=\"data row0 col5\" >singaporean_english</td>\n",
       "      <td id=\"T_558ae_row0_col6\" class=\"data row0 col6\" >[{\"text\": \"Sturdza\", \"value\": \"PERSON\"}]</td>\n",
       "      <td id=\"T_558ae_row0_col7\" class=\"data row0 col7\" >✔️ [1.000]</td>\n",
       "    </tr>\n",
       "  </tbody>\n",
       "</table>\n"
      ],
      "text/plain": [
       "<pandas.io.formats.style.Styler at 0x12efd9490>"
      ]
     },
     "metadata": {},
     "output_type": "display_data"
    },
    {
     "data": {
      "text/html": [
       "\n",
       "                <div style='\n",
       "                    text-align: center;\n",
       "                    font-size: 16px;\n",
       "                    font-weight: bold;\n",
       "                    color: #555;\n",
       "                    margin: 10px 0;'>\n",
       "                    ... 98 more rows not displayed ...\n",
       "                </div>\n",
       "                "
      ],
      "text/plain": [
       "<IPython.core.display.HTML object>"
      ]
     },
     "metadata": {},
     "output_type": "display_data"
    },
    {
     "name": "stdout",
     "output_type": "stream",
     "text": [
      "../preprocessing/data_after_phase2/rahmad/sentiment_100.json\n"
     ]
    },
    {
     "name": "stderr",
     "output_type": "stream",
     "text": [
      "Average Metric: 77.45829725829728 / 123  (63.0): 100%|██████████| 123/123 [00:00<00:00, 264.27it/s]\n"
     ]
    },
    {
     "data": {
      "text/html": [
       "<style type=\"text/css\">\n",
       "#T_87da9 th {\n",
       "  text-align: left;\n",
       "}\n",
       "#T_87da9 td {\n",
       "  text-align: left;\n",
       "}\n",
       "#T_87da9_row0_col0, #T_87da9_row0_col1, #T_87da9_row0_col2, #T_87da9_row0_col3, #T_87da9_row0_col4, #T_87da9_row0_col5, #T_87da9_row0_col6, #T_87da9_row0_col7 {\n",
       "  text-align: left;\n",
       "  white-space: pre-wrap;\n",
       "  word-wrap: break-word;\n",
       "  max-width: 400px;\n",
       "}\n",
       "</style>\n",
       "<table id=\"T_87da9\">\n",
       "  <thead>\n",
       "    <tr>\n",
       "      <th class=\"blank level0\" >&nbsp;</th>\n",
       "      <th id=\"T_87da9_level0_col0\" class=\"col_heading level0 col0\" >text</th>\n",
       "      <th id=\"T_87da9_level0_col1\" class=\"col_heading level0 col1\" >example_label</th>\n",
       "      <th id=\"T_87da9_level0_col2\" class=\"col_heading level0 col2\" >original_text</th>\n",
       "      <th id=\"T_87da9_level0_col3\" class=\"col_heading level0 col3\" >original_label</th>\n",
       "      <th id=\"T_87da9_level0_col4\" class=\"col_heading level0 col4\" >index</th>\n",
       "      <th id=\"T_87da9_level0_col5\" class=\"col_heading level0 col5\" >type</th>\n",
       "      <th id=\"T_87da9_level0_col6\" class=\"col_heading level0 col6\" >pred_label</th>\n",
       "      <th id=\"T_87da9_level0_col7\" class=\"col_heading level0 col7\" >eval_metric</th>\n",
       "    </tr>\n",
       "  </thead>\n",
       "  <tbody>\n",
       "    <tr>\n",
       "      <th id=\"T_87da9_level0_row0\" class=\"row_heading level0 row0\" >0</th>\n",
       "      <td id=\"T_87da9_row0_col0\" class=\"data row0 col0\" >Loyalists reluctantly recruited from Queens County, New York by Lieutenant Colonel Richard Hewlett for the 3rd battalion DeLancey's Brigade had barely established a fortified position...</td>\n",
       "      <td id=\"T_87da9_row0_col1\" class=\"data row0 col1\" >[{'text': 'Queens County', 'value': 'LOCATION'}, {'text': 'New York', 'value': 'LOCATION'}, {'text': 'Richard Hewlett', 'value': 'PERSON'}, {'text': \"DeLancey's Brigade\", 'value': 'ORGANIZATION'}, {'text': 'Long Island', 'value': 'LOCATION'},...</td>\n",
       "      <td id=\"T_87da9_row0_col2\" class=\"data row0 col2\" >Loyalists recruited from Queens County, New York by Lieutenant Colonel Richard Hewlett for the 3rd battalion DeLancey's Brigade had established a fortified position in early...</td>\n",
       "      <td id=\"T_87da9_row0_col3\" class=\"data row0 col3\" >[{'Queens County': 'LOCATION'}, {'New York': 'LOCATION'}, {'Richard Hewlett': 'PERSON'}, {\"DeLancey's Brigade\": 'ORGANIZATION'}, {'Long Island': 'LOCATION'}, {'Setauket': 'LOCATION'}, {'Long Island Sound': 'LOCATION'}, {'Fairfield': 'LOCATION'}]</td>\n",
       "      <td id=\"T_87da9_row0_col4\" class=\"data row0 col4\" >65</td>\n",
       "      <td id=\"T_87da9_row0_col5\" class=\"data row0 col5\" >negative</td>\n",
       "      <td id=\"T_87da9_row0_col6\" class=\"data row0 col6\" >[{\"text\": \"Queens County\", \"value\": \"LOCATION\"}, {\"text\": \"New York\", \"value\": \"LOCATION\"}, {\"text\": \"Richard Hewlett\", \"value\": \"PERSON\"}, {\"text\": \"DeLancey's Brigade\", \"value\": \"ORGANIZATION\"}, {\"text\": \"Long Island\", \"value\": \"LOCATION\"},...</td>\n",
       "      <td id=\"T_87da9_row0_col7\" class=\"data row0 col7\" >✔️ [1.000]</td>\n",
       "    </tr>\n",
       "  </tbody>\n",
       "</table>\n"
      ],
      "text/plain": [
       "<pandas.io.formats.style.Styler at 0x143e2a3f0>"
      ]
     },
     "metadata": {},
     "output_type": "display_data"
    },
    {
     "data": {
      "text/html": [
       "\n",
       "                <div style='\n",
       "                    text-align: center;\n",
       "                    font-size: 16px;\n",
       "                    font-weight: bold;\n",
       "                    color: #555;\n",
       "                    margin: 10px 0;'>\n",
       "                    ... 122 more rows not displayed ...\n",
       "                </div>\n",
       "                "
      ],
      "text/plain": [
       "<IPython.core.display.HTML object>"
      ]
     },
     "metadata": {},
     "output_type": "display_data"
    },
    {
     "name": "stdout",
     "output_type": "stream",
     "text": [
      "../preprocessing/data_after_phase2/rahmad/grammatical_role_100.json\n"
     ]
    },
    {
     "name": "stderr",
     "output_type": "stream",
     "text": [
      "Average Metric: 56.80534759358287 / 83  (68.4): 100%|██████████| 83/83 [00:00<00:00, 2509.30it/s] \n"
     ]
    },
    {
     "data": {
      "text/html": [
       "<style type=\"text/css\">\n",
       "#T_55d90 th {\n",
       "  text-align: left;\n",
       "}\n",
       "#T_55d90 td {\n",
       "  text-align: left;\n",
       "}\n",
       "#T_55d90_row0_col0, #T_55d90_row0_col1, #T_55d90_row0_col2, #T_55d90_row0_col3, #T_55d90_row0_col4, #T_55d90_row0_col5, #T_55d90_row0_col6, #T_55d90_row0_col7 {\n",
       "  text-align: left;\n",
       "  white-space: pre-wrap;\n",
       "  word-wrap: break-word;\n",
       "  max-width: 400px;\n",
       "}\n",
       "</style>\n",
       "<table id=\"T_55d90\">\n",
       "  <thead>\n",
       "    <tr>\n",
       "      <th class=\"blank level0\" >&nbsp;</th>\n",
       "      <th id=\"T_55d90_level0_col0\" class=\"col_heading level0 col0\" >text</th>\n",
       "      <th id=\"T_55d90_level0_col1\" class=\"col_heading level0 col1\" >example_label</th>\n",
       "      <th id=\"T_55d90_level0_col2\" class=\"col_heading level0 col2\" >original_text</th>\n",
       "      <th id=\"T_55d90_level0_col3\" class=\"col_heading level0 col3\" >original_label</th>\n",
       "      <th id=\"T_55d90_level0_col4\" class=\"col_heading level0 col4\" >index</th>\n",
       "      <th id=\"T_55d90_level0_col5\" class=\"col_heading level0 col5\" >type</th>\n",
       "      <th id=\"T_55d90_level0_col6\" class=\"col_heading level0 col6\" >pred_label</th>\n",
       "      <th id=\"T_55d90_level0_col7\" class=\"col_heading level0 col7\" >eval_metric</th>\n",
       "    </tr>\n",
       "  </thead>\n",
       "  <tbody>\n",
       "    <tr>\n",
       "      <th id=\"T_55d90_level0_row0\" class=\"row_heading level0 row0\" >0</th>\n",
       "      <td id=\"T_55d90_row0_col0\" class=\"data row0 col0\" >Her brother ran unsuccessfully for New York from the United States House of Representatives upstate, in 1992 and 1994.</td>\n",
       "      <td id=\"T_55d90_row0_col1\" class=\"data row0 col1\" >[{'text': 'New York', 'value': 'LOCATION'}, {'text': 'United States House of Representatives', 'value': 'ORGANIZATION'}]</td>\n",
       "      <td id=\"T_55d90_row0_col2\" class=\"data row0 col2\" >Her brother ran unsuccessfully for the United States House of Representatives from upstate New York, in 1992 and 1994.</td>\n",
       "      <td id=\"T_55d90_row0_col3\" class=\"data row0 col3\" >[{'text': 'New York', 'value': 'LOCATION'}, {'text': 'United States House of Representatives', 'value': 'ORGANIZATION'}]</td>\n",
       "      <td id=\"T_55d90_row0_col4\" class=\"data row0 col4\" >63</td>\n",
       "      <td id=\"T_55d90_row0_col5\" class=\"data row0 col5\" >None</td>\n",
       "      <td id=\"T_55d90_row0_col6\" class=\"data row0 col6\" >[{\"text\": \"New York\", \"value\": \"LOCATION\"}, {\"text\": \"United States House of Representatives\", \"value\": \"ORGANIZATION\"}]</td>\n",
       "      <td id=\"T_55d90_row0_col7\" class=\"data row0 col7\" >✔️ [1.000]</td>\n",
       "    </tr>\n",
       "  </tbody>\n",
       "</table>\n"
      ],
      "text/plain": [
       "<pandas.io.formats.style.Styler at 0x12fba2c00>"
      ]
     },
     "metadata": {},
     "output_type": "display_data"
    },
    {
     "data": {
      "text/html": [
       "\n",
       "                <div style='\n",
       "                    text-align: center;\n",
       "                    font-size: 16px;\n",
       "                    font-weight: bold;\n",
       "                    color: #555;\n",
       "                    margin: 10px 0;'>\n",
       "                    ... 82 more rows not displayed ...\n",
       "                </div>\n",
       "                "
      ],
      "text/plain": [
       "<IPython.core.display.HTML object>"
      ]
     },
     "metadata": {},
     "output_type": "display_data"
    },
    {
     "name": "stdout",
     "output_type": "stream",
     "text": [
      "../preprocessing/data_after_phase2/rahmad/length_bias_100.json\n"
     ]
    },
    {
     "name": "stderr",
     "output_type": "stream",
     "text": [
      "Average Metric: 54.911434317316655 / 92  (59.7): 100%|██████████| 92/92 [00:00<00:00, 2888.16it/s]\n"
     ]
    },
    {
     "data": {
      "text/html": [
       "<style type=\"text/css\">\n",
       "#T_ea6fd th {\n",
       "  text-align: left;\n",
       "}\n",
       "#T_ea6fd td {\n",
       "  text-align: left;\n",
       "}\n",
       "#T_ea6fd_row0_col0, #T_ea6fd_row0_col1, #T_ea6fd_row0_col2, #T_ea6fd_row0_col3, #T_ea6fd_row0_col4, #T_ea6fd_row0_col5, #T_ea6fd_row0_col6, #T_ea6fd_row0_col7 {\n",
       "  text-align: left;\n",
       "  white-space: pre-wrap;\n",
       "  word-wrap: break-word;\n",
       "  max-width: 400px;\n",
       "}\n",
       "</style>\n",
       "<table id=\"T_ea6fd\">\n",
       "  <thead>\n",
       "    <tr>\n",
       "      <th class=\"blank level0\" >&nbsp;</th>\n",
       "      <th id=\"T_ea6fd_level0_col0\" class=\"col_heading level0 col0\" >text</th>\n",
       "      <th id=\"T_ea6fd_level0_col1\" class=\"col_heading level0 col1\" >example_label</th>\n",
       "      <th id=\"T_ea6fd_level0_col2\" class=\"col_heading level0 col2\" >original_text</th>\n",
       "      <th id=\"T_ea6fd_level0_col3\" class=\"col_heading level0 col3\" >original_label</th>\n",
       "      <th id=\"T_ea6fd_level0_col4\" class=\"col_heading level0 col4\" >index</th>\n",
       "      <th id=\"T_ea6fd_level0_col5\" class=\"col_heading level0 col5\" >type</th>\n",
       "      <th id=\"T_ea6fd_level0_col6\" class=\"col_heading level0 col6\" >pred_label</th>\n",
       "      <th id=\"T_ea6fd_level0_col7\" class=\"col_heading level0 col7\" >eval_metric</th>\n",
       "    </tr>\n",
       "  </thead>\n",
       "  <tbody>\n",
       "    <tr>\n",
       "      <th id=\"T_ea6fd_level0_row0\" class=\"row_heading level0 row0\" >0</th>\n",
       "      <td id=\"T_ea6fd_row0_col0\" class=\"data row0 col0\" >He produced Kim Fowley and BMX Bandits' ``Hidden Agenda At the Thirteenth Not`` for Receiver Records.</td>\n",
       "      <td id=\"T_ea6fd_row0_col1\" class=\"data row0 col1\" >[{'text': 'Kim Fowley', 'value': 'PERSON'}, {'text': 'BMX Bandits', 'value': 'ORGANIZATION'}, {'text': 'Receiver Records', 'value': 'ORGANIZATION'}, {'text': 'Hidden Agenda At the Thirteenth Not', 'value': 'ART'}]</td>\n",
       "      <td id=\"T_ea6fd_row0_col2\" class=\"data row0 col2\" >He went on to produce Kim Fowley and the BMX Bandits (band) Receiver Records' album ``Hidden Agenda At the Thirteenth Not``.</td>\n",
       "      <td id=\"T_ea6fd_row0_col3\" class=\"data row0 col3\" >[{'Kim Fowley': 'PERSON'}, {'BMX Bandits': 'ORGANIZATION'}, {'Receiver Records': 'ORGANIZATION'}, {'Hidden Agenda At the Thirteenth Not': 'ART'}]</td>\n",
       "      <td id=\"T_ea6fd_row0_col4\" class=\"data row0 col4\" >25</td>\n",
       "      <td id=\"T_ea6fd_row0_col5\" class=\"data row0 col5\" >shorter</td>\n",
       "      <td id=\"T_ea6fd_row0_col6\" class=\"data row0 col6\" >[{\"text\": \"Kim Fowley\", \"value\": \"PERSON\"}, {\"text\": \"BMX Bandits\", \"value\": \"ORGANIZATION\"}, {\"text\": \"Receiver Records\", \"value\": \"ORGANIZATION\"}]</td>\n",
       "      <td id=\"T_ea6fd_row0_col7\" class=\"data row0 col7\" >✔️ [0.857]</td>\n",
       "    </tr>\n",
       "  </tbody>\n",
       "</table>\n"
      ],
      "text/plain": [
       "<pandas.io.formats.style.Styler at 0x144b3ccb0>"
      ]
     },
     "metadata": {},
     "output_type": "display_data"
    },
    {
     "data": {
      "text/html": [
       "\n",
       "                <div style='\n",
       "                    text-align: center;\n",
       "                    font-size: 16px;\n",
       "                    font-weight: bold;\n",
       "                    color: #555;\n",
       "                    margin: 10px 0;'>\n",
       "                    ... 91 more rows not displayed ...\n",
       "                </div>\n",
       "                "
      ],
      "text/plain": [
       "<IPython.core.display.HTML object>"
      ]
     },
     "metadata": {},
     "output_type": "display_data"
    },
    {
     "name": "stdout",
     "output_type": "stream",
     "text": [
      "../preprocessing/data_after_phase2/rahmad/concept_replacement_100.json\n"
     ]
    },
    {
     "name": "stderr",
     "output_type": "stream",
     "text": [
      "Average Metric: 50.61690009337067 / 85  (59.5): 100%|██████████| 85/85 [00:00<00:00, 3182.81it/s] \n"
     ]
    },
    {
     "data": {
      "text/html": [
       "<style type=\"text/css\">\n",
       "#T_94b2d th {\n",
       "  text-align: left;\n",
       "}\n",
       "#T_94b2d td {\n",
       "  text-align: left;\n",
       "}\n",
       "#T_94b2d_row0_col0, #T_94b2d_row0_col1, #T_94b2d_row0_col2, #T_94b2d_row0_col3, #T_94b2d_row0_col4, #T_94b2d_row0_col5, #T_94b2d_row0_col6, #T_94b2d_row0_col7 {\n",
       "  text-align: left;\n",
       "  white-space: pre-wrap;\n",
       "  word-wrap: break-word;\n",
       "  max-width: 400px;\n",
       "}\n",
       "</style>\n",
       "<table id=\"T_94b2d\">\n",
       "  <thead>\n",
       "    <tr>\n",
       "      <th class=\"blank level0\" >&nbsp;</th>\n",
       "      <th id=\"T_94b2d_level0_col0\" class=\"col_heading level0 col0\" >text</th>\n",
       "      <th id=\"T_94b2d_level0_col1\" class=\"col_heading level0 col1\" >example_label</th>\n",
       "      <th id=\"T_94b2d_level0_col2\" class=\"col_heading level0 col2\" >original_text</th>\n",
       "      <th id=\"T_94b2d_level0_col3\" class=\"col_heading level0 col3\" >original_label</th>\n",
       "      <th id=\"T_94b2d_level0_col4\" class=\"col_heading level0 col4\" >index</th>\n",
       "      <th id=\"T_94b2d_level0_col5\" class=\"col_heading level0 col5\" >type</th>\n",
       "      <th id=\"T_94b2d_level0_col6\" class=\"col_heading level0 col6\" >pred_label</th>\n",
       "      <th id=\"T_94b2d_level0_col7\" class=\"col_heading level0 col7\" >eval_metric</th>\n",
       "    </tr>\n",
       "  </thead>\n",
       "  <tbody>\n",
       "    <tr>\n",
       "      <th id=\"T_94b2d_level0_row0\" class=\"row_heading level0 row0\" >0</th>\n",
       "      <td id=\"T_94b2d_row0_col0\" class=\"data row0 col0\" >It is the brainchild of Golaem, a France-based software company (born in Rennes in 2009).</td>\n",
       "      <td id=\"T_94b2d_row0_col1\" class=\"data row0 col1\" >[{'text': 'Golaem', 'value': 'ORGANIZATION'}, {'text': 'France', 'value': 'LOCATION'}, {'text': 'Rennes', 'value': 'LOCATION'}]</td>\n",
       "      <td id=\"T_94b2d_row0_col2\" class=\"data row0 col2\" >It is developed by Golaem, a France -based software company (created in Rennes in 2009).</td>\n",
       "      <td id=\"T_94b2d_row0_col3\" class=\"data row0 col3\" >[{'Golaem': 'ORGANIZATION'}, {'France': 'LOCATION'}, {'Rennes': 'LOCATION'}]</td>\n",
       "      <td id=\"T_94b2d_row0_col4\" class=\"data row0 col4\" >28</td>\n",
       "      <td id=\"T_94b2d_row0_col5\" class=\"data row0 col5\" >idiom</td>\n",
       "      <td id=\"T_94b2d_row0_col6\" class=\"data row0 col6\" >[{\"text\": \"Golaem\", \"value\": \"ORGANIZATION\"}, {\"text\": \"France\", \"value\": \"LOCATION\"}, {\"text\": \"Rennes\", \"value\": \"LOCATION\"}]</td>\n",
       "      <td id=\"T_94b2d_row0_col7\" class=\"data row0 col7\" >✔️ [1.000]</td>\n",
       "    </tr>\n",
       "  </tbody>\n",
       "</table>\n"
      ],
      "text/plain": [
       "<pandas.io.formats.style.Styler at 0x143fcb500>"
      ]
     },
     "metadata": {},
     "output_type": "display_data"
    },
    {
     "data": {
      "text/html": [
       "\n",
       "                <div style='\n",
       "                    text-align: center;\n",
       "                    font-size: 16px;\n",
       "                    font-weight: bold;\n",
       "                    color: #555;\n",
       "                    margin: 10px 0;'>\n",
       "                    ... 84 more rows not displayed ...\n",
       "                </div>\n",
       "                "
      ],
      "text/plain": [
       "<IPython.core.display.HTML object>"
      ]
     },
     "metadata": {},
     "output_type": "display_data"
    },
    {
     "name": "stdout",
     "output_type": "stream",
     "text": [
      "../preprocessing/data_after_phase2/rahmad/typo_bias_100.json\n"
     ]
    },
    {
     "name": "stderr",
     "output_type": "stream",
     "text": [
      "Average Metric: 59.62302436125964 / 100  (59.6): 100%|██████████| 100/100 [00:00<00:00, 1410.18it/s]\n"
     ]
    },
    {
     "data": {
      "text/html": [
       "<style type=\"text/css\">\n",
       "#T_f754c th {\n",
       "  text-align: left;\n",
       "}\n",
       "#T_f754c td {\n",
       "  text-align: left;\n",
       "}\n",
       "#T_f754c_row0_col0, #T_f754c_row0_col1, #T_f754c_row0_col2, #T_f754c_row0_col3, #T_f754c_row0_col4, #T_f754c_row0_col5, #T_f754c_row0_col6, #T_f754c_row0_col7 {\n",
       "  text-align: left;\n",
       "  white-space: pre-wrap;\n",
       "  word-wrap: break-word;\n",
       "  max-width: 400px;\n",
       "}\n",
       "</style>\n",
       "<table id=\"T_f754c\">\n",
       "  <thead>\n",
       "    <tr>\n",
       "      <th class=\"blank level0\" >&nbsp;</th>\n",
       "      <th id=\"T_f754c_level0_col0\" class=\"col_heading level0 col0\" >text</th>\n",
       "      <th id=\"T_f754c_level0_col1\" class=\"col_heading level0 col1\" >example_label</th>\n",
       "      <th id=\"T_f754c_level0_col2\" class=\"col_heading level0 col2\" >original_text</th>\n",
       "      <th id=\"T_f754c_level0_col3\" class=\"col_heading level0 col3\" >original_label</th>\n",
       "      <th id=\"T_f754c_level0_col4\" class=\"col_heading level0 col4\" >index</th>\n",
       "      <th id=\"T_f754c_level0_col5\" class=\"col_heading level0 col5\" >type</th>\n",
       "      <th id=\"T_f754c_level0_col6\" class=\"col_heading level0 col6\" >pred_label</th>\n",
       "      <th id=\"T_f754c_level0_col7\" class=\"col_heading level0 col7\" >eval_metric</th>\n",
       "    </tr>\n",
       "  </thead>\n",
       "  <tbody>\n",
       "    <tr>\n",
       "      <th id=\"T_f754c_level0_row0\" class=\"row_heading level0 row0\" >0</th>\n",
       "      <td id=\"T_f754c_row0_col0\" class=\"data row0 col0\" >A German teacher for much of her life, MacKeith also advocated for peace during the Aldermaston Marches in the 1950s and demonstrations against the Vietnam...</td>\n",
       "      <td id=\"T_f754c_row0_col1\" class=\"data row0 col1\" >[{'text': 'German', 'value': 'LOCATION'}, {'text': 'MacKeith', 'value': 'PERSON'}, {'text': 'Aldermaston Marches', 'value': 'EVENT'}, {'text': 'Vietnam War', 'value': 'EVENT'}, {'text': 'Grosvenor Squar', 'value': 'LOCATION'}]</td>\n",
       "      <td id=\"T_f754c_row0_col2\" class=\"data row0 col2\" >A German teacher for much of her life, MacKeith also advocated for peace during the Aldermaston Marches in the 1950s and demonstrations against the Vietnam...</td>\n",
       "      <td id=\"T_f754c_row0_col3\" class=\"data row0 col3\" >[{'German': 'LOCATION'}, {'MacKeith': 'PERSON'}, {'Aldermaston Marches': 'EVENT'}, {'Vietnam War': 'EVENT'}, {'Grosvenor Square': 'LOCATION'}]</td>\n",
       "      <td id=\"T_f754c_row0_col4\" class=\"data row0 col4\" >74</td>\n",
       "      <td id=\"T_f754c_row0_col5\" class=\"data row0 col5\" >None</td>\n",
       "      <td id=\"T_f754c_row0_col6\" class=\"data row0 col6\" >[{\"text\": \"Aldermaston Marches\", \"value\": \"EVENT\"}, {\"text\": \"Vietnam War\", \"value\": \"EVENT\"}, {\"text\": \"Grosvenor Squar\", \"value\": \"LOCATION\"}, {\"text\": \"MacKeith\", \"value\": \"PERSON\"}]</td>\n",
       "      <td id=\"T_f754c_row0_col7\" class=\"data row0 col7\" >✔️ [0.889]</td>\n",
       "    </tr>\n",
       "  </tbody>\n",
       "</table>\n"
      ],
      "text/plain": [
       "<pandas.io.formats.style.Styler at 0x1328aa900>"
      ]
     },
     "metadata": {},
     "output_type": "display_data"
    },
    {
     "data": {
      "text/html": [
       "\n",
       "                <div style='\n",
       "                    text-align: center;\n",
       "                    font-size: 16px;\n",
       "                    font-weight: bold;\n",
       "                    color: #555;\n",
       "                    margin: 10px 0;'>\n",
       "                    ... 99 more rows not displayed ...\n",
       "                </div>\n",
       "                "
      ],
      "text/plain": [
       "<IPython.core.display.HTML object>"
      ]
     },
     "metadata": {},
     "output_type": "display_data"
    },
    {
     "name": "stdout",
     "output_type": "stream",
     "text": [
      "../preprocessing/data_after_phase2/rahmad/geographical_bias_100.json\n"
     ]
    },
    {
     "name": "stderr",
     "output_type": "stream",
     "text": [
      "Average Metric: 75.67702210070631 / 102  (74.2): 100%|██████████| 102/102 [00:00<00:00, 3032.54it/s]\n"
     ]
    },
    {
     "data": {
      "text/html": [
       "<style type=\"text/css\">\n",
       "#T_b53f6 th {\n",
       "  text-align: left;\n",
       "}\n",
       "#T_b53f6 td {\n",
       "  text-align: left;\n",
       "}\n",
       "#T_b53f6_row0_col0, #T_b53f6_row0_col1, #T_b53f6_row0_col2, #T_b53f6_row0_col3, #T_b53f6_row0_col4, #T_b53f6_row0_col5, #T_b53f6_row0_col6, #T_b53f6_row0_col7 {\n",
       "  text-align: left;\n",
       "  white-space: pre-wrap;\n",
       "  word-wrap: break-word;\n",
       "  max-width: 400px;\n",
       "}\n",
       "</style>\n",
       "<table id=\"T_b53f6\">\n",
       "  <thead>\n",
       "    <tr>\n",
       "      <th class=\"blank level0\" >&nbsp;</th>\n",
       "      <th id=\"T_b53f6_level0_col0\" class=\"col_heading level0 col0\" >text</th>\n",
       "      <th id=\"T_b53f6_level0_col1\" class=\"col_heading level0 col1\" >example_label</th>\n",
       "      <th id=\"T_b53f6_level0_col2\" class=\"col_heading level0 col2\" >original_text</th>\n",
       "      <th id=\"T_b53f6_level0_col3\" class=\"col_heading level0 col3\" >original_label</th>\n",
       "      <th id=\"T_b53f6_level0_col4\" class=\"col_heading level0 col4\" >index</th>\n",
       "      <th id=\"T_b53f6_level0_col5\" class=\"col_heading level0 col5\" >type</th>\n",
       "      <th id=\"T_b53f6_level0_col6\" class=\"col_heading level0 col6\" >pred_label</th>\n",
       "      <th id=\"T_b53f6_level0_col7\" class=\"col_heading level0 col7\" >eval_metric</th>\n",
       "    </tr>\n",
       "  </thead>\n",
       "  <tbody>\n",
       "    <tr>\n",
       "      <th id=\"T_b53f6_level0_row0\" class=\"row_heading level0 row0\" >0</th>\n",
       "      <td id=\"T_b53f6_row0_col0\" class=\"data row0 col0\" >The Nauruan fishing community built and operated two types of advanced fishing vessels.</td>\n",
       "      <td id=\"T_b53f6_row0_col1\" class=\"data row0 col1\" >[{'text': 'Nauruan fishing community', 'value': 'ORGANIZATION'}]</td>\n",
       "      <td id=\"T_b53f6_row0_col2\" class=\"data row0 col2\" >The Austro-Hungarian Navy built and operated two classes of protected cruisers.</td>\n",
       "      <td id=\"T_b53f6_row0_col3\" class=\"data row0 col3\" >[{'text': 'Austro-Hungarian Navy', 'value': 'ORGANIZATION'}]</td>\n",
       "      <td id=\"T_b53f6_row0_col4\" class=\"data row0 col4\" >4</td>\n",
       "      <td id=\"T_b53f6_row0_col5\" class=\"data row0 col5\" >None</td>\n",
       "      <td id=\"T_b53f6_row0_col6\" class=\"data row0 col6\" >[{\"text\": \"Nauruan\", \"value\": \"LOCATION\"}]</td>\n",
       "      <td id=\"T_b53f6_row0_col7\" class=\"data row0 col7\" ></td>\n",
       "    </tr>\n",
       "  </tbody>\n",
       "</table>\n"
      ],
      "text/plain": [
       "<pandas.io.formats.style.Styler at 0x144613170>"
      ]
     },
     "metadata": {},
     "output_type": "display_data"
    },
    {
     "data": {
      "text/html": [
       "\n",
       "                <div style='\n",
       "                    text-align: center;\n",
       "                    font-size: 16px;\n",
       "                    font-weight: bold;\n",
       "                    color: #555;\n",
       "                    margin: 10px 0;'>\n",
       "                    ... 101 more rows not displayed ...\n",
       "                </div>\n",
       "                "
      ],
      "text/plain": [
       "<IPython.core.display.HTML object>"
      ]
     },
     "metadata": {},
     "output_type": "display_data"
    },
    {
     "name": "stdout",
     "output_type": "stream",
     "text": [
      "../preprocessing/data_after_phase2/rahmad/punctuation_100.json\n"
     ]
    },
    {
     "name": "stderr",
     "output_type": "stream",
     "text": [
      "Average Metric: 53.40021645021644 / 100  (53.4): 100%|██████████| 100/100 [00:00<00:00, 3170.37it/s]\n"
     ]
    },
    {
     "data": {
      "text/html": [
       "<style type=\"text/css\">\n",
       "#T_44735 th {\n",
       "  text-align: left;\n",
       "}\n",
       "#T_44735 td {\n",
       "  text-align: left;\n",
       "}\n",
       "#T_44735_row0_col0, #T_44735_row0_col1, #T_44735_row0_col2, #T_44735_row0_col3, #T_44735_row0_col4, #T_44735_row0_col5, #T_44735_row0_col6, #T_44735_row0_col7 {\n",
       "  text-align: left;\n",
       "  white-space: pre-wrap;\n",
       "  word-wrap: break-word;\n",
       "  max-width: 400px;\n",
       "}\n",
       "</style>\n",
       "<table id=\"T_44735\">\n",
       "  <thead>\n",
       "    <tr>\n",
       "      <th class=\"blank level0\" >&nbsp;</th>\n",
       "      <th id=\"T_44735_level0_col0\" class=\"col_heading level0 col0\" >text</th>\n",
       "      <th id=\"T_44735_level0_col1\" class=\"col_heading level0 col1\" >example_label</th>\n",
       "      <th id=\"T_44735_level0_col2\" class=\"col_heading level0 col2\" >original_text</th>\n",
       "      <th id=\"T_44735_level0_col3\" class=\"col_heading level0 col3\" >original_label</th>\n",
       "      <th id=\"T_44735_level0_col4\" class=\"col_heading level0 col4\" >index</th>\n",
       "      <th id=\"T_44735_level0_col5\" class=\"col_heading level0 col5\" >type</th>\n",
       "      <th id=\"T_44735_level0_col6\" class=\"col_heading level0 col6\" >pred_label</th>\n",
       "      <th id=\"T_44735_level0_col7\" class=\"col_heading level0 col7\" >eval_metric</th>\n",
       "    </tr>\n",
       "  </thead>\n",
       "  <tbody>\n",
       "    <tr>\n",
       "      <th id=\"T_44735_level0_row0\" class=\"row_heading level0 row0\" >0</th>\n",
       "      <td id=\"T_44735_row0_col0\" class=\"data row0 col0\" >Conway is the hub of operations for Norfolk Southern in the Greater Pittsburgh area, featuring a hump yard and a crew change point for virtually...</td>\n",
       "      <td id=\"T_44735_row0_col1\" class=\"data row0 col1\" >[{'text': 'Conway', 'value': 'LOCATION'}, {'text': 'Norfolk Southern', 'value': 'LOCATION'}, {'text': 'Greater Pittsburgh', 'value': 'LOCATION'}, {'text': 'Pittsburgh', 'value': 'LOCATION'}, {'text': 'FortWayne Line', 'value': 'LOCATION'}]</td>\n",
       "      <td id=\"T_44735_row0_col2\" class=\"data row0 col2\" >Conway is the hub of operations for Norfolk Southern in the Greater Pittsburgh area, featuring a hump yard and a crew change point for virtually...</td>\n",
       "      <td id=\"T_44735_row0_col3\" class=\"data row0 col3\" >[{'Conway': 'LOCATION'}, {'Norfolk Southern': 'LOCATION'}, {'Greater Pittsburgh': 'LOCATION'}, {'Pittsburgh': 'LOCATION'}, {'Fort Wayne Line': 'LOCATION'}]</td>\n",
       "      <td id=\"T_44735_row0_col4\" class=\"data row0 col4\" >35</td>\n",
       "      <td id=\"T_44735_row0_col5\" class=\"data row0 col5\" >None</td>\n",
       "      <td id=\"T_44735_row0_col6\" class=\"data row0 col6\" >[{\"text\": \"Conway\", \"value\": \"LOCATION\"}, {\"text\": \"Norfolk Southern\", \"value\": \"ORGANIZATION\"}, {\"text\": \"Greater Pittsburgh\", \"value\": \"LOCATION\"}, {\"text\": \"Pittsburgh\", \"value\": \"LOCATION\"}, {\"text\": \"FortWayne Line\", \"value\": \"LOCATION\"}]</td>\n",
       "      <td id=\"T_44735_row0_col7\" class=\"data row0 col7\" >✔️ [1.000]</td>\n",
       "    </tr>\n",
       "  </tbody>\n",
       "</table>\n"
      ],
      "text/plain": [
       "<pandas.io.formats.style.Styler at 0x132fab0e0>"
      ]
     },
     "metadata": {},
     "output_type": "display_data"
    },
    {
     "data": {
      "text/html": [
       "\n",
       "                <div style='\n",
       "                    text-align: center;\n",
       "                    font-size: 16px;\n",
       "                    font-weight: bold;\n",
       "                    color: #555;\n",
       "                    margin: 10px 0;'>\n",
       "                    ... 99 more rows not displayed ...\n",
       "                </div>\n",
       "                "
      ],
      "text/plain": [
       "<IPython.core.display.HTML object>"
      ]
     },
     "metadata": {},
     "output_type": "display_data"
    },
    {
     "name": "stdout",
     "output_type": "stream",
     "text": [
      "../preprocessing/data_after_phase2/rahmad/derivation_100.json\n"
     ]
    },
    {
     "name": "stderr",
     "output_type": "stream",
     "text": [
      "Average Metric: 43.966170104405386 / 69  (63.7): 100%|██████████| 69/69 [00:00<00:00, 1098.27it/s]\n"
     ]
    },
    {
     "data": {
      "text/html": [
       "<style type=\"text/css\">\n",
       "#T_28d46 th {\n",
       "  text-align: left;\n",
       "}\n",
       "#T_28d46 td {\n",
       "  text-align: left;\n",
       "}\n",
       "#T_28d46_row0_col0, #T_28d46_row0_col1, #T_28d46_row0_col2, #T_28d46_row0_col3, #T_28d46_row0_col4, #T_28d46_row0_col5, #T_28d46_row0_col6, #T_28d46_row0_col7 {\n",
       "  text-align: left;\n",
       "  white-space: pre-wrap;\n",
       "  word-wrap: break-word;\n",
       "  max-width: 400px;\n",
       "}\n",
       "</style>\n",
       "<table id=\"T_28d46\">\n",
       "  <thead>\n",
       "    <tr>\n",
       "      <th class=\"blank level0\" >&nbsp;</th>\n",
       "      <th id=\"T_28d46_level0_col0\" class=\"col_heading level0 col0\" >text</th>\n",
       "      <th id=\"T_28d46_level0_col1\" class=\"col_heading level0 col1\" >example_label</th>\n",
       "      <th id=\"T_28d46_level0_col2\" class=\"col_heading level0 col2\" >original_text</th>\n",
       "      <th id=\"T_28d46_level0_col3\" class=\"col_heading level0 col3\" >original_label</th>\n",
       "      <th id=\"T_28d46_level0_col4\" class=\"col_heading level0 col4\" >index</th>\n",
       "      <th id=\"T_28d46_level0_col5\" class=\"col_heading level0 col5\" >type</th>\n",
       "      <th id=\"T_28d46_level0_col6\" class=\"col_heading level0 col6\" >pred_label</th>\n",
       "      <th id=\"T_28d46_level0_col7\" class=\"col_heading level0 col7\" >eval_metric</th>\n",
       "    </tr>\n",
       "  </thead>\n",
       "  <tbody>\n",
       "    <tr>\n",
       "      <th id=\"T_28d46_level0_row0\" class=\"row_heading level0 row0\" >0</th>\n",
       "      <td id=\"T_28d46_row0_col0\" class=\"data row0 col0\" >The government announced a national funeral and a day of national mourning.</td>\n",
       "      <td id=\"T_28d46_row0_col1\" class=\"data row0 col1\" >[]</td>\n",
       "      <td id=\"T_28d46_row0_col2\" class=\"data row0 col2\" >The government announced a state funeral and a day of national mourning.</td>\n",
       "      <td id=\"T_28d46_row0_col3\" class=\"data row0 col3\" >[]</td>\n",
       "      <td id=\"T_28d46_row0_col4\" class=\"data row0 col4\" >46</td>\n",
       "      <td id=\"T_28d46_row0_col5\" class=\"data row0 col5\" >None</td>\n",
       "      <td id=\"T_28d46_row0_col6\" class=\"data row0 col6\" >[{\"text\": \"government\", \"value\": \"ORGANIZATION\"}, {\"text\": \"national funeral\", \"value\": \"EVENT\"}, {\"text\": \"day of national mourning\", \"value\": \"EVENT\"}]</td>\n",
       "      <td id=\"T_28d46_row0_col7\" class=\"data row0 col7\" ></td>\n",
       "    </tr>\n",
       "  </tbody>\n",
       "</table>\n"
      ],
      "text/plain": [
       "<pandas.io.formats.style.Styler at 0x132e82c90>"
      ]
     },
     "metadata": {},
     "output_type": "display_data"
    },
    {
     "data": {
      "text/html": [
       "\n",
       "                <div style='\n",
       "                    text-align: center;\n",
       "                    font-size: 16px;\n",
       "                    font-weight: bold;\n",
       "                    color: #555;\n",
       "                    margin: 10px 0;'>\n",
       "                    ... 68 more rows not displayed ...\n",
       "                </div>\n",
       "                "
      ],
      "text/plain": [
       "<IPython.core.display.HTML object>"
      ]
     },
     "metadata": {},
     "output_type": "display_data"
    },
    {
     "name": "stdout",
     "output_type": "stream",
     "text": [
      "../preprocessing/data_after_phase2/rahmad/active_to_passive_100.json\n"
     ]
    },
    {
     "name": "stderr",
     "output_type": "stream",
     "text": [
      "Average Metric: 50.45845004668533 / 81  (62.3): 100%|██████████| 81/81 [00:00<00:00, 329.93it/s] \n"
     ]
    },
    {
     "data": {
      "text/html": [
       "<style type=\"text/css\">\n",
       "#T_af188 th {\n",
       "  text-align: left;\n",
       "}\n",
       "#T_af188 td {\n",
       "  text-align: left;\n",
       "}\n",
       "#T_af188_row0_col0, #T_af188_row0_col1, #T_af188_row0_col2, #T_af188_row0_col3, #T_af188_row0_col4, #T_af188_row0_col5, #T_af188_row0_col6, #T_af188_row0_col7 {\n",
       "  text-align: left;\n",
       "  white-space: pre-wrap;\n",
       "  word-wrap: break-word;\n",
       "  max-width: 400px;\n",
       "}\n",
       "</style>\n",
       "<table id=\"T_af188\">\n",
       "  <thead>\n",
       "    <tr>\n",
       "      <th class=\"blank level0\" >&nbsp;</th>\n",
       "      <th id=\"T_af188_level0_col0\" class=\"col_heading level0 col0\" >text</th>\n",
       "      <th id=\"T_af188_level0_col1\" class=\"col_heading level0 col1\" >example_label</th>\n",
       "      <th id=\"T_af188_level0_col2\" class=\"col_heading level0 col2\" >original_text</th>\n",
       "      <th id=\"T_af188_level0_col3\" class=\"col_heading level0 col3\" >original_label</th>\n",
       "      <th id=\"T_af188_level0_col4\" class=\"col_heading level0 col4\" >index</th>\n",
       "      <th id=\"T_af188_level0_col5\" class=\"col_heading level0 col5\" >type</th>\n",
       "      <th id=\"T_af188_level0_col6\" class=\"col_heading level0 col6\" >pred_label</th>\n",
       "      <th id=\"T_af188_level0_col7\" class=\"col_heading level0 col7\" >eval_metric</th>\n",
       "    </tr>\n",
       "  </thead>\n",
       "  <tbody>\n",
       "    <tr>\n",
       "      <th id=\"T_af188_level0_row0\" class=\"row_heading level0 row0\" >0</th>\n",
       "      <td id=\"T_af188_row0_col0\" class=\"data row0 col0\" >Genre classics are focused on by Back to Basics, with older movies and underground cult films being shown, and with occasional stabs at mainstream and...</td>\n",
       "      <td id=\"T_af188_row0_col1\" class=\"data row0 col1\" >[{'text': 'Back to Basics', 'value': 'ORGANIZATION'}]</td>\n",
       "      <td id=\"T_af188_row0_col2\" class=\"data row0 col2\" >Back to Basics focuses on genre classics, showing older movies and underground cult films, with occasional stabs at mainstream and newer genre pieces.</td>\n",
       "      <td id=\"T_af188_row0_col3\" class=\"data row0 col3\" >[{'Back to Basics': 'ORGANIZATION'}]</td>\n",
       "      <td id=\"T_af188_row0_col4\" class=\"data row0 col4\" >56</td>\n",
       "      <td id=\"T_af188_row0_col5\" class=\"data row0 col5\" >None</td>\n",
       "      <td id=\"T_af188_row0_col6\" class=\"data row0 col6\" >[{\"text\": \"Back to Basics\", \"value\": \"ORGANIZATION\"}]</td>\n",
       "      <td id=\"T_af188_row0_col7\" class=\"data row0 col7\" >✔️ [1.000]</td>\n",
       "    </tr>\n",
       "  </tbody>\n",
       "</table>\n"
      ],
      "text/plain": [
       "<pandas.io.formats.style.Styler at 0x144985b50>"
      ]
     },
     "metadata": {},
     "output_type": "display_data"
    },
    {
     "data": {
      "text/html": [
       "\n",
       "                <div style='\n",
       "                    text-align: center;\n",
       "                    font-size: 16px;\n",
       "                    font-weight: bold;\n",
       "                    color: #555;\n",
       "                    margin: 10px 0;'>\n",
       "                    ... 80 more rows not displayed ...\n",
       "                </div>\n",
       "                "
      ],
      "text/plain": [
       "<IPython.core.display.HTML object>"
      ]
     },
     "metadata": {},
     "output_type": "display_data"
    },
    {
     "name": "stdout",
     "output_type": "stream",
     "text": [
      "../preprocessing/data_after_phase2/rahmad/negation_100.json\n"
     ]
    },
    {
     "name": "stderr",
     "output_type": "stream",
     "text": [
      "Average Metric: 63.374306739012596 / 110  (57.6): 100%|██████████| 110/110 [00:00<00:00, 1793.37it/s]\n"
     ]
    },
    {
     "data": {
      "text/html": [
       "<style type=\"text/css\">\n",
       "#T_d74ea th {\n",
       "  text-align: left;\n",
       "}\n",
       "#T_d74ea td {\n",
       "  text-align: left;\n",
       "}\n",
       "#T_d74ea_row0_col0, #T_d74ea_row0_col1, #T_d74ea_row0_col2, #T_d74ea_row0_col3, #T_d74ea_row0_col4, #T_d74ea_row0_col5, #T_d74ea_row0_col6, #T_d74ea_row0_col7 {\n",
       "  text-align: left;\n",
       "  white-space: pre-wrap;\n",
       "  word-wrap: break-word;\n",
       "  max-width: 400px;\n",
       "}\n",
       "</style>\n",
       "<table id=\"T_d74ea\">\n",
       "  <thead>\n",
       "    <tr>\n",
       "      <th class=\"blank level0\" >&nbsp;</th>\n",
       "      <th id=\"T_d74ea_level0_col0\" class=\"col_heading level0 col0\" >text</th>\n",
       "      <th id=\"T_d74ea_level0_col1\" class=\"col_heading level0 col1\" >example_label</th>\n",
       "      <th id=\"T_d74ea_level0_col2\" class=\"col_heading level0 col2\" >original_text</th>\n",
       "      <th id=\"T_d74ea_level0_col3\" class=\"col_heading level0 col3\" >original_label</th>\n",
       "      <th id=\"T_d74ea_level0_col4\" class=\"col_heading level0 col4\" >index</th>\n",
       "      <th id=\"T_d74ea_level0_col5\" class=\"col_heading level0 col5\" >type</th>\n",
       "      <th id=\"T_d74ea_level0_col6\" class=\"col_heading level0 col6\" >pred_label</th>\n",
       "      <th id=\"T_d74ea_level0_col7\" class=\"col_heading level0 col7\" >eval_metric</th>\n",
       "    </tr>\n",
       "  </thead>\n",
       "  <tbody>\n",
       "    <tr>\n",
       "      <th id=\"T_d74ea_level0_row0\" class=\"row_heading level0 row0\" >0</th>\n",
       "      <td id=\"T_d74ea_row0_col0\" class=\"data row0 col0\" >It is developed by no company, neither Golaem nor any other (created in Rennes in 2009).</td>\n",
       "      <td id=\"T_d74ea_row0_col1\" class=\"data row0 col1\" >[{'text': 'Golaem', 'value': 'ORGANIZATION'}, {'text': 'Rennes', 'value': 'LOCATION'}]</td>\n",
       "      <td id=\"T_d74ea_row0_col2\" class=\"data row0 col2\" >It is developed by Golaem, a France -based software company (created in Rennes in 2009).</td>\n",
       "      <td id=\"T_d74ea_row0_col3\" class=\"data row0 col3\" >[{'Golaem': 'ORGANIZATION'}, {'France': 'LOCATION'}, {'Rennes': 'LOCATION'}]</td>\n",
       "      <td id=\"T_d74ea_row0_col4\" class=\"data row0 col4\" >28</td>\n",
       "      <td id=\"T_d74ea_row0_col5\" class=\"data row0 col5\" >absolute</td>\n",
       "      <td id=\"T_d74ea_row0_col6\" class=\"data row0 col6\" >[{\"text\": \"Golaem\", \"value\": \"ORGANIZATION\"}, {\"text\": \"Rennes\", \"value\": \"LOCATION\"}]</td>\n",
       "      <td id=\"T_d74ea_row0_col7\" class=\"data row0 col7\" >✔️ [1.000]</td>\n",
       "    </tr>\n",
       "  </tbody>\n",
       "</table>\n"
      ],
      "text/plain": [
       "<pandas.io.formats.style.Styler at 0x12fb85010>"
      ]
     },
     "metadata": {},
     "output_type": "display_data"
    },
    {
     "data": {
      "text/html": [
       "\n",
       "                <div style='\n",
       "                    text-align: center;\n",
       "                    font-size: 16px;\n",
       "                    font-weight: bold;\n",
       "                    color: #555;\n",
       "                    margin: 10px 0;'>\n",
       "                    ... 109 more rows not displayed ...\n",
       "                </div>\n",
       "                "
      ],
      "text/plain": [
       "<IPython.core.display.HTML object>"
      ]
     },
     "metadata": {},
     "output_type": "display_data"
    }
   ],
   "source": [
    "original_pred_ds = pd.read_csv('results/ner/llama-0shot-ner.csv', index_col=False)\n",
    "original_pred_ds['text'] = original_pred_ds['text'].apply(lambda x: remove_space(x.encode('utf-8').decode('unicode-escape')))  # Replace 'your_function' with the actual function\n",
    "\n",
    "# Get specific json files we want to process\n",
    "json_files = glob.glob('../data/modified_data/ner/*_100.json')\n",
    "\n",
    "for json_file in json_files:\n",
    "    # if 'negation' not in json_file:\n",
    "    #     continue\n",
    "    # Load the json file\n",
    "    print(json_file)\n",
    "    with open(json_file, 'r') as f:\n",
    "        data = json.load(f)\n",
    "    \n",
    "    results = evaluate_modified_set(data,simple_ent)\n",
    "\n",
    "    # Convert results to dataframe\n",
    "    items = []\n",
    "    for sample in results[1]:\n",
    "        item = {}\n",
    "        sentence = sample[0]['text']\n",
    "        label = sample[0]['label'] \n",
    "        # print(sample)\n",
    "        if sample[1] == {}:\n",
    "            pred = \"[]\"\n",
    "        else:\n",
    "            pred = sample[1]['label']\n",
    "        item['text'] = sentence\n",
    "        # print(label)\n",
    "        # item['modified_label'] = [{entity['text']: entity['value']} for entity in label]\n",
    "        item['modified_label'] = label\n",
    "        pred = extract_prediction(pred)\n",
    "        item['modified_pred'] = pred\n",
    "        item['modified_pred'] = [{entity['text']: entity['value']} for entity in pred]\n",
    "        original_text = sample[0]['original_text'].encode('utf-8').decode('unicode-escape')\n",
    "        item['original_text'] = original_text\n",
    "        index = sample[0]['index']\n",
    "        # Find the best match for the original_text in the original_pred_ds['text'] using difflib\n",
    "        matches = original_pred_ds['pred'].iloc[index] if index < len(original_pred_ds) else []\n",
    "        # print(matches)\n",
    "        item['original_label'] = sample[0]['original_label']\n",
    "        item['original_pred'] = matches if matches else '[]'\n",
    "        # Check if original_label is NaN and assign modified_label if it is\n",
    "        if pd.isna(item['original_label']):\n",
    "            item['original_label'] = item['modified_label']\n",
    "        item['type'] = sample[0]['type']\n",
    "        items.append(item)\n",
    "    \n",
    "    df_result = pd.DataFrame(data=items)\n",
    "    \n",
    "    # Save results with filename based on input json\n",
    "    output_filename = f\"results/ner/llama-0shot-{json_file.split('/')[-1].replace('.json', '')}_new.csv\"\n",
    "    df_result.to_csv(output_filename)\n"
   ]
  },
  {
   "cell_type": "code",
   "execution_count": 113,
   "metadata": {},
   "outputs": [],
   "source": [
    "from scipy import stats"
   ]
  },
  {
   "cell_type": "code",
   "execution_count": 115,
   "metadata": {},
   "outputs": [
    {
     "name": "stdout",
     "output_type": "stream",
     "text": [
      "concept_replacement_100\n",
      "negation_100\n",
      "temporal_bias_100\n",
      "grammatical_role_100\n",
      "discourse_100\n",
      "coordinating_conjunction_100\n",
      "geographical_bias_100\n",
      "punctuation_100\n",
      "length_bias_100\n",
      "capitalization_100\n",
      "active_to_passive_100\n",
      "compound_word_100\n",
      "dialectal_100\n",
      "typo_bias_100\n",
      "casual_100\n",
      "derivation_100\n",
      "sentiment_100\n",
      "\n",
      "\n"
     ]
    },
    {
     "name": "stderr",
     "output_type": "stream",
     "text": [
      "/var/folders/10/sw0slq6565ddbg_lqxxhpqzh0000gn/T/ipykernel_41203/490617621.py:115: FutureWarning: The behavior of DataFrame concatenation with empty or all-NA entries is deprecated. In a future version, this will no longer exclude empty or all-NA columns when determining the result dtypes. To retain the old behavior, exclude the relevant entries before the concat operation.\n",
      "  results_df.loc[len(results_df)] = {\n"
     ]
    },
    {
     "data": {
      "text/html": [
       "<style type=\"text/css\">\n",
       "#T_7f67e_row0_col0, #T_7f67e_row0_col1, #T_7f67e_row0_col2, #T_7f67e_row0_col3, #T_7f67e_row0_col4, #T_7f67e_row0_col5, #T_7f67e_row0_col6, #T_7f67e_row0_col7, #T_7f67e_row0_col8, #T_7f67e_row0_col9, #T_7f67e_row0_col10, #T_7f67e_row2_col0, #T_7f67e_row2_col1, #T_7f67e_row2_col2, #T_7f67e_row2_col3, #T_7f67e_row2_col4, #T_7f67e_row2_col5, #T_7f67e_row2_col6, #T_7f67e_row2_col7, #T_7f67e_row2_col8, #T_7f67e_row2_col9, #T_7f67e_row2_col10, #T_7f67e_row4_col0, #T_7f67e_row4_col1, #T_7f67e_row4_col2, #T_7f67e_row4_col3, #T_7f67e_row4_col4, #T_7f67e_row4_col5, #T_7f67e_row4_col6, #T_7f67e_row4_col7, #T_7f67e_row4_col8, #T_7f67e_row4_col9, #T_7f67e_row4_col10, #T_7f67e_row5_col0, #T_7f67e_row5_col1, #T_7f67e_row5_col2, #T_7f67e_row5_col3, #T_7f67e_row5_col4, #T_7f67e_row5_col5, #T_7f67e_row5_col6, #T_7f67e_row5_col7, #T_7f67e_row5_col8, #T_7f67e_row5_col9, #T_7f67e_row5_col10, #T_7f67e_row7_col0, #T_7f67e_row7_col1, #T_7f67e_row7_col2, #T_7f67e_row7_col3, #T_7f67e_row7_col4, #T_7f67e_row7_col5, #T_7f67e_row7_col6, #T_7f67e_row7_col7, #T_7f67e_row7_col8, #T_7f67e_row7_col9, #T_7f67e_row7_col10, #T_7f67e_row8_col0, #T_7f67e_row8_col1, #T_7f67e_row8_col2, #T_7f67e_row8_col3, #T_7f67e_row8_col4, #T_7f67e_row8_col5, #T_7f67e_row8_col6, #T_7f67e_row8_col7, #T_7f67e_row8_col8, #T_7f67e_row8_col9, #T_7f67e_row8_col10, #T_7f67e_row11_col0, #T_7f67e_row11_col1, #T_7f67e_row11_col2, #T_7f67e_row11_col3, #T_7f67e_row11_col4, #T_7f67e_row11_col5, #T_7f67e_row11_col6, #T_7f67e_row11_col7, #T_7f67e_row11_col8, #T_7f67e_row11_col9, #T_7f67e_row11_col10, #T_7f67e_row12_col0, #T_7f67e_row12_col1, #T_7f67e_row12_col2, #T_7f67e_row12_col3, #T_7f67e_row12_col4, #T_7f67e_row12_col5, #T_7f67e_row12_col6, #T_7f67e_row12_col7, #T_7f67e_row12_col8, #T_7f67e_row12_col9, #T_7f67e_row12_col10, #T_7f67e_row13_col0, #T_7f67e_row13_col1, #T_7f67e_row13_col2, #T_7f67e_row13_col3, #T_7f67e_row13_col4, #T_7f67e_row13_col5, #T_7f67e_row13_col6, #T_7f67e_row13_col7, #T_7f67e_row13_col8, #T_7f67e_row13_col9, #T_7f67e_row13_col10, #T_7f67e_row14_col0, #T_7f67e_row14_col1, #T_7f67e_row14_col2, #T_7f67e_row14_col3, #T_7f67e_row14_col4, #T_7f67e_row14_col5, #T_7f67e_row14_col6, #T_7f67e_row14_col7, #T_7f67e_row14_col8, #T_7f67e_row14_col9, #T_7f67e_row14_col10, #T_7f67e_row15_col0, #T_7f67e_row15_col1, #T_7f67e_row15_col2, #T_7f67e_row15_col3, #T_7f67e_row15_col4, #T_7f67e_row15_col5, #T_7f67e_row15_col6, #T_7f67e_row15_col7, #T_7f67e_row15_col8, #T_7f67e_row15_col9, #T_7f67e_row15_col10, #T_7f67e_row17_col0, #T_7f67e_row17_col1, #T_7f67e_row17_col2, #T_7f67e_row17_col3, #T_7f67e_row17_col4, #T_7f67e_row17_col5, #T_7f67e_row17_col6, #T_7f67e_row17_col7, #T_7f67e_row17_col8, #T_7f67e_row17_col9, #T_7f67e_row17_col10 {\n",
       "  background-color: red;\n",
       "}\n",
       "#T_7f67e_row9_col0, #T_7f67e_row9_col1, #T_7f67e_row9_col2, #T_7f67e_row9_col3, #T_7f67e_row9_col4, #T_7f67e_row9_col5, #T_7f67e_row9_col6, #T_7f67e_row9_col7, #T_7f67e_row9_col8, #T_7f67e_row9_col9, #T_7f67e_row9_col10, #T_7f67e_row10_col0, #T_7f67e_row10_col1, #T_7f67e_row10_col2, #T_7f67e_row10_col3, #T_7f67e_row10_col4, #T_7f67e_row10_col5, #T_7f67e_row10_col6, #T_7f67e_row10_col7, #T_7f67e_row10_col8, #T_7f67e_row10_col9, #T_7f67e_row10_col10 {\n",
       "  background-color: red;\n",
       "  font-weight: bold;\n",
       "}\n",
       "</style>\n",
       "<table id=\"T_7f67e\">\n",
       "  <thead>\n",
       "    <tr>\n",
       "      <th class=\"blank level0\" >&nbsp;</th>\n",
       "      <th id=\"T_7f67e_level0_col0\" class=\"col_heading level0 col0\" >task</th>\n",
       "      <th id=\"T_7f67e_level0_col1\" class=\"col_heading level0 col1\" >modification</th>\n",
       "      <th id=\"T_7f67e_level0_col2\" class=\"col_heading level0 col2\" >original_res</th>\n",
       "      <th id=\"T_7f67e_level0_col3\" class=\"col_heading level0 col3\" >modified_res</th>\n",
       "      <th id=\"T_7f67e_level0_col4\" class=\"col_heading level0 col4\" >difference</th>\n",
       "      <th id=\"T_7f67e_level0_col5\" class=\"col_heading level0 col5\" >pct_difference</th>\n",
       "      <th id=\"T_7f67e_level0_col6\" class=\"col_heading level0 col6\" >p_value</th>\n",
       "      <th id=\"T_7f67e_level0_col7\" class=\"col_heading level0 col7\" >original_precision</th>\n",
       "      <th id=\"T_7f67e_level0_col8\" class=\"col_heading level0 col8\" >original_recall</th>\n",
       "      <th id=\"T_7f67e_level0_col9\" class=\"col_heading level0 col9\" >modified_precision</th>\n",
       "      <th id=\"T_7f67e_level0_col10\" class=\"col_heading level0 col10\" >modified_recall</th>\n",
       "    </tr>\n",
       "  </thead>\n",
       "  <tbody>\n",
       "    <tr>\n",
       "      <th id=\"T_7f67e_level0_row0\" class=\"row_heading level0 row0\" >2</th>\n",
       "      <td id=\"T_7f67e_row0_col0\" class=\"data row0 col0\" >named_entity_recognition</td>\n",
       "      <td id=\"T_7f67e_row0_col1\" class=\"data row0 col1\" >temporal_bias_100</td>\n",
       "      <td id=\"T_7f67e_row0_col2\" class=\"data row0 col2\" >0.760000</td>\n",
       "      <td id=\"T_7f67e_row0_col3\" class=\"data row0 col3\" >0.730000</td>\n",
       "      <td id=\"T_7f67e_row0_col4\" class=\"data row0 col4\" >-0.030000</td>\n",
       "      <td id=\"T_7f67e_row0_col5\" class=\"data row0 col5\" >-3.530000</td>\n",
       "      <td id=\"T_7f67e_row0_col6\" class=\"data row0 col6\" >1.000000</td>\n",
       "      <td id=\"T_7f67e_row0_col7\" class=\"data row0 col7\" >0.730000</td>\n",
       "      <td id=\"T_7f67e_row0_col8\" class=\"data row0 col8\" >0.790000</td>\n",
       "      <td id=\"T_7f67e_row0_col9\" class=\"data row0 col9\" >0.710000</td>\n",
       "      <td id=\"T_7f67e_row0_col10\" class=\"data row0 col10\" >0.750000</td>\n",
       "    </tr>\n",
       "    <tr>\n",
       "      <th id=\"T_7f67e_level0_row1\" class=\"row_heading level0 row1\" >6</th>\n",
       "      <td id=\"T_7f67e_row1_col0\" class=\"data row1 col0\" >named_entity_recognition</td>\n",
       "      <td id=\"T_7f67e_row1_col1\" class=\"data row1 col1\" >geographical_bias_100</td>\n",
       "      <td id=\"T_7f67e_row1_col2\" class=\"data row1 col2\" >0.710000</td>\n",
       "      <td id=\"T_7f67e_row1_col3\" class=\"data row1 col3\" >0.740000</td>\n",
       "      <td id=\"T_7f67e_row1_col4\" class=\"data row1 col4\" >0.030000</td>\n",
       "      <td id=\"T_7f67e_row1_col5\" class=\"data row1 col5\" >4.430000</td>\n",
       "      <td id=\"T_7f67e_row1_col6\" class=\"data row1 col6\" >0.000000</td>\n",
       "      <td id=\"T_7f67e_row1_col7\" class=\"data row1 col7\" >0.650000</td>\n",
       "      <td id=\"T_7f67e_row1_col8\" class=\"data row1 col8\" >0.780000</td>\n",
       "      <td id=\"T_7f67e_row1_col9\" class=\"data row1 col9\" >0.740000</td>\n",
       "      <td id=\"T_7f67e_row1_col10\" class=\"data row1 col10\" >0.740000</td>\n",
       "    </tr>\n",
       "    <tr>\n",
       "      <th id=\"T_7f67e_level0_row2\" class=\"row_heading level0 row2\" >8</th>\n",
       "      <td id=\"T_7f67e_row2_col0\" class=\"data row2 col0\" >named_entity_recognition</td>\n",
       "      <td id=\"T_7f67e_row2_col1\" class=\"data row2 col1\" >length_bias_100</td>\n",
       "      <td id=\"T_7f67e_row2_col2\" class=\"data row2 col2\" >0.750000</td>\n",
       "      <td id=\"T_7f67e_row2_col3\" class=\"data row2 col3\" >0.690000</td>\n",
       "      <td id=\"T_7f67e_row2_col4\" class=\"data row2 col4\" >-0.070000</td>\n",
       "      <td id=\"T_7f67e_row2_col5\" class=\"data row2 col5\" >-8.900000</td>\n",
       "      <td id=\"T_7f67e_row2_col6\" class=\"data row2 col6\" >1.000000</td>\n",
       "      <td id=\"T_7f67e_row2_col7\" class=\"data row2 col7\" >0.700000</td>\n",
       "      <td id=\"T_7f67e_row2_col8\" class=\"data row2 col8\" >0.810000</td>\n",
       "      <td id=\"T_7f67e_row2_col9\" class=\"data row2 col9\" >0.660000</td>\n",
       "      <td id=\"T_7f67e_row2_col10\" class=\"data row2 col10\" >0.710000</td>\n",
       "    </tr>\n",
       "    <tr>\n",
       "      <th id=\"T_7f67e_level0_row3\" class=\"row_heading level0 row3\" >13</th>\n",
       "      <td id=\"T_7f67e_row3_col0\" class=\"data row3 col0\" >named_entity_recognition</td>\n",
       "      <td id=\"T_7f67e_row3_col1\" class=\"data row3 col1\" >typo_bias_100</td>\n",
       "      <td id=\"T_7f67e_row3_col2\" class=\"data row3 col2\" >0.720000</td>\n",
       "      <td id=\"T_7f67e_row3_col3\" class=\"data row3 col3\" >0.740000</td>\n",
       "      <td id=\"T_7f67e_row3_col4\" class=\"data row3 col4\" >0.020000</td>\n",
       "      <td id=\"T_7f67e_row3_col5\" class=\"data row3 col5\" >2.790000</td>\n",
       "      <td id=\"T_7f67e_row3_col6\" class=\"data row3 col6\" >1.000000</td>\n",
       "      <td id=\"T_7f67e_row3_col7\" class=\"data row3 col7\" >0.700000</td>\n",
       "      <td id=\"T_7f67e_row3_col8\" class=\"data row3 col8\" >0.740000</td>\n",
       "      <td id=\"T_7f67e_row3_col9\" class=\"data row3 col9\" >0.720000</td>\n",
       "      <td id=\"T_7f67e_row3_col10\" class=\"data row3 col10\" >0.770000</td>\n",
       "    </tr>\n",
       "    <tr>\n",
       "      <th id=\"T_7f67e_level0_row4\" class=\"row_heading level0 row4\" >9</th>\n",
       "      <td id=\"T_7f67e_row4_col0\" class=\"data row4 col0\" >named_entity_recognition</td>\n",
       "      <td id=\"T_7f67e_row4_col1\" class=\"data row4 col1\" >capitalization_100</td>\n",
       "      <td id=\"T_7f67e_row4_col2\" class=\"data row4 col2\" >0.780000</td>\n",
       "      <td id=\"T_7f67e_row4_col3\" class=\"data row4 col3\" >0.670000</td>\n",
       "      <td id=\"T_7f67e_row4_col4\" class=\"data row4 col4\" >-0.100000</td>\n",
       "      <td id=\"T_7f67e_row4_col5\" class=\"data row4 col5\" >-13.340000</td>\n",
       "      <td id=\"T_7f67e_row4_col6\" class=\"data row4 col6\" >1.000000</td>\n",
       "      <td id=\"T_7f67e_row4_col7\" class=\"data row4 col7\" >0.770000</td>\n",
       "      <td id=\"T_7f67e_row4_col8\" class=\"data row4 col8\" >0.780000</td>\n",
       "      <td id=\"T_7f67e_row4_col9\" class=\"data row4 col9\" >0.710000</td>\n",
       "      <td id=\"T_7f67e_row4_col10\" class=\"data row4 col10\" >0.640000</td>\n",
       "    </tr>\n",
       "    <tr>\n",
       "      <th id=\"T_7f67e_level0_row5\" class=\"row_heading level0 row5\" >7</th>\n",
       "      <td id=\"T_7f67e_row5_col0\" class=\"data row5 col0\" >named_entity_recognition</td>\n",
       "      <td id=\"T_7f67e_row5_col1\" class=\"data row5 col1\" >punctuation_100</td>\n",
       "      <td id=\"T_7f67e_row5_col2\" class=\"data row5 col2\" >0.750000</td>\n",
       "      <td id=\"T_7f67e_row5_col3\" class=\"data row5 col3\" >0.690000</td>\n",
       "      <td id=\"T_7f67e_row5_col4\" class=\"data row5 col4\" >-0.060000</td>\n",
       "      <td id=\"T_7f67e_row5_col5\" class=\"data row5 col5\" >-7.390000</td>\n",
       "      <td id=\"T_7f67e_row5_col6\" class=\"data row5 col6\" >1.000000</td>\n",
       "      <td id=\"T_7f67e_row5_col7\" class=\"data row5 col7\" >0.720000</td>\n",
       "      <td id=\"T_7f67e_row5_col8\" class=\"data row5 col8\" >0.780000</td>\n",
       "      <td id=\"T_7f67e_row5_col9\" class=\"data row5 col9\" >0.680000</td>\n",
       "      <td id=\"T_7f67e_row5_col10\" class=\"data row5 col10\" >0.700000</td>\n",
       "    </tr>\n",
       "    <tr>\n",
       "      <th id=\"T_7f67e_level0_row6\" class=\"row_heading level0 row6\" >15</th>\n",
       "      <td id=\"T_7f67e_row6_col0\" class=\"data row6 col0\" >named_entity_recognition</td>\n",
       "      <td id=\"T_7f67e_row6_col1\" class=\"data row6 col1\" >derivation_100</td>\n",
       "      <td id=\"T_7f67e_row6_col2\" class=\"data row6 col2\" >0.750000</td>\n",
       "      <td id=\"T_7f67e_row6_col3\" class=\"data row6 col3\" >0.750000</td>\n",
       "      <td id=\"T_7f67e_row6_col4\" class=\"data row6 col4\" >-0.000000</td>\n",
       "      <td id=\"T_7f67e_row6_col5\" class=\"data row6 col5\" >-0.440000</td>\n",
       "      <td id=\"T_7f67e_row6_col6\" class=\"data row6 col6\" >1.000000</td>\n",
       "      <td id=\"T_7f67e_row6_col7\" class=\"data row6 col7\" >0.730000</td>\n",
       "      <td id=\"T_7f67e_row6_col8\" class=\"data row6 col8\" >0.790000</td>\n",
       "      <td id=\"T_7f67e_row6_col9\" class=\"data row6 col9\" >0.710000</td>\n",
       "      <td id=\"T_7f67e_row6_col10\" class=\"data row6 col10\" >0.790000</td>\n",
       "    </tr>\n",
       "    <tr>\n",
       "      <th id=\"T_7f67e_level0_row7\" class=\"row_heading level0 row7\" >11</th>\n",
       "      <td id=\"T_7f67e_row7_col0\" class=\"data row7 col0\" >named_entity_recognition</td>\n",
       "      <td id=\"T_7f67e_row7_col1\" class=\"data row7 col1\" >compound_word_100</td>\n",
       "      <td id=\"T_7f67e_row7_col2\" class=\"data row7 col2\" >0.760000</td>\n",
       "      <td id=\"T_7f67e_row7_col3\" class=\"data row7 col3\" >0.740000</td>\n",
       "      <td id=\"T_7f67e_row7_col4\" class=\"data row7 col4\" >-0.020000</td>\n",
       "      <td id=\"T_7f67e_row7_col5\" class=\"data row7 col5\" >-3.150000</td>\n",
       "      <td id=\"T_7f67e_row7_col6\" class=\"data row7 col6\" >0.790000</td>\n",
       "      <td id=\"T_7f67e_row7_col7\" class=\"data row7 col7\" >0.740000</td>\n",
       "      <td id=\"T_7f67e_row7_col8\" class=\"data row7 col8\" >0.790000</td>\n",
       "      <td id=\"T_7f67e_row7_col9\" class=\"data row7 col9\" >0.750000</td>\n",
       "      <td id=\"T_7f67e_row7_col10\" class=\"data row7 col10\" >0.730000</td>\n",
       "    </tr>\n",
       "    <tr>\n",
       "      <th id=\"T_7f67e_level0_row8\" class=\"row_heading level0 row8\" >10</th>\n",
       "      <td id=\"T_7f67e_row8_col0\" class=\"data row8 col0\" >named_entity_recognition</td>\n",
       "      <td id=\"T_7f67e_row8_col1\" class=\"data row8 col1\" >active_to_passive_100</td>\n",
       "      <td id=\"T_7f67e_row8_col2\" class=\"data row8 col2\" >0.760000</td>\n",
       "      <td id=\"T_7f67e_row8_col3\" class=\"data row8 col3\" >0.680000</td>\n",
       "      <td id=\"T_7f67e_row8_col4\" class=\"data row8 col4\" >-0.080000</td>\n",
       "      <td id=\"T_7f67e_row8_col5\" class=\"data row8 col5\" >-9.960000</td>\n",
       "      <td id=\"T_7f67e_row8_col6\" class=\"data row8 col6\" >1.000000</td>\n",
       "      <td id=\"T_7f67e_row8_col7\" class=\"data row8 col7\" >0.730000</td>\n",
       "      <td id=\"T_7f67e_row8_col8\" class=\"data row8 col8\" >0.790000</td>\n",
       "      <td id=\"T_7f67e_row8_col9\" class=\"data row8 col9\" >0.720000</td>\n",
       "      <td id=\"T_7f67e_row8_col10\" class=\"data row8 col10\" >0.660000</td>\n",
       "    </tr>\n",
       "    <tr>\n",
       "      <th id=\"T_7f67e_level0_row9\" class=\"row_heading level0 row9\" >3</th>\n",
       "      <td id=\"T_7f67e_row9_col0\" class=\"data row9 col0\" >named_entity_recognition</td>\n",
       "      <td id=\"T_7f67e_row9_col1\" class=\"data row9 col1\" >grammatical_role_100</td>\n",
       "      <td id=\"T_7f67e_row9_col2\" class=\"data row9 col2\" >0.780000</td>\n",
       "      <td id=\"T_7f67e_row9_col3\" class=\"data row9 col3\" >0.750000</td>\n",
       "      <td id=\"T_7f67e_row9_col4\" class=\"data row9 col4\" >-0.030000</td>\n",
       "      <td id=\"T_7f67e_row9_col5\" class=\"data row9 col5\" >-3.820000</td>\n",
       "      <td id=\"T_7f67e_row9_col6\" class=\"data row9 col6\" >0.010000</td>\n",
       "      <td id=\"T_7f67e_row9_col7\" class=\"data row9 col7\" >0.760000</td>\n",
       "      <td id=\"T_7f67e_row9_col8\" class=\"data row9 col8\" >0.810000</td>\n",
       "      <td id=\"T_7f67e_row9_col9\" class=\"data row9 col9\" >0.760000</td>\n",
       "      <td id=\"T_7f67e_row9_col10\" class=\"data row9 col10\" >0.750000</td>\n",
       "    </tr>\n",
       "    <tr>\n",
       "      <th id=\"T_7f67e_level0_row10\" class=\"row_heading level0 row10\" >5</th>\n",
       "      <td id=\"T_7f67e_row10_col0\" class=\"data row10 col0\" >named_entity_recognition</td>\n",
       "      <td id=\"T_7f67e_row10_col1\" class=\"data row10 col1\" >coordinating_conjunction_100</td>\n",
       "      <td id=\"T_7f67e_row10_col2\" class=\"data row10 col2\" >0.810000</td>\n",
       "      <td id=\"T_7f67e_row10_col3\" class=\"data row10 col3\" >0.780000</td>\n",
       "      <td id=\"T_7f67e_row10_col4\" class=\"data row10 col4\" >-0.030000</td>\n",
       "      <td id=\"T_7f67e_row10_col5\" class=\"data row10 col5\" >-4.050000</td>\n",
       "      <td id=\"T_7f67e_row10_col6\" class=\"data row10 col6\" >0.000000</td>\n",
       "      <td id=\"T_7f67e_row10_col7\" class=\"data row10 col7\" >0.760000</td>\n",
       "      <td id=\"T_7f67e_row10_col8\" class=\"data row10 col8\" >0.860000</td>\n",
       "      <td id=\"T_7f67e_row10_col9\" class=\"data row10 col9\" >0.780000</td>\n",
       "      <td id=\"T_7f67e_row10_col10\" class=\"data row10 col10\" >0.780000</td>\n",
       "    </tr>\n",
       "    <tr>\n",
       "      <th id=\"T_7f67e_level0_row11\" class=\"row_heading level0 row11\" >0</th>\n",
       "      <td id=\"T_7f67e_row11_col0\" class=\"data row11 col0\" >named_entity_recognition</td>\n",
       "      <td id=\"T_7f67e_row11_col1\" class=\"data row11 col1\" >concept_replacement_100</td>\n",
       "      <td id=\"T_7f67e_row11_col2\" class=\"data row11 col2\" >0.760000</td>\n",
       "      <td id=\"T_7f67e_row11_col3\" class=\"data row11 col3\" >0.740000</td>\n",
       "      <td id=\"T_7f67e_row11_col4\" class=\"data row11 col4\" >-0.020000</td>\n",
       "      <td id=\"T_7f67e_row11_col5\" class=\"data row11 col5\" >-2.530000</td>\n",
       "      <td id=\"T_7f67e_row11_col6\" class=\"data row11 col6\" >0.730000</td>\n",
       "      <td id=\"T_7f67e_row11_col7\" class=\"data row11 col7\" >0.730000</td>\n",
       "      <td id=\"T_7f67e_row11_col8\" class=\"data row11 col8\" >0.800000</td>\n",
       "      <td id=\"T_7f67e_row11_col9\" class=\"data row11 col9\" >0.710000</td>\n",
       "      <td id=\"T_7f67e_row11_col10\" class=\"data row11 col10\" >0.780000</td>\n",
       "    </tr>\n",
       "    <tr>\n",
       "      <th id=\"T_7f67e_level0_row12\" class=\"row_heading level0 row12\" >1</th>\n",
       "      <td id=\"T_7f67e_row12_col0\" class=\"data row12 col0\" >named_entity_recognition</td>\n",
       "      <td id=\"T_7f67e_row12_col1\" class=\"data row12 col1\" >negation_100</td>\n",
       "      <td id=\"T_7f67e_row12_col2\" class=\"data row12 col2\" >0.730000</td>\n",
       "      <td id=\"T_7f67e_row12_col3\" class=\"data row12 col3\" >0.660000</td>\n",
       "      <td id=\"T_7f67e_row12_col4\" class=\"data row12 col4\" >-0.060000</td>\n",
       "      <td id=\"T_7f67e_row12_col5\" class=\"data row12 col5\" >-8.800000</td>\n",
       "      <td id=\"T_7f67e_row12_col6\" class=\"data row12 col6\" >1.000000</td>\n",
       "      <td id=\"T_7f67e_row12_col7\" class=\"data row12 col7\" >0.700000</td>\n",
       "      <td id=\"T_7f67e_row12_col8\" class=\"data row12 col8\" >0.750000</td>\n",
       "      <td id=\"T_7f67e_row12_col9\" class=\"data row12 col9\" >0.680000</td>\n",
       "      <td id=\"T_7f67e_row12_col10\" class=\"data row12 col10\" >0.650000</td>\n",
       "    </tr>\n",
       "    <tr>\n",
       "      <th id=\"T_7f67e_level0_row13\" class=\"row_heading level0 row13\" >4</th>\n",
       "      <td id=\"T_7f67e_row13_col0\" class=\"data row13 col0\" >named_entity_recognition</td>\n",
       "      <td id=\"T_7f67e_row13_col1\" class=\"data row13 col1\" >discourse_100</td>\n",
       "      <td id=\"T_7f67e_row13_col2\" class=\"data row13 col2\" >0.770000</td>\n",
       "      <td id=\"T_7f67e_row13_col3\" class=\"data row13 col3\" >0.690000</td>\n",
       "      <td id=\"T_7f67e_row13_col4\" class=\"data row13 col4\" >-0.080000</td>\n",
       "      <td id=\"T_7f67e_row13_col5\" class=\"data row13 col5\" >-10.260000</td>\n",
       "      <td id=\"T_7f67e_row13_col6\" class=\"data row13 col6\" >0.760000</td>\n",
       "      <td id=\"T_7f67e_row13_col7\" class=\"data row13 col7\" >0.740000</td>\n",
       "      <td id=\"T_7f67e_row13_col8\" class=\"data row13 col8\" >0.800000</td>\n",
       "      <td id=\"T_7f67e_row13_col9\" class=\"data row13 col9\" >0.730000</td>\n",
       "      <td id=\"T_7f67e_row13_col10\" class=\"data row13 col10\" >0.650000</td>\n",
       "    </tr>\n",
       "    <tr>\n",
       "      <th id=\"T_7f67e_level0_row14\" class=\"row_heading level0 row14\" >16</th>\n",
       "      <td id=\"T_7f67e_row14_col0\" class=\"data row14 col0\" >named_entity_recognition</td>\n",
       "      <td id=\"T_7f67e_row14_col1\" class=\"data row14 col1\" >sentiment_100</td>\n",
       "      <td id=\"T_7f67e_row14_col2\" class=\"data row14 col2\" >0.780000</td>\n",
       "      <td id=\"T_7f67e_row14_col3\" class=\"data row14 col3\" >0.720000</td>\n",
       "      <td id=\"T_7f67e_row14_col4\" class=\"data row14 col4\" >-0.070000</td>\n",
       "      <td id=\"T_7f67e_row14_col5\" class=\"data row14 col5\" >-8.350000</td>\n",
       "      <td id=\"T_7f67e_row14_col6\" class=\"data row14 col6\" >0.800000</td>\n",
       "      <td id=\"T_7f67e_row14_col7\" class=\"data row14 col7\" >0.760000</td>\n",
       "      <td id=\"T_7f67e_row14_col8\" class=\"data row14 col8\" >0.820000</td>\n",
       "      <td id=\"T_7f67e_row14_col9\" class=\"data row14 col9\" >0.750000</td>\n",
       "      <td id=\"T_7f67e_row14_col10\" class=\"data row14 col10\" >0.690000</td>\n",
       "    </tr>\n",
       "    <tr>\n",
       "      <th id=\"T_7f67e_level0_row15\" class=\"row_heading level0 row15\" >14</th>\n",
       "      <td id=\"T_7f67e_row15_col0\" class=\"data row15 col0\" >named_entity_recognition</td>\n",
       "      <td id=\"T_7f67e_row15_col1\" class=\"data row15 col1\" >casual_100</td>\n",
       "      <td id=\"T_7f67e_row15_col2\" class=\"data row15 col2\" >0.750000</td>\n",
       "      <td id=\"T_7f67e_row15_col3\" class=\"data row15 col3\" >0.690000</td>\n",
       "      <td id=\"T_7f67e_row15_col4\" class=\"data row15 col4\" >-0.070000</td>\n",
       "      <td id=\"T_7f67e_row15_col5\" class=\"data row15 col5\" >-8.900000</td>\n",
       "      <td id=\"T_7f67e_row15_col6\" class=\"data row15 col6\" >1.000000</td>\n",
       "      <td id=\"T_7f67e_row15_col7\" class=\"data row15 col7\" >0.700000</td>\n",
       "      <td id=\"T_7f67e_row15_col8\" class=\"data row15 col8\" >0.810000</td>\n",
       "      <td id=\"T_7f67e_row15_col9\" class=\"data row15 col9\" >0.660000</td>\n",
       "      <td id=\"T_7f67e_row15_col10\" class=\"data row15 col10\" >0.710000</td>\n",
       "    </tr>\n",
       "    <tr>\n",
       "      <th id=\"T_7f67e_level0_row16\" class=\"row_heading level0 row16\" >12</th>\n",
       "      <td id=\"T_7f67e_row16_col0\" class=\"data row16 col0\" >named_entity_recognition</td>\n",
       "      <td id=\"T_7f67e_row16_col1\" class=\"data row16 col1\" >dialectal_100</td>\n",
       "      <td id=\"T_7f67e_row16_col2\" class=\"data row16 col2\" >0.790000</td>\n",
       "      <td id=\"T_7f67e_row16_col3\" class=\"data row16 col3\" >0.800000</td>\n",
       "      <td id=\"T_7f67e_row16_col4\" class=\"data row16 col4\" >0.020000</td>\n",
       "      <td id=\"T_7f67e_row16_col5\" class=\"data row16 col5\" >2.130000</td>\n",
       "      <td id=\"T_7f67e_row16_col6\" class=\"data row16 col6\" >1.000000</td>\n",
       "      <td id=\"T_7f67e_row16_col7\" class=\"data row16 col7\" >0.750000</td>\n",
       "      <td id=\"T_7f67e_row16_col8\" class=\"data row16 col8\" >0.830000</td>\n",
       "      <td id=\"T_7f67e_row16_col9\" class=\"data row16 col9\" >0.750000</td>\n",
       "      <td id=\"T_7f67e_row16_col10\" class=\"data row16 col10\" >0.860000</td>\n",
       "    </tr>\n",
       "    <tr>\n",
       "      <th id=\"T_7f67e_level0_row17\" class=\"row_heading level0 row17\" >17</th>\n",
       "      <td id=\"T_7f67e_row17_col0\" class=\"data row17 col0\" >named_entity_recognition</td>\n",
       "      <td id=\"T_7f67e_row17_col1\" class=\"data row17 col1\" >average</td>\n",
       "      <td id=\"T_7f67e_row17_col2\" class=\"data row17 col2\" >0.760000</td>\n",
       "      <td id=\"T_7f67e_row17_col3\" class=\"data row17 col3\" >0.720000</td>\n",
       "      <td id=\"T_7f67e_row17_col4\" class=\"data row17 col4\" >-0.040000</td>\n",
       "      <td id=\"T_7f67e_row17_col5\" class=\"data row17 col5\" >-4.950000</td>\n",
       "      <td id=\"T_7f67e_row17_col6\" class=\"data row17 col6\" >nan</td>\n",
       "      <td id=\"T_7f67e_row17_col7\" class=\"data row17 col7\" >0.730000</td>\n",
       "      <td id=\"T_7f67e_row17_col8\" class=\"data row17 col8\" >0.800000</td>\n",
       "      <td id=\"T_7f67e_row17_col9\" class=\"data row17 col9\" >0.720000</td>\n",
       "      <td id=\"T_7f67e_row17_col10\" class=\"data row17 col10\" >0.730000</td>\n",
       "    </tr>\n",
       "  </tbody>\n",
       "</table>\n"
      ],
      "text/plain": [
       "<pandas.io.formats.style.Styler at 0x144f1d1c0>"
      ]
     },
     "execution_count": 115,
     "metadata": {},
     "output_type": "execute_result"
    }
   ],
   "source": [
    "result_files = glob.glob('results/ner/llama-0shot-*_100.csv')\n",
    "\n",
    "aggregated_results = []\n",
    "\n",
    "def convert_string_to_entities(entity_str):\n",
    "    \"\"\"Convert string representation of entities to proper format\"\"\"\n",
    "    if isinstance(entity_str, str):\n",
    "        try:\n",
    "            # Convert string to list of dicts\n",
    "            entities = ast.literal_eval(entity_str)\n",
    "            # Handle nested lists by flattening\n",
    "            if isinstance(entities, list):\n",
    "                # Handle double nested lists\n",
    "                if len(entities) > 0 and isinstance(entities[0], list):\n",
    "                    entities = entities[0]\n",
    "                # Handle list of dicts with text/value format\n",
    "                if len(entities) > 0 and isinstance(entities[0], dict):\n",
    "                    # Handle format with text/value keys\n",
    "                    if 'text' in entities[0]:\n",
    "                        return entities\n",
    "                    # Handle format with single key-value pair\n",
    "                    if len(entities[0]) == 1:\n",
    "                        converted = []\n",
    "                        for e in entities:\n",
    "                            for text, value in e.items():\n",
    "                                converted.append({'text': text, 'value': value})\n",
    "                        return converted\n",
    "                    # Handle format with multiple key-value pairs\n",
    "                    converted = []\n",
    "                    for e in entities:\n",
    "                        for text, value in e.items():\n",
    "                            if isinstance(value, str):\n",
    "                                converted.append({'text': text, 'value': value})\n",
    "                    return converted\n",
    "            return entities\n",
    "        except:\n",
    "            return []\n",
    "    return entity_str\n",
    "\n",
    "for file in result_files:\n",
    "    # Extract modification type from filename\n",
    "    mod_type = file.split('-')[-1].replace('.csv','')\n",
    "    print(mod_type)\n",
    "    # Read results file\n",
    "    df = pd.read_csv(file)\n",
    "\n",
    "    # Collect all predictions and labels for micro F1 calculation\n",
    "    all_original_labels = []\n",
    "    all_original_preds = []\n",
    "    all_modified_labels = []\n",
    "    all_modified_preds = []\n",
    "\n",
    "    for idx, row in df.iterrows():\n",
    "        # Convert string representations to proper format\n",
    "        original_label = convert_string_to_entities(row['original_label'])\n",
    "        original_pred = convert_string_to_entities(row['original_pred'])\n",
    "        modified_label = convert_string_to_entities(row['modified_label'])\n",
    "        modified_pred = convert_string_to_entities(row['modified_pred'])\n",
    "\n",
    "        # Append to combined lists\n",
    "        all_original_labels.extend(original_label)\n",
    "        all_original_preds.extend(original_pred)\n",
    "        all_modified_labels.extend(modified_label)\n",
    "        all_modified_preds.extend(modified_pred)\n",
    "\n",
    "    # Calculate micro F1 scores using calculate_f1_ent\n",
    "    original_precision, original_recall, original_f1 = calculate_f1_ent(all_original_labels, all_original_preds)\n",
    "    modified_precision, modified_recall, modified_f1 = calculate_f1_ent(all_modified_labels, all_modified_preds)\n",
    "    \n",
    "    # Calculate the difference between original and modified F1 scores\n",
    "    difference = -round(original_f1 - modified_f1, 2)\n",
    "    \n",
    "    # Calculate percentage difference with respect to original F1\n",
    "    pct_difference = -round((original_f1 - modified_f1) / original_f1 * 100, 2) if original_f1 != 0 else 0\n",
    "    \n",
    "    # Perform t-test between original and modified predictions\n",
    "    t_stat, p_value = stats.ttest_ind(\n",
    "        (df['original_pred'] == df['original_label']).astype(float),\n",
    "        (df['modified_pred'] == df['modified_label']).astype(float)\n",
    "    )\n",
    "    \n",
    "    aggregated_results.append({\n",
    "        'task': 'named_entity_recognition',\n",
    "        'modification': mod_type,\n",
    "        'original_res': round(original_f1 , 2),  # Convert to percentage\n",
    "        'modified_res': round(modified_f1 , 2),  # Convert to percentage\n",
    "        'difference': difference,\n",
    "        'pct_difference': pct_difference,\n",
    "        'p_value': p_value,\n",
    "        'original_precision': round(original_precision , 2),  # Convert to percentage\n",
    "        'original_recall': round(original_recall , 2),  # Convert to percentage\n",
    "        'modified_precision': round(modified_precision , 2),  # Convert to percentage\n",
    "        'modified_recall': round(modified_recall , 2)  # Convert to percentage\n",
    "    })\n",
    "\n",
    "# Create final results dataframe\n",
    "results_df = pd.DataFrame(aggregated_results)\n",
    "\n",
    "# Sort the results based on modification_name\n",
    "modification_name = ['temporal_bias_100', 'geographical_bias_100','length_bias_100', 'typo_bias_100', 'capitalization_100', 'punctuation_100', 'derivation_100', 'compound_word_100','active_to_passive_100','grammatical_role_100', 'coordinating_conjunction_100', 'concept_replacement_100','negation_100','discourse_100','sentiment_100','casual_100', 'dialectal_100']\n",
    "results_df['modification'] = pd.Categorical(results_df['modification'], categories=modification_name, ordered=True)\n",
    "results_df = results_df.sort_values(by='modification')\n",
    "\n",
    "# Calculate averages across all modifications\n",
    "avg_original = results_df['original_res'].mean()\n",
    "avg_modified = results_df['modified_res'].mean()\n",
    "avg_difference = avg_original - avg_modified\n",
    "avg_pct_difference = results_df['pct_difference'].mean()\n",
    "avg_orig_precision = results_df['original_precision'].mean()\n",
    "avg_orig_recall = results_df['original_recall'].mean()\n",
    "avg_mod_precision = results_df['modified_precision'].mean()\n",
    "avg_mod_recall = results_df['modified_recall'].mean()\n",
    "\n",
    "# Add averages as a new row\n",
    "results_df.loc[len(results_df)] = {\n",
    "    'task': 'named_entity_recognition',\n",
    "    'modification': 'average',\n",
    "    'original_res': round(avg_original, 2),\n",
    "    'modified_res': round(avg_modified, 2),\n",
    "    'difference': -round(avg_difference, 2),\n",
    "    'pct_difference': round(avg_pct_difference, 2),\n",
    "    'p_value': None,\n",
    "    'original_precision': round(avg_orig_precision, 2),\n",
    "    'original_recall': round(avg_orig_recall, 2),\n",
    "    'modified_precision': round(avg_mod_precision, 2),\n",
    "    'modified_recall': round(avg_mod_recall, 2)\n",
    "}\n",
    "\n",
    "print(\"\\n\")\n",
    "results_df.to_csv('results/ner/llama-DP.csv')\n",
    "\n",
    "# Apply styling to highlight rows where original_res > modified_res and significant p-values\n",
    "def highlight_drops_and_significance(row):\n",
    "    colors = [''] * len(row)\n",
    "    if row['original_res'] > row['modified_res']:\n",
    "        colors = ['background-color: red'] * len(row)\n",
    "        # If p-value < 0.05, add bold text\n",
    "        if 'p_value' in row and row['p_value'] is not None and row['p_value'] < 0.05:\n",
    "            colors = ['background-color: red; font-weight: bold'] * len(row)\n",
    "    return colors\n",
    "\n",
    "results_df.round(2).style.apply(highlight_drops_and_significance, axis=1)\n"
   ]
  },
  {
   "cell_type": "code",
   "execution_count": null,
   "metadata": {},
   "outputs": [],
   "source": []
  }
 ],
 "metadata": {
  "kernelspec": {
   "display_name": "base",
   "language": "python",
   "name": "python3"
  },
  "language_info": {
   "codemirror_mode": {
    "name": "ipython",
    "version": 3
   },
   "file_extension": ".py",
   "mimetype": "text/x-python",
   "name": "python",
   "nbconvert_exporter": "python",
   "pygments_lexer": "ipython3",
   "version": "3.12.2"
  }
 },
 "nbformat": 4,
 "nbformat_minor": 2
}
