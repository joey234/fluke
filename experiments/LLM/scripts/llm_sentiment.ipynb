{
 "cells": [
  {
   "cell_type": "code",
   "execution_count": 1,
   "metadata": {},
   "outputs": [],
   "source": [
    "from datasets import load_dataset\n",
    "import dspy\n",
    "import openai\n",
    "import os\n",
    "import re\n",
    "import pandas as pd\n",
    "import json\n",
    "import random\n",
    "from dotenv import load_dotenv\n",
    "import glob\n"
   ]
  },
  {
   "cell_type": "code",
   "execution_count": 2,
   "metadata": {},
   "outputs": [
    {
     "data": {
      "text/plain": [
       "True"
      ]
     },
     "execution_count": 2,
     "metadata": {},
     "output_type": "execute_result"
    }
   ],
   "source": [
    "load_dotenv()\n",
    "\n"
   ]
  },
  {
   "cell_type": "code",
   "execution_count": 3,
   "metadata": {},
   "outputs": [],
   "source": [
    "openai.api_key = os.getenv('OPENAI_API_KEY')\n",
    "openai.organization = os.getenv('OPENAI_ORGANIZATION')\n"
   ]
  },
  {
   "cell_type": "code",
   "execution_count": 4,
   "metadata": {},
   "outputs": [],
   "source": [
    "lm = dspy.LM('openai/gpt-4o', temperature=0, max_tokens=250)\n",
    "dspy.configure(lm=lm)"
   ]
  },
  {
   "cell_type": "code",
   "execution_count": 6,
   "metadata": {},
   "outputs": [],
   "source": [
    "# ds = pd.read_json('data/sa/test.json', lines= True)\n",
    "# ds = ds.to_dict('records')\n",
    "ds = load_dataset('stanfordnlp/sst2')['validation']\n"
   ]
  },
  {
   "cell_type": "code",
   "execution_count": 139,
   "metadata": {},
   "outputs": [
    {
     "data": {
      "text/plain": [
       "Dataset({\n",
       "    features: ['idx', 'sentence', 'label'],\n",
       "    num_rows: 872\n",
       "})"
      ]
     },
     "execution_count": 139,
     "metadata": {},
     "output_type": "execute_result"
    }
   ],
   "source": [
    "ds"
   ]
  },
  {
   "cell_type": "code",
   "execution_count": 5,
   "metadata": {},
   "outputs": [],
   "source": [
    "def remove_space(text):\n",
    "    \"\"\"Clean up spacing and formatting in dialogue text.\"\"\"\n",
    "    # print(text)\n",
    "    lines = text.split('\\n')\n",
    "    cleaned_lines = []\n",
    "    # print(lines)\n",
    "    for line in lines:\n",
    "        # Remove multiple spaces\n",
    "        cleaned = ' '.join(line.split())\n",
    "        \n",
    "        # Fix spacing around punctuation\n",
    "        cleaned = re.sub(r'\\s+([.,!?:;])', r'\\1', cleaned)\n",
    "        cleaned = re.sub(r'([.,!?:;])\\s+', r'\\1 ', cleaned)\n",
    "        \n",
    "        # Fix contractions\n",
    "        cleaned = re.sub(r'\\s*\\'\\s*s\\b', \"'s\", cleaned)\n",
    "        cleaned = re.sub(r'\\s*n\\s*\\'\\s*t\\b', \"n't\", cleaned)\n",
    "        cleaned = re.sub(r'\\s*\\'\\s*ve\\b', \"'ve\", cleaned)\n",
    "        cleaned = re.sub(r'\\s*\\'\\s*re\\b', \"'re\", cleaned)\n",
    "        cleaned = re.sub(r'\\s*\\'\\s*ll\\b', \"'ll\", cleaned)\n",
    "        cleaned = re.sub(r'\\s*\\'\\s*d\\b', \"'d\", cleaned)\n",
    "        cleaned = re.sub(r'\\s*\\'\\s*m\\b', \"'m\", cleaned)\n",
    "        \n",
    "        # Fix spaces around parentheses\n",
    "        cleaned = re.sub(r'\\(\\s+', '(', cleaned)\n",
    "        cleaned = re.sub(r'\\s+\\)', ')', cleaned)\n",
    "        \n",
    "        # Remove leading/trailing whitespace\n",
    "        cleaned = cleaned.strip()\n",
    "        \n",
    "        cleaned_lines.append(cleaned)\n",
    "        \n",
    "    return '\\n'.join(cleaned_lines)\n"
   ]
  },
  {
   "cell_type": "code",
   "execution_count": 11,
   "metadata": {},
   "outputs": [
    {
     "ename": "NameError",
     "evalue": "name 'ds' is not defined",
     "output_type": "error",
     "traceback": [
      "\u001b[0;31m---------------------------------------------------------------------------\u001b[0m",
      "\u001b[0;31mNameError\u001b[0m                                 Traceback (most recent call last)",
      "Cell \u001b[0;32mIn[11], line 7\u001b[0m\n\u001b[1;32m      1\u001b[0m examples \u001b[38;5;241m=\u001b[39m [\n\u001b[1;32m      2\u001b[0m     dspy\u001b[38;5;241m.\u001b[39mExample({ \n\u001b[1;32m      3\u001b[0m                   \u001b[38;5;124m\"\u001b[39m\u001b[38;5;124mtext\u001b[39m\u001b[38;5;124m\"\u001b[39m: remove_space(r[\u001b[38;5;124m\"\u001b[39m\u001b[38;5;124msentence\u001b[39m\u001b[38;5;124m\"\u001b[39m]), \n\u001b[1;32m      4\u001b[0m                   \u001b[38;5;124m\"\u001b[39m\u001b[38;5;124mlabel\u001b[39m\u001b[38;5;124m\"\u001b[39m: r[\u001b[38;5;124m\"\u001b[39m\u001b[38;5;124mlabel\u001b[39m\u001b[38;5;124m\"\u001b[39m]}\n\u001b[1;32m      5\u001b[0m                   \n\u001b[1;32m      6\u001b[0m                   )\u001b[38;5;241m.\u001b[39mwith_inputs(\u001b[38;5;124m\"\u001b[39m\u001b[38;5;124mtext\u001b[39m\u001b[38;5;124m\"\u001b[39m) \n\u001b[0;32m----> 7\u001b[0m     \u001b[38;5;28;01mfor\u001b[39;00m r \u001b[38;5;129;01min\u001b[39;00m \u001b[43mds\u001b[49m\n\u001b[1;32m      8\u001b[0m     ]\n",
      "\u001b[0;31mNameError\u001b[0m: name 'ds' is not defined"
     ]
    }
   ],
   "source": [
    "examples = [\n",
    "    dspy.Example({ \n",
    "                  \"text\": remove_space(r[\"sentence\"]), \n",
    "                  \"label\": r[\"label\"]}\n",
    "                  \n",
    "                  ).with_inputs(\"text\") \n",
    "    for r in ds\n",
    "    ]\n"
   ]
  },
  {
   "cell_type": "code",
   "execution_count": 9,
   "metadata": {},
   "outputs": [
    {
     "name": "stdout",
     "output_type": "stream",
     "text": [
      "\n",
      "TEXT:\n",
      "\n",
      "a giggle-inducing comedy with snappy dialogue and winning performances by an unlikely team of oscar-winners: susan sarandon and goldie hawn.\n",
      "\n",
      "LABEL:\n",
      "\n",
      "1\n"
     ]
    }
   ],
   "source": [
    "example = examples[835]\n",
    "for k, v in example.items():\n",
    "    print(f\"\\n{k.upper()}:\\n\")\n",
    "    print(v)\n"
   ]
  },
  {
   "cell_type": "code",
   "execution_count": 6,
   "metadata": {},
   "outputs": [],
   "source": [
    "def extract_prediction(text):\n",
    "    matches = re.findall(r'\\b[0-2]\\b', text)\n",
    "    # print(matches)\n",
    "    parsed_answer = matches[-1] if matches else \"\"\n",
    "    return parsed_answer"
   ]
  },
  {
   "cell_type": "code",
   "execution_count": 7,
   "metadata": {},
   "outputs": [],
   "source": [
    "def eval_metric(true, prediction, trace=None):\n",
    "    pred = prediction.label\n",
    "    matches = re.findall(r'\\b[0-2]\\b', pred)\n",
    "    parsed_answer = matches[-1] if matches else \"\"\n",
    "    # print(parsed_answer)\n",
    "    return parsed_answer == str(true.label)"
   ]
  },
  {
   "cell_type": "markdown",
   "metadata": {},
   "source": [
    "# Evaluate the original test set"
   ]
  },
  {
   "cell_type": "code",
   "execution_count": 8,
   "metadata": {},
   "outputs": [],
   "source": [
    "from dspy.evaluate import Evaluate\n",
    "\n"
   ]
  },
  {
   "cell_type": "code",
   "execution_count": 13,
   "metadata": {},
   "outputs": [],
   "source": [
    "class Sentiment(dspy.Signature):\n",
    "    \"\"\"Classify sentiment of the given text. Answer with 1 for positive, 0 for negative.\"\"\"\n",
    "    text = dspy.InputField()\n",
    "    label = dspy.OutputField(prefix = 'Answer:')"
   ]
  },
  {
   "cell_type": "code",
   "execution_count": 192,
   "metadata": {},
   "outputs": [],
   "source": [
    "class SimpleSentiment(dspy.Module):\n",
    "    def __init__(self):\n",
    "        super().__init__()\n",
    "        self.prog = dspy.Predict(Sentiment)\n",
    "\n",
    "    def forward(self, text):\n",
    "        return self.prog(text=text)\n"
   ]
  },
  {
   "cell_type": "code",
   "execution_count": 193,
   "metadata": {},
   "outputs": [],
   "source": [
    "simple_sentiment = SimpleSentiment()"
   ]
  },
  {
   "cell_type": "code",
   "execution_count": 150,
   "metadata": {},
   "outputs": [
    {
     "name": "stdout",
     "output_type": "stream",
     "text": [
      "\n",
      "QUESTION:\n",
      "\n",
      "it's a charming and often affecting journey.\n",
      "\n",
      "PREDICTION:\n",
      "\n",
      "Prediction(\n",
      "    label='1'\n",
      ")\n"
     ]
    }
   ],
   "source": [
    "pred = simple_sentiment(text=example.text)\n",
    "print(\"\\nQUESTION:\\n\")\n",
    "print(example.text)\n",
    "# print(\"\\nANSWER:\\n\")\n",
    "# print(example.label)\n",
    "print(\"\\nPREDICTION:\\n\")\n",
    "print(pred)\n"
   ]
  },
  {
   "cell_type": "code",
   "execution_count": 151,
   "metadata": {},
   "outputs": [
    {
     "data": {
      "text/plain": [
       "True"
      ]
     },
     "execution_count": 151,
     "metadata": {},
     "output_type": "execute_result"
    }
   ],
   "source": [
    "eval_metric(example, pred)"
   ]
  },
  {
   "cell_type": "code",
   "execution_count": 194,
   "metadata": {},
   "outputs": [
    {
     "name": "stderr",
     "output_type": "stream",
     "text": [
      "Average Metric: 817 / 872  (93.7): 100%|██████████| 872/872 [01:43<00:00,  8.44it/s]\n"
     ]
    },
    {
     "data": {
      "text/html": [
       "<style type=\"text/css\">\n",
       "#T_7e4ea th {\n",
       "  text-align: left;\n",
       "}\n",
       "#T_7e4ea td {\n",
       "  text-align: left;\n",
       "}\n",
       "#T_7e4ea_row0_col0, #T_7e4ea_row0_col1, #T_7e4ea_row0_col2, #T_7e4ea_row0_col3, #T_7e4ea_row1_col0, #T_7e4ea_row1_col1, #T_7e4ea_row1_col2, #T_7e4ea_row1_col3, #T_7e4ea_row2_col0, #T_7e4ea_row2_col1, #T_7e4ea_row2_col2, #T_7e4ea_row2_col3, #T_7e4ea_row3_col0, #T_7e4ea_row3_col1, #T_7e4ea_row3_col2, #T_7e4ea_row3_col3, #T_7e4ea_row4_col0, #T_7e4ea_row4_col1, #T_7e4ea_row4_col2, #T_7e4ea_row4_col3, #T_7e4ea_row5_col0, #T_7e4ea_row5_col1, #T_7e4ea_row5_col2, #T_7e4ea_row5_col3, #T_7e4ea_row6_col0, #T_7e4ea_row6_col1, #T_7e4ea_row6_col2, #T_7e4ea_row6_col3, #T_7e4ea_row7_col0, #T_7e4ea_row7_col1, #T_7e4ea_row7_col2, #T_7e4ea_row7_col3, #T_7e4ea_row8_col0, #T_7e4ea_row8_col1, #T_7e4ea_row8_col2, #T_7e4ea_row8_col3, #T_7e4ea_row9_col0, #T_7e4ea_row9_col1, #T_7e4ea_row9_col2, #T_7e4ea_row9_col3 {\n",
       "  text-align: left;\n",
       "  white-space: pre-wrap;\n",
       "  word-wrap: break-word;\n",
       "  max-width: 400px;\n",
       "}\n",
       "</style>\n",
       "<table id=\"T_7e4ea\">\n",
       "  <thead>\n",
       "    <tr>\n",
       "      <th class=\"blank level0\" >&nbsp;</th>\n",
       "      <th id=\"T_7e4ea_level0_col0\" class=\"col_heading level0 col0\" >text</th>\n",
       "      <th id=\"T_7e4ea_level0_col1\" class=\"col_heading level0 col1\" >example_label</th>\n",
       "      <th id=\"T_7e4ea_level0_col2\" class=\"col_heading level0 col2\" >pred_label</th>\n",
       "      <th id=\"T_7e4ea_level0_col3\" class=\"col_heading level0 col3\" >eval_metric</th>\n",
       "    </tr>\n",
       "  </thead>\n",
       "  <tbody>\n",
       "    <tr>\n",
       "      <th id=\"T_7e4ea_level0_row0\" class=\"row_heading level0 row0\" >0</th>\n",
       "      <td id=\"T_7e4ea_row0_col0\" class=\"data row0 col0\" >it's a charming and often affecting journey.</td>\n",
       "      <td id=\"T_7e4ea_row0_col1\" class=\"data row0 col1\" >1</td>\n",
       "      <td id=\"T_7e4ea_row0_col2\" class=\"data row0 col2\" >1</td>\n",
       "      <td id=\"T_7e4ea_row0_col3\" class=\"data row0 col3\" >✔️ [True]</td>\n",
       "    </tr>\n",
       "    <tr>\n",
       "      <th id=\"T_7e4ea_level0_row1\" class=\"row_heading level0 row1\" >1</th>\n",
       "      <td id=\"T_7e4ea_row1_col0\" class=\"data row1 col0\" >unflinchingly bleak and desperate</td>\n",
       "      <td id=\"T_7e4ea_row1_col1\" class=\"data row1 col1\" >0</td>\n",
       "      <td id=\"T_7e4ea_row1_col2\" class=\"data row1 col2\" >0</td>\n",
       "      <td id=\"T_7e4ea_row1_col3\" class=\"data row1 col3\" >✔️ [True]</td>\n",
       "    </tr>\n",
       "    <tr>\n",
       "      <th id=\"T_7e4ea_level0_row2\" class=\"row_heading level0 row2\" >2</th>\n",
       "      <td id=\"T_7e4ea_row2_col0\" class=\"data row2 col0\" >allows us to hope that nolan is poised to embark a major career as a commercial yet inventive filmmaker.</td>\n",
       "      <td id=\"T_7e4ea_row2_col1\" class=\"data row2 col1\" >1</td>\n",
       "      <td id=\"T_7e4ea_row2_col2\" class=\"data row2 col2\" >1</td>\n",
       "      <td id=\"T_7e4ea_row2_col3\" class=\"data row2 col3\" >✔️ [True]</td>\n",
       "    </tr>\n",
       "    <tr>\n",
       "      <th id=\"T_7e4ea_level0_row3\" class=\"row_heading level0 row3\" >3</th>\n",
       "      <td id=\"T_7e4ea_row3_col0\" class=\"data row3 col0\" >the acting, costumes, music, cinematography and sound are all astounding given the production's austere locales.</td>\n",
       "      <td id=\"T_7e4ea_row3_col1\" class=\"data row3 col1\" >1</td>\n",
       "      <td id=\"T_7e4ea_row3_col2\" class=\"data row3 col2\" >1</td>\n",
       "      <td id=\"T_7e4ea_row3_col3\" class=\"data row3 col3\" >✔️ [True]</td>\n",
       "    </tr>\n",
       "    <tr>\n",
       "      <th id=\"T_7e4ea_level0_row4\" class=\"row_heading level0 row4\" >4</th>\n",
       "      <td id=\"T_7e4ea_row4_col0\" class=\"data row4 col0\" >it's slow -- very, very slow.</td>\n",
       "      <td id=\"T_7e4ea_row4_col1\" class=\"data row4 col1\" >0</td>\n",
       "      <td id=\"T_7e4ea_row4_col2\" class=\"data row4 col2\" >0</td>\n",
       "      <td id=\"T_7e4ea_row4_col3\" class=\"data row4 col3\" >✔️ [True]</td>\n",
       "    </tr>\n",
       "    <tr>\n",
       "      <th id=\"T_7e4ea_level0_row5\" class=\"row_heading level0 row5\" >5</th>\n",
       "      <td id=\"T_7e4ea_row5_col0\" class=\"data row5 col0\" >although laced with humor and a few fanciful touches, the film is a refreshingly serious look at young women.</td>\n",
       "      <td id=\"T_7e4ea_row5_col1\" class=\"data row5 col1\" >1</td>\n",
       "      <td id=\"T_7e4ea_row5_col2\" class=\"data row5 col2\" >1</td>\n",
       "      <td id=\"T_7e4ea_row5_col3\" class=\"data row5 col3\" >✔️ [True]</td>\n",
       "    </tr>\n",
       "    <tr>\n",
       "      <th id=\"T_7e4ea_level0_row6\" class=\"row_heading level0 row6\" >6</th>\n",
       "      <td id=\"T_7e4ea_row6_col0\" class=\"data row6 col0\" >a sometimes tedious film.</td>\n",
       "      <td id=\"T_7e4ea_row6_col1\" class=\"data row6 col1\" >0</td>\n",
       "      <td id=\"T_7e4ea_row6_col2\" class=\"data row6 col2\" >0</td>\n",
       "      <td id=\"T_7e4ea_row6_col3\" class=\"data row6 col3\" >✔️ [True]</td>\n",
       "    </tr>\n",
       "    <tr>\n",
       "      <th id=\"T_7e4ea_level0_row7\" class=\"row_heading level0 row7\" >7</th>\n",
       "      <td id=\"T_7e4ea_row7_col0\" class=\"data row7 col0\" >or doing last year's taxes with your ex-wife.</td>\n",
       "      <td id=\"T_7e4ea_row7_col1\" class=\"data row7 col1\" >0</td>\n",
       "      <td id=\"T_7e4ea_row7_col2\" class=\"data row7 col2\" >0</td>\n",
       "      <td id=\"T_7e4ea_row7_col3\" class=\"data row7 col3\" >✔️ [True]</td>\n",
       "    </tr>\n",
       "    <tr>\n",
       "      <th id=\"T_7e4ea_level0_row8\" class=\"row_heading level0 row8\" >8</th>\n",
       "      <td id=\"T_7e4ea_row8_col0\" class=\"data row8 col0\" >you don't have to know about music to appreciate the film's easygoing blend of comedy and romance.</td>\n",
       "      <td id=\"T_7e4ea_row8_col1\" class=\"data row8 col1\" >1</td>\n",
       "      <td id=\"T_7e4ea_row8_col2\" class=\"data row8 col2\" >1</td>\n",
       "      <td id=\"T_7e4ea_row8_col3\" class=\"data row8 col3\" >✔️ [True]</td>\n",
       "    </tr>\n",
       "    <tr>\n",
       "      <th id=\"T_7e4ea_level0_row9\" class=\"row_heading level0 row9\" >9</th>\n",
       "      <td id=\"T_7e4ea_row9_col0\" class=\"data row9 col0\" >in exactly 89 minutes, most of which passed as slowly as if i'd been sitting naked on an igloo, formula 51 sank from quirky to...</td>\n",
       "      <td id=\"T_7e4ea_row9_col1\" class=\"data row9 col1\" >0</td>\n",
       "      <td id=\"T_7e4ea_row9_col2\" class=\"data row9 col2\" >0</td>\n",
       "      <td id=\"T_7e4ea_row9_col3\" class=\"data row9 col3\" >✔️ [True]</td>\n",
       "    </tr>\n",
       "  </tbody>\n",
       "</table>\n"
      ],
      "text/plain": [
       "<pandas.io.formats.style.Styler at 0x140686e10>"
      ]
     },
     "metadata": {},
     "output_type": "display_data"
    },
    {
     "data": {
      "text/html": [
       "\n",
       "                <div style='\n",
       "                    text-align: center;\n",
       "                    font-size: 16px;\n",
       "                    font-weight: bold;\n",
       "                    color: #555;\n",
       "                    margin: 10px 0;'>\n",
       "                    ... 862 more rows not displayed ...\n",
       "                </div>\n",
       "                "
      ],
      "text/plain": [
       "<IPython.core.display.HTML object>"
      ]
     },
     "metadata": {},
     "output_type": "display_data"
    }
   ],
   "source": [
    "evaluate = Evaluate(devset= examples, metric=eval_metric, num_threads=6, display_progress=True, display_table=10, return_outputs= True, return_all_scores=True)\n",
    "results = evaluate(simple_sentiment)\n",
    "items = []\n",
    "for sample in results[1]:\n",
    "    item = {}\n",
    "    sentence = sample[0]['text']\n",
    "    label = sample[0]['label']\n",
    "    pred = sample[1]['label']\n",
    "    item['text'] = sentence\n",
    "    item['label'] = label\n",
    "    item['pred'] = pred\n",
    "    items.append(item)\n",
    "df_result = pd.DataFrame(data = items)\n",
    "df_result.to_csv('results/sa/gpt4o-0shot-sst2.csv')"
   ]
  },
  {
   "cell_type": "code",
   "execution_count": 40,
   "metadata": {},
   "outputs": [],
   "source": [
    "class CoTSentiment(dspy.Module):\n",
    "    def __init__(self):\n",
    "        super().__init__()\n",
    "        self.prog = dspy.ChainOfThought(Sentiment)\n",
    "\n",
    "    def forward(self, text):\n",
    "        return self.prog(text=text)\n"
   ]
  },
  {
   "cell_type": "code",
   "execution_count": 107,
   "metadata": {},
   "outputs": [
    {
     "name": "stdout",
     "output_type": "stream",
     "text": [
      "\n",
      "QUESTION:\n",
      "\n",
      "it 's a charming and often affecting journey . \n",
      "\n",
      "PREDICTION:\n",
      "\n",
      "Prediction(\n",
      "    reasoning='The text describes the journey as \"charming\" and \"often affecting,\" which are positive adjectives. \"Charming\" suggests that the journey is delightful and pleasing, while \"affecting\" implies that it has a significant emotional impact. Both terms indicate a positive sentiment towards the journey.',\n",
      "    label='1'\n",
      ")\n"
     ]
    }
   ],
   "source": [
    "cot_sentiment = CoTSentiment()\n",
    "pred = cot_sentiment(text=example.text)\n",
    "print(\"\\nQUESTION:\\n\")\n",
    "print(example.text)\n",
    "# print(\"\\nANSWER:\\n\")\n",
    "# print(example.label)\n",
    "print(\"\\nPREDICTION:\\n\")\n",
    "print(pred)\n"
   ]
  },
  {
   "cell_type": "code",
   "execution_count": 108,
   "metadata": {},
   "outputs": [
    {
     "name": "stdout",
     "output_type": "stream",
     "text": [
      "\n",
      "\n",
      "\n",
      "\n",
      "\u001b[34m[2024-11-14T19:10:57.926980]\u001b[0m\n",
      "\n",
      "\u001b[31mSystem message:\u001b[0m\n",
      "\n",
      "Your input fields are:\n",
      "1. `text` (str)\n",
      "\n",
      "Your output fields are:\n",
      "1. `reasoning` (str)\n",
      "2. `label` (str)\n",
      "\n",
      "All interactions will be structured in the following way, with the appropriate values filled in.\n",
      "\n",
      "[[ ## text ## ]]\n",
      "{text}\n",
      "\n",
      "[[ ## reasoning ## ]]\n",
      "{reasoning}\n",
      "\n",
      "[[ ## label ## ]]\n",
      "{label}\n",
      "\n",
      "[[ ## completed ## ]]\n",
      "\n",
      "In adhering to this structure, your objective is: \n",
      "        Classify sentiment of the given text. Answer with 1 for positive, 0 for negative, or 2 for neutral.\n",
      "\n",
      "\n",
      "\u001b[31mUser message:\u001b[0m\n",
      "\n",
      "[[ ## text ## ]]\n",
      "it 's a charming and often affecting journey .\n",
      "\n",
      "Respond with the corresponding output fields, starting with the field `[[ ## reasoning ## ]]`, then `[[ ## label ## ]]`, and then ending with the marker for `[[ ## completed ## ]]`.\n",
      "\n",
      "\n",
      "\u001b[31mResponse:\u001b[0m\n",
      "\n",
      "\u001b[32m[[ ## reasoning ## ]]\n",
      "The text describes the journey as \"charming\" and \"often affecting,\" which are positive adjectives. \"Charming\" suggests that the journey is delightful and pleasing, while \"affecting\" implies that it has a significant emotional impact. Both terms indicate a positive sentiment towards the journey.\n",
      "\n",
      "[[ ## label ## ]]\n",
      "1\n",
      "\n",
      "[[ ## completed ## ]]\u001b[0m\n",
      "\n",
      "\n",
      "\n",
      "\n",
      "\n"
     ]
    }
   ],
   "source": [
    "lm.inspect_history()"
   ]
  },
  {
   "cell_type": "code",
   "execution_count": 42,
   "metadata": {},
   "outputs": [
    {
     "name": "stderr",
     "output_type": "stream",
     "text": [
      "Average Metric: 760 / 872  (87.2): 100%|██████████| 872/872 [05:35<00:00,  2.60it/s]\n"
     ]
    },
    {
     "data": {
      "text/html": [
       "<style type=\"text/css\">\n",
       "#T_ac557 th {\n",
       "  text-align: left;\n",
       "}\n",
       "#T_ac557 td {\n",
       "  text-align: left;\n",
       "}\n",
       "#T_ac557_row0_col0, #T_ac557_row0_col1, #T_ac557_row0_col2, #T_ac557_row0_col3, #T_ac557_row0_col4, #T_ac557_row1_col0, #T_ac557_row1_col1, #T_ac557_row1_col2, #T_ac557_row1_col3, #T_ac557_row1_col4, #T_ac557_row2_col0, #T_ac557_row2_col1, #T_ac557_row2_col2, #T_ac557_row2_col3, #T_ac557_row2_col4, #T_ac557_row3_col0, #T_ac557_row3_col1, #T_ac557_row3_col2, #T_ac557_row3_col3, #T_ac557_row3_col4, #T_ac557_row4_col0, #T_ac557_row4_col1, #T_ac557_row4_col2, #T_ac557_row4_col3, #T_ac557_row4_col4, #T_ac557_row5_col0, #T_ac557_row5_col1, #T_ac557_row5_col2, #T_ac557_row5_col3, #T_ac557_row5_col4, #T_ac557_row6_col0, #T_ac557_row6_col1, #T_ac557_row6_col2, #T_ac557_row6_col3, #T_ac557_row6_col4, #T_ac557_row7_col0, #T_ac557_row7_col1, #T_ac557_row7_col2, #T_ac557_row7_col3, #T_ac557_row7_col4, #T_ac557_row8_col0, #T_ac557_row8_col1, #T_ac557_row8_col2, #T_ac557_row8_col3, #T_ac557_row8_col4, #T_ac557_row9_col0, #T_ac557_row9_col1, #T_ac557_row9_col2, #T_ac557_row9_col3, #T_ac557_row9_col4 {\n",
       "  text-align: left;\n",
       "  white-space: pre-wrap;\n",
       "  word-wrap: break-word;\n",
       "  max-width: 400px;\n",
       "}\n",
       "</style>\n",
       "<table id=\"T_ac557\">\n",
       "  <thead>\n",
       "    <tr>\n",
       "      <th class=\"blank level0\" >&nbsp;</th>\n",
       "      <th id=\"T_ac557_level0_col0\" class=\"col_heading level0 col0\" >text</th>\n",
       "      <th id=\"T_ac557_level0_col1\" class=\"col_heading level0 col1\" >example_label</th>\n",
       "      <th id=\"T_ac557_level0_col2\" class=\"col_heading level0 col2\" >reasoning</th>\n",
       "      <th id=\"T_ac557_level0_col3\" class=\"col_heading level0 col3\" >pred_label</th>\n",
       "      <th id=\"T_ac557_level0_col4\" class=\"col_heading level0 col4\" >eval_metric</th>\n",
       "    </tr>\n",
       "  </thead>\n",
       "  <tbody>\n",
       "    <tr>\n",
       "      <th id=\"T_ac557_level0_row0\" class=\"row_heading level0 row0\" >0</th>\n",
       "      <td id=\"T_ac557_row0_col0\" class=\"data row0 col0\" >it 's a charming and often affecting journey . </td>\n",
       "      <td id=\"T_ac557_row0_col1\" class=\"data row0 col1\" >1</td>\n",
       "      <td id=\"T_ac557_row0_col2\" class=\"data row0 col2\" >The text describes the journey as \"charming\" and \"often affecting,\" which are positive adjectives. \"Charming\" suggests that the journey is delightful and pleasing, while \"affecting\"...</td>\n",
       "      <td id=\"T_ac557_row0_col3\" class=\"data row0 col3\" >1</td>\n",
       "      <td id=\"T_ac557_row0_col4\" class=\"data row0 col4\" >✔️ [True]</td>\n",
       "    </tr>\n",
       "    <tr>\n",
       "      <th id=\"T_ac557_level0_row1\" class=\"row_heading level0 row1\" >1</th>\n",
       "      <td id=\"T_ac557_row1_col0\" class=\"data row1 col0\" >unflinchingly bleak and desperate </td>\n",
       "      <td id=\"T_ac557_row1_col1\" class=\"data row1 col1\" >0</td>\n",
       "      <td id=\"T_ac557_row1_col2\" class=\"data row1 col2\" >The text \"unflinchingly bleak and desperate\" uses words that convey a strong sense of negativity. \"Bleak\" suggests a lack of hope or positivity, and \"desperate\"...</td>\n",
       "      <td id=\"T_ac557_row1_col3\" class=\"data row1 col3\" >0</td>\n",
       "      <td id=\"T_ac557_row1_col4\" class=\"data row1 col4\" >✔️ [True]</td>\n",
       "    </tr>\n",
       "    <tr>\n",
       "      <th id=\"T_ac557_level0_row2\" class=\"row_heading level0 row2\" >2</th>\n",
       "      <td id=\"T_ac557_row2_col0\" class=\"data row2 col0\" >allows us to hope that nolan is poised to embark a major career as a commercial yet inventive filmmaker . </td>\n",
       "      <td id=\"T_ac557_row2_col1\" class=\"data row2 col1\" >1</td>\n",
       "      <td id=\"T_ac557_row2_col2\" class=\"data row2 col2\" >The text expresses optimism and hope regarding Nolan's future career, suggesting that he is on the verge of achieving significant success as a filmmaker who...</td>\n",
       "      <td id=\"T_ac557_row2_col3\" class=\"data row2 col3\" >1</td>\n",
       "      <td id=\"T_ac557_row2_col4\" class=\"data row2 col4\" >✔️ [True]</td>\n",
       "    </tr>\n",
       "    <tr>\n",
       "      <th id=\"T_ac557_level0_row3\" class=\"row_heading level0 row3\" >3</th>\n",
       "      <td id=\"T_ac557_row3_col0\" class=\"data row3 col0\" >the acting , costumes , music , cinematography and sound are all astounding given the production 's austere locales . </td>\n",
       "      <td id=\"T_ac557_row3_col1\" class=\"data row3 col1\" >1</td>\n",
       "      <td id=\"T_ac557_row3_col2\" class=\"data row3 col2\" >The text praises multiple aspects of the production, such as acting, costumes, music, cinematography, and sound, describing them as \"astounding.\" This indicates a strong positive...</td>\n",
       "      <td id=\"T_ac557_row3_col3\" class=\"data row3 col3\" >1</td>\n",
       "      <td id=\"T_ac557_row3_col4\" class=\"data row3 col4\" >✔️ [True]</td>\n",
       "    </tr>\n",
       "    <tr>\n",
       "      <th id=\"T_ac557_level0_row4\" class=\"row_heading level0 row4\" >4</th>\n",
       "      <td id=\"T_ac557_row4_col0\" class=\"data row4 col0\" >it 's slow -- very , very slow . </td>\n",
       "      <td id=\"T_ac557_row4_col1\" class=\"data row4 col1\" >0</td>\n",
       "      <td id=\"T_ac557_row4_col2\" class=\"data row4 col2\" >The text describes something as \"slow\" and emphasizes this by repeating \"very, very slow.\" This repetition suggests a negative sentiment, as slowness is typically not...</td>\n",
       "      <td id=\"T_ac557_row4_col3\" class=\"data row4 col3\" >0</td>\n",
       "      <td id=\"T_ac557_row4_col4\" class=\"data row4 col4\" >✔️ [True]</td>\n",
       "    </tr>\n",
       "    <tr>\n",
       "      <th id=\"T_ac557_level0_row5\" class=\"row_heading level0 row5\" >5</th>\n",
       "      <td id=\"T_ac557_row5_col0\" class=\"data row5 col0\" >although laced with humor and a few fanciful touches , the film is a refreshingly serious look at young women . </td>\n",
       "      <td id=\"T_ac557_row5_col1\" class=\"data row5 col1\" >1</td>\n",
       "      <td id=\"T_ac557_row5_col2\" class=\"data row5 col2\" >The text describes the film as \"refreshingly serious\" and mentions it is \"laced with humor and a few fanciful touches,\" which suggests a positive sentiment....</td>\n",
       "      <td id=\"T_ac557_row5_col3\" class=\"data row5 col3\" >1</td>\n",
       "      <td id=\"T_ac557_row5_col4\" class=\"data row5 col4\" >✔️ [True]</td>\n",
       "    </tr>\n",
       "    <tr>\n",
       "      <th id=\"T_ac557_level0_row6\" class=\"row_heading level0 row6\" >6</th>\n",
       "      <td id=\"T_ac557_row6_col0\" class=\"data row6 col0\" >a sometimes tedious film . </td>\n",
       "      <td id=\"T_ac557_row6_col1\" class=\"data row6 col1\" >0</td>\n",
       "      <td id=\"T_ac557_row6_col2\" class=\"data row6 col2\" >The text describes the film as \"sometimes tedious,\" which suggests a negative sentiment. The word \"tedious\" implies that the film can be boring or monotonous...</td>\n",
       "      <td id=\"T_ac557_row6_col3\" class=\"data row6 col3\" >0</td>\n",
       "      <td id=\"T_ac557_row6_col4\" class=\"data row6 col4\" >✔️ [True]</td>\n",
       "    </tr>\n",
       "    <tr>\n",
       "      <th id=\"T_ac557_level0_row7\" class=\"row_heading level0 row7\" >7</th>\n",
       "      <td id=\"T_ac557_row7_col0\" class=\"data row7 col0\" >or doing last year 's taxes with your ex-wife . </td>\n",
       "      <td id=\"T_ac557_row7_col1\" class=\"data row7 col1\" >0</td>\n",
       "      <td id=\"T_ac557_row7_col2\" class=\"data row7 col2\" >The text refers to the task of doing taxes with an ex-wife, which is likely to be an uncomfortable or unpleasant situation due to the...</td>\n",
       "      <td id=\"T_ac557_row7_col3\" class=\"data row7 col3\" >0</td>\n",
       "      <td id=\"T_ac557_row7_col4\" class=\"data row7 col4\" >✔️ [True]</td>\n",
       "    </tr>\n",
       "    <tr>\n",
       "      <th id=\"T_ac557_level0_row8\" class=\"row_heading level0 row8\" >8</th>\n",
       "      <td id=\"T_ac557_row8_col0\" class=\"data row8 col0\" >you do n't have to know about music to appreciate the film 's easygoing blend of comedy and romance . </td>\n",
       "      <td id=\"T_ac557_row8_col1\" class=\"data row8 col1\" >1</td>\n",
       "      <td id=\"T_ac557_row8_col2\" class=\"data row8 col2\" >The text suggests that the film is enjoyable and accessible even to those who are not knowledgeable about music. The use of the words \"easygoing...</td>\n",
       "      <td id=\"T_ac557_row8_col3\" class=\"data row8 col3\" >1</td>\n",
       "      <td id=\"T_ac557_row8_col4\" class=\"data row8 col4\" >✔️ [True]</td>\n",
       "    </tr>\n",
       "    <tr>\n",
       "      <th id=\"T_ac557_level0_row9\" class=\"row_heading level0 row9\" >9</th>\n",
       "      <td id=\"T_ac557_row9_col0\" class=\"data row9 col0\" >in exactly 89 minutes , most of which passed as slowly as if i 'd been sitting naked on an igloo , formula 51 sank...</td>\n",
       "      <td id=\"T_ac557_row9_col1\" class=\"data row9 col1\" >0</td>\n",
       "      <td id=\"T_ac557_row9_col2\" class=\"data row9 col2\" >The text describes the experience of watching \"formula 51\" as unpleasant and slow, using negative imagery such as \"sitting naked on an igloo\" and describing...</td>\n",
       "      <td id=\"T_ac557_row9_col3\" class=\"data row9 col3\" >0</td>\n",
       "      <td id=\"T_ac557_row9_col4\" class=\"data row9 col4\" >✔️ [True]</td>\n",
       "    </tr>\n",
       "  </tbody>\n",
       "</table>\n"
      ],
      "text/plain": [
       "<pandas.io.formats.style.Styler at 0x131a83170>"
      ]
     },
     "metadata": {},
     "output_type": "display_data"
    },
    {
     "data": {
      "text/html": [
       "\n",
       "                <div style='\n",
       "                    text-align: center;\n",
       "                    font-size: 16px;\n",
       "                    font-weight: bold;\n",
       "                    color: #555;\n",
       "                    margin: 10px 0;'>\n",
       "                    ... 862 more rows not displayed ...\n",
       "                </div>\n",
       "                "
      ],
      "text/plain": [
       "<IPython.core.display.HTML object>"
      ]
     },
     "metadata": {},
     "output_type": "display_data"
    }
   ],
   "source": [
    "evaluate = Evaluate(devset= examples, metric=eval_metric, num_threads=6, display_progress=True, display_table=10, return_outputs= True, return_all_scores=True)\n",
    "results = evaluate(cot_sentiment)\n",
    "items = []\n",
    "for sample in results[1]:\n",
    "    item = {}\n",
    "    sentence = sample[0]['text']\n",
    "    label = sample[0]['label']\n",
    "    pred = sample[1]['label']\n",
    "    item['text'] = sentence\n",
    "    item['label'] = label\n",
    "    item['pred'] = pred\n",
    "    items.append(item)\n",
    "df_result = pd.DataFrame(data = items)\n",
    "df_result.to_csv('gpt4o-0shot-cot-sst2.csv')"
   ]
  },
  {
   "cell_type": "markdown",
   "metadata": {},
   "source": [
    "# Evaluate by modification"
   ]
  },
  {
   "cell_type": "markdown",
   "metadata": {},
   "source": [
    "## Without label change"
   ]
  },
  {
   "cell_type": "code",
   "execution_count": 11,
   "metadata": {},
   "outputs": [],
   "source": [
    "def evaluate_modified_set(ds, program):\n",
    "    examples = [\n",
    "    dspy.Example({ \n",
    "                  \"text\" : remove_space(r['modified_text']), \n",
    "                  \"original_text\": remove_space(r['original_text']),\n",
    "                  \"label\": int(r['label']),\n",
    "                  \"modified_label\": int(r['label'])\n",
    "                }\n",
    "                  ).with_inputs(\"text\") \n",
    "    for r in ds\n",
    "    ]\n",
    "    evaluate = Evaluate(devset= examples, metric=eval_metric, num_threads=6, display_progress=True, display_table=1, return_outputs= True, return_all_scores=True)\n",
    "    results = evaluate(program)\n",
    "    return results"
   ]
  },
  {
   "cell_type": "code",
   "execution_count": 12,
   "metadata": {},
   "outputs": [],
   "source": [
    "class Sentiment(dspy.Signature):\n",
    "    \"\"\"Classify sentiment of the given text. Answer with 1 for positive, 0 for negative.\"\"\"\n",
    "    text = dspy.InputField()\n",
    "    label = dspy.OutputField(prefix = 'Answer:')\n",
    "class SimpleSentiment(dspy.Module):\n",
    "    def __init__(self):\n",
    "        super().__init__()\n",
    "        self.prog = dspy.Predict(Sentiment)\n",
    "\n",
    "    def forward(self, text):\n",
    "        return self.prog(text=text)\n",
    "simple_sentiment = SimpleSentiment()"
   ]
  },
  {
   "cell_type": "code",
   "execution_count": 16,
   "metadata": {},
   "outputs": [
    {
     "name": "stdout",
     "output_type": "stream",
     "text": [
      "../preprocessing/data_after_phase2/yulia/casual_100.json\n"
     ]
    },
    {
     "name": "stderr",
     "output_type": "stream",
     "text": [
      "Average Metric: 93 / 100  (93.0): 100%|██████████| 100/100 [00:00<00:00, 772.96it/s]\n"
     ]
    },
    {
     "data": {
      "text/html": [
       "<style type=\"text/css\">\n",
       "#T_2b8b1 th {\n",
       "  text-align: left;\n",
       "}\n",
       "#T_2b8b1 td {\n",
       "  text-align: left;\n",
       "}\n",
       "#T_2b8b1_row0_col0, #T_2b8b1_row0_col1, #T_2b8b1_row0_col2, #T_2b8b1_row0_col3, #T_2b8b1_row0_col4, #T_2b8b1_row0_col5 {\n",
       "  text-align: left;\n",
       "  white-space: pre-wrap;\n",
       "  word-wrap: break-word;\n",
       "  max-width: 400px;\n",
       "}\n",
       "</style>\n",
       "<table id=\"T_2b8b1\">\n",
       "  <thead>\n",
       "    <tr>\n",
       "      <th class=\"blank level0\" >&nbsp;</th>\n",
       "      <th id=\"T_2b8b1_level0_col0\" class=\"col_heading level0 col0\" >text</th>\n",
       "      <th id=\"T_2b8b1_level0_col1\" class=\"col_heading level0 col1\" >original_text</th>\n",
       "      <th id=\"T_2b8b1_level0_col2\" class=\"col_heading level0 col2\" >example_label</th>\n",
       "      <th id=\"T_2b8b1_level0_col3\" class=\"col_heading level0 col3\" >modified_label</th>\n",
       "      <th id=\"T_2b8b1_level0_col4\" class=\"col_heading level0 col4\" >pred_label</th>\n",
       "      <th id=\"T_2b8b1_level0_col5\" class=\"col_heading level0 col5\" >eval_metric</th>\n",
       "    </tr>\n",
       "  </thead>\n",
       "  <tbody>\n",
       "    <tr>\n",
       "      <th id=\"T_2b8b1_level0_row0\" class=\"row_heading level0 row0\" >0</th>\n",
       "      <td id=\"T_2b8b1_row0_col0\" class=\"data row0 col0\" >it shows that fincher is a director who skillfully uses tech skills to dig into what makes people tick.</td>\n",
       "      <td id=\"T_2b8b1_row0_col1\" class=\"data row0 col1\" >it confirms fincher's status as a film maker who artfully bends technical know-how to the service of psychological insight.</td>\n",
       "      <td id=\"T_2b8b1_row0_col2\" class=\"data row0 col2\" >1</td>\n",
       "      <td id=\"T_2b8b1_row0_col3\" class=\"data row0 col3\" >1</td>\n",
       "      <td id=\"T_2b8b1_row0_col4\" class=\"data row0 col4\" >1</td>\n",
       "      <td id=\"T_2b8b1_row0_col5\" class=\"data row0 col5\" >✔️ [True]</td>\n",
       "    </tr>\n",
       "  </tbody>\n",
       "</table>\n"
      ],
      "text/plain": [
       "<pandas.io.formats.style.Styler at 0x12bf326c0>"
      ]
     },
     "metadata": {},
     "output_type": "display_data"
    },
    {
     "data": {
      "text/html": [
       "\n",
       "                <div style='\n",
       "                    text-align: center;\n",
       "                    font-size: 16px;\n",
       "                    font-weight: bold;\n",
       "                    color: #555;\n",
       "                    margin: 10px 0;'>\n",
       "                    ... 99 more rows not displayed ...\n",
       "                </div>\n",
       "                "
      ],
      "text/plain": [
       "<IPython.core.display.HTML object>"
      ]
     },
     "metadata": {},
     "output_type": "display_data"
    },
    {
     "name": "stdout",
     "output_type": "stream",
     "text": [
      "../preprocessing/data_after_phase2/yulia/discourse_100.json\n"
     ]
    },
    {
     "name": "stderr",
     "output_type": "stream",
     "text": [
      "Average Metric: 86 / 99  (86.9): 100%|██████████| 99/99 [00:04<00:00, 23.67it/s] \n"
     ]
    },
    {
     "data": {
      "text/html": [
       "<style type=\"text/css\">\n",
       "#T_0de73 th {\n",
       "  text-align: left;\n",
       "}\n",
       "#T_0de73 td {\n",
       "  text-align: left;\n",
       "}\n",
       "#T_0de73_row0_col0, #T_0de73_row0_col1, #T_0de73_row0_col2, #T_0de73_row0_col3, #T_0de73_row0_col4, #T_0de73_row0_col5 {\n",
       "  text-align: left;\n",
       "  white-space: pre-wrap;\n",
       "  word-wrap: break-word;\n",
       "  max-width: 400px;\n",
       "}\n",
       "</style>\n",
       "<table id=\"T_0de73\">\n",
       "  <thead>\n",
       "    <tr>\n",
       "      <th class=\"blank level0\" >&nbsp;</th>\n",
       "      <th id=\"T_0de73_level0_col0\" class=\"col_heading level0 col0\" >text</th>\n",
       "      <th id=\"T_0de73_level0_col1\" class=\"col_heading level0 col1\" >original_text</th>\n",
       "      <th id=\"T_0de73_level0_col2\" class=\"col_heading level0 col2\" >example_label</th>\n",
       "      <th id=\"T_0de73_level0_col3\" class=\"col_heading level0 col3\" >modified_label</th>\n",
       "      <th id=\"T_0de73_level0_col4\" class=\"col_heading level0 col4\" >pred_label</th>\n",
       "      <th id=\"T_0de73_level0_col5\" class=\"col_heading level0 col5\" >eval_metric</th>\n",
       "    </tr>\n",
       "  </thead>\n",
       "  <tbody>\n",
       "    <tr>\n",
       "      <th id=\"T_0de73_level0_row0\" class=\"row_heading level0 row0\" >0</th>\n",
       "      <td id=\"T_0de73_row0_col0\" class=\"data row0 col0\" >too often, the viewer isn't reacting to humor, rather they are wincing back in repugnance.</td>\n",
       "      <td id=\"T_0de73_row0_col1\" class=\"data row0 col1\" >too often, the viewer isn't reacting to humor so much as they are wincing back in repugnance.</td>\n",
       "      <td id=\"T_0de73_row0_col2\" class=\"data row0 col2\" >0</td>\n",
       "      <td id=\"T_0de73_row0_col3\" class=\"data row0 col3\" >0</td>\n",
       "      <td id=\"T_0de73_row0_col4\" class=\"data row0 col4\" >0</td>\n",
       "      <td id=\"T_0de73_row0_col5\" class=\"data row0 col5\" >✔️ [True]</td>\n",
       "    </tr>\n",
       "  </tbody>\n",
       "</table>\n"
      ],
      "text/plain": [
       "<pandas.io.formats.style.Styler at 0x12e991850>"
      ]
     },
     "metadata": {},
     "output_type": "display_data"
    },
    {
     "data": {
      "text/html": [
       "\n",
       "                <div style='\n",
       "                    text-align: center;\n",
       "                    font-size: 16px;\n",
       "                    font-weight: bold;\n",
       "                    color: #555;\n",
       "                    margin: 10px 0;'>\n",
       "                    ... 98 more rows not displayed ...\n",
       "                </div>\n",
       "                "
      ],
      "text/plain": [
       "<IPython.core.display.HTML object>"
      ]
     },
     "metadata": {},
     "output_type": "display_data"
    },
    {
     "name": "stdout",
     "output_type": "stream",
     "text": [
      "../preprocessing/data_after_phase2/yulia/compound_word_100.json\n"
     ]
    },
    {
     "name": "stderr",
     "output_type": "stream",
     "text": [
      "Average Metric: 87 / 95  (91.6): 100%|██████████| 95/95 [00:00<00:00, 732.79it/s]\n"
     ]
    },
    {
     "data": {
      "text/html": [
       "<style type=\"text/css\">\n",
       "#T_49bd3 th {\n",
       "  text-align: left;\n",
       "}\n",
       "#T_49bd3 td {\n",
       "  text-align: left;\n",
       "}\n",
       "#T_49bd3_row0_col0, #T_49bd3_row0_col1, #T_49bd3_row0_col2, #T_49bd3_row0_col3, #T_49bd3_row0_col4, #T_49bd3_row0_col5 {\n",
       "  text-align: left;\n",
       "  white-space: pre-wrap;\n",
       "  word-wrap: break-word;\n",
       "  max-width: 400px;\n",
       "}\n",
       "</style>\n",
       "<table id=\"T_49bd3\">\n",
       "  <thead>\n",
       "    <tr>\n",
       "      <th class=\"blank level0\" >&nbsp;</th>\n",
       "      <th id=\"T_49bd3_level0_col0\" class=\"col_heading level0 col0\" >text</th>\n",
       "      <th id=\"T_49bd3_level0_col1\" class=\"col_heading level0 col1\" >original_text</th>\n",
       "      <th id=\"T_49bd3_level0_col2\" class=\"col_heading level0 col2\" >example_label</th>\n",
       "      <th id=\"T_49bd3_level0_col3\" class=\"col_heading level0 col3\" >modified_label</th>\n",
       "      <th id=\"T_49bd3_level0_col4\" class=\"col_heading level0 col4\" >pred_label</th>\n",
       "      <th id=\"T_49bd3_level0_col5\" class=\"col_heading level0 col5\" >eval_metric</th>\n",
       "    </tr>\n",
       "  </thead>\n",
       "  <tbody>\n",
       "    <tr>\n",
       "      <th id=\"T_49bd3_level0_row0\" class=\"row_heading level0 row0\" >0</th>\n",
       "      <td id=\"T_49bd3_row0_col0\" class=\"data row0 col0\" >escaping the studio, piccoli is warmly affecting and so is this adroitly minimalist film-making.</td>\n",
       "      <td id=\"T_49bd3_row0_col1\" class=\"data row0 col1\" >escaping the studio, piccoli is warmly affecting and so is this adroitly minimalist movie.</td>\n",
       "      <td id=\"T_49bd3_row0_col2\" class=\"data row0 col2\" >1</td>\n",
       "      <td id=\"T_49bd3_row0_col3\" class=\"data row0 col3\" >1</td>\n",
       "      <td id=\"T_49bd3_row0_col4\" class=\"data row0 col4\" >1</td>\n",
       "      <td id=\"T_49bd3_row0_col5\" class=\"data row0 col5\" >✔️ [True]</td>\n",
       "    </tr>\n",
       "  </tbody>\n",
       "</table>\n"
      ],
      "text/plain": [
       "<pandas.io.formats.style.Styler at 0x128606a50>"
      ]
     },
     "metadata": {},
     "output_type": "display_data"
    },
    {
     "data": {
      "text/html": [
       "\n",
       "                <div style='\n",
       "                    text-align: center;\n",
       "                    font-size: 16px;\n",
       "                    font-weight: bold;\n",
       "                    color: #555;\n",
       "                    margin: 10px 0;'>\n",
       "                    ... 94 more rows not displayed ...\n",
       "                </div>\n",
       "                "
      ],
      "text/plain": [
       "<IPython.core.display.HTML object>"
      ]
     },
     "metadata": {},
     "output_type": "display_data"
    },
    {
     "name": "stdout",
     "output_type": "stream",
     "text": [
      "../preprocessing/data_after_phase2/yulia/temporal_bias_100.json\n"
     ]
    },
    {
     "name": "stderr",
     "output_type": "stream",
     "text": [
      "Average Metric: 90 / 100  (90.0): 100%|██████████| 100/100 [00:00<00:00, 769.66it/s]\n"
     ]
    },
    {
     "data": {
      "text/html": [
       "<style type=\"text/css\">\n",
       "#T_a4e44 th {\n",
       "  text-align: left;\n",
       "}\n",
       "#T_a4e44 td {\n",
       "  text-align: left;\n",
       "}\n",
       "#T_a4e44_row0_col0, #T_a4e44_row0_col1, #T_a4e44_row0_col2, #T_a4e44_row0_col3, #T_a4e44_row0_col4, #T_a4e44_row0_col5 {\n",
       "  text-align: left;\n",
       "  white-space: pre-wrap;\n",
       "  word-wrap: break-word;\n",
       "  max-width: 400px;\n",
       "}\n",
       "</style>\n",
       "<table id=\"T_a4e44\">\n",
       "  <thead>\n",
       "    <tr>\n",
       "      <th class=\"blank level0\" >&nbsp;</th>\n",
       "      <th id=\"T_a4e44_level0_col0\" class=\"col_heading level0 col0\" >text</th>\n",
       "      <th id=\"T_a4e44_level0_col1\" class=\"col_heading level0 col1\" >original_text</th>\n",
       "      <th id=\"T_a4e44_level0_col2\" class=\"col_heading level0 col2\" >example_label</th>\n",
       "      <th id=\"T_a4e44_level0_col3\" class=\"col_heading level0 col3\" >modified_label</th>\n",
       "      <th id=\"T_a4e44_level0_col4\" class=\"col_heading level0 col4\" >pred_label</th>\n",
       "      <th id=\"T_a4e44_level0_col5\" class=\"col_heading level0 col5\" >eval_metric</th>\n",
       "    </tr>\n",
       "  </thead>\n",
       "  <tbody>\n",
       "    <tr>\n",
       "      <th id=\"T_a4e44_level0_row0\" class=\"row_heading level0 row0\" >0</th>\n",
       "      <td id=\"T_a4e44_row0_col0\" class=\"data row0 col0\" >i'll wager the video game is a lot more fun than the film.</td>\n",
       "      <td id=\"T_a4e44_row0_col1\" class=\"data row0 col1\" >i'll bet the video game is a lot more fun than the film.</td>\n",
       "      <td id=\"T_a4e44_row0_col2\" class=\"data row0 col2\" >0</td>\n",
       "      <td id=\"T_a4e44_row0_col3\" class=\"data row0 col3\" >0</td>\n",
       "      <td id=\"T_a4e44_row0_col4\" class=\"data row0 col4\" >0</td>\n",
       "      <td id=\"T_a4e44_row0_col5\" class=\"data row0 col5\" >✔️ [True]</td>\n",
       "    </tr>\n",
       "  </tbody>\n",
       "</table>\n"
      ],
      "text/plain": [
       "<pandas.io.formats.style.Styler at 0x1286074a0>"
      ]
     },
     "metadata": {},
     "output_type": "display_data"
    },
    {
     "data": {
      "text/html": [
       "\n",
       "                <div style='\n",
       "                    text-align: center;\n",
       "                    font-size: 16px;\n",
       "                    font-weight: bold;\n",
       "                    color: #555;\n",
       "                    margin: 10px 0;'>\n",
       "                    ... 99 more rows not displayed ...\n",
       "                </div>\n",
       "                "
      ],
      "text/plain": [
       "<IPython.core.display.HTML object>"
      ]
     },
     "metadata": {},
     "output_type": "display_data"
    },
    {
     "name": "stdout",
     "output_type": "stream",
     "text": [
      "../preprocessing/data_after_phase2/yulia/coordinating_conjunction_100.json\n"
     ]
    },
    {
     "name": "stderr",
     "output_type": "stream",
     "text": [
      "Average Metric: 93 / 100  (93.0): 100%|██████████| 100/100 [00:00<00:00, 134.16it/s]\n"
     ]
    },
    {
     "data": {
      "text/html": [
       "<style type=\"text/css\">\n",
       "#T_448ad th {\n",
       "  text-align: left;\n",
       "}\n",
       "#T_448ad td {\n",
       "  text-align: left;\n",
       "}\n",
       "#T_448ad_row0_col0, #T_448ad_row0_col1, #T_448ad_row0_col2, #T_448ad_row0_col3, #T_448ad_row0_col4, #T_448ad_row0_col5 {\n",
       "  text-align: left;\n",
       "  white-space: pre-wrap;\n",
       "  word-wrap: break-word;\n",
       "  max-width: 400px;\n",
       "}\n",
       "</style>\n",
       "<table id=\"T_448ad\">\n",
       "  <thead>\n",
       "    <tr>\n",
       "      <th class=\"blank level0\" >&nbsp;</th>\n",
       "      <th id=\"T_448ad_level0_col0\" class=\"col_heading level0 col0\" >text</th>\n",
       "      <th id=\"T_448ad_level0_col1\" class=\"col_heading level0 col1\" >original_text</th>\n",
       "      <th id=\"T_448ad_level0_col2\" class=\"col_heading level0 col2\" >example_label</th>\n",
       "      <th id=\"T_448ad_level0_col3\" class=\"col_heading level0 col3\" >modified_label</th>\n",
       "      <th id=\"T_448ad_level0_col4\" class=\"col_heading level0 col4\" >pred_label</th>\n",
       "      <th id=\"T_448ad_level0_col5\" class=\"col_heading level0 col5\" >eval_metric</th>\n",
       "    </tr>\n",
       "  </thead>\n",
       "  <tbody>\n",
       "    <tr>\n",
       "      <th id=\"T_448ad_level0_row0\" class=\"row_heading level0 row0\" >0</th>\n",
       "      <td id=\"T_448ad_row0_col0\" class=\"data row0 col0\" >the far future may be awesome to consider, but from period detail to matters of the heart, this film is most transporting and captivating when...</td>\n",
       "      <td id=\"T_448ad_row0_col1\" class=\"data row0 col1\" >the far future may be awesome to consider, but from period detail to matters of the heart, this film is most transporting when it stays...</td>\n",
       "      <td id=\"T_448ad_row0_col2\" class=\"data row0 col2\" >1</td>\n",
       "      <td id=\"T_448ad_row0_col3\" class=\"data row0 col3\" >1</td>\n",
       "      <td id=\"T_448ad_row0_col4\" class=\"data row0 col4\" >1</td>\n",
       "      <td id=\"T_448ad_row0_col5\" class=\"data row0 col5\" >✔️ [True]</td>\n",
       "    </tr>\n",
       "  </tbody>\n",
       "</table>\n"
      ],
      "text/plain": [
       "<pandas.io.formats.style.Styler at 0x12bfa7c80>"
      ]
     },
     "metadata": {},
     "output_type": "display_data"
    },
    {
     "data": {
      "text/html": [
       "\n",
       "                <div style='\n",
       "                    text-align: center;\n",
       "                    font-size: 16px;\n",
       "                    font-weight: bold;\n",
       "                    color: #555;\n",
       "                    margin: 10px 0;'>\n",
       "                    ... 99 more rows not displayed ...\n",
       "                </div>\n",
       "                "
      ],
      "text/plain": [
       "<IPython.core.display.HTML object>"
      ]
     },
     "metadata": {},
     "output_type": "display_data"
    },
    {
     "name": "stdout",
     "output_type": "stream",
     "text": [
      "../preprocessing/data_after_phase2/yulia/capitalization_100.json\n"
     ]
    },
    {
     "name": "stderr",
     "output_type": "stream",
     "text": [
      "Average Metric: 91 / 99  (91.9): 100%|██████████| 99/99 [00:00<00:00, 728.03it/s] \n"
     ]
    },
    {
     "data": {
      "text/html": [
       "<style type=\"text/css\">\n",
       "#T_862f2 th {\n",
       "  text-align: left;\n",
       "}\n",
       "#T_862f2 td {\n",
       "  text-align: left;\n",
       "}\n",
       "#T_862f2_row0_col0, #T_862f2_row0_col1, #T_862f2_row0_col2, #T_862f2_row0_col3, #T_862f2_row0_col4, #T_862f2_row0_col5 {\n",
       "  text-align: left;\n",
       "  white-space: pre-wrap;\n",
       "  word-wrap: break-word;\n",
       "  max-width: 400px;\n",
       "}\n",
       "</style>\n",
       "<table id=\"T_862f2\">\n",
       "  <thead>\n",
       "    <tr>\n",
       "      <th class=\"blank level0\" >&nbsp;</th>\n",
       "      <th id=\"T_862f2_level0_col0\" class=\"col_heading level0 col0\" >text</th>\n",
       "      <th id=\"T_862f2_level0_col1\" class=\"col_heading level0 col1\" >original_text</th>\n",
       "      <th id=\"T_862f2_level0_col2\" class=\"col_heading level0 col2\" >example_label</th>\n",
       "      <th id=\"T_862f2_level0_col3\" class=\"col_heading level0 col3\" >modified_label</th>\n",
       "      <th id=\"T_862f2_level0_col4\" class=\"col_heading level0 col4\" >pred_label</th>\n",
       "      <th id=\"T_862f2_level0_col5\" class=\"col_heading level0 col5\" >eval_metric</th>\n",
       "    </tr>\n",
       "  </thead>\n",
       "  <tbody>\n",
       "    <tr>\n",
       "      <th id=\"T_862f2_level0_row0\" class=\"row_heading level0 row0\" >0</th>\n",
       "      <td id=\"T_862f2_row0_col0\" class=\"data row0 col0\" >THIS movie is maddening.</td>\n",
       "      <td id=\"T_862f2_row0_col1\" class=\"data row0 col1\" >this movie is maddening.</td>\n",
       "      <td id=\"T_862f2_row0_col2\" class=\"data row0 col2\" >0</td>\n",
       "      <td id=\"T_862f2_row0_col3\" class=\"data row0 col3\" >0</td>\n",
       "      <td id=\"T_862f2_row0_col4\" class=\"data row0 col4\" >0</td>\n",
       "      <td id=\"T_862f2_row0_col5\" class=\"data row0 col5\" >✔️ [True]</td>\n",
       "    </tr>\n",
       "  </tbody>\n",
       "</table>\n"
      ],
      "text/plain": [
       "<pandas.io.formats.style.Styler at 0x12e7509b0>"
      ]
     },
     "metadata": {},
     "output_type": "display_data"
    },
    {
     "data": {
      "text/html": [
       "\n",
       "                <div style='\n",
       "                    text-align: center;\n",
       "                    font-size: 16px;\n",
       "                    font-weight: bold;\n",
       "                    color: #555;\n",
       "                    margin: 10px 0;'>\n",
       "                    ... 98 more rows not displayed ...\n",
       "                </div>\n",
       "                "
      ],
      "text/plain": [
       "<IPython.core.display.HTML object>"
      ]
     },
     "metadata": {},
     "output_type": "display_data"
    },
    {
     "name": "stdout",
     "output_type": "stream",
     "text": [
      "../preprocessing/data_after_phase2/yulia/dialectal_100.json\n"
     ]
    },
    {
     "name": "stderr",
     "output_type": "stream",
     "text": [
      "Average Metric: 81 / 100  (81.0): 100%|██████████| 100/100 [00:00<00:00, 432.74it/s]\n"
     ]
    },
    {
     "data": {
      "text/html": [
       "<style type=\"text/css\">\n",
       "#T_96b15 th {\n",
       "  text-align: left;\n",
       "}\n",
       "#T_96b15 td {\n",
       "  text-align: left;\n",
       "}\n",
       "#T_96b15_row0_col0, #T_96b15_row0_col1, #T_96b15_row0_col2, #T_96b15_row0_col3, #T_96b15_row0_col4, #T_96b15_row0_col5 {\n",
       "  text-align: left;\n",
       "  white-space: pre-wrap;\n",
       "  word-wrap: break-word;\n",
       "  max-width: 400px;\n",
       "}\n",
       "</style>\n",
       "<table id=\"T_96b15\">\n",
       "  <thead>\n",
       "    <tr>\n",
       "      <th class=\"blank level0\" >&nbsp;</th>\n",
       "      <th id=\"T_96b15_level0_col0\" class=\"col_heading level0 col0\" >text</th>\n",
       "      <th id=\"T_96b15_level0_col1\" class=\"col_heading level0 col1\" >original_text</th>\n",
       "      <th id=\"T_96b15_level0_col2\" class=\"col_heading level0 col2\" >example_label</th>\n",
       "      <th id=\"T_96b15_level0_col3\" class=\"col_heading level0 col3\" >modified_label</th>\n",
       "      <th id=\"T_96b15_level0_col4\" class=\"col_heading level0 col4\" >pred_label</th>\n",
       "      <th id=\"T_96b15_level0_col5\" class=\"col_heading level0 col5\" >eval_metric</th>\n",
       "    </tr>\n",
       "  </thead>\n",
       "  <tbody>\n",
       "    <tr>\n",
       "      <th id=\"T_96b15_level0_row0\" class=\"row_heading level0 row0\" >0</th>\n",
       "      <td id=\"T_96b15_row0_col0\" class=\"data row0 col0\" >the reality of the new live-action pinocchio he has directed, cowritten and starred in is bordering on the grotesque.</td>\n",
       "      <td id=\"T_96b15_row0_col1\" class=\"data row0 col1\" >the reality of the new live-action pinocchio he directed, cowrote and starred in borders on the grotesque.</td>\n",
       "      <td id=\"T_96b15_row0_col2\" class=\"data row0 col2\" >0</td>\n",
       "      <td id=\"T_96b15_row0_col3\" class=\"data row0 col3\" >0</td>\n",
       "      <td id=\"T_96b15_row0_col4\" class=\"data row0 col4\" >0</td>\n",
       "      <td id=\"T_96b15_row0_col5\" class=\"data row0 col5\" >✔️ [True]</td>\n",
       "    </tr>\n",
       "  </tbody>\n",
       "</table>\n"
      ],
      "text/plain": [
       "<pandas.io.formats.style.Styler at 0x12e7ad9d0>"
      ]
     },
     "metadata": {},
     "output_type": "display_data"
    },
    {
     "data": {
      "text/html": [
       "\n",
       "                <div style='\n",
       "                    text-align: center;\n",
       "                    font-size: 16px;\n",
       "                    font-weight: bold;\n",
       "                    color: #555;\n",
       "                    margin: 10px 0;'>\n",
       "                    ... 99 more rows not displayed ...\n",
       "                </div>\n",
       "                "
      ],
      "text/plain": [
       "<IPython.core.display.HTML object>"
      ]
     },
     "metadata": {},
     "output_type": "display_data"
    },
    {
     "name": "stdout",
     "output_type": "stream",
     "text": [
      "../preprocessing/data_after_phase2/yulia/sentiment_100.json\n"
     ]
    },
    {
     "name": "stderr",
     "output_type": "stream",
     "text": [
      "Average Metric: 82 / 100  (82.0): 100%|██████████| 100/100 [00:00<00:00, 894.73it/s]\n"
     ]
    },
    {
     "data": {
      "text/html": [
       "<style type=\"text/css\">\n",
       "#T_8d9e1 th {\n",
       "  text-align: left;\n",
       "}\n",
       "#T_8d9e1 td {\n",
       "  text-align: left;\n",
       "}\n",
       "#T_8d9e1_row0_col0, #T_8d9e1_row0_col1, #T_8d9e1_row0_col2, #T_8d9e1_row0_col3, #T_8d9e1_row0_col4, #T_8d9e1_row0_col5 {\n",
       "  text-align: left;\n",
       "  white-space: pre-wrap;\n",
       "  word-wrap: break-word;\n",
       "  max-width: 400px;\n",
       "}\n",
       "</style>\n",
       "<table id=\"T_8d9e1\">\n",
       "  <thead>\n",
       "    <tr>\n",
       "      <th class=\"blank level0\" >&nbsp;</th>\n",
       "      <th id=\"T_8d9e1_level0_col0\" class=\"col_heading level0 col0\" >text</th>\n",
       "      <th id=\"T_8d9e1_level0_col1\" class=\"col_heading level0 col1\" >original_text</th>\n",
       "      <th id=\"T_8d9e1_level0_col2\" class=\"col_heading level0 col2\" >example_label</th>\n",
       "      <th id=\"T_8d9e1_level0_col3\" class=\"col_heading level0 col3\" >modified_label</th>\n",
       "      <th id=\"T_8d9e1_level0_col4\" class=\"col_heading level0 col4\" >pred_label</th>\n",
       "      <th id=\"T_8d9e1_level0_col5\" class=\"col_heading level0 col5\" >eval_metric</th>\n",
       "    </tr>\n",
       "  </thead>\n",
       "  <tbody>\n",
       "    <tr>\n",
       "      <th id=\"T_8d9e1_level0_row0\" class=\"row_heading level0 row0\" >0</th>\n",
       "      <td id=\"T_8d9e1_row0_col0\" class=\"data row0 col0\" >may be far from the best of the series, but it's assured, wonderfully respectful of its past and thrilling enough to make it abundantly clear...</td>\n",
       "      <td id=\"T_8d9e1_row0_col1\" class=\"data row0 col1\" >may be far from the best of the series, but it's assured, wonderfully respectful of its past and thrilling enough to make it abundantly clear...</td>\n",
       "      <td id=\"T_8d9e1_row0_col2\" class=\"data row0 col2\" >1</td>\n",
       "      <td id=\"T_8d9e1_row0_col3\" class=\"data row0 col3\" >1</td>\n",
       "      <td id=\"T_8d9e1_row0_col4\" class=\"data row0 col4\" >0</td>\n",
       "      <td id=\"T_8d9e1_row0_col5\" class=\"data row0 col5\" ></td>\n",
       "    </tr>\n",
       "  </tbody>\n",
       "</table>\n"
      ],
      "text/plain": [
       "<pandas.io.formats.style.Styler at 0x12b6ffc80>"
      ]
     },
     "metadata": {},
     "output_type": "display_data"
    },
    {
     "data": {
      "text/html": [
       "\n",
       "                <div style='\n",
       "                    text-align: center;\n",
       "                    font-size: 16px;\n",
       "                    font-weight: bold;\n",
       "                    color: #555;\n",
       "                    margin: 10px 0;'>\n",
       "                    ... 99 more rows not displayed ...\n",
       "                </div>\n",
       "                "
      ],
      "text/plain": [
       "<IPython.core.display.HTML object>"
      ]
     },
     "metadata": {},
     "output_type": "display_data"
    },
    {
     "name": "stdout",
     "output_type": "stream",
     "text": [
      "../preprocessing/data_after_phase2/yulia/grammatical_role_100.json\n",
      "../preprocessing/data_after_phase2/yulia/length_bias_100.json\n"
     ]
    },
    {
     "name": "stderr",
     "output_type": "stream",
     "text": [
      "Average Metric: 93 / 100  (93.0): 100%|██████████| 100/100 [00:00<00:00, 795.86it/s]\n"
     ]
    },
    {
     "data": {
      "text/html": [
       "<style type=\"text/css\">\n",
       "#T_d0eb4 th {\n",
       "  text-align: left;\n",
       "}\n",
       "#T_d0eb4 td {\n",
       "  text-align: left;\n",
       "}\n",
       "#T_d0eb4_row0_col0, #T_d0eb4_row0_col1, #T_d0eb4_row0_col2, #T_d0eb4_row0_col3, #T_d0eb4_row0_col4, #T_d0eb4_row0_col5 {\n",
       "  text-align: left;\n",
       "  white-space: pre-wrap;\n",
       "  word-wrap: break-word;\n",
       "  max-width: 400px;\n",
       "}\n",
       "</style>\n",
       "<table id=\"T_d0eb4\">\n",
       "  <thead>\n",
       "    <tr>\n",
       "      <th class=\"blank level0\" >&nbsp;</th>\n",
       "      <th id=\"T_d0eb4_level0_col0\" class=\"col_heading level0 col0\" >text</th>\n",
       "      <th id=\"T_d0eb4_level0_col1\" class=\"col_heading level0 col1\" >original_text</th>\n",
       "      <th id=\"T_d0eb4_level0_col2\" class=\"col_heading level0 col2\" >example_label</th>\n",
       "      <th id=\"T_d0eb4_level0_col3\" class=\"col_heading level0 col3\" >modified_label</th>\n",
       "      <th id=\"T_d0eb4_level0_col4\" class=\"col_heading level0 col4\" >pred_label</th>\n",
       "      <th id=\"T_d0eb4_level0_col5\" class=\"col_heading level0 col5\" >eval_metric</th>\n",
       "    </tr>\n",
       "  </thead>\n",
       "  <tbody>\n",
       "    <tr>\n",
       "      <th id=\"T_d0eb4_level0_row0\" class=\"row_heading level0 row0\" >0</th>\n",
       "      <td id=\"T_d0eb4_row0_col0\" class=\"data row0 col0\" >... a truly magnificent drama that is well worth tracking down.</td>\n",
       "      <td id=\"T_d0eb4_row0_col1\" class=\"data row0 col1\" >... a magnificent drama well worth tracking down.</td>\n",
       "      <td id=\"T_d0eb4_row0_col2\" class=\"data row0 col2\" >1</td>\n",
       "      <td id=\"T_d0eb4_row0_col3\" class=\"data row0 col3\" >1</td>\n",
       "      <td id=\"T_d0eb4_row0_col4\" class=\"data row0 col4\" >1</td>\n",
       "      <td id=\"T_d0eb4_row0_col5\" class=\"data row0 col5\" >✔️ [True]</td>\n",
       "    </tr>\n",
       "  </tbody>\n",
       "</table>\n"
      ],
      "text/plain": [
       "<pandas.io.formats.style.Styler at 0x16ed053d0>"
      ]
     },
     "metadata": {},
     "output_type": "display_data"
    },
    {
     "data": {
      "text/html": [
       "\n",
       "                <div style='\n",
       "                    text-align: center;\n",
       "                    font-size: 16px;\n",
       "                    font-weight: bold;\n",
       "                    color: #555;\n",
       "                    margin: 10px 0;'>\n",
       "                    ... 99 more rows not displayed ...\n",
       "                </div>\n",
       "                "
      ],
      "text/plain": [
       "<IPython.core.display.HTML object>"
      ]
     },
     "metadata": {},
     "output_type": "display_data"
    },
    {
     "name": "stdout",
     "output_type": "stream",
     "text": [
      "../preprocessing/data_after_phase2/yulia/concept_replacement_100.json\n"
     ]
    },
    {
     "name": "stderr",
     "output_type": "stream",
     "text": [
      "Average Metric: 88 / 100  (88.0): 100%|██████████| 100/100 [00:00<00:00, 124.85it/s]\n"
     ]
    },
    {
     "data": {
      "text/html": [
       "<style type=\"text/css\">\n",
       "#T_ae438 th {\n",
       "  text-align: left;\n",
       "}\n",
       "#T_ae438 td {\n",
       "  text-align: left;\n",
       "}\n",
       "#T_ae438_row0_col0, #T_ae438_row0_col1, #T_ae438_row0_col2, #T_ae438_row0_col3, #T_ae438_row0_col4, #T_ae438_row0_col5 {\n",
       "  text-align: left;\n",
       "  white-space: pre-wrap;\n",
       "  word-wrap: break-word;\n",
       "  max-width: 400px;\n",
       "}\n",
       "</style>\n",
       "<table id=\"T_ae438\">\n",
       "  <thead>\n",
       "    <tr>\n",
       "      <th class=\"blank level0\" >&nbsp;</th>\n",
       "      <th id=\"T_ae438_level0_col0\" class=\"col_heading level0 col0\" >text</th>\n",
       "      <th id=\"T_ae438_level0_col1\" class=\"col_heading level0 col1\" >original_text</th>\n",
       "      <th id=\"T_ae438_level0_col2\" class=\"col_heading level0 col2\" >example_label</th>\n",
       "      <th id=\"T_ae438_level0_col3\" class=\"col_heading level0 col3\" >modified_label</th>\n",
       "      <th id=\"T_ae438_level0_col4\" class=\"col_heading level0 col4\" >pred_label</th>\n",
       "      <th id=\"T_ae438_level0_col5\" class=\"col_heading level0 col5\" >eval_metric</th>\n",
       "    </tr>\n",
       "  </thead>\n",
       "  <tbody>\n",
       "    <tr>\n",
       "      <th id=\"T_ae438_level0_row0\" class=\"row_heading level0 row0\" >0</th>\n",
       "      <td id=\"T_ae438_row0_col0\" class=\"data row0 col0\" >or doing last year's paperwork with your ex-wife.</td>\n",
       "      <td id=\"T_ae438_row0_col1\" class=\"data row0 col1\" >or doing last year's taxes with your ex-wife.</td>\n",
       "      <td id=\"T_ae438_row0_col2\" class=\"data row0 col2\" >0</td>\n",
       "      <td id=\"T_ae438_row0_col3\" class=\"data row0 col3\" >0</td>\n",
       "      <td id=\"T_ae438_row0_col4\" class=\"data row0 col4\" >0</td>\n",
       "      <td id=\"T_ae438_row0_col5\" class=\"data row0 col5\" >✔️ [True]</td>\n",
       "    </tr>\n",
       "  </tbody>\n",
       "</table>\n"
      ],
      "text/plain": [
       "<pandas.io.formats.style.Styler at 0x12b2f3170>"
      ]
     },
     "metadata": {},
     "output_type": "display_data"
    },
    {
     "data": {
      "text/html": [
       "\n",
       "                <div style='\n",
       "                    text-align: center;\n",
       "                    font-size: 16px;\n",
       "                    font-weight: bold;\n",
       "                    color: #555;\n",
       "                    margin: 10px 0;'>\n",
       "                    ... 99 more rows not displayed ...\n",
       "                </div>\n",
       "                "
      ],
      "text/plain": [
       "<IPython.core.display.HTML object>"
      ]
     },
     "metadata": {},
     "output_type": "display_data"
    },
    {
     "name": "stdout",
     "output_type": "stream",
     "text": [
      "../preprocessing/data_after_phase2/yulia/typo_bias_100.json\n"
     ]
    },
    {
     "name": "stderr",
     "output_type": "stream",
     "text": [
      "Average Metric: 92 / 100  (92.0): 100%|██████████| 100/100 [00:00<00:00, 805.57it/s]\n"
     ]
    },
    {
     "data": {
      "text/html": [
       "<style type=\"text/css\">\n",
       "#T_0f55c th {\n",
       "  text-align: left;\n",
       "}\n",
       "#T_0f55c td {\n",
       "  text-align: left;\n",
       "}\n",
       "#T_0f55c_row0_col0, #T_0f55c_row0_col1, #T_0f55c_row0_col2, #T_0f55c_row0_col3, #T_0f55c_row0_col4, #T_0f55c_row0_col5 {\n",
       "  text-align: left;\n",
       "  white-space: pre-wrap;\n",
       "  word-wrap: break-word;\n",
       "  max-width: 400px;\n",
       "}\n",
       "</style>\n",
       "<table id=\"T_0f55c\">\n",
       "  <thead>\n",
       "    <tr>\n",
       "      <th class=\"blank level0\" >&nbsp;</th>\n",
       "      <th id=\"T_0f55c_level0_col0\" class=\"col_heading level0 col0\" >text</th>\n",
       "      <th id=\"T_0f55c_level0_col1\" class=\"col_heading level0 col1\" >original_text</th>\n",
       "      <th id=\"T_0f55c_level0_col2\" class=\"col_heading level0 col2\" >example_label</th>\n",
       "      <th id=\"T_0f55c_level0_col3\" class=\"col_heading level0 col3\" >modified_label</th>\n",
       "      <th id=\"T_0f55c_level0_col4\" class=\"col_heading level0 col4\" >pred_label</th>\n",
       "      <th id=\"T_0f55c_level0_col5\" class=\"col_heading level0 col5\" >eval_metric</th>\n",
       "    </tr>\n",
       "  </thead>\n",
       "  <tbody>\n",
       "    <tr>\n",
       "      <th id=\"T_0f55c_level0_row0\" class=\"row_heading level0 row0\" >0</th>\n",
       "      <td id=\"T_0f55c_row0_col0\" class=\"data row0 col0\" >moretti's compellling anatomy of grief and the difficult process of adapting to loss.</td>\n",
       "      <td id=\"T_0f55c_row0_col1\" class=\"data row0 col1\" >moretti's compelling anatomy of grief and the difficult process of adapting to loss.</td>\n",
       "      <td id=\"T_0f55c_row0_col2\" class=\"data row0 col2\" >0</td>\n",
       "      <td id=\"T_0f55c_row0_col3\" class=\"data row0 col3\" >0</td>\n",
       "      <td id=\"T_0f55c_row0_col4\" class=\"data row0 col4\" >0</td>\n",
       "      <td id=\"T_0f55c_row0_col5\" class=\"data row0 col5\" >✔️ [True]</td>\n",
       "    </tr>\n",
       "  </tbody>\n",
       "</table>\n"
      ],
      "text/plain": [
       "<pandas.io.formats.style.Styler at 0x186e692e0>"
      ]
     },
     "metadata": {},
     "output_type": "display_data"
    },
    {
     "data": {
      "text/html": [
       "\n",
       "                <div style='\n",
       "                    text-align: center;\n",
       "                    font-size: 16px;\n",
       "                    font-weight: bold;\n",
       "                    color: #555;\n",
       "                    margin: 10px 0;'>\n",
       "                    ... 99 more rows not displayed ...\n",
       "                </div>\n",
       "                "
      ],
      "text/plain": [
       "<IPython.core.display.HTML object>"
      ]
     },
     "metadata": {},
     "output_type": "display_data"
    },
    {
     "name": "stdout",
     "output_type": "stream",
     "text": [
      "../preprocessing/data_after_phase2/yulia/geographical_bias_100.json\n"
     ]
    },
    {
     "name": "stderr",
     "output_type": "stream",
     "text": [
      "Average Metric: 91 / 100  (91.0): 100%|██████████| 100/100 [00:00<00:00, 813.69it/s]\n"
     ]
    },
    {
     "data": {
      "text/html": [
       "<style type=\"text/css\">\n",
       "#T_9138a th {\n",
       "  text-align: left;\n",
       "}\n",
       "#T_9138a td {\n",
       "  text-align: left;\n",
       "}\n",
       "#T_9138a_row0_col0, #T_9138a_row0_col1, #T_9138a_row0_col2, #T_9138a_row0_col3, #T_9138a_row0_col4, #T_9138a_row0_col5 {\n",
       "  text-align: left;\n",
       "  white-space: pre-wrap;\n",
       "  word-wrap: break-word;\n",
       "  max-width: 400px;\n",
       "}\n",
       "</style>\n",
       "<table id=\"T_9138a\">\n",
       "  <thead>\n",
       "    <tr>\n",
       "      <th class=\"blank level0\" >&nbsp;</th>\n",
       "      <th id=\"T_9138a_level0_col0\" class=\"col_heading level0 col0\" >text</th>\n",
       "      <th id=\"T_9138a_level0_col1\" class=\"col_heading level0 col1\" >original_text</th>\n",
       "      <th id=\"T_9138a_level0_col2\" class=\"col_heading level0 col2\" >example_label</th>\n",
       "      <th id=\"T_9138a_level0_col3\" class=\"col_heading level0 col3\" >modified_label</th>\n",
       "      <th id=\"T_9138a_level0_col4\" class=\"col_heading level0 col4\" >pred_label</th>\n",
       "      <th id=\"T_9138a_level0_col5\" class=\"col_heading level0 col5\" >eval_metric</th>\n",
       "    </tr>\n",
       "  </thead>\n",
       "  <tbody>\n",
       "    <tr>\n",
       "      <th id=\"T_9138a_level0_row0\" class=\"row_heading level0 row0\" >0</th>\n",
       "      <td id=\"T_9138a_row0_col0\" class=\"data row0 col0\" >the affectionate quirkiness that once seemed inherent to Seewoosagur's viewpoint struggles to shine through amidst the outdated charming mystery plot and the modern Bollywood-style post-production...</td>\n",
       "      <td id=\"T_9138a_row0_col1\" class=\"data row0 col1\" >the affectionate loopiness that once seemed congenital to demme's perspective has a tough time emerging from between the badly dated cutesy-pie mystery scenario and the...</td>\n",
       "      <td id=\"T_9138a_row0_col2\" class=\"data row0 col2\" >0</td>\n",
       "      <td id=\"T_9138a_row0_col3\" class=\"data row0 col3\" >0</td>\n",
       "      <td id=\"T_9138a_row0_col4\" class=\"data row0 col4\" >0</td>\n",
       "      <td id=\"T_9138a_row0_col5\" class=\"data row0 col5\" >✔️ [True]</td>\n",
       "    </tr>\n",
       "  </tbody>\n",
       "</table>\n"
      ],
      "text/plain": [
       "<pandas.io.formats.style.Styler at 0x12e9b40b0>"
      ]
     },
     "metadata": {},
     "output_type": "display_data"
    },
    {
     "data": {
      "text/html": [
       "\n",
       "                <div style='\n",
       "                    text-align: center;\n",
       "                    font-size: 16px;\n",
       "                    font-weight: bold;\n",
       "                    color: #555;\n",
       "                    margin: 10px 0;'>\n",
       "                    ... 99 more rows not displayed ...\n",
       "                </div>\n",
       "                "
      ],
      "text/plain": [
       "<IPython.core.display.HTML object>"
      ]
     },
     "metadata": {},
     "output_type": "display_data"
    },
    {
     "name": "stdout",
     "output_type": "stream",
     "text": [
      "../preprocessing/data_after_phase2/yulia/punctuation_100.json\n"
     ]
    },
    {
     "name": "stderr",
     "output_type": "stream",
     "text": [
      "Average Metric: 91 / 100  (91.0): 100%|██████████| 100/100 [00:00<00:00, 395.38it/s]\n"
     ]
    },
    {
     "data": {
      "text/html": [
       "<style type=\"text/css\">\n",
       "#T_b3972 th {\n",
       "  text-align: left;\n",
       "}\n",
       "#T_b3972 td {\n",
       "  text-align: left;\n",
       "}\n",
       "#T_b3972_row0_col0, #T_b3972_row0_col1, #T_b3972_row0_col2, #T_b3972_row0_col3, #T_b3972_row0_col4, #T_b3972_row0_col5 {\n",
       "  text-align: left;\n",
       "  white-space: pre-wrap;\n",
       "  word-wrap: break-word;\n",
       "  max-width: 400px;\n",
       "}\n",
       "</style>\n",
       "<table id=\"T_b3972\">\n",
       "  <thead>\n",
       "    <tr>\n",
       "      <th class=\"blank level0\" >&nbsp;</th>\n",
       "      <th id=\"T_b3972_level0_col0\" class=\"col_heading level0 col0\" >text</th>\n",
       "      <th id=\"T_b3972_level0_col1\" class=\"col_heading level0 col1\" >original_text</th>\n",
       "      <th id=\"T_b3972_level0_col2\" class=\"col_heading level0 col2\" >example_label</th>\n",
       "      <th id=\"T_b3972_level0_col3\" class=\"col_heading level0 col3\" >modified_label</th>\n",
       "      <th id=\"T_b3972_level0_col4\" class=\"col_heading level0 col4\" >pred_label</th>\n",
       "      <th id=\"T_b3972_level0_col5\" class=\"col_heading level0 col5\" >eval_metric</th>\n",
       "    </tr>\n",
       "  </thead>\n",
       "  <tbody>\n",
       "    <tr>\n",
       "      <th id=\"T_b3972_level0_row0\" class=\"row_heading level0 row0\" >0</th>\n",
       "      <td id=\"T_b3972_row0_col0\" class=\"data row0 col0\" >just one bad idea, after another.</td>\n",
       "      <td id=\"T_b3972_row0_col1\" class=\"data row0 col1\" >just one bad idea after another.</td>\n",
       "      <td id=\"T_b3972_row0_col2\" class=\"data row0 col2\" >0</td>\n",
       "      <td id=\"T_b3972_row0_col3\" class=\"data row0 col3\" >0</td>\n",
       "      <td id=\"T_b3972_row0_col4\" class=\"data row0 col4\" >0</td>\n",
       "      <td id=\"T_b3972_row0_col5\" class=\"data row0 col5\" >✔️ [True]</td>\n",
       "    </tr>\n",
       "  </tbody>\n",
       "</table>\n"
      ],
      "text/plain": [
       "<pandas.io.formats.style.Styler at 0x12e97dc70>"
      ]
     },
     "metadata": {},
     "output_type": "display_data"
    },
    {
     "data": {
      "text/html": [
       "\n",
       "                <div style='\n",
       "                    text-align: center;\n",
       "                    font-size: 16px;\n",
       "                    font-weight: bold;\n",
       "                    color: #555;\n",
       "                    margin: 10px 0;'>\n",
       "                    ... 99 more rows not displayed ...\n",
       "                </div>\n",
       "                "
      ],
      "text/plain": [
       "<IPython.core.display.HTML object>"
      ]
     },
     "metadata": {},
     "output_type": "display_data"
    },
    {
     "name": "stdout",
     "output_type": "stream",
     "text": [
      "../preprocessing/data_after_phase2/yulia/derivation_100.json\n"
     ]
    },
    {
     "name": "stderr",
     "output_type": "stream",
     "text": [
      "Average Metric: 86 / 95  (90.5): 100%|██████████| 95/95 [00:00<00:00, 867.08it/s] \n"
     ]
    },
    {
     "data": {
      "text/html": [
       "<style type=\"text/css\">\n",
       "#T_21c57 th {\n",
       "  text-align: left;\n",
       "}\n",
       "#T_21c57 td {\n",
       "  text-align: left;\n",
       "}\n",
       "#T_21c57_row0_col0, #T_21c57_row0_col1, #T_21c57_row0_col2, #T_21c57_row0_col3, #T_21c57_row0_col4, #T_21c57_row0_col5 {\n",
       "  text-align: left;\n",
       "  white-space: pre-wrap;\n",
       "  word-wrap: break-word;\n",
       "  max-width: 400px;\n",
       "}\n",
       "</style>\n",
       "<table id=\"T_21c57\">\n",
       "  <thead>\n",
       "    <tr>\n",
       "      <th class=\"blank level0\" >&nbsp;</th>\n",
       "      <th id=\"T_21c57_level0_col0\" class=\"col_heading level0 col0\" >text</th>\n",
       "      <th id=\"T_21c57_level0_col1\" class=\"col_heading level0 col1\" >original_text</th>\n",
       "      <th id=\"T_21c57_level0_col2\" class=\"col_heading level0 col2\" >example_label</th>\n",
       "      <th id=\"T_21c57_level0_col3\" class=\"col_heading level0 col3\" >modified_label</th>\n",
       "      <th id=\"T_21c57_level0_col4\" class=\"col_heading level0 col4\" >pred_label</th>\n",
       "      <th id=\"T_21c57_level0_col5\" class=\"col_heading level0 col5\" >eval_metric</th>\n",
       "    </tr>\n",
       "  </thead>\n",
       "  <tbody>\n",
       "    <tr>\n",
       "      <th id=\"T_21c57_level0_row0\" class=\"row_heading level0 row0\" >0</th>\n",
       "      <td id=\"T_21c57_row0_col0\" class=\"data row0 col0\" >(t) here's only so much anyone can do with a showy, overplotted, anne rice rock'n' roll vampire novel before the built-in silliness of the whole...</td>\n",
       "      <td id=\"T_21c57_row0_col1\" class=\"data row0 col1\" >(t) here's only so much anyone can do with a florid, overplotted, anne rice rock 'n' roll vampire novel before the built-in silliness of the...</td>\n",
       "      <td id=\"T_21c57_row0_col2\" class=\"data row0 col2\" >0</td>\n",
       "      <td id=\"T_21c57_row0_col3\" class=\"data row0 col3\" >0</td>\n",
       "      <td id=\"T_21c57_row0_col4\" class=\"data row0 col4\" >0</td>\n",
       "      <td id=\"T_21c57_row0_col5\" class=\"data row0 col5\" >✔️ [True]</td>\n",
       "    </tr>\n",
       "  </tbody>\n",
       "</table>\n"
      ],
      "text/plain": [
       "<pandas.io.formats.style.Styler at 0x12e999e80>"
      ]
     },
     "metadata": {},
     "output_type": "display_data"
    },
    {
     "data": {
      "text/html": [
       "\n",
       "                <div style='\n",
       "                    text-align: center;\n",
       "                    font-size: 16px;\n",
       "                    font-weight: bold;\n",
       "                    color: #555;\n",
       "                    margin: 10px 0;'>\n",
       "                    ... 94 more rows not displayed ...\n",
       "                </div>\n",
       "                "
      ],
      "text/plain": [
       "<IPython.core.display.HTML object>"
      ]
     },
     "metadata": {},
     "output_type": "display_data"
    },
    {
     "name": "stdout",
     "output_type": "stream",
     "text": [
      "../preprocessing/data_after_phase2/yulia/active_to_passive_100.json\n"
     ]
    },
    {
     "name": "stderr",
     "output_type": "stream",
     "text": [
      "Average Metric: 89 / 100  (89.0): 100%|██████████| 100/100 [00:00<00:00, 136.68it/s]\n"
     ]
    },
    {
     "data": {
      "text/html": [
       "<style type=\"text/css\">\n",
       "#T_e3255 th {\n",
       "  text-align: left;\n",
       "}\n",
       "#T_e3255 td {\n",
       "  text-align: left;\n",
       "}\n",
       "#T_e3255_row0_col0, #T_e3255_row0_col1, #T_e3255_row0_col2, #T_e3255_row0_col3, #T_e3255_row0_col4, #T_e3255_row0_col5 {\n",
       "  text-align: left;\n",
       "  white-space: pre-wrap;\n",
       "  word-wrap: break-word;\n",
       "  max-width: 400px;\n",
       "}\n",
       "</style>\n",
       "<table id=\"T_e3255\">\n",
       "  <thead>\n",
       "    <tr>\n",
       "      <th class=\"blank level0\" >&nbsp;</th>\n",
       "      <th id=\"T_e3255_level0_col0\" class=\"col_heading level0 col0\" >text</th>\n",
       "      <th id=\"T_e3255_level0_col1\" class=\"col_heading level0 col1\" >original_text</th>\n",
       "      <th id=\"T_e3255_level0_col2\" class=\"col_heading level0 col2\" >example_label</th>\n",
       "      <th id=\"T_e3255_level0_col3\" class=\"col_heading level0 col3\" >modified_label</th>\n",
       "      <th id=\"T_e3255_level0_col4\" class=\"col_heading level0 col4\" >pred_label</th>\n",
       "      <th id=\"T_e3255_level0_col5\" class=\"col_heading level0 col5\" >eval_metric</th>\n",
       "    </tr>\n",
       "  </thead>\n",
       "  <tbody>\n",
       "    <tr>\n",
       "      <th id=\"T_e3255_level0_row0\" class=\"row_heading level0 row0\" >0</th>\n",
       "      <td id=\"T_e3255_row0_col0\" class=\"data row0 col0\" >As the two leads, Lathan and Diggs are seen as charming and are perceived to have chemistry both as friends and lovers.</td>\n",
       "      <td id=\"T_e3255_row0_col1\" class=\"data row0 col1\" >as the two leads, lathan and diggs are charming and have chemistry both as friends and lovers.</td>\n",
       "      <td id=\"T_e3255_row0_col2\" class=\"data row0 col2\" >1</td>\n",
       "      <td id=\"T_e3255_row0_col3\" class=\"data row0 col3\" >1</td>\n",
       "      <td id=\"T_e3255_row0_col4\" class=\"data row0 col4\" >1</td>\n",
       "      <td id=\"T_e3255_row0_col5\" class=\"data row0 col5\" >✔️ [True]</td>\n",
       "    </tr>\n",
       "  </tbody>\n",
       "</table>\n"
      ],
      "text/plain": [
       "<pandas.io.formats.style.Styler at 0x186e69c40>"
      ]
     },
     "metadata": {},
     "output_type": "display_data"
    },
    {
     "data": {
      "text/html": [
       "\n",
       "                <div style='\n",
       "                    text-align: center;\n",
       "                    font-size: 16px;\n",
       "                    font-weight: bold;\n",
       "                    color: #555;\n",
       "                    margin: 10px 0;'>\n",
       "                    ... 99 more rows not displayed ...\n",
       "                </div>\n",
       "                "
      ],
      "text/plain": [
       "<IPython.core.display.HTML object>"
      ]
     },
     "metadata": {},
     "output_type": "display_data"
    },
    {
     "name": "stdout",
     "output_type": "stream",
     "text": [
      "../preprocessing/data_after_phase2/yulia/negation_100.json\n"
     ]
    }
   ],
   "source": [
    "\n",
    "# Configure GPT-4 as the language model\n",
    "lm = dspy.LM('openai/gpt-4o', temperature=0, max_tokens=300)\n",
    "dspy.configure(lm=lm)\n",
    "original_pred_ds = pd.read_csv('results/sa/gpt4o-0shot-sst2.csv', index_col=False)\n",
    "original_pred_ds['text'] = original_pred_ds['text'].apply(remove_space)  # Replace 'your_function' with the actual function\n",
    "\n",
    "# Get all json files in the specified directory\n",
    "json_files = glob.glob('../data/modified_data/sa/*_100.json')\n",
    "\n",
    "for json_file in json_files:\n",
    "    # Load the json file\n",
    "    print(json_file)\n",
    "    if 'grammatical_role' in json_file or 'negation' in json_file:\n",
    "        continue\n",
    "    with open(json_file, 'r') as f:\n",
    "        data = json.load(f)\n",
    "    \n",
    "    results = evaluate_modified_set(data,simple_sentiment)\n",
    "\n",
    "    \n",
    "    # Convert results to dataframe\n",
    "    items = []\n",
    "    for sample in results[1]:\n",
    "        item = {}\n",
    "        sentence = sample[0]['text']\n",
    "        label = sample[0]['label'] \n",
    "        pred = sample[1]['label']\n",
    "        item['text'] = sentence\n",
    "        item['modified_label'] = label\n",
    "        pred = extract_prediction(pred)\n",
    "        item['modified_pred'] = pred\n",
    "        original_text = sample[0]['original_text'].encode('utf-8').decode('unicode-escape')\n",
    "        # escaped_string.encode('utf-8').decode('unicode-escape')\n",
    "        # print(original_text)\n",
    "        item['original_label'] = sample[0]['label']\n",
    "        item['original_text'] = original_text\n",
    "        item['original_pred'] = original_pred_ds.loc[original_pred_ds['text'] == original_text]['pred'].values[0]\n",
    "        items.append(item)\n",
    "    \n",
    "    df_result = pd.DataFrame(data=items)\n",
    "    \n",
    "    # Save results with filename based on input json\n",
    "    output_filename = f\"results/sa/gpt4o-0shot-{json_file.split('/')[-1].replace('.json', '')}.csv\"\n",
    "    df_result.to_csv(output_filename)\n"
   ]
  },
  {
   "cell_type": "markdown",
   "metadata": {},
   "source": [
    "## With label change"
   ]
  },
  {
   "cell_type": "code",
   "execution_count": 9,
   "metadata": {},
   "outputs": [],
   "source": [
    "def evaluate_modified_set(ds, program):\n",
    "    examples = [\n",
    "    dspy.Example({ \n",
    "                  \"text\" : remove_space(r['modified_text']), \n",
    "                  \"original_text\": remove_space(r['original_text']),\n",
    "                  \"label\": int(r['modified_label']) if r.get('modified_label') != None else int(r['label']),\n",
    "                  \"original_label\": int(r['label']),\n",
    "                  \"type\": r['type'] if r.get('type') != None else None\n",
    "                }\n",
    "                  ).with_inputs(\"text\") \n",
    "    for r in ds\n",
    "    ]\n",
    "    evaluate = Evaluate(devset= examples, metric=eval_metric, num_threads=6, display_progress=True, display_table=1, return_outputs= True, return_all_scores=True)\n",
    "    results = evaluate(program)\n",
    "    return results"
   ]
  },
  {
   "cell_type": "code",
   "execution_count": 10,
   "metadata": {},
   "outputs": [],
   "source": [
    "class Sentiment(dspy.Signature):\n",
    "    \"\"\"Classify sentiment of the given text. Answer with 1 for positive, 0 for negative.\"\"\"\n",
    "    text = dspy.InputField()\n",
    "    label = dspy.OutputField(prefix = 'Answer:')\n",
    "class SimpleSentiment(dspy.Module):\n",
    "    def __init__(self):\n",
    "        super().__init__()\n",
    "        self.prog = dspy.Predict(Sentiment)\n",
    "\n",
    "    def forward(self, text):\n",
    "        return self.prog(text=text)\n",
    "simple_sentiment = SimpleSentiment()"
   ]
  },
  {
   "cell_type": "code",
   "execution_count": 11,
   "metadata": {},
   "outputs": [
    {
     "name": "stdout",
     "output_type": "stream",
     "text": [
      "../preprocessing/data_after_phase2/yulia/casual_100.json\n",
      "../preprocessing/data_after_phase2/yulia/discourse_100.json\n",
      "../preprocessing/data_after_phase2/yulia/compound_word_100.json\n",
      "../preprocessing/data_after_phase2/yulia/temporal_bias_100.json\n",
      "../preprocessing/data_after_phase2/yulia/coordinating_conjunction_100.json\n",
      "../preprocessing/data_after_phase2/yulia/capitalization_100.json\n",
      "../preprocessing/data_after_phase2/yulia/dialectal_100.json\n",
      "../preprocessing/data_after_phase2/yulia/sentiment_100.json\n"
     ]
    },
    {
     "name": "stderr",
     "output_type": "stream",
     "text": [
      "Average Metric: 91 / 100  (91.0): 100%|██████████| 100/100 [00:13<00:00,  7.62it/s]\n"
     ]
    },
    {
     "data": {
      "text/html": [
       "<style type=\"text/css\">\n",
       "#T_04247 th {\n",
       "  text-align: left;\n",
       "}\n",
       "#T_04247 td {\n",
       "  text-align: left;\n",
       "}\n",
       "#T_04247_row0_col0, #T_04247_row0_col1, #T_04247_row0_col2, #T_04247_row0_col3, #T_04247_row0_col4, #T_04247_row0_col5, #T_04247_row0_col6 {\n",
       "  text-align: left;\n",
       "  white-space: pre-wrap;\n",
       "  word-wrap: break-word;\n",
       "  max-width: 400px;\n",
       "}\n",
       "</style>\n",
       "<table id=\"T_04247\">\n",
       "  <thead>\n",
       "    <tr>\n",
       "      <th class=\"blank level0\" >&nbsp;</th>\n",
       "      <th id=\"T_04247_level0_col0\" class=\"col_heading level0 col0\" >text</th>\n",
       "      <th id=\"T_04247_level0_col1\" class=\"col_heading level0 col1\" >original_text</th>\n",
       "      <th id=\"T_04247_level0_col2\" class=\"col_heading level0 col2\" >example_label</th>\n",
       "      <th id=\"T_04247_level0_col3\" class=\"col_heading level0 col3\" >original_label</th>\n",
       "      <th id=\"T_04247_level0_col4\" class=\"col_heading level0 col4\" >type</th>\n",
       "      <th id=\"T_04247_level0_col5\" class=\"col_heading level0 col5\" >pred_label</th>\n",
       "      <th id=\"T_04247_level0_col6\" class=\"col_heading level0 col6\" >eval_metric</th>\n",
       "    </tr>\n",
       "  </thead>\n",
       "  <tbody>\n",
       "    <tr>\n",
       "      <th id=\"T_04247_level0_row0\" class=\"row_heading level0 row0\" >0</th>\n",
       "      <td id=\"T_04247_row0_col0\" class=\"data row0 col0\" >may be far from the best of the series, but it's assured, wonderfully respectful of its past and thrilling enough to make it abundantly clear...</td>\n",
       "      <td id=\"T_04247_row0_col1\" class=\"data row0 col1\" >may be far from the best of the series, but it's assured, wonderfully respectful of its past and thrilling enough to make it abundantly clear...</td>\n",
       "      <td id=\"T_04247_row0_col2\" class=\"data row0 col2\" >0</td>\n",
       "      <td id=\"T_04247_row0_col3\" class=\"data row0 col3\" >1</td>\n",
       "      <td id=\"T_04247_row0_col4\" class=\"data row0 col4\" >sentiment</td>\n",
       "      <td id=\"T_04247_row0_col5\" class=\"data row0 col5\" >0</td>\n",
       "      <td id=\"T_04247_row0_col6\" class=\"data row0 col6\" >✔️ [True]</td>\n",
       "    </tr>\n",
       "  </tbody>\n",
       "</table>\n"
      ],
      "text/plain": [
       "<pandas.io.formats.style.Styler at 0x143d592b0>"
      ]
     },
     "metadata": {},
     "output_type": "display_data"
    },
    {
     "data": {
      "text/html": [
       "\n",
       "                <div style='\n",
       "                    text-align: center;\n",
       "                    font-size: 16px;\n",
       "                    font-weight: bold;\n",
       "                    color: #555;\n",
       "                    margin: 10px 0;'>\n",
       "                    ... 99 more rows not displayed ...\n",
       "                </div>\n",
       "                "
      ],
      "text/plain": [
       "<IPython.core.display.HTML object>"
      ]
     },
     "metadata": {},
     "output_type": "display_data"
    },
    {
     "name": "stdout",
     "output_type": "stream",
     "text": [
      "../preprocessing/data_after_phase2/yulia/grammatical_role_100.json\n",
      "../preprocessing/data_after_phase2/yulia/length_bias_100.json\n",
      "../preprocessing/data_after_phase2/yulia/concept_replacement_100.json\n",
      "../preprocessing/data_after_phase2/yulia/typo_bias_100.json\n",
      "../preprocessing/data_after_phase2/yulia/geographical_bias_100.json\n",
      "../preprocessing/data_after_phase2/yulia/punctuation_100.json\n",
      "../preprocessing/data_after_phase2/yulia/derivation_100.json\n",
      "../preprocessing/data_after_phase2/yulia/active_to_passive_100.json\n",
      "../preprocessing/data_after_phase2/yulia/negation_100.json\n"
     ]
    }
   ],
   "source": [
    "original_pred_ds = pd.read_csv('results/sa/gpt4o-0shot-sst2.csv', index_col=False)\n",
    "original_pred_ds['text'] = original_pred_ds['text'].apply(remove_space)  # Replace 'your_function' with the actual function\n",
    "\n",
    "# Get all json files in the specified directory\n",
    "json_files = glob.glob('../data/modified_data/sa/*_100.json')\n",
    "\n",
    "for json_file in json_files:\n",
    "    # Load the json file\n",
    "    print(json_file)\n",
    "    if not any(x in json_file for x in ['sentiment']):\n",
    "        continue\n",
    "    with open(json_file, 'r') as f:\n",
    "        data = json.load(f)\n",
    "    \n",
    "    results = evaluate_modified_set(data,simple_sentiment)\n",
    "\n",
    "    \n",
    "    # Convert results to dataframe\n",
    "    items = []\n",
    "    for sample in results[1]:\n",
    "        item = {}\n",
    "        sentence = sample[0]['text']\n",
    "        pred = sample[1]['label']\n",
    "        item['text'] = sentence\n",
    "        item['modified_label'] = sample[0]['label'] \n",
    "        pred = extract_prediction(pred)\n",
    "        item['modified_pred'] = pred\n",
    "        # original_text = sample[0]['original_text']\n",
    "        original_text = sample[0]['original_text'].encode('utf-8').decode('unicode-escape')\n",
    "\n",
    "        # print(original_text)\n",
    "        item['original_label'] = sample[0]['original_label']\n",
    "        item['original_text'] = original_text\n",
    "        item['original_pred'] = original_pred_ds.loc[original_pred_ds['text'] == original_text]['pred'].values[0]\n",
    "        item['type'] = sample[0]['type']\n",
    "        items.append(item)\n",
    "    \n",
    "    df_result = pd.DataFrame(data=items)\n",
    "    \n",
    "    \n",
    "    # Save results with filename based on input json\n",
    "    output_filename = f\"results/sa/gpt4o-0shot-{json_file.split('/')[-1].replace('.json', '')}.csv\"\n",
    "    df_result.to_csv(output_filename)\n"
   ]
  },
  {
   "cell_type": "markdown",
   "metadata": {},
   "source": [
    "# Aggregate results"
   ]
  },
  {
   "cell_type": "code",
   "execution_count": 43,
   "metadata": {},
   "outputs": [],
   "source": [
    "from scipy import stats"
   ]
  },
  {
   "cell_type": "code",
   "execution_count": 44,
   "metadata": {},
   "outputs": [
    {
     "name": "stdout",
     "output_type": "stream",
     "text": [
      "\n",
      "\n"
     ]
    },
    {
     "name": "stderr",
     "output_type": "stream",
     "text": [
      "/var/folders/10/sw0slq6565ddbg_lqxxhpqzh0000gn/T/ipykernel_86060/2788679935.py:57: FutureWarning: The behavior of DataFrame concatenation with empty or all-NA entries is deprecated. In a future version, this will no longer exclude empty or all-NA columns when determining the result dtypes. To retain the old behavior, exclude the relevant entries before the concat operation.\n",
      "  results_df.loc[len(results_df)] = {\n"
     ]
    },
    {
     "data": {
      "text/html": [
       "<style type=\"text/css\">\n",
       "#T_9ea84_row1_col0, #T_9ea84_row1_col1, #T_9ea84_row1_col2, #T_9ea84_row1_col3, #T_9ea84_row1_col4, #T_9ea84_row1_col5, #T_9ea84_row1_col6, #T_9ea84_row6_col0, #T_9ea84_row6_col1, #T_9ea84_row6_col2, #T_9ea84_row6_col3, #T_9ea84_row6_col4, #T_9ea84_row6_col5, #T_9ea84_row6_col6, #T_9ea84_row7_col0, #T_9ea84_row7_col1, #T_9ea84_row7_col2, #T_9ea84_row7_col3, #T_9ea84_row7_col4, #T_9ea84_row7_col5, #T_9ea84_row7_col6, #T_9ea84_row8_col0, #T_9ea84_row8_col1, #T_9ea84_row8_col2, #T_9ea84_row8_col3, #T_9ea84_row8_col4, #T_9ea84_row8_col5, #T_9ea84_row8_col6, #T_9ea84_row10_col0, #T_9ea84_row10_col1, #T_9ea84_row10_col2, #T_9ea84_row10_col3, #T_9ea84_row10_col4, #T_9ea84_row10_col5, #T_9ea84_row10_col6, #T_9ea84_row11_col0, #T_9ea84_row11_col1, #T_9ea84_row11_col2, #T_9ea84_row11_col3, #T_9ea84_row11_col4, #T_9ea84_row11_col5, #T_9ea84_row11_col6, #T_9ea84_row12_col0, #T_9ea84_row12_col1, #T_9ea84_row12_col2, #T_9ea84_row12_col3, #T_9ea84_row12_col4, #T_9ea84_row12_col5, #T_9ea84_row12_col6, #T_9ea84_row15_col0, #T_9ea84_row15_col1, #T_9ea84_row15_col2, #T_9ea84_row15_col3, #T_9ea84_row15_col4, #T_9ea84_row15_col5, #T_9ea84_row15_col6, #T_9ea84_row16_col0, #T_9ea84_row16_col1, #T_9ea84_row16_col2, #T_9ea84_row16_col3, #T_9ea84_row16_col4, #T_9ea84_row16_col5, #T_9ea84_row16_col6, #T_9ea84_row17_col0, #T_9ea84_row17_col1, #T_9ea84_row17_col2, #T_9ea84_row17_col3, #T_9ea84_row17_col4, #T_9ea84_row17_col5, #T_9ea84_row17_col6 {\n",
       "  background-color: red;\n",
       "}\n",
       "#T_9ea84_row14_col0, #T_9ea84_row14_col1, #T_9ea84_row14_col2, #T_9ea84_row14_col3, #T_9ea84_row14_col4, #T_9ea84_row14_col5, #T_9ea84_row14_col6 {\n",
       "  background-color: red;\n",
       "  font-weight: bold;\n",
       "}\n",
       "</style>\n",
       "<table id=\"T_9ea84\">\n",
       "  <thead>\n",
       "    <tr>\n",
       "      <th class=\"blank level0\" >&nbsp;</th>\n",
       "      <th id=\"T_9ea84_level0_col0\" class=\"col_heading level0 col0\" >task</th>\n",
       "      <th id=\"T_9ea84_level0_col1\" class=\"col_heading level0 col1\" >modification</th>\n",
       "      <th id=\"T_9ea84_level0_col2\" class=\"col_heading level0 col2\" >original_res</th>\n",
       "      <th id=\"T_9ea84_level0_col3\" class=\"col_heading level0 col3\" >modified_res</th>\n",
       "      <th id=\"T_9ea84_level0_col4\" class=\"col_heading level0 col4\" >difference</th>\n",
       "      <th id=\"T_9ea84_level0_col5\" class=\"col_heading level0 col5\" >pct_difference</th>\n",
       "      <th id=\"T_9ea84_level0_col6\" class=\"col_heading level0 col6\" >p_value</th>\n",
       "    </tr>\n",
       "  </thead>\n",
       "  <tbody>\n",
       "    <tr>\n",
       "      <th id=\"T_9ea84_level0_row0\" class=\"row_heading level0 row0\" >8</th>\n",
       "      <td id=\"T_9ea84_row0_col0\" class=\"data row0 col0\" >dialogue_contradiction_detection</td>\n",
       "      <td id=\"T_9ea84_row0_col1\" class=\"data row0 col1\" >temporal_bias_100</td>\n",
       "      <td id=\"T_9ea84_row0_col2\" class=\"data row0 col2\" >0.900000</td>\n",
       "      <td id=\"T_9ea84_row0_col3\" class=\"data row0 col3\" >0.900000</td>\n",
       "      <td id=\"T_9ea84_row0_col4\" class=\"data row0 col4\" >-0.000000</td>\n",
       "      <td id=\"T_9ea84_row0_col5\" class=\"data row0 col5\" >-0.000000</td>\n",
       "      <td id=\"T_9ea84_row0_col6\" class=\"data row0 col6\" >1.000000</td>\n",
       "    </tr>\n",
       "    <tr>\n",
       "      <th id=\"T_9ea84_level0_row1\" class=\"row_heading level0 row1\" >2</th>\n",
       "      <td id=\"T_9ea84_row1_col0\" class=\"data row1 col0\" >dialogue_contradiction_detection</td>\n",
       "      <td id=\"T_9ea84_row1_col1\" class=\"data row1 col1\" >geographical_bias_100</td>\n",
       "      <td id=\"T_9ea84_row1_col2\" class=\"data row1 col2\" >0.920000</td>\n",
       "      <td id=\"T_9ea84_row1_col3\" class=\"data row1 col3\" >0.910000</td>\n",
       "      <td id=\"T_9ea84_row1_col4\" class=\"data row1 col4\" >-0.010000</td>\n",
       "      <td id=\"T_9ea84_row1_col5\" class=\"data row1 col5\" >-1.090000</td>\n",
       "      <td id=\"T_9ea84_row1_col6\" class=\"data row1 col6\" >0.800000</td>\n",
       "    </tr>\n",
       "    <tr>\n",
       "      <th id=\"T_9ea84_level0_row2\" class=\"row_heading level0 row2\" >11</th>\n",
       "      <td id=\"T_9ea84_row2_col0\" class=\"data row2 col0\" >dialogue_contradiction_detection</td>\n",
       "      <td id=\"T_9ea84_row2_col1\" class=\"data row2 col1\" >length_bias_100</td>\n",
       "      <td id=\"T_9ea84_row2_col2\" class=\"data row2 col2\" >0.920000</td>\n",
       "      <td id=\"T_9ea84_row2_col3\" class=\"data row2 col3\" >0.930000</td>\n",
       "      <td id=\"T_9ea84_row2_col4\" class=\"data row2 col4\" >0.010000</td>\n",
       "      <td id=\"T_9ea84_row2_col5\" class=\"data row2 col5\" >1.090000</td>\n",
       "      <td id=\"T_9ea84_row2_col6\" class=\"data row2 col6\" >0.790000</td>\n",
       "    </tr>\n",
       "    <tr>\n",
       "      <th id=\"T_9ea84_level0_row3\" class=\"row_heading level0 row3\" >13</th>\n",
       "      <td id=\"T_9ea84_row3_col0\" class=\"data row3 col0\" >dialogue_contradiction_detection</td>\n",
       "      <td id=\"T_9ea84_row3_col1\" class=\"data row3 col1\" >typo_bias_100</td>\n",
       "      <td id=\"T_9ea84_row3_col2\" class=\"data row3 col2\" >0.920000</td>\n",
       "      <td id=\"T_9ea84_row3_col3\" class=\"data row3 col3\" >0.920000</td>\n",
       "      <td id=\"T_9ea84_row3_col4\" class=\"data row3 col4\" >-0.000000</td>\n",
       "      <td id=\"T_9ea84_row3_col5\" class=\"data row3 col5\" >-0.000000</td>\n",
       "      <td id=\"T_9ea84_row3_col6\" class=\"data row3 col6\" >1.000000</td>\n",
       "    </tr>\n",
       "    <tr>\n",
       "      <th id=\"T_9ea84_level0_row4\" class=\"row_heading level0 row4\" >3</th>\n",
       "      <td id=\"T_9ea84_row4_col0\" class=\"data row4 col0\" >dialogue_contradiction_detection</td>\n",
       "      <td id=\"T_9ea84_row4_col1\" class=\"data row4 col1\" >capitalization_100</td>\n",
       "      <td id=\"T_9ea84_row4_col2\" class=\"data row4 col2\" >0.910000</td>\n",
       "      <td id=\"T_9ea84_row4_col3\" class=\"data row4 col3\" >0.920000</td>\n",
       "      <td id=\"T_9ea84_row4_col4\" class=\"data row4 col4\" >0.010000</td>\n",
       "      <td id=\"T_9ea84_row4_col5\" class=\"data row4 col5\" >1.110000</td>\n",
       "      <td id=\"T_9ea84_row4_col6\" class=\"data row4 col6\" >0.800000</td>\n",
       "    </tr>\n",
       "    <tr>\n",
       "      <th id=\"T_9ea84_level0_row5\" class=\"row_heading level0 row5\" >10</th>\n",
       "      <td id=\"T_9ea84_row5_col0\" class=\"data row5 col0\" >dialogue_contradiction_detection</td>\n",
       "      <td id=\"T_9ea84_row5_col1\" class=\"data row5 col1\" >punctuation_100</td>\n",
       "      <td id=\"T_9ea84_row5_col2\" class=\"data row5 col2\" >0.900000</td>\n",
       "      <td id=\"T_9ea84_row5_col3\" class=\"data row5 col3\" >0.910000</td>\n",
       "      <td id=\"T_9ea84_row5_col4\" class=\"data row5 col4\" >0.010000</td>\n",
       "      <td id=\"T_9ea84_row5_col5\" class=\"data row5 col5\" >1.110000</td>\n",
       "      <td id=\"T_9ea84_row5_col6\" class=\"data row5 col6\" >0.810000</td>\n",
       "    </tr>\n",
       "    <tr>\n",
       "      <th id=\"T_9ea84_level0_row6\" class=\"row_heading level0 row6\" >7</th>\n",
       "      <td id=\"T_9ea84_row6_col0\" class=\"data row6 col0\" >dialogue_contradiction_detection</td>\n",
       "      <td id=\"T_9ea84_row6_col1\" class=\"data row6 col1\" >derivation_100</td>\n",
       "      <td id=\"T_9ea84_row6_col2\" class=\"data row6 col2\" >0.930000</td>\n",
       "      <td id=\"T_9ea84_row6_col3\" class=\"data row6 col3\" >0.910000</td>\n",
       "      <td id=\"T_9ea84_row6_col4\" class=\"data row6 col4\" >-0.020000</td>\n",
       "      <td id=\"T_9ea84_row6_col5\" class=\"data row6 col5\" >-2.470000</td>\n",
       "      <td id=\"T_9ea84_row6_col6\" class=\"data row6 col6\" >0.580000</td>\n",
       "    </tr>\n",
       "    <tr>\n",
       "      <th id=\"T_9ea84_level0_row7\" class=\"row_heading level0 row7\" >16</th>\n",
       "      <td id=\"T_9ea84_row7_col0\" class=\"data row7 col0\" >dialogue_contradiction_detection</td>\n",
       "      <td id=\"T_9ea84_row7_col1\" class=\"data row7 col1\" >compound_word_100</td>\n",
       "      <td id=\"T_9ea84_row7_col2\" class=\"data row7 col2\" >0.940000</td>\n",
       "      <td id=\"T_9ea84_row7_col3\" class=\"data row7 col3\" >0.920000</td>\n",
       "      <td id=\"T_9ea84_row7_col4\" class=\"data row7 col4\" >-0.020000</td>\n",
       "      <td id=\"T_9ea84_row7_col5\" class=\"data row7 col5\" >-2.250000</td>\n",
       "      <td id=\"T_9ea84_row7_col6\" class=\"data row7 col6\" >0.580000</td>\n",
       "    </tr>\n",
       "    <tr>\n",
       "      <th id=\"T_9ea84_level0_row8\" class=\"row_heading level0 row8\" >6</th>\n",
       "      <td id=\"T_9ea84_row8_col0\" class=\"data row8 col0\" >dialogue_contradiction_detection</td>\n",
       "      <td id=\"T_9ea84_row8_col1\" class=\"data row8 col1\" >active_to_passive_100</td>\n",
       "      <td id=\"T_9ea84_row8_col2\" class=\"data row8 col2\" >0.930000</td>\n",
       "      <td id=\"T_9ea84_row8_col3\" class=\"data row8 col3\" >0.890000</td>\n",
       "      <td id=\"T_9ea84_row8_col4\" class=\"data row8 col4\" >-0.040000</td>\n",
       "      <td id=\"T_9ea84_row8_col5\" class=\"data row8 col5\" >-4.300000</td>\n",
       "      <td id=\"T_9ea84_row8_col6\" class=\"data row8 col6\" >0.330000</td>\n",
       "    </tr>\n",
       "    <tr>\n",
       "      <th id=\"T_9ea84_level0_row9\" class=\"row_heading level0 row9\" >1</th>\n",
       "      <td id=\"T_9ea84_row9_col0\" class=\"data row9 col0\" >dialogue_contradiction_detection</td>\n",
       "      <td id=\"T_9ea84_row9_col1\" class=\"data row9 col1\" >grammatical_role_100</td>\n",
       "      <td id=\"T_9ea84_row9_col2\" class=\"data row9 col2\" >0.910000</td>\n",
       "      <td id=\"T_9ea84_row9_col3\" class=\"data row9 col3\" >0.920000</td>\n",
       "      <td id=\"T_9ea84_row9_col4\" class=\"data row9 col4\" >0.020000</td>\n",
       "      <td id=\"T_9ea84_row9_col5\" class=\"data row9 col5\" >1.670000</td>\n",
       "      <td id=\"T_9ea84_row9_col6\" class=\"data row9 col6\" >0.760000</td>\n",
       "    </tr>\n",
       "    <tr>\n",
       "      <th id=\"T_9ea84_level0_row10\" class=\"row_heading level0 row10\" >0</th>\n",
       "      <td id=\"T_9ea84_row10_col0\" class=\"data row10 col0\" >dialogue_contradiction_detection</td>\n",
       "      <td id=\"T_9ea84_row10_col1\" class=\"data row10 col1\" >coordinating_conjunction_100</td>\n",
       "      <td id=\"T_9ea84_row10_col2\" class=\"data row10 col2\" >0.940000</td>\n",
       "      <td id=\"T_9ea84_row10_col3\" class=\"data row10 col3\" >0.930000</td>\n",
       "      <td id=\"T_9ea84_row10_col4\" class=\"data row10 col4\" >-0.010000</td>\n",
       "      <td id=\"T_9ea84_row10_col5\" class=\"data row10 col5\" >-1.060000</td>\n",
       "      <td id=\"T_9ea84_row10_col6\" class=\"data row10 col6\" >0.780000</td>\n",
       "    </tr>\n",
       "    <tr>\n",
       "      <th id=\"T_9ea84_level0_row11\" class=\"row_heading level0 row11\" >15</th>\n",
       "      <td id=\"T_9ea84_row11_col0\" class=\"data row11 col0\" >dialogue_contradiction_detection</td>\n",
       "      <td id=\"T_9ea84_row11_col1\" class=\"data row11 col1\" >concept_replacement_100</td>\n",
       "      <td id=\"T_9ea84_row11_col2\" class=\"data row11 col2\" >0.900000</td>\n",
       "      <td id=\"T_9ea84_row11_col3\" class=\"data row11 col3\" >0.880000</td>\n",
       "      <td id=\"T_9ea84_row11_col4\" class=\"data row11 col4\" >-0.020000</td>\n",
       "      <td id=\"T_9ea84_row11_col5\" class=\"data row11 col5\" >-2.220000</td>\n",
       "      <td id=\"T_9ea84_row11_col6\" class=\"data row11 col6\" >0.650000</td>\n",
       "    </tr>\n",
       "    <tr>\n",
       "      <th id=\"T_9ea84_level0_row12\" class=\"row_heading level0 row12\" >14</th>\n",
       "      <td id=\"T_9ea84_row12_col0\" class=\"data row12 col0\" >dialogue_contradiction_detection</td>\n",
       "      <td id=\"T_9ea84_row12_col1\" class=\"data row12 col1\" >negation_100</td>\n",
       "      <td id=\"T_9ea84_row12_col2\" class=\"data row12 col2\" >0.850000</td>\n",
       "      <td id=\"T_9ea84_row12_col3\" class=\"data row12 col3\" >0.750000</td>\n",
       "      <td id=\"T_9ea84_row12_col4\" class=\"data row12 col4\" >-0.100000</td>\n",
       "      <td id=\"T_9ea84_row12_col5\" class=\"data row12 col5\" >-12.200000</td>\n",
       "      <td id=\"T_9ea84_row12_col6\" class=\"data row12 col6\" >0.070000</td>\n",
       "    </tr>\n",
       "    <tr>\n",
       "      <th id=\"T_9ea84_level0_row13\" class=\"row_heading level0 row13\" >4</th>\n",
       "      <td id=\"T_9ea84_row13_col0\" class=\"data row13 col0\" >dialogue_contradiction_detection</td>\n",
       "      <td id=\"T_9ea84_row13_col1\" class=\"data row13 col1\" >discourse_100</td>\n",
       "      <td id=\"T_9ea84_row13_col2\" class=\"data row13 col2\" >0.860000</td>\n",
       "      <td id=\"T_9ea84_row13_col3\" class=\"data row13 col3\" >0.870000</td>\n",
       "      <td id=\"T_9ea84_row13_col4\" class=\"data row13 col4\" >0.010000</td>\n",
       "      <td id=\"T_9ea84_row13_col5\" class=\"data row13 col5\" >1.180000</td>\n",
       "      <td id=\"T_9ea84_row13_col6\" class=\"data row13 col6\" >0.840000</td>\n",
       "    </tr>\n",
       "    <tr>\n",
       "      <th id=\"T_9ea84_level0_row14\" class=\"row_heading level0 row14\" >9</th>\n",
       "      <td id=\"T_9ea84_row14_col0\" class=\"data row14 col0\" >dialogue_contradiction_detection</td>\n",
       "      <td id=\"T_9ea84_row14_col1\" class=\"data row14 col1\" >sentiment_100</td>\n",
       "      <td id=\"T_9ea84_row14_col2\" class=\"data row14 col2\" >0.930000</td>\n",
       "      <td id=\"T_9ea84_row14_col3\" class=\"data row14 col3\" >0.820000</td>\n",
       "      <td id=\"T_9ea84_row14_col4\" class=\"data row14 col4\" >-0.110000</td>\n",
       "      <td id=\"T_9ea84_row14_col5\" class=\"data row14 col5\" >-11.830000</td>\n",
       "      <td id=\"T_9ea84_row14_col6\" class=\"data row14 col6\" >0.020000</td>\n",
       "    </tr>\n",
       "    <tr>\n",
       "      <th id=\"T_9ea84_level0_row15\" class=\"row_heading level0 row15\" >5</th>\n",
       "      <td id=\"T_9ea84_row15_col0\" class=\"data row15 col0\" >dialogue_contradiction_detection</td>\n",
       "      <td id=\"T_9ea84_row15_col1\" class=\"data row15 col1\" >casual_100</td>\n",
       "      <td id=\"T_9ea84_row15_col2\" class=\"data row15 col2\" >0.940000</td>\n",
       "      <td id=\"T_9ea84_row15_col3\" class=\"data row15 col3\" >0.930000</td>\n",
       "      <td id=\"T_9ea84_row15_col4\" class=\"data row15 col4\" >-0.010000</td>\n",
       "      <td id=\"T_9ea84_row15_col5\" class=\"data row15 col5\" >-1.060000</td>\n",
       "      <td id=\"T_9ea84_row15_col6\" class=\"data row15 col6\" >0.780000</td>\n",
       "    </tr>\n",
       "    <tr>\n",
       "      <th id=\"T_9ea84_level0_row16\" class=\"row_heading level0 row16\" >12</th>\n",
       "      <td id=\"T_9ea84_row16_col0\" class=\"data row16 col0\" >dialogue_contradiction_detection</td>\n",
       "      <td id=\"T_9ea84_row16_col1\" class=\"data row16 col1\" >dialectal_100</td>\n",
       "      <td id=\"T_9ea84_row16_col2\" class=\"data row16 col2\" >0.860000</td>\n",
       "      <td id=\"T_9ea84_row16_col3\" class=\"data row16 col3\" >0.810000</td>\n",
       "      <td id=\"T_9ea84_row16_col4\" class=\"data row16 col4\" >-0.050000</td>\n",
       "      <td id=\"T_9ea84_row16_col5\" class=\"data row16 col5\" >-5.810000</td>\n",
       "      <td id=\"T_9ea84_row16_col6\" class=\"data row16 col6\" >0.340000</td>\n",
       "    </tr>\n",
       "    <tr>\n",
       "      <th id=\"T_9ea84_level0_row17\" class=\"row_heading level0 row17\" >17</th>\n",
       "      <td id=\"T_9ea84_row17_col0\" class=\"data row17 col0\" >dialogue_contradiction_detection</td>\n",
       "      <td id=\"T_9ea84_row17_col1\" class=\"data row17 col1\" >average</td>\n",
       "      <td id=\"T_9ea84_row17_col2\" class=\"data row17 col2\" >0.910000</td>\n",
       "      <td id=\"T_9ea84_row17_col3\" class=\"data row17 col3\" >0.890000</td>\n",
       "      <td id=\"T_9ea84_row17_col4\" class=\"data row17 col4\" >-0.020000</td>\n",
       "      <td id=\"T_9ea84_row17_col5\" class=\"data row17 col5\" >-2.240000</td>\n",
       "      <td id=\"T_9ea84_row17_col6\" class=\"data row17 col6\" >nan</td>\n",
       "    </tr>\n",
       "  </tbody>\n",
       "</table>\n"
      ],
      "text/plain": [
       "<pandas.io.formats.style.Styler at 0x17a9312e0>"
      ]
     },
     "execution_count": 44,
     "metadata": {},
     "output_type": "execute_result"
    }
   ],
   "source": [
    "result_files = glob.glob('results/sa/gpt4o-0shot-*_100.csv')\n",
    "\n",
    "aggregated_results = []\n",
    "\n",
    "for file in result_files:\n",
    "    # Extract modification type from filename\n",
    "    mod_type = file.split('-')[-1].replace('.csv','')\n",
    "    \n",
    "    # Read results file\n",
    "    df = pd.read_csv(file)\n",
    "\n",
    "    # Calculate accuracies\n",
    "    original_correct = (df['original_pred'] == df['original_label']).sum()\n",
    "    modified_correct = (df['modified_pred'] == df['modified_label']).sum()\n",
    "    total = len(df)\n",
    "\n",
    "    original_acc = original_correct / total\n",
    "    modified_acc = modified_correct / total\n",
    "    \n",
    "    # Calculate the difference between original_res and modified_res\n",
    "    difference = -round(original_acc - modified_acc, 2)\n",
    "    \n",
    "    # Calculate percentage difference with respect to total samples\n",
    "    pct_difference = -round((original_correct - modified_correct) / original_correct * 100, 2)\n",
    "    \n",
    "    # Perform t-test between original and modified predictions\n",
    "    t_stat, p_value = stats.ttest_ind(\n",
    "        (df['original_pred'] == df['original_label']).astype(float),\n",
    "        (df['modified_pred'] == df['modified_label']).astype(float)\n",
    "    )\n",
    "    \n",
    "    aggregated_results.append({\n",
    "        'task': 'dialogue_contradiction_detection',\n",
    "        'modification': mod_type,\n",
    "        'original_res': round(original_acc, 2),\n",
    "        'modified_res': round(modified_acc, 2),\n",
    "        'difference': difference,  # Difference in accuracy\n",
    "        'pct_difference': pct_difference,  # Percentage difference relative to total samples\n",
    "        'p_value': p_value  # Add p-value from t-test\n",
    "    })\n",
    "\n",
    "# Create final results dataframe\n",
    "results_df = pd.DataFrame(aggregated_results)\n",
    "\n",
    "# Sort the results based on modification_name\n",
    "modification_name = ['temporal_bias_100', 'geographical_bias_100','length_bias_100', 'typo_bias_100', 'capitalization_100', 'punctuation_100', 'derivation_100', 'compound_word_100','active_to_passive_100','grammatical_role_100', 'coordinating_conjunction_100', 'concept_replacement_100','negation_100','discourse_100','sentiment_100','casual_100', 'dialectal_100']\n",
    "results_df['modification'] = pd.Categorical(results_df['modification'], categories=modification_name, ordered=True)\n",
    "results_df = results_df.sort_values(by='modification')\n",
    "\n",
    "# Calculate averages across all modifications\n",
    "avg_original = results_df['original_res'].mean()\n",
    "avg_modified = results_df['modified_res'].mean()\n",
    "avg_difference = avg_original - avg_modified\n",
    "avg_pct_difference = results_df['pct_difference'].mean()\n",
    "\n",
    "# Add averages as a new row\n",
    "results_df.loc[len(results_df)] = {\n",
    "    'task': 'dialogue_contradiction_detection',\n",
    "    'modification': 'average',\n",
    "    'original_res': round(avg_original, 2),\n",
    "    'modified_res': round(avg_modified, 2),\n",
    "    'difference': -round(avg_difference, 2),\n",
    "    'pct_difference': round(avg_pct_difference, 2),\n",
    "    'p_value': None  # No p-value for average row\n",
    "}\n",
    "\n",
    "print(\"\\n\")\n",
    "results_df.to_csv('results/sa/gpt4o-DP.csv')\n",
    "\n",
    "# Apply styling to highlight rows where original_res > modified_res and significant p-values\n",
    "def highlight_drops_and_significance(row):\n",
    "    colors = [''] * len(row)\n",
    "    if row['original_res'] > row['modified_res']:\n",
    "        colors = ['background-color: red'] * len(row)\n",
    "        # If p-value < 0.05, add bold text\n",
    "        if 'p_value' in row and row['p_value'] is not None and row['p_value'] < 0.05:\n",
    "            colors = ['background-color: red; font-weight: bold'] * len(row)\n",
    "    return colors\n",
    "\n",
    "results_df.round(2).style.apply(highlight_drops_and_significance, axis=1)\n"
   ]
  },
  {
   "cell_type": "code",
   "execution_count": 28,
   "metadata": {},
   "outputs": [
    {
     "name": "stdout",
     "output_type": "stream",
     "text": [
      "GPT-4 Average Accuracy: 93.69%\n",
      "Claude-3.5 Average Accuracy: 91.51%\n",
      "Mixtral Average Accuracy: 83.37%\n"
     ]
    },
    {
     "data": {
      "text/html": [
       "<style type=\"text/css\">\n",
       "#T_9c380_row0_col1 {\n",
       "  background-color: green;\n",
       "}\n",
       "</style>\n",
       "<table id=\"T_9c380\">\n",
       "  <thead>\n",
       "    <tr>\n",
       "      <th class=\"blank level0\" >&nbsp;</th>\n",
       "      <th id=\"T_9c380_level0_col0\" class=\"col_heading level0 col0\" >Model</th>\n",
       "      <th id=\"T_9c380_level0_col1\" class=\"col_heading level0 col1\" >Accuracy</th>\n",
       "    </tr>\n",
       "  </thead>\n",
       "  <tbody>\n",
       "    <tr>\n",
       "      <th id=\"T_9c380_level0_row0\" class=\"row_heading level0 row0\" >0</th>\n",
       "      <td id=\"T_9c380_row0_col0\" class=\"data row0 col0\" >GPT-4</td>\n",
       "      <td id=\"T_9c380_row0_col1\" class=\"data row0 col1\" >0.936927</td>\n",
       "    </tr>\n",
       "    <tr>\n",
       "      <th id=\"T_9c380_level0_row1\" class=\"row_heading level0 row1\" >1</th>\n",
       "      <td id=\"T_9c380_row1_col0\" class=\"data row1 col0\" >Claude-3.5</td>\n",
       "      <td id=\"T_9c380_row1_col1\" class=\"data row1 col1\" >0.915138</td>\n",
       "    </tr>\n",
       "    <tr>\n",
       "      <th id=\"T_9c380_level0_row2\" class=\"row_heading level0 row2\" >2</th>\n",
       "      <td id=\"T_9c380_row2_col0\" class=\"data row2 col0\" >Mixtral</td>\n",
       "      <td id=\"T_9c380_row2_col1\" class=\"data row2 col1\" >0.833716</td>\n",
       "    </tr>\n",
       "  </tbody>\n",
       "</table>\n"
      ],
      "text/plain": [
       "<pandas.io.formats.style.Styler at 0x12e97c6b0>"
      ]
     },
     "execution_count": 28,
     "metadata": {},
     "output_type": "execute_result"
    }
   ],
   "source": [
    "# Load results from different models\n",
    "gpt4_df = pd.read_csv('results/sa/gpt4o-0shot-sst2.csv')\n",
    "claude_df = pd.read_csv('results/sa/claude-3-5-sonnet-0shot-sst2.csv')\n",
    "mixtral_df = pd.read_csv('results/sa/mixtral-8x22b-sst2.csv')\n",
    "\n",
    "# Calculate accuracy between predictions and labels\n",
    "gpt4_acc = (gpt4_df['pred'] == gpt4_df['label']).mean()\n",
    "claude_acc = (claude_df['pred'] == claude_df['label']).mean()\n",
    "mixtral_acc = (mixtral_df['pred'] == mixtral_df['label']).mean()\n",
    "# Calculate average accuracy for each model\n",
    "print(f\"GPT-4 Average Accuracy: {gpt4_acc:.2%}\")\n",
    "print(f\"Claude-3.5 Average Accuracy: {claude_acc:.2%}\")\n",
    "print(f\"Mixtral Average Accuracy: {mixtral_acc:.2%}\")\n",
    "\n",
    "# Create comparison dataframe\n",
    "comparison_df = pd.DataFrame({\n",
    "    'Model': ['GPT-4', 'Claude-3.5', 'Mixtral'],\n",
    "    'Accuracy': [gpt4_acc, claude_acc, mixtral_acc]\n",
    "})\n",
    "\n",
    "# Style the dataframe\n",
    "def highlight_max(s):\n",
    "    is_max = s == s.max()\n",
    "    return ['background-color: green' if v else '' for v in is_max]\n",
    "\n",
    "styled_df = comparison_df.style.apply(highlight_max, subset=['Accuracy'])\n",
    "styled_df\n"
   ]
  },
  {
   "cell_type": "code",
   "execution_count": null,
   "metadata": {},
   "outputs": [],
   "source": []
  }
 ],
 "metadata": {
  "kernelspec": {
   "display_name": "base",
   "language": "python",
   "name": "python3"
  },
  "language_info": {
   "codemirror_mode": {
    "name": "ipython",
    "version": 3
   },
   "file_extension": ".py",
   "mimetype": "text/x-python",
   "name": "python",
   "nbconvert_exporter": "python",
   "pygments_lexer": "ipython3",
   "version": "3.12.2"
  }
 },
 "nbformat": 4,
 "nbformat_minor": 2
}
