{
 "cells": [
  {
   "cell_type": "code",
   "execution_count": 71,
   "metadata": {},
   "outputs": [],
   "source": [
    "from datasets import load_dataset\n",
    "import dspy\n",
    "import openai\n",
    "import os\n",
    "import re\n",
    "import pandas as pd\n",
    "import ast\n",
    "import json\n",
    "from dotenv import load_dotenv\n",
    "import numpy as np"
   ]
  },
  {
   "cell_type": "code",
   "execution_count": 72,
   "metadata": {},
   "outputs": [
    {
     "data": {
      "text/plain": [
       "True"
      ]
     },
     "execution_count": 72,
     "metadata": {},
     "output_type": "execute_result"
    }
   ],
   "source": [
    "load_dotenv()"
   ]
  },
  {
   "cell_type": "code",
   "execution_count": 73,
   "metadata": {},
   "outputs": [],
   "source": [
    "\n",
    "openai.api_key = os.getenv('OPENAI_API_KEY')\n",
    "openai.organization = os.getenv('OPENAI_ORGANIZATION')\n"
   ]
  },
  {
   "cell_type": "code",
   "execution_count": 74,
   "metadata": {},
   "outputs": [],
   "source": [
    "lm = dspy.LM('together_ai/meta-llama/Meta-Llama-3.1-405B-Instruct-Turbo', temperature=0, max_tokens=1024)\n",
    "dspy.configure(lm=lm)"
   ]
  },
  {
   "cell_type": "code",
   "execution_count": 75,
   "metadata": {},
   "outputs": [],
   "source": [
    "ds = pd.read_json('../data/train_dev_test_data/ner/fewnerd_sample_test.json', encoding_errors='replace')\n",
    "ds = ds.to_dict('records')\n"
   ]
  },
  {
   "cell_type": "code",
   "execution_count": 76,
   "metadata": {},
   "outputs": [
    {
     "data": {
      "text/plain": [
       "{'id': 1,\n",
       " 'text': 'In the early 1930s the band moved to the Grill Room of the Taft Hotel in New York ; the band was renamed ``George Hall and His Hotel Taft Orchestra``.',\n",
       " 'label': [{'Grill Room': 'BUILDING'},\n",
       "  {'Taft Hotel': 'BUILDING'},\n",
       "  {'New York': 'LOCATION'},\n",
       "  {'George Hall and His Hotel Taft Orchestra': 'ORGANIZATION'}],\n",
       " 'dataset': 'few_nerd',\n",
       " 'entity': ['Grill Room',\n",
       "  'Taft Hotel',\n",
       "  'New York',\n",
       "  'George Hall and His Hotel Taft Orchestra']}"
      ]
     },
     "execution_count": 76,
     "metadata": {},
     "output_type": "execute_result"
    }
   ],
   "source": [
    "ds[0]"
   ]
  },
  {
   "cell_type": "code",
   "execution_count": 77,
   "metadata": {},
   "outputs": [],
   "source": [
    "def remove_space(text):\n",
    "    \"\"\"Clean up spacing and formatting in dialogue text.\"\"\"\n",
    "    lines = text.split('\\n')\n",
    "    cleaned_lines = []\n",
    "    \n",
    "    for line in lines:\n",
    "        # Remove multiple spaces\n",
    "        cleaned = ' '.join(line.split())\n",
    "        \n",
    "        # Fix spacing around punctuation\n",
    "        cleaned = re.sub(r'\\s+([.,!?:;])', r'\\1', cleaned)\n",
    "        cleaned = re.sub(r'([.,!?:;])\\s+', r'\\1 ', cleaned)\n",
    "        \n",
    "        # Fix contractions\n",
    "        cleaned = re.sub(r'\\s*\\'\\s*s\\b', \"'s\", cleaned)\n",
    "        cleaned = re.sub(r'\\s*n\\s*\\'\\s*t\\b', \"n't\", cleaned)\n",
    "        cleaned = re.sub(r'\\s*\\'\\s*ve\\b', \"'ve\", cleaned)\n",
    "        cleaned = re.sub(r'\\s*\\'\\s*re\\b', \"'re\", cleaned)\n",
    "        cleaned = re.sub(r'\\s*\\'\\s*ll\\b', \"'ll\", cleaned)\n",
    "        cleaned = re.sub(r'\\s*\\'\\s*d\\b', \"'d\", cleaned)\n",
    "        cleaned = re.sub(r'\\s*\\'\\s*m\\b', \"'m\", cleaned)\n",
    "        \n",
    "        # Fix spaces around parentheses\n",
    "        cleaned = re.sub(r'\\(\\s+', '(', cleaned)\n",
    "        cleaned = re.sub(r'\\s+\\)', ')', cleaned)\n",
    "        \n",
    "        # Remove leading/trailing whitespace\n",
    "        cleaned = cleaned.strip()\n",
    "        \n",
    "        cleaned_lines.append(cleaned)\n",
    "        \n",
    "    return '\\n'.join(cleaned_lines)\n"
   ]
  },
  {
   "cell_type": "code",
   "execution_count": 78,
   "metadata": {},
   "outputs": [],
   "source": [
    "examples = [\n",
    "    dspy.Example({ \n",
    "                  \"text\" : r[\"text\"], \n",
    "                  \"label\": str(r['label'])\n",
    "                }\n",
    "                  ).with_inputs(\"text\")\n",
    "    \n",
    "    for r in ds\n",
    "    ]\n"
   ]
  },
  {
   "cell_type": "code",
   "execution_count": 79,
   "metadata": {},
   "outputs": [
    {
     "name": "stdout",
     "output_type": "stream",
     "text": [
      "\n",
      "TEXT:\n",
      "\n",
      "In the early 1930s the band moved to the Grill Room of the Taft Hotel in New York ; the band was renamed ``George Hall and His Hotel Taft Orchestra``.\n",
      "\n",
      "LABEL:\n",
      "\n",
      "[{'Grill Room': 'BUILDING'}, {'Taft Hotel': 'BUILDING'}, {'New York': 'LOCATION'}, {'George Hall and His Hotel Taft Orchestra': 'ORGANIZATION'}]\n"
     ]
    }
   ],
   "source": [
    "example = examples[0]\n",
    "for k, v in example.items():\n",
    "    print(f\"\\n{k.upper()}:\\n\")\n",
    "    print(v)\n"
   ]
  },
  {
   "cell_type": "code",
   "execution_count": 80,
   "metadata": {},
   "outputs": [],
   "source": [
    "def calculate_f1_ent(gold_entities, predicted_entities):\n",
    "    \"\"\"\n",
    "    Calculates the F1 score given the true labels and predicted labels.\n",
    "    \"\"\"\n",
    "    # print(\"Input types:\")\n",
    "    # print(f\"gold_entities type: {type(gold_entities)}\")\n",
    "    # print(f\"predicted_entities type: {type(predicted_entities)}\")\n",
    "    \n",
    "    if predicted_entities is None:\n",
    "        return 0.0, 0.0, 0.0\n",
    "\n",
    "    true_entities = {}\n",
    "    pred_entities = {}\n",
    "    \n",
    "    # Convert to empty list if NaN\n",
    "    def handle_nan(entities):\n",
    "        # print(f\"Handling NaN for: {type(entities)}\")\n",
    "        # If it's already a list, return it as is\n",
    "        if isinstance(entities, list):\n",
    "            return entities\n",
    "        # Handle pandas/numpy types\n",
    "        if isinstance(entities, (pd.Series, np.ndarray)):\n",
    "            nan_check = pd.isna(entities)\n",
    "            if isinstance(nan_check, (pd.Series, np.ndarray)):\n",
    "                if nan_check.any():\n",
    "                    return \"[]\"\n",
    "            elif nan_check:\n",
    "                return \"[]\"\n",
    "        # Handle single values\n",
    "        elif pd.isna(entities):\n",
    "            return \"[]\"\n",
    "        return entities\n",
    "\n",
    "    # Handle NaN cases\n",
    "    gold_entities = handle_nan(gold_entities)\n",
    "    predicted_entities = handle_nan(predicted_entities)\n",
    "            \n",
    "    # Parse strings if needed\n",
    "    if isinstance(gold_entities, str):\n",
    "        gold_entities = ast.literal_eval(gold_entities)\n",
    "    if isinstance(predicted_entities, str):\n",
    "        predicted_entities = ast.literal_eval(predicted_entities)\n",
    "\n",
    "    # Process gold entities\n",
    "    # print(gold_entities)\n",
    "    for entity in gold_entities:\n",
    "        # print(entity)\n",
    "        if isinstance(entity, str):\n",
    "            entity = ast.literal_eval(entity)\n",
    "        if entity.get('text') is not None:\n",
    "            true_entities[entity['text']] = entity['value']\n",
    "        else:\n",
    "            for key, value in entity.items():\n",
    "                true_entities[key] = value\n",
    "    \n",
    "    # Process predicted entities\n",
    "    for entity in predicted_entities:\n",
    "        if isinstance(entity, str):\n",
    "            entity = ast.literal_eval(entity)\n",
    "        if entity.get('text') is not None:  \n",
    "            pred_entities[entity['text']] = entity['value']\n",
    "        else:\n",
    "            for key, value in entity.items():\n",
    "                pred_entities[key] = value\n",
    "\n",
    "    # Calculate metrics\n",
    "    true_positives = sum(1 for text in true_entities if text in pred_entities and true_entities[text] == pred_entities[text])\n",
    "    false_positives = sum(1 for text in pred_entities if text not in true_entities)\n",
    "    false_negatives = sum(1 for text in true_entities if text not in pred_entities)\n",
    "\n",
    "    if true_positives == 0:\n",
    "        return 0.0, 0.0, 0.0\n",
    "\n",
    "    precision = true_positives / (true_positives + false_positives)\n",
    "    recall = true_positives / (true_positives + false_negatives)\n",
    "    f1_score = 2 * (precision * recall) / (precision + recall)\n",
    "\n",
    "    return precision, recall, f1_score"
   ]
  },
  {
   "cell_type": "code",
   "execution_count": 81,
   "metadata": {},
   "outputs": [],
   "source": [
    "def extract_prediction(pred):\n",
    "    matches = re.findall(r\"\\[\\{.*\\}\\]\", pred)\n",
    "    # print(matches)\n",
    "    parsed_answer = matches[-1] if matches else \"\"\n",
    "    if parsed_answer == \"\":\n",
    "        return {}\n",
    "    parsed_answer = ast.literal_eval(parsed_answer)\n",
    "    return parsed_answer\n"
   ]
  },
  {
   "cell_type": "code",
   "execution_count": 82,
   "metadata": {},
   "outputs": [],
   "source": [
    "def eval_metric(true, prediction, trace=None):\n",
    "    pred = prediction.label\n",
    "    \n",
    "    matches = re.findall(r\"\\[\\{.*\\}\\]\", pred)\n",
    "    # print(matches)\n",
    "    parsed_answer = matches[-1] if matches else \"\"\n",
    "    if parsed_answer == \"\":\n",
    "        return 0.0\n",
    "    parsed_answer = ast.literal_eval(parsed_answer)\n",
    "    # print(type(parsed_answer))\n",
    "    gold_entities = ast.literal_eval(true.label)\n",
    "    # print(parsed_answer)\n",
    "    precision, recall, f1_score = calculate_f1_ent(gold_entities=gold_entities, predicted_entities= parsed_answer)\n",
    "    return f1_score"
   ]
  },
  {
   "cell_type": "code",
   "execution_count": 83,
   "metadata": {},
   "outputs": [],
   "source": [
    "from dspy.evaluate import Evaluate\n",
    "\n",
    "evaluate = Evaluate(devset= examples, metric=eval_metric, num_threads=6, display_progress=True, display_table=10)\n"
   ]
  },
  {
   "cell_type": "code",
   "execution_count": 84,
   "metadata": {},
   "outputs": [],
   "source": [
    "class Ent(dspy.Signature):\n",
    "    \"\"\"Extract named entities from the text. Possible entity type: ART, BUILDING, EVENT, LOCATION, ORGANIZATION, OTHER, PERSON, PRODUCT\"\"\"\n",
    "    text = dspy.InputField()\n",
    "    label = dspy.OutputField(desc=\"The list of named entities in the text: [{'text': the text span, 'value': the entity label},].\", prefix = 'Entities:')"
   ]
  },
  {
   "cell_type": "code",
   "execution_count": 85,
   "metadata": {},
   "outputs": [],
   "source": [
    "class SimpleEnt(dspy.Module):\n",
    "    def __init__(self):\n",
    "        super().__init__()\n",
    "        self.prog = dspy.Predict(Ent)\n",
    "\n",
    "    def forward(self, text):\n",
    "\n",
    "        return self.prog(text = text)\n"
   ]
  },
  {
   "cell_type": "code",
   "execution_count": 86,
   "metadata": {},
   "outputs": [],
   "source": [
    "simple_ent = SimpleEnt()"
   ]
  },
  {
   "cell_type": "code",
   "execution_count": 87,
   "metadata": {},
   "outputs": [
    {
     "name": "stdout",
     "output_type": "stream",
     "text": [
      "\n",
      "TEXT:\n",
      "\n",
      "In the early 1930s the band moved to the Grill Room of the Taft Hotel in New York ; the band was renamed ``George Hall and His Hotel Taft Orchestra``.\n",
      "\n",
      "ANSWER:\n",
      "\n",
      "[{'Grill Room': 'BUILDING'}, {'Taft Hotel': 'BUILDING'}, {'New York': 'LOCATION'}, {'George Hall and His Hotel Taft Orchestra': 'ORGANIZATION'}]\n",
      "\n",
      "PREDICTION:\n",
      "\n",
      "Prediction(\n",
      "    label=\"[{'text': 'George Hall', 'value': 'PERSON'}, {'text': 'Grill Room of the Taft Hotel', 'value': 'LOCATION'}, {'text': 'New York', 'value': 'LOCATION'}, {'text': 'Hotel Taft Orchestra', 'value': 'ORGANIZATION'}, {'text': 'George Hall and His Hotel Taft Orchestra', 'value': 'ORGANIZATION'}, {'text': 'Taft Hotel', 'value': 'LOCATION'}]\"\n",
      ")\n"
     ]
    }
   ],
   "source": [
    "pred = simple_ent(text=example.text)\n",
    "print(\"\\nTEXT:\\n\")\n",
    "print(example.text)\n",
    "\n",
    "print(\"\\nANSWER:\\n\")\n",
    "print(example.label)\n",
    "print(\"\\nPREDICTION:\\n\")\n",
    "print(pred)\n"
   ]
  },
  {
   "cell_type": "code",
   "execution_count": 88,
   "metadata": {},
   "outputs": [
    {
     "data": {
      "text/plain": [
       "0.5"
      ]
     },
     "execution_count": 88,
     "metadata": {},
     "output_type": "execute_result"
    }
   ],
   "source": [
    "eval_metric(example, pred)"
   ]
  },
  {
   "cell_type": "code",
   "execution_count": 89,
   "metadata": {},
   "outputs": [
    {
     "name": "stderr",
     "output_type": "stream",
     "text": [
      "Average Metric: 0.5 / 1  (50.0):   0%|          | 0/251 [00:00<?, ?it/s]"
     ]
    },
    {
     "name": "stderr",
     "output_type": "stream",
     "text": [
      "Average Metric: 149.9451832481245 / 251  (59.7): 100%|██████████| 251/251 [00:51<00:00,  4.91it/s] \n"
     ]
    },
    {
     "data": {
      "text/html": [
       "<style type=\"text/css\">\n",
       "#T_0242a th {\n",
       "  text-align: left;\n",
       "}\n",
       "#T_0242a td {\n",
       "  text-align: left;\n",
       "}\n",
       "#T_0242a_row0_col0, #T_0242a_row0_col1, #T_0242a_row0_col2, #T_0242a_row0_col3, #T_0242a_row1_col0, #T_0242a_row1_col1, #T_0242a_row1_col2, #T_0242a_row1_col3, #T_0242a_row2_col0, #T_0242a_row2_col1, #T_0242a_row2_col2, #T_0242a_row2_col3, #T_0242a_row3_col0, #T_0242a_row3_col1, #T_0242a_row3_col2, #T_0242a_row3_col3, #T_0242a_row4_col0, #T_0242a_row4_col1, #T_0242a_row4_col2, #T_0242a_row4_col3, #T_0242a_row5_col0, #T_0242a_row5_col1, #T_0242a_row5_col2, #T_0242a_row5_col3, #T_0242a_row6_col0, #T_0242a_row6_col1, #T_0242a_row6_col2, #T_0242a_row6_col3, #T_0242a_row7_col0, #T_0242a_row7_col1, #T_0242a_row7_col2, #T_0242a_row7_col3, #T_0242a_row8_col0, #T_0242a_row8_col1, #T_0242a_row8_col2, #T_0242a_row8_col3, #T_0242a_row9_col0, #T_0242a_row9_col1, #T_0242a_row9_col2, #T_0242a_row9_col3 {\n",
       "  text-align: left;\n",
       "  white-space: pre-wrap;\n",
       "  word-wrap: break-word;\n",
       "  max-width: 400px;\n",
       "}\n",
       "</style>\n",
       "<table id=\"T_0242a\">\n",
       "  <thead>\n",
       "    <tr>\n",
       "      <th class=\"blank level0\" >&nbsp;</th>\n",
       "      <th id=\"T_0242a_level0_col0\" class=\"col_heading level0 col0\" >text</th>\n",
       "      <th id=\"T_0242a_level0_col1\" class=\"col_heading level0 col1\" >example_label</th>\n",
       "      <th id=\"T_0242a_level0_col2\" class=\"col_heading level0 col2\" >pred_label</th>\n",
       "      <th id=\"T_0242a_level0_col3\" class=\"col_heading level0 col3\" >eval_metric</th>\n",
       "    </tr>\n",
       "  </thead>\n",
       "  <tbody>\n",
       "    <tr>\n",
       "      <th id=\"T_0242a_level0_row0\" class=\"row_heading level0 row0\" >0</th>\n",
       "      <td id=\"T_0242a_row0_col0\" class=\"data row0 col0\" >In the early 1930s the band moved to the Grill Room of the Taft Hotel in New York ; the band was renamed ``George Hall...</td>\n",
       "      <td id=\"T_0242a_row0_col1\" class=\"data row0 col1\" >[{'Grill Room': 'BUILDING'}, {'Taft Hotel': 'BUILDING'}, {'New York': 'LOCATION'}, {'George Hall and His Hotel Taft Orchestra': 'ORGANIZATION'}]</td>\n",
       "      <td id=\"T_0242a_row0_col2\" class=\"data row0 col2\" >[{'text': 'George Hall', 'value': 'PERSON'}, {'text': 'Grill Room of the Taft Hotel', 'value': 'LOCATION'}, {'text': 'New York', 'value': 'LOCATION'}, {'text': 'Hotel Taft Orchestra', 'value': 'ORGANIZATION'},...</td>\n",
       "      <td id=\"T_0242a_row0_col3\" class=\"data row0 col3\" >✔️ [0.500]</td>\n",
       "    </tr>\n",
       "    <tr>\n",
       "      <th id=\"T_0242a_level0_row1\" class=\"row_heading level0 row1\" >1</th>\n",
       "      <td id=\"T_0242a_row1_col0\" class=\"data row1 col0\" >The final season of minor league play Elkin Memorial Park saw season attendance of 16,322, an average of 299 per contest.</td>\n",
       "      <td id=\"T_0242a_row1_col1\" class=\"data row1 col1\" >[{'Elkin Memorial Park': 'LOCATION'}]</td>\n",
       "      <td id=\"T_0242a_row1_col2\" class=\"data row1 col2\" >[{'text': 'Elkin Memorial Park', 'value': 'LOCATION'}]</td>\n",
       "      <td id=\"T_0242a_row1_col3\" class=\"data row1 col3\" >✔️ [1.000]</td>\n",
       "    </tr>\n",
       "    <tr>\n",
       "      <th id=\"T_0242a_level0_row2\" class=\"row_heading level0 row2\" >2</th>\n",
       "      <td id=\"T_0242a_row2_col0\" class=\"data row2 col0\" >They finished the season 14\\u201319, 9\\u20139 in C-USA play to finish in seventh place.</td>\n",
       "      <td id=\"T_0242a_row2_col1\" class=\"data row2 col1\" >[{'C-USA play': 'EVENT'}]</td>\n",
       "      <td id=\"T_0242a_row2_col2\" class=\"data row2 col2\" >[{'text': 'C-USA', 'value': 'ORGANIZATION'}]</td>\n",
       "      <td id=\"T_0242a_row2_col3\" class=\"data row2 col3\" ></td>\n",
       "    </tr>\n",
       "    <tr>\n",
       "      <th id=\"T_0242a_level0_row3\" class=\"row_heading level0 row3\" >3</th>\n",
       "      <td id=\"T_0242a_row3_col0\" class=\"data row3 col0\" >The B-52 pilot, Major Larry G.Messinger, later recalled,</td>\n",
       "      <td id=\"T_0242a_row3_col1\" class=\"data row3 col1\" >[{'B-52': 'PRODUCT'}, {'Larry G.Messinger': 'PERSON'}]</td>\n",
       "      <td id=\"T_0242a_row3_col2\" class=\"data row3 col2\" >[{'text': 'B-52', 'value': 'PRODUCT'}, {'text': 'Major Larry G.Messinger', 'value': 'PERSON'}]</td>\n",
       "      <td id=\"T_0242a_row3_col3\" class=\"data row3 col3\" >✔️ [0.500]</td>\n",
       "    </tr>\n",
       "    <tr>\n",
       "      <th id=\"T_0242a_level0_row4\" class=\"row_heading level0 row4\" >4</th>\n",
       "      <td id=\"T_0242a_row4_col0\" class=\"data row4 col0\" >The Austro-Hungarian Navy built and operated two classes of protected cruisers.</td>\n",
       "      <td id=\"T_0242a_row4_col1\" class=\"data row4 col1\" >[{'Austro-Hungarian Navy': 'ORGANIZATION'}]</td>\n",
       "      <td id=\"T_0242a_row4_col2\" class=\"data row4 col2\" >[{'text': 'Austro-Hungarian Navy', 'value': 'ORGANIZATION'}]</td>\n",
       "      <td id=\"T_0242a_row4_col3\" class=\"data row4 col3\" >✔️ [1.000]</td>\n",
       "    </tr>\n",
       "    <tr>\n",
       "      <th id=\"T_0242a_level0_row5\" class=\"row_heading level0 row5\" >5</th>\n",
       "      <td id=\"T_0242a_row5_col0\" class=\"data row5 col0\" >Elin Hilderbrand is an American writer mostly of romance novels.</td>\n",
       "      <td id=\"T_0242a_row5_col1\" class=\"data row5 col1\" >[{'Elin Hilderbrand': 'PERSON'}, {'American': 'LOCATION'}]</td>\n",
       "      <td id=\"T_0242a_row5_col2\" class=\"data row5 col2\" >[{'text': 'Elin Hilderbrand', 'value': 'PERSON'}, {'text': 'American', 'value': 'LOCATION'}]</td>\n",
       "      <td id=\"T_0242a_row5_col3\" class=\"data row5 col3\" >✔️ [1.000]</td>\n",
       "    </tr>\n",
       "    <tr>\n",
       "      <th id=\"T_0242a_level0_row6\" class=\"row_heading level0 row6\" >6</th>\n",
       "      <td id=\"T_0242a_row6_col0\" class=\"data row6 col0\" >A prototype was fitted in the mid-'60s in a one-off DB5 extended 4'' after the doors and driven by Marek personally, and a normally 6-cylinder...</td>\n",
       "      <td id=\"T_0242a_row6_col1\" class=\"data row6 col1\" >[{\"DB5 extended 4''\": 'PRODUCT'}, {'Marek': 'PERSON'}, {'Aston Martin DB7': 'PRODUCT'}, {'V8 unit': 'PRODUCT'}]</td>\n",
       "      <td id=\"T_0242a_row6_col2\" class=\"data row6 col2\" >[{'text': 'DB5', 'value': 'PRODUCT'}, {'text': 'Marek', 'value': 'PERSON'}, {'text': 'Aston Martin DB7', 'value': 'PRODUCT'}]</td>\n",
       "      <td id=\"T_0242a_row6_col3\" class=\"data row6 col3\" >✔️ [0.571]</td>\n",
       "    </tr>\n",
       "    <tr>\n",
       "      <th id=\"T_0242a_level0_row7\" class=\"row_heading level0 row7\" >7</th>\n",
       "      <td id=\"T_0242a_row7_col0\" class=\"data row7 col0\" >He has caught the attention of major publications and media outlets such as CNN, The Huffington Post, Hypebeast, The Guardian, Juxtapoz Magazine, Daily Mail, NRDC,...</td>\n",
       "      <td id=\"T_0242a_row7_col1\" class=\"data row7 col1\" >[{'CNN': 'ORGANIZATION'}, {'The Huffington Post': 'ORGANIZATION'}, {'Hypebeast': 'ORGANIZATION'}, {'The Guardian': 'ORGANIZATION'}, {'Juxtapoz Magazine': 'ORGANIZATION'}, {'Daily Mail, NRDC': 'ORGANIZATION'}, {'Aljazeera': 'ORGANIZATION'}, {'Hi-Fructose Magazine': 'ORGANIZATION'}]</td>\n",
       "      <td id=\"T_0242a_row7_col2\" class=\"data row7 col2\" >[{'text': 'CNN', 'value': 'ORGANIZATION'}, {'text': 'The Huffington Post', 'value': 'ORGANIZATION'}, {'text': 'Hypebeast', 'value': 'ORGANIZATION'}, {'text': 'The Guardian', 'value': 'ORGANIZATION'}, {'text': 'Juxtapoz Magazine', 'value': 'ORGANIZATION'}, {'text':...</td>\n",
       "      <td id=\"T_0242a_row7_col3\" class=\"data row7 col3\" >✔️ [0.824]</td>\n",
       "    </tr>\n",
       "    <tr>\n",
       "      <th id=\"T_0242a_level0_row8\" class=\"row_heading level0 row8\" >8</th>\n",
       "      <td id=\"T_0242a_row8_col0\" class=\"data row8 col0\" >The Cnidaria are a group of animals found exclusively in aquatic and mostly marine environments.</td>\n",
       "      <td id=\"T_0242a_row8_col1\" class=\"data row8 col1\" >[{'Cnidaria': 'OTHER'}]</td>\n",
       "      <td id=\"T_0242a_row8_col2\" class=\"data row8 col2\" >[{'text': 'Cnidaria', 'value': 'OTHER'}]</td>\n",
       "      <td id=\"T_0242a_row8_col3\" class=\"data row8 col3\" >✔️ [1.000]</td>\n",
       "    </tr>\n",
       "    <tr>\n",
       "      <th id=\"T_0242a_level0_row9\" class=\"row_heading level0 row9\" >9</th>\n",
       "      <td id=\"T_0242a_row9_col0\" class=\"data row9 col0\" >The Ninth suffered a serious defeat at the Battle of Camulodunum under Quintus Petillius Cerialis in the rebellion of Boudica (61), when most of the...</td>\n",
       "      <td id=\"T_0242a_row9_col1\" class=\"data row9 col1\" >[{'Camulodunum': 'EVENT'}, {'Quintus Petillius Cerialis': 'PERSON'}, {'Boudica': 'EVENT'}, {'Camulodunum': 'LOCATION'}, {'Colchester': 'LOCATION'}]</td>\n",
       "      <td id=\"T_0242a_row9_col2\" class=\"data row9 col2\" >[{'text': 'Ninth', 'value': 'ORGANIZATION'}, {'text': 'Battle of Camulodunum', 'value': 'EVENT'}, {'text': 'Quintus Petillius Cerialis', 'value': 'PERSON'}, {'text': 'Boudica', 'value': 'PERSON'}, {'text': 'Camulodunum', 'value': 'LOCATION'}, {'text':...</td>\n",
       "      <td id=\"T_0242a_row9_col3\" class=\"data row9 col3\" >✔️ [0.750]</td>\n",
       "    </tr>\n",
       "  </tbody>\n",
       "</table>\n"
      ],
      "text/plain": [
       "<pandas.io.formats.style.Styler at 0x13f5d4bf0>"
      ]
     },
     "metadata": {},
     "output_type": "display_data"
    },
    {
     "data": {
      "text/html": [
       "\n",
       "                <div style='\n",
       "                    text-align: center;\n",
       "                    font-size: 16px;\n",
       "                    font-weight: bold;\n",
       "                    color: #555;\n",
       "                    margin: 10px 0;'>\n",
       "                    ... 241 more rows not displayed ...\n",
       "                </div>\n",
       "                "
      ],
      "text/plain": [
       "<IPython.core.display.HTML object>"
      ]
     },
     "metadata": {},
     "output_type": "display_data"
    }
   ],
   "source": [
    "evaluate = Evaluate(devset= examples, metric=eval_metric, num_threads=6, display_progress=True, display_table=10, return_outputs= True, return_all_scores=True)\n",
    "results = evaluate(simple_ent)\n",
    "items = []\n",
    "for sample in results[1]:\n",
    "\n",
    "    item = {}\n",
    "    sentence = sample[0]['text']\n",
    "    label = sample[0]['label']\n",
    "    if sample[1] == {}:\n",
    "        pred = {}\n",
    "    else:\n",
    "        pred = sample[1]['label']\n",
    "    item['text'] = sentence\n",
    "    item['label'] = label\n",
    "    item['pred'] = pred\n",
    "    items.append(item)\n",
    "df_result = pd.DataFrame(data = items)\n",
    "df_result.to_csv('results/ner/llama-0shot-ner.csv')"
   ]
  },
  {
   "cell_type": "code",
   "execution_count": 90,
   "metadata": {},
   "outputs": [],
   "source": [
    "def evaluate_modified_set(ds, program):\n",
    "    examples = [\n",
    "    dspy.Example({ \n",
    "                  \"text\" : remove_space(r[\"modified_text\"]), \n",
    "                  \"label\": str(r['modified_label']),\n",
    "                  \"original_text\": remove_space(r['original_text']),\n",
    "                  \"original_label\": str(r['original_label']),\n",
    "                  \"index\": r['index']\n",
    "                #   \"original_label\": str(r['original_label'])\n",
    "                }\n",
    "                  ).with_inputs(\"text\")\n",
    "    \n",
    "    for r in ds\n",
    "    ]\n",
    "    evaluate = Evaluate(devset= examples, metric=eval_metric, num_threads=6, display_progress=True, display_table=1, return_outputs= True, return_all_scores=True)\n",
    "    results = evaluate(program)\n",
    "    return results"
   ]
  },
  {
   "cell_type": "code",
   "execution_count": 91,
   "metadata": {},
   "outputs": [],
   "source": [
    "class Ent(dspy.Signature):\n",
    "    \"\"\"Extract named entities from the text. Possible entity type: ART, BUILDING, EVENT, LOCATION, ORGANIZATION, OTHER, PERSON, PRODUCT\"\"\"\n",
    "    text = dspy.InputField()\n",
    "    label = dspy.OutputField(desc=\"The list of named entities in the text: [{'text': the text span, 'value': the entity label},].\", prefix = 'Entities:')\n",
    "\n",
    "class SimpleEnt(dspy.Module):\n",
    "    def __init__(self):\n",
    "        super().__init__()\n",
    "        self.prog = dspy.Predict(Ent)\n",
    "\n",
    "    def forward(self, text):\n",
    "\n",
    "        return self.prog(text = text)\n"
   ]
  },
  {
   "cell_type": "code",
   "execution_count": 92,
   "metadata": {},
   "outputs": [],
   "source": [
    "import glob\n",
    "import difflib\n"
   ]
  },
  {
   "cell_type": "code",
   "execution_count": 96,
   "metadata": {},
   "outputs": [
    {
     "name": "stdout",
     "output_type": "stream",
     "text": [
      "../data/modified_data/ner/casual_100.json\n"
     ]
    },
    {
     "name": "stderr",
     "output_type": "stream",
     "text": [
      "\u001b[2m2024-12-17T00:44:01.662566Z\u001b[0m [\u001b[31m\u001b[1merror    \u001b[0m] \u001b[1mError for example in dev set: \t\t invalid syntax (<unknown>, line 1). Set `provide_traceback=True` to see the stack trace.\u001b[0m [\u001b[0m\u001b[1m\u001b[34mdspy.evaluate.evaluate\u001b[0m]\u001b[0m \u001b[36mfilename\u001b[0m=\u001b[35mevaluate.py\u001b[0m \u001b[36mlineno\u001b[0m=\u001b[35m200\u001b[0m\n",
      "Average Metric: 51.63930546577604 / 92  (56.1): 100%|██████████| 92/92 [00:00<00:00, 2930.87it/s] \n"
     ]
    },
    {
     "data": {
      "text/html": [
       "<style type=\"text/css\">\n",
       "#T_471ef th {\n",
       "  text-align: left;\n",
       "}\n",
       "#T_471ef td {\n",
       "  text-align: left;\n",
       "}\n",
       "#T_471ef_row0_col0, #T_471ef_row0_col1, #T_471ef_row0_col2, #T_471ef_row0_col3, #T_471ef_row0_col4, #T_471ef_row0_col5, #T_471ef_row0_col6, #T_471ef_row0_col7 {\n",
       "  text-align: left;\n",
       "  white-space: pre-wrap;\n",
       "  word-wrap: break-word;\n",
       "  max-width: 400px;\n",
       "}\n",
       "</style>\n",
       "<table id=\"T_471ef\">\n",
       "  <thead>\n",
       "    <tr>\n",
       "      <th class=\"blank level0\" >&nbsp;</th>\n",
       "      <th id=\"T_471ef_level0_col0\" class=\"col_heading level0 col0\" >text</th>\n",
       "      <th id=\"T_471ef_level0_col1\" class=\"col_heading level0 col1\" >example_label</th>\n",
       "      <th id=\"T_471ef_level0_col2\" class=\"col_heading level0 col2\" >original_text</th>\n",
       "      <th id=\"T_471ef_level0_col3\" class=\"col_heading level0 col3\" >original_label</th>\n",
       "      <th id=\"T_471ef_level0_col4\" class=\"col_heading level0 col4\" >index</th>\n",
       "      <th id=\"T_471ef_level0_col5\" class=\"col_heading level0 col5\" >pred_label</th>\n",
       "      <th id=\"T_471ef_level0_col6\" class=\"col_heading level0 col6\" >eval_metric</th>\n",
       "      <th id=\"T_471ef_level0_col7\" class=\"col_heading level0 col7\" >label</th>\n",
       "    </tr>\n",
       "  </thead>\n",
       "  <tbody>\n",
       "    <tr>\n",
       "      <th id=\"T_471ef_level0_row0\" class=\"row_heading level0 row0\" >0</th>\n",
       "      <td id=\"T_471ef_row0_col0\" class=\"data row0 col0\" >He produced Kim Fowley and BMX Bandits' ``Hidden Agenda At the Thirteenth Not`` for Receiver Records.</td>\n",
       "      <td id=\"T_471ef_row0_col1\" class=\"data row0 col1\" >[{'text': 'Kim Fowley', 'value': 'PERSON'}, {'text': 'BMX Bandits', 'value': 'ORGANIZATION'}, {'text': 'Receiver Records', 'value': 'ORGANIZATION'}, {'text': 'Hidden Agenda At the Thirteenth Not', 'value': 'ART'}]</td>\n",
       "      <td id=\"T_471ef_row0_col2\" class=\"data row0 col2\" >He went on to produce Kim Fowley and the BMX Bandits (band) Receiver Records' album ``Hidden Agenda At the Thirteenth Not``.</td>\n",
       "      <td id=\"T_471ef_row0_col3\" class=\"data row0 col3\" >[{'Kim Fowley': 'PERSON'}, {'BMX Bandits': 'ORGANIZATION'}, {'Receiver Records': 'ORGANIZATION'}, {'Hidden Agenda At the Thirteenth Not': 'ART'}]</td>\n",
       "      <td id=\"T_471ef_row0_col4\" class=\"data row0 col4\" >25</td>\n",
       "      <td id=\"T_471ef_row0_col5\" class=\"data row0 col5\" >[{'text': 'Kim Fowley', 'value': 'PERSON'}, {'text': 'BMX Bandits', 'value': 'ORGANIZATION'}, {'text': 'Receiver Records', 'value': 'ORGANIZATION'}, {'text': 'Hidden Agenda At the Thirteenth Not', 'value': 'PRODUCT'}]</td>\n",
       "      <td id=\"T_471ef_row0_col6\" class=\"data row0 col6\" >✔️ [1.000]</td>\n",
       "      <td id=\"T_471ef_row0_col7\" class=\"data row0 col7\" >nan</td>\n",
       "    </tr>\n",
       "  </tbody>\n",
       "</table>\n"
      ],
      "text/plain": [
       "<pandas.io.formats.style.Styler at 0x1404ee600>"
      ]
     },
     "metadata": {},
     "output_type": "display_data"
    },
    {
     "data": {
      "text/html": [
       "\n",
       "                <div style='\n",
       "                    text-align: center;\n",
       "                    font-size: 16px;\n",
       "                    font-weight: bold;\n",
       "                    color: #555;\n",
       "                    margin: 10px 0;'>\n",
       "                    ... 91 more rows not displayed ...\n",
       "                </div>\n",
       "                "
      ],
      "text/plain": [
       "<IPython.core.display.HTML object>"
      ]
     },
     "metadata": {},
     "output_type": "display_data"
    },
    {
     "name": "stdout",
     "output_type": "stream",
     "text": [
      "../data/modified_data/ner/discourse_100.json\n"
     ]
    },
    {
     "name": "stderr",
     "output_type": "stream",
     "text": [
      "Average Metric: 41.50670995670995 / 72  (57.6): 100%|██████████| 72/72 [00:00<00:00, 3192.05it/s] \n"
     ]
    },
    {
     "data": {
      "text/html": [
       "<style type=\"text/css\">\n",
       "#T_098f9 th {\n",
       "  text-align: left;\n",
       "}\n",
       "#T_098f9 td {\n",
       "  text-align: left;\n",
       "}\n",
       "#T_098f9_row0_col0, #T_098f9_row0_col1, #T_098f9_row0_col2, #T_098f9_row0_col3, #T_098f9_row0_col4, #T_098f9_row0_col5, #T_098f9_row0_col6 {\n",
       "  text-align: left;\n",
       "  white-space: pre-wrap;\n",
       "  word-wrap: break-word;\n",
       "  max-width: 400px;\n",
       "}\n",
       "</style>\n",
       "<table id=\"T_098f9\">\n",
       "  <thead>\n",
       "    <tr>\n",
       "      <th class=\"blank level0\" >&nbsp;</th>\n",
       "      <th id=\"T_098f9_level0_col0\" class=\"col_heading level0 col0\" >text</th>\n",
       "      <th id=\"T_098f9_level0_col1\" class=\"col_heading level0 col1\" >example_label</th>\n",
       "      <th id=\"T_098f9_level0_col2\" class=\"col_heading level0 col2\" >original_text</th>\n",
       "      <th id=\"T_098f9_level0_col3\" class=\"col_heading level0 col3\" >original_label</th>\n",
       "      <th id=\"T_098f9_level0_col4\" class=\"col_heading level0 col4\" >index</th>\n",
       "      <th id=\"T_098f9_level0_col5\" class=\"col_heading level0 col5\" >pred_label</th>\n",
       "      <th id=\"T_098f9_level0_col6\" class=\"col_heading level0 col6\" >eval_metric</th>\n",
       "    </tr>\n",
       "  </thead>\n",
       "  <tbody>\n",
       "    <tr>\n",
       "      <th id=\"T_098f9_level0_row0\" class=\"row_heading level0 row0\" >0</th>\n",
       "      <td id=\"T_098f9_row0_col0\" class=\"data row0 col0\" >Santa is actually innocent of the crime, which was instead masterminded by scheming relative Cousin Mel, who is mentioned briefly in the song, made into...</td>\n",
       "      <td id=\"T_098f9_row0_col1\" class=\"data row0 col1\" >[{'text': 'Santa', 'value': 'PERSON'}, {'text': 'Cousin Mel', 'value': 'PERSON'}]</td>\n",
       "      <td id=\"T_098f9_row0_col2\" class=\"data row0 col2\" >Moreover, Santa is actually innocent of the crime, which was instead masterminded by scheming relative Cousin Mel, who is mentioned briefly in the song but...</td>\n",
       "      <td id=\"T_098f9_row0_col3\" class=\"data row0 col3\" >[{'Santa': 'PERSON'}, {'Cousin Mel': 'PERSON'}]</td>\n",
       "      <td id=\"T_098f9_row0_col4\" class=\"data row0 col4\" >43</td>\n",
       "      <td id=\"T_098f9_row0_col5\" class=\"data row0 col5\" >[{'text': 'Santa', 'value': 'PERSON'}, {'text': 'Cousin Mel', 'value': 'PERSON'}]</td>\n",
       "      <td id=\"T_098f9_row0_col6\" class=\"data row0 col6\" >✔️ [1.000]</td>\n",
       "    </tr>\n",
       "  </tbody>\n",
       "</table>\n"
      ],
      "text/plain": [
       "<pandas.io.formats.style.Styler at 0x140cab890>"
      ]
     },
     "metadata": {},
     "output_type": "display_data"
    },
    {
     "data": {
      "text/html": [
       "\n",
       "                <div style='\n",
       "                    text-align: center;\n",
       "                    font-size: 16px;\n",
       "                    font-weight: bold;\n",
       "                    color: #555;\n",
       "                    margin: 10px 0;'>\n",
       "                    ... 71 more rows not displayed ...\n",
       "                </div>\n",
       "                "
      ],
      "text/plain": [
       "<IPython.core.display.HTML object>"
      ]
     },
     "metadata": {},
     "output_type": "display_data"
    },
    {
     "name": "stdout",
     "output_type": "stream",
     "text": [
      "../data/modified_data/ner/compound_word_100.json\n"
     ]
    },
    {
     "name": "stderr",
     "output_type": "stream",
     "text": [
      "Average Metric: 51.73146591970119 / 86  (60.2): 100%|██████████| 86/86 [00:00<00:00, 3423.17it/s] \n"
     ]
    },
    {
     "data": {
      "text/html": [
       "<style type=\"text/css\">\n",
       "#T_c85e5 th {\n",
       "  text-align: left;\n",
       "}\n",
       "#T_c85e5 td {\n",
       "  text-align: left;\n",
       "}\n",
       "#T_c85e5_row0_col0, #T_c85e5_row0_col1, #T_c85e5_row0_col2, #T_c85e5_row0_col3, #T_c85e5_row0_col4, #T_c85e5_row0_col5, #T_c85e5_row0_col6 {\n",
       "  text-align: left;\n",
       "  white-space: pre-wrap;\n",
       "  word-wrap: break-word;\n",
       "  max-width: 400px;\n",
       "}\n",
       "</style>\n",
       "<table id=\"T_c85e5\">\n",
       "  <thead>\n",
       "    <tr>\n",
       "      <th class=\"blank level0\" >&nbsp;</th>\n",
       "      <th id=\"T_c85e5_level0_col0\" class=\"col_heading level0 col0\" >text</th>\n",
       "      <th id=\"T_c85e5_level0_col1\" class=\"col_heading level0 col1\" >example_label</th>\n",
       "      <th id=\"T_c85e5_level0_col2\" class=\"col_heading level0 col2\" >original_text</th>\n",
       "      <th id=\"T_c85e5_level0_col3\" class=\"col_heading level0 col3\" >original_label</th>\n",
       "      <th id=\"T_c85e5_level0_col4\" class=\"col_heading level0 col4\" >index</th>\n",
       "      <th id=\"T_c85e5_level0_col5\" class=\"col_heading level0 col5\" >pred_label</th>\n",
       "      <th id=\"T_c85e5_level0_col6\" class=\"col_heading level0 col6\" >eval_metric</th>\n",
       "    </tr>\n",
       "  </thead>\n",
       "  <tbody>\n",
       "    <tr>\n",
       "      <th id=\"T_c85e5_level0_row0\" class=\"row_heading level0 row0\" >0</th>\n",
       "      <td id=\"T_c85e5_row0_col0\" class=\"data row0 col0\" >Most of the town is actually a high-security gated community called Orchid Island Golf and Beach Club.</td>\n",
       "      <td id=\"T_c85e5_row0_col1\" class=\"data row0 col1\" >[{'text': 'Orchid Island Golf and Beach Club', 'value': 'LOCATION'}]</td>\n",
       "      <td id=\"T_c85e5_row0_col2\" class=\"data row0 col2\" >Most of the town is actually a gated community called Orchid Island Golf and Beach Club.</td>\n",
       "      <td id=\"T_c85e5_row0_col3\" class=\"data row0 col3\" >[{'Orchid Island Golf and Beach Club': 'LOCATION'}]</td>\n",
       "      <td id=\"T_c85e5_row0_col4\" class=\"data row0 col4\" >47</td>\n",
       "      <td id=\"T_c85e5_row0_col5\" class=\"data row0 col5\" >[{'text': 'Orchid Island Golf and Beach Club', 'value': 'LOCATION'}]</td>\n",
       "      <td id=\"T_c85e5_row0_col6\" class=\"data row0 col6\" >✔️ [1.000]</td>\n",
       "    </tr>\n",
       "  </tbody>\n",
       "</table>\n"
      ],
      "text/plain": [
       "<pandas.io.formats.style.Styler at 0x140598c80>"
      ]
     },
     "metadata": {},
     "output_type": "display_data"
    },
    {
     "data": {
      "text/html": [
       "\n",
       "                <div style='\n",
       "                    text-align: center;\n",
       "                    font-size: 16px;\n",
       "                    font-weight: bold;\n",
       "                    color: #555;\n",
       "                    margin: 10px 0;'>\n",
       "                    ... 85 more rows not displayed ...\n",
       "                </div>\n",
       "                "
      ],
      "text/plain": [
       "<IPython.core.display.HTML object>"
      ]
     },
     "metadata": {},
     "output_type": "display_data"
    },
    {
     "name": "stdout",
     "output_type": "stream",
     "text": [
      "../data/modified_data/ner/temporal_bias_100.json\n"
     ]
    },
    {
     "name": "stderr",
     "output_type": "stream",
     "text": [
      "Average Metric: 54.531826670061946 / 91  (59.9): 100%|██████████| 91/91 [00:00<00:00, 3325.33it/s]\n"
     ]
    },
    {
     "data": {
      "text/html": [
       "<style type=\"text/css\">\n",
       "#T_00e79 th {\n",
       "  text-align: left;\n",
       "}\n",
       "#T_00e79 td {\n",
       "  text-align: left;\n",
       "}\n",
       "#T_00e79_row0_col0, #T_00e79_row0_col1, #T_00e79_row0_col2, #T_00e79_row0_col3, #T_00e79_row0_col4, #T_00e79_row0_col5, #T_00e79_row0_col6 {\n",
       "  text-align: left;\n",
       "  white-space: pre-wrap;\n",
       "  word-wrap: break-word;\n",
       "  max-width: 400px;\n",
       "}\n",
       "</style>\n",
       "<table id=\"T_00e79\">\n",
       "  <thead>\n",
       "    <tr>\n",
       "      <th class=\"blank level0\" >&nbsp;</th>\n",
       "      <th id=\"T_00e79_level0_col0\" class=\"col_heading level0 col0\" >text</th>\n",
       "      <th id=\"T_00e79_level0_col1\" class=\"col_heading level0 col1\" >example_label</th>\n",
       "      <th id=\"T_00e79_level0_col2\" class=\"col_heading level0 col2\" >original_text</th>\n",
       "      <th id=\"T_00e79_level0_col3\" class=\"col_heading level0 col3\" >original_label</th>\n",
       "      <th id=\"T_00e79_level0_col4\" class=\"col_heading level0 col4\" >index</th>\n",
       "      <th id=\"T_00e79_level0_col5\" class=\"col_heading level0 col5\" >pred_label</th>\n",
       "      <th id=\"T_00e79_level0_col6\" class=\"col_heading level0 col6\" >eval_metric</th>\n",
       "    </tr>\n",
       "  </thead>\n",
       "  <tbody>\n",
       "    <tr>\n",
       "      <th id=\"T_00e79_level0_row0\" class=\"row_heading level0 row0\" >0</th>\n",
       "      <td id=\"T_00e79_row0_col0\" class=\"data row0 col0\" >Moreover, Santa is actually innocent of the crime, which was instead masterminded by scheming relative Cousin Mel, who is mentioned briefly in the song but...</td>\n",
       "      <td id=\"T_00e79_row0_col1\" class=\"data row0 col1\" >[{'text': 'Santa', 'value': 'PERSON'}, {'text': 'Cousin Mel', 'value': 'PERSON'}]</td>\n",
       "      <td id=\"T_00e79_row0_col2\" class=\"data row0 col2\" >Moreover, Santa is actually innocent of the crime, which was instead masterminded by scheming relative Cousin Mel, who is mentioned briefly in the song but...</td>\n",
       "      <td id=\"T_00e79_row0_col3\" class=\"data row0 col3\" >[{'Santa': 'PERSON'}, {'Cousin Mel': 'PERSON'}]</td>\n",
       "      <td id=\"T_00e79_row0_col4\" class=\"data row0 col4\" >43</td>\n",
       "      <td id=\"T_00e79_row0_col5\" class=\"data row0 col5\" >[{'text': 'Santa', 'value': 'PERSON'}, {'text': 'Cousin Mel', 'value': 'PERSON'}]</td>\n",
       "      <td id=\"T_00e79_row0_col6\" class=\"data row0 col6\" >✔️ [1.000]</td>\n",
       "    </tr>\n",
       "  </tbody>\n",
       "</table>\n"
      ],
      "text/plain": [
       "<pandas.io.formats.style.Styler at 0x140a04c80>"
      ]
     },
     "metadata": {},
     "output_type": "display_data"
    },
    {
     "data": {
      "text/html": [
       "\n",
       "                <div style='\n",
       "                    text-align: center;\n",
       "                    font-size: 16px;\n",
       "                    font-weight: bold;\n",
       "                    color: #555;\n",
       "                    margin: 10px 0;'>\n",
       "                    ... 90 more rows not displayed ...\n",
       "                </div>\n",
       "                "
      ],
      "text/plain": [
       "<IPython.core.display.HTML object>"
      ]
     },
     "metadata": {},
     "output_type": "display_data"
    },
    {
     "name": "stdout",
     "output_type": "stream",
     "text": [
      "../data/modified_data/ner/coordinating_conjunction_100.json\n"
     ]
    },
    {
     "name": "stderr",
     "output_type": "stream",
     "text": [
      "Average Metric: 43.978860028860026 / 71  (61.9): 100%|██████████| 71/71 [00:00<00:00, 3003.76it/s]\n"
     ]
    },
    {
     "data": {
      "text/html": [
       "<style type=\"text/css\">\n",
       "#T_de414 th {\n",
       "  text-align: left;\n",
       "}\n",
       "#T_de414 td {\n",
       "  text-align: left;\n",
       "}\n",
       "#T_de414_row0_col0, #T_de414_row0_col1, #T_de414_row0_col2, #T_de414_row0_col3, #T_de414_row0_col4, #T_de414_row0_col5, #T_de414_row0_col6 {\n",
       "  text-align: left;\n",
       "  white-space: pre-wrap;\n",
       "  word-wrap: break-word;\n",
       "  max-width: 400px;\n",
       "}\n",
       "</style>\n",
       "<table id=\"T_de414\">\n",
       "  <thead>\n",
       "    <tr>\n",
       "      <th class=\"blank level0\" >&nbsp;</th>\n",
       "      <th id=\"T_de414_level0_col0\" class=\"col_heading level0 col0\" >text</th>\n",
       "      <th id=\"T_de414_level0_col1\" class=\"col_heading level0 col1\" >example_label</th>\n",
       "      <th id=\"T_de414_level0_col2\" class=\"col_heading level0 col2\" >original_text</th>\n",
       "      <th id=\"T_de414_level0_col3\" class=\"col_heading level0 col3\" >original_label</th>\n",
       "      <th id=\"T_de414_level0_col4\" class=\"col_heading level0 col4\" >index</th>\n",
       "      <th id=\"T_de414_level0_col5\" class=\"col_heading level0 col5\" >pred_label</th>\n",
       "      <th id=\"T_de414_level0_col6\" class=\"col_heading level0 col6\" >eval_metric</th>\n",
       "    </tr>\n",
       "  </thead>\n",
       "  <tbody>\n",
       "    <tr>\n",
       "      <th id=\"T_de414_level0_row0\" class=\"row_heading level0 row0\" >0</th>\n",
       "      <td id=\"T_de414_row0_col0\" class=\"data row0 col0\" >Internal conflicts, especially between Covaci and Baniciu, were escalating and making headlines in the media.</td>\n",
       "      <td id=\"T_de414_row0_col1\" class=\"data row0 col1\" >[{'value': 'PERSON', 'text': 'Covaci'}, {'value': 'PERSON', 'text': 'Baniciu'}]</td>\n",
       "      <td id=\"T_de414_row0_col2\" class=\"data row0 col2\" >Internal conflicts, especially between Covaci and Baniciu, were making headlines in the media.</td>\n",
       "      <td id=\"T_de414_row0_col3\" class=\"data row0 col3\" >[{'Covaci': 'PERSON'}, {'Baniciu': 'PERSON'}]</td>\n",
       "      <td id=\"T_de414_row0_col4\" class=\"data row0 col4\" >57</td>\n",
       "      <td id=\"T_de414_row0_col5\" class=\"data row0 col5\" >[{'text': 'Covaci', 'value': 'PERSON'}, {'text': 'Baniciu', 'value': 'PERSON'}]</td>\n",
       "      <td id=\"T_de414_row0_col6\" class=\"data row0 col6\" >✔️ [1.000]</td>\n",
       "    </tr>\n",
       "  </tbody>\n",
       "</table>\n"
      ],
      "text/plain": [
       "<pandas.io.formats.style.Styler at 0x141214bf0>"
      ]
     },
     "metadata": {},
     "output_type": "display_data"
    },
    {
     "data": {
      "text/html": [
       "\n",
       "                <div style='\n",
       "                    text-align: center;\n",
       "                    font-size: 16px;\n",
       "                    font-weight: bold;\n",
       "                    color: #555;\n",
       "                    margin: 10px 0;'>\n",
       "                    ... 70 more rows not displayed ...\n",
       "                </div>\n",
       "                "
      ],
      "text/plain": [
       "<IPython.core.display.HTML object>"
      ]
     },
     "metadata": {},
     "output_type": "display_data"
    },
    {
     "name": "stdout",
     "output_type": "stream",
     "text": [
      "../data/modified_data/ner/capitalization_100.json\n"
     ]
    },
    {
     "name": "stderr",
     "output_type": "stream",
     "text": [
      "Average Metric: 55.71764346764344 / 100  (55.7): 100%|██████████| 100/100 [00:00<00:00, 2053.90it/s]\n"
     ]
    },
    {
     "data": {
      "text/html": [
       "<style type=\"text/css\">\n",
       "#T_86a0b th {\n",
       "  text-align: left;\n",
       "}\n",
       "#T_86a0b td {\n",
       "  text-align: left;\n",
       "}\n",
       "#T_86a0b_row0_col0, #T_86a0b_row0_col1, #T_86a0b_row0_col2, #T_86a0b_row0_col3, #T_86a0b_row0_col4, #T_86a0b_row0_col5, #T_86a0b_row0_col6 {\n",
       "  text-align: left;\n",
       "  white-space: pre-wrap;\n",
       "  word-wrap: break-word;\n",
       "  max-width: 400px;\n",
       "}\n",
       "</style>\n",
       "<table id=\"T_86a0b\">\n",
       "  <thead>\n",
       "    <tr>\n",
       "      <th class=\"blank level0\" >&nbsp;</th>\n",
       "      <th id=\"T_86a0b_level0_col0\" class=\"col_heading level0 col0\" >text</th>\n",
       "      <th id=\"T_86a0b_level0_col1\" class=\"col_heading level0 col1\" >example_label</th>\n",
       "      <th id=\"T_86a0b_level0_col2\" class=\"col_heading level0 col2\" >original_text</th>\n",
       "      <th id=\"T_86a0b_level0_col3\" class=\"col_heading level0 col3\" >original_label</th>\n",
       "      <th id=\"T_86a0b_level0_col4\" class=\"col_heading level0 col4\" >index</th>\n",
       "      <th id=\"T_86a0b_level0_col5\" class=\"col_heading level0 col5\" >pred_label</th>\n",
       "      <th id=\"T_86a0b_level0_col6\" class=\"col_heading level0 col6\" >eval_metric</th>\n",
       "    </tr>\n",
       "  </thead>\n",
       "  <tbody>\n",
       "    <tr>\n",
       "      <th id=\"T_86a0b_level0_row0\" class=\"row_heading level0 row0\" >0</th>\n",
       "      <td id=\"T_86a0b_row0_col0\" class=\"data row0 col0\" >The B-52 PILOT, Major Larry G.Messinger, later recalled,</td>\n",
       "      <td id=\"T_86a0b_row0_col1\" class=\"data row0 col1\" >[{'text': 'B-52', 'value': 'PRODUCT'}, {'text': 'Larry G.Messinger', 'value': 'PERSON'}]</td>\n",
       "      <td id=\"T_86a0b_row0_col2\" class=\"data row0 col2\" >The B-52 pilot, Major Larry G.Messinger, later recalled,</td>\n",
       "      <td id=\"T_86a0b_row0_col3\" class=\"data row0 col3\" >[{'B-52': 'PRODUCT'}, {'Larry G.Messinger': 'PERSON'}]</td>\n",
       "      <td id=\"T_86a0b_row0_col4\" class=\"data row0 col4\" >3</td>\n",
       "      <td id=\"T_86a0b_row0_col5\" class=\"data row0 col5\" >[{'text': 'B-52', 'value': 'PRODUCT'}, {'text': 'Major Larry G.Messinger', 'value': 'PERSON'}]</td>\n",
       "      <td id=\"T_86a0b_row0_col6\" class=\"data row0 col6\" >✔️ [0.500]</td>\n",
       "    </tr>\n",
       "  </tbody>\n",
       "</table>\n"
      ],
      "text/plain": [
       "<pandas.io.formats.style.Styler at 0x14052a120>"
      ]
     },
     "metadata": {},
     "output_type": "display_data"
    },
    {
     "data": {
      "text/html": [
       "\n",
       "                <div style='\n",
       "                    text-align: center;\n",
       "                    font-size: 16px;\n",
       "                    font-weight: bold;\n",
       "                    color: #555;\n",
       "                    margin: 10px 0;'>\n",
       "                    ... 99 more rows not displayed ...\n",
       "                </div>\n",
       "                "
      ],
      "text/plain": [
       "<IPython.core.display.HTML object>"
      ]
     },
     "metadata": {},
     "output_type": "display_data"
    },
    {
     "name": "stdout",
     "output_type": "stream",
     "text": [
      "../data/modified_data/ner/dialectal_100.json\n"
     ]
    },
    {
     "name": "stderr",
     "output_type": "stream",
     "text": [
      "Average Metric: 62.85448179271706 / 99  (63.5): 100%|██████████| 99/99 [00:00<00:00, 3401.46it/s] \n"
     ]
    },
    {
     "data": {
      "text/html": [
       "<style type=\"text/css\">\n",
       "#T_6f9c9 th {\n",
       "  text-align: left;\n",
       "}\n",
       "#T_6f9c9 td {\n",
       "  text-align: left;\n",
       "}\n",
       "#T_6f9c9_row0_col0, #T_6f9c9_row0_col1, #T_6f9c9_row0_col2, #T_6f9c9_row0_col3, #T_6f9c9_row0_col4, #T_6f9c9_row0_col5, #T_6f9c9_row0_col6 {\n",
       "  text-align: left;\n",
       "  white-space: pre-wrap;\n",
       "  word-wrap: break-word;\n",
       "  max-width: 400px;\n",
       "}\n",
       "</style>\n",
       "<table id=\"T_6f9c9\">\n",
       "  <thead>\n",
       "    <tr>\n",
       "      <th class=\"blank level0\" >&nbsp;</th>\n",
       "      <th id=\"T_6f9c9_level0_col0\" class=\"col_heading level0 col0\" >text</th>\n",
       "      <th id=\"T_6f9c9_level0_col1\" class=\"col_heading level0 col1\" >example_label</th>\n",
       "      <th id=\"T_6f9c9_level0_col2\" class=\"col_heading level0 col2\" >original_text</th>\n",
       "      <th id=\"T_6f9c9_level0_col3\" class=\"col_heading level0 col3\" >original_label</th>\n",
       "      <th id=\"T_6f9c9_level0_col4\" class=\"col_heading level0 col4\" >index</th>\n",
       "      <th id=\"T_6f9c9_level0_col5\" class=\"col_heading level0 col5\" >pred_label</th>\n",
       "      <th id=\"T_6f9c9_level0_col6\" class=\"col_heading level0 col6\" >eval_metric</th>\n",
       "    </tr>\n",
       "  </thead>\n",
       "  <tbody>\n",
       "    <tr>\n",
       "      <th id=\"T_6f9c9_level0_row0\" class=\"row_heading level0 row0\" >0</th>\n",
       "      <td id=\"T_6f9c9_row0_col0\" class=\"data row0 col0\" >The kampong people also not happy lor, then from 1846 to 1848, they more and more against Sturdza.</td>\n",
       "      <td id=\"T_6f9c9_row0_col1\" class=\"data row0 col1\" >[{'text': 'Sturdza', 'value': 'PERSON'}]</td>\n",
       "      <td id=\"T_6f9c9_row0_col2\" class=\"data row0 col2\" >The peasantry was also aggrieved, and between 1846 and 1848 opposition to Sturdza intensified.</td>\n",
       "      <td id=\"T_6f9c9_row0_col3\" class=\"data row0 col3\" >[{'Sturdza': 'PERSON'}]</td>\n",
       "      <td id=\"T_6f9c9_row0_col4\" class=\"data row0 col4\" >41</td>\n",
       "      <td id=\"T_6f9c9_row0_col5\" class=\"data row0 col5\" >[{'text': 'Sturdza', 'value': 'PERSON'}]</td>\n",
       "      <td id=\"T_6f9c9_row0_col6\" class=\"data row0 col6\" >✔️ [1.000]</td>\n",
       "    </tr>\n",
       "  </tbody>\n",
       "</table>\n"
      ],
      "text/plain": [
       "<pandas.io.formats.style.Styler at 0x140cab230>"
      ]
     },
     "metadata": {},
     "output_type": "display_data"
    },
    {
     "data": {
      "text/html": [
       "\n",
       "                <div style='\n",
       "                    text-align: center;\n",
       "                    font-size: 16px;\n",
       "                    font-weight: bold;\n",
       "                    color: #555;\n",
       "                    margin: 10px 0;'>\n",
       "                    ... 98 more rows not displayed ...\n",
       "                </div>\n",
       "                "
      ],
      "text/plain": [
       "<IPython.core.display.HTML object>"
      ]
     },
     "metadata": {},
     "output_type": "display_data"
    },
    {
     "name": "stdout",
     "output_type": "stream",
     "text": [
      "../data/modified_data/ner/sentiment_100.json\n"
     ]
    },
    {
     "name": "stderr",
     "output_type": "stream",
     "text": [
      "Average Metric: 75.32575757575755 / 123  (61.2): 100%|██████████| 123/123 [00:00<00:00, 1034.91it/s]\n"
     ]
    },
    {
     "data": {
      "text/html": [
       "<style type=\"text/css\">\n",
       "#T_95d29 th {\n",
       "  text-align: left;\n",
       "}\n",
       "#T_95d29 td {\n",
       "  text-align: left;\n",
       "}\n",
       "#T_95d29_row0_col0, #T_95d29_row0_col1, #T_95d29_row0_col2, #T_95d29_row0_col3, #T_95d29_row0_col4, #T_95d29_row0_col5, #T_95d29_row0_col6 {\n",
       "  text-align: left;\n",
       "  white-space: pre-wrap;\n",
       "  word-wrap: break-word;\n",
       "  max-width: 400px;\n",
       "}\n",
       "</style>\n",
       "<table id=\"T_95d29\">\n",
       "  <thead>\n",
       "    <tr>\n",
       "      <th class=\"blank level0\" >&nbsp;</th>\n",
       "      <th id=\"T_95d29_level0_col0\" class=\"col_heading level0 col0\" >text</th>\n",
       "      <th id=\"T_95d29_level0_col1\" class=\"col_heading level0 col1\" >example_label</th>\n",
       "      <th id=\"T_95d29_level0_col2\" class=\"col_heading level0 col2\" >original_text</th>\n",
       "      <th id=\"T_95d29_level0_col3\" class=\"col_heading level0 col3\" >original_label</th>\n",
       "      <th id=\"T_95d29_level0_col4\" class=\"col_heading level0 col4\" >index</th>\n",
       "      <th id=\"T_95d29_level0_col5\" class=\"col_heading level0 col5\" >pred_label</th>\n",
       "      <th id=\"T_95d29_level0_col6\" class=\"col_heading level0 col6\" >eval_metric</th>\n",
       "    </tr>\n",
       "  </thead>\n",
       "  <tbody>\n",
       "    <tr>\n",
       "      <th id=\"T_95d29_level0_row0\" class=\"row_heading level0 row0\" >0</th>\n",
       "      <td id=\"T_95d29_row0_col0\" class=\"data row0 col0\" >Loyalists reluctantly recruited from Queens County, New York by Lieutenant Colonel Richard Hewlett for the 3rd battalion DeLancey's Brigade had barely established a fortified position...</td>\n",
       "      <td id=\"T_95d29_row0_col1\" class=\"data row0 col1\" >[{'text': 'Queens County', 'value': 'LOCATION'}, {'text': 'New York', 'value': 'LOCATION'}, {'text': 'Richard Hewlett', 'value': 'PERSON'}, {'text': \"DeLancey's Brigade\", 'value': 'ORGANIZATION'}, {'text': 'Long Island', 'value': 'LOCATION'},...</td>\n",
       "      <td id=\"T_95d29_row0_col2\" class=\"data row0 col2\" >Loyalists recruited from Queens County, New York by Lieutenant Colonel Richard Hewlett for the 3rd battalion DeLancey's Brigade had established a fortified position in early...</td>\n",
       "      <td id=\"T_95d29_row0_col3\" class=\"data row0 col3\" >[{'Queens County': 'LOCATION'}, {'New York': 'LOCATION'}, {'Richard Hewlett': 'PERSON'}, {\"DeLancey's Brigade\": 'ORGANIZATION'}, {'Long Island': 'LOCATION'}, {'Setauket': 'LOCATION'}, {'Long Island Sound': 'LOCATION'}, {'Fairfield': 'LOCATION'}]</td>\n",
       "      <td id=\"T_95d29_row0_col4\" class=\"data row0 col4\" >65</td>\n",
       "      <td id=\"T_95d29_row0_col5\" class=\"data row0 col5\" >[{'text': 'Queens County', 'value': 'LOCATION'}, {'text': 'New York', 'value': 'LOCATION'}, {'text': 'Richard Hewlett', 'value': 'PERSON'}, {'text': 'DeLancey\\'s Brigade', 'value': 'ORGANIZATION'}, {'text': 'Long Island', 'value': 'LOCATION'},...</td>\n",
       "      <td id=\"T_95d29_row0_col6\" class=\"data row0 col6\" ></td>\n",
       "    </tr>\n",
       "  </tbody>\n",
       "</table>\n"
      ],
      "text/plain": [
       "<pandas.io.formats.style.Styler at 0x13fb29190>"
      ]
     },
     "metadata": {},
     "output_type": "display_data"
    },
    {
     "data": {
      "text/html": [
       "\n",
       "                <div style='\n",
       "                    text-align: center;\n",
       "                    font-size: 16px;\n",
       "                    font-weight: bold;\n",
       "                    color: #555;\n",
       "                    margin: 10px 0;'>\n",
       "                    ... 122 more rows not displayed ...\n",
       "                </div>\n",
       "                "
      ],
      "text/plain": [
       "<IPython.core.display.HTML object>"
      ]
     },
     "metadata": {},
     "output_type": "display_data"
    },
    {
     "name": "stdout",
     "output_type": "stream",
     "text": [
      "../data/modified_data/ner/grammatical_role_100.json\n"
     ]
    },
    {
     "name": "stderr",
     "output_type": "stream",
     "text": [
      "Average Metric: 54.84865787806961 / 91  (60.3): 100%|██████████| 91/91 [00:00<00:00, 1174.49it/s] \n"
     ]
    },
    {
     "data": {
      "text/html": [
       "<style type=\"text/css\">\n",
       "#T_36ad4 th {\n",
       "  text-align: left;\n",
       "}\n",
       "#T_36ad4 td {\n",
       "  text-align: left;\n",
       "}\n",
       "#T_36ad4_row0_col0, #T_36ad4_row0_col1, #T_36ad4_row0_col2, #T_36ad4_row0_col3, #T_36ad4_row0_col4, #T_36ad4_row0_col5, #T_36ad4_row0_col6 {\n",
       "  text-align: left;\n",
       "  white-space: pre-wrap;\n",
       "  word-wrap: break-word;\n",
       "  max-width: 400px;\n",
       "}\n",
       "</style>\n",
       "<table id=\"T_36ad4\">\n",
       "  <thead>\n",
       "    <tr>\n",
       "      <th class=\"blank level0\" >&nbsp;</th>\n",
       "      <th id=\"T_36ad4_level0_col0\" class=\"col_heading level0 col0\" >text</th>\n",
       "      <th id=\"T_36ad4_level0_col1\" class=\"col_heading level0 col1\" >example_label</th>\n",
       "      <th id=\"T_36ad4_level0_col2\" class=\"col_heading level0 col2\" >original_text</th>\n",
       "      <th id=\"T_36ad4_level0_col3\" class=\"col_heading level0 col3\" >original_label</th>\n",
       "      <th id=\"T_36ad4_level0_col4\" class=\"col_heading level0 col4\" >index</th>\n",
       "      <th id=\"T_36ad4_level0_col5\" class=\"col_heading level0 col5\" >pred_label</th>\n",
       "      <th id=\"T_36ad4_level0_col6\" class=\"col_heading level0 col6\" >eval_metric</th>\n",
       "    </tr>\n",
       "  </thead>\n",
       "  <tbody>\n",
       "    <tr>\n",
       "      <th id=\"T_36ad4_level0_row0\" class=\"row_heading level0 row0\" >0</th>\n",
       "      <td id=\"T_36ad4_row0_col0\" class=\"data row0 col0\" >Her brother ran unsuccessfully for New York from the United States House of Representatives upstate, in 1992 and 1994.</td>\n",
       "      <td id=\"T_36ad4_row0_col1\" class=\"data row0 col1\" >[{'text': 'New York', 'value': 'LOCATION'}, {'value': 'ORGANIZATION', 'text': 'United States House of Representatives'}]</td>\n",
       "      <td id=\"T_36ad4_row0_col2\" class=\"data row0 col2\" >Her brother ran unsuccessfully for the United States House of Representatives from upstate New York, in 1992 and 1994.</td>\n",
       "      <td id=\"T_36ad4_row0_col3\" class=\"data row0 col3\" >[{'United States House of Representatives': 'ORGANIZATION'}, {'New York': 'LOCATION'}]</td>\n",
       "      <td id=\"T_36ad4_row0_col4\" class=\"data row0 col4\" >63</td>\n",
       "      <td id=\"T_36ad4_row0_col5\" class=\"data row0 col5\" >[{'text': 'New York', 'value': 'LOCATION'}, {'text': 'United States House of Representatives', 'value': 'ORGANIZATION'}]</td>\n",
       "      <td id=\"T_36ad4_row0_col6\" class=\"data row0 col6\" >✔️ [1.000]</td>\n",
       "    </tr>\n",
       "  </tbody>\n",
       "</table>\n"
      ],
      "text/plain": [
       "<pandas.io.formats.style.Styler at 0x132df51f0>"
      ]
     },
     "metadata": {},
     "output_type": "display_data"
    },
    {
     "data": {
      "text/html": [
       "\n",
       "                <div style='\n",
       "                    text-align: center;\n",
       "                    font-size: 16px;\n",
       "                    font-weight: bold;\n",
       "                    color: #555;\n",
       "                    margin: 10px 0;'>\n",
       "                    ... 90 more rows not displayed ...\n",
       "                </div>\n",
       "                "
      ],
      "text/plain": [
       "<IPython.core.display.HTML object>"
      ]
     },
     "metadata": {},
     "output_type": "display_data"
    },
    {
     "name": "stderr",
     "output_type": "stream",
     "text": [
      "\u001b[2m2024-12-17T00:44:02.915812Z\u001b[0m [\u001b[31m\u001b[1merror    \u001b[0m] \u001b[1mError for example in dev set: \t\t invalid syntax (<unknown>, line 1). Set `provide_traceback=True` to see the stack trace.\u001b[0m [\u001b[0m\u001b[1m\u001b[34mdspy.evaluate.evaluate\u001b[0m]\u001b[0m \u001b[36mfilename\u001b[0m=\u001b[35mevaluate.py\u001b[0m \u001b[36mlineno\u001b[0m=\u001b[35m200\u001b[0m\n"
     ]
    },
    {
     "name": "stdout",
     "output_type": "stream",
     "text": [
      "../data/modified_data/ner/length_bias_100.json\n"
     ]
    },
    {
     "name": "stderr",
     "output_type": "stream",
     "text": [
      "Average Metric: 51.63930546577604 / 92  (56.1): 100%|██████████| 92/92 [00:00<00:00, 3379.96it/s] \n"
     ]
    },
    {
     "data": {
      "text/html": [
       "<style type=\"text/css\">\n",
       "#T_8115a th {\n",
       "  text-align: left;\n",
       "}\n",
       "#T_8115a td {\n",
       "  text-align: left;\n",
       "}\n",
       "#T_8115a_row0_col0, #T_8115a_row0_col1, #T_8115a_row0_col2, #T_8115a_row0_col3, #T_8115a_row0_col4, #T_8115a_row0_col5, #T_8115a_row0_col6, #T_8115a_row0_col7 {\n",
       "  text-align: left;\n",
       "  white-space: pre-wrap;\n",
       "  word-wrap: break-word;\n",
       "  max-width: 400px;\n",
       "}\n",
       "</style>\n",
       "<table id=\"T_8115a\">\n",
       "  <thead>\n",
       "    <tr>\n",
       "      <th class=\"blank level0\" >&nbsp;</th>\n",
       "      <th id=\"T_8115a_level0_col0\" class=\"col_heading level0 col0\" >text</th>\n",
       "      <th id=\"T_8115a_level0_col1\" class=\"col_heading level0 col1\" >example_label</th>\n",
       "      <th id=\"T_8115a_level0_col2\" class=\"col_heading level0 col2\" >original_text</th>\n",
       "      <th id=\"T_8115a_level0_col3\" class=\"col_heading level0 col3\" >original_label</th>\n",
       "      <th id=\"T_8115a_level0_col4\" class=\"col_heading level0 col4\" >index</th>\n",
       "      <th id=\"T_8115a_level0_col5\" class=\"col_heading level0 col5\" >pred_label</th>\n",
       "      <th id=\"T_8115a_level0_col6\" class=\"col_heading level0 col6\" >eval_metric</th>\n",
       "      <th id=\"T_8115a_level0_col7\" class=\"col_heading level0 col7\" >label</th>\n",
       "    </tr>\n",
       "  </thead>\n",
       "  <tbody>\n",
       "    <tr>\n",
       "      <th id=\"T_8115a_level0_row0\" class=\"row_heading level0 row0\" >0</th>\n",
       "      <td id=\"T_8115a_row0_col0\" class=\"data row0 col0\" >He produced Kim Fowley and BMX Bandits' ``Hidden Agenda At the Thirteenth Not`` for Receiver Records.</td>\n",
       "      <td id=\"T_8115a_row0_col1\" class=\"data row0 col1\" >[{'text': 'Kim Fowley', 'value': 'PERSON'}, {'text': 'BMX Bandits', 'value': 'ORGANIZATION'}, {'text': 'Receiver Records', 'value': 'ORGANIZATION'}, {'text': 'Hidden Agenda At the Thirteenth Not', 'value': 'ART'}]</td>\n",
       "      <td id=\"T_8115a_row0_col2\" class=\"data row0 col2\" >He went on to produce Kim Fowley and the BMX Bandits (band) Receiver Records' album ``Hidden Agenda At the Thirteenth Not``.</td>\n",
       "      <td id=\"T_8115a_row0_col3\" class=\"data row0 col3\" >[{'Kim Fowley': 'PERSON'}, {'BMX Bandits': 'ORGANIZATION'}, {'Receiver Records': 'ORGANIZATION'}, {'Hidden Agenda At the Thirteenth Not': 'ART'}]</td>\n",
       "      <td id=\"T_8115a_row0_col4\" class=\"data row0 col4\" >25</td>\n",
       "      <td id=\"T_8115a_row0_col5\" class=\"data row0 col5\" >[{'text': 'Kim Fowley', 'value': 'PERSON'}, {'text': 'BMX Bandits', 'value': 'ORGANIZATION'}, {'text': 'Receiver Records', 'value': 'ORGANIZATION'}, {'text': 'Hidden Agenda At the Thirteenth Not', 'value': 'PRODUCT'}]</td>\n",
       "      <td id=\"T_8115a_row0_col6\" class=\"data row0 col6\" >✔️ [1.000]</td>\n",
       "      <td id=\"T_8115a_row0_col7\" class=\"data row0 col7\" >nan</td>\n",
       "    </tr>\n",
       "  </tbody>\n",
       "</table>\n"
      ],
      "text/plain": [
       "<pandas.io.formats.style.Styler at 0x14095a1b0>"
      ]
     },
     "metadata": {},
     "output_type": "display_data"
    },
    {
     "data": {
      "text/html": [
       "\n",
       "                <div style='\n",
       "                    text-align: center;\n",
       "                    font-size: 16px;\n",
       "                    font-weight: bold;\n",
       "                    color: #555;\n",
       "                    margin: 10px 0;'>\n",
       "                    ... 91 more rows not displayed ...\n",
       "                </div>\n",
       "                "
      ],
      "text/plain": [
       "<IPython.core.display.HTML object>"
      ]
     },
     "metadata": {},
     "output_type": "display_data"
    },
    {
     "name": "stdout",
     "output_type": "stream",
     "text": [
      "../data/modified_data/ner/concept_replacement_100.json\n"
     ]
    },
    {
     "name": "stderr",
     "output_type": "stream",
     "text": [
      "Average Metric: 49.74309056956115 / 85  (58.5): 100%|██████████| 85/85 [00:00<00:00, 3224.96it/s] \n"
     ]
    },
    {
     "data": {
      "text/html": [
       "<style type=\"text/css\">\n",
       "#T_e1157 th {\n",
       "  text-align: left;\n",
       "}\n",
       "#T_e1157 td {\n",
       "  text-align: left;\n",
       "}\n",
       "#T_e1157_row0_col0, #T_e1157_row0_col1, #T_e1157_row0_col2, #T_e1157_row0_col3, #T_e1157_row0_col4, #T_e1157_row0_col5, #T_e1157_row0_col6 {\n",
       "  text-align: left;\n",
       "  white-space: pre-wrap;\n",
       "  word-wrap: break-word;\n",
       "  max-width: 400px;\n",
       "}\n",
       "</style>\n",
       "<table id=\"T_e1157\">\n",
       "  <thead>\n",
       "    <tr>\n",
       "      <th class=\"blank level0\" >&nbsp;</th>\n",
       "      <th id=\"T_e1157_level0_col0\" class=\"col_heading level0 col0\" >text</th>\n",
       "      <th id=\"T_e1157_level0_col1\" class=\"col_heading level0 col1\" >example_label</th>\n",
       "      <th id=\"T_e1157_level0_col2\" class=\"col_heading level0 col2\" >original_text</th>\n",
       "      <th id=\"T_e1157_level0_col3\" class=\"col_heading level0 col3\" >original_label</th>\n",
       "      <th id=\"T_e1157_level0_col4\" class=\"col_heading level0 col4\" >index</th>\n",
       "      <th id=\"T_e1157_level0_col5\" class=\"col_heading level0 col5\" >pred_label</th>\n",
       "      <th id=\"T_e1157_level0_col6\" class=\"col_heading level0 col6\" >eval_metric</th>\n",
       "    </tr>\n",
       "  </thead>\n",
       "  <tbody>\n",
       "    <tr>\n",
       "      <th id=\"T_e1157_level0_row0\" class=\"row_heading level0 row0\" >0</th>\n",
       "      <td id=\"T_e1157_row0_col0\" class=\"data row0 col0\" >It is the brainchild of Golaem, a France-based software company (born in Rennes in 2009).</td>\n",
       "      <td id=\"T_e1157_row0_col1\" class=\"data row0 col1\" >[{'text': 'Golaem', 'value': 'ORGANIZATION'}, {'text': 'France', 'value': 'LOCATION'}, {'text': 'Rennes', 'value': 'LOCATION'}]</td>\n",
       "      <td id=\"T_e1157_row0_col2\" class=\"data row0 col2\" >It is developed by Golaem, a France -based software company (created in Rennes in 2009).</td>\n",
       "      <td id=\"T_e1157_row0_col3\" class=\"data row0 col3\" >[{'Golaem': 'ORGANIZATION'}, {'France': 'LOCATION'}, {'Rennes': 'LOCATION'}]</td>\n",
       "      <td id=\"T_e1157_row0_col4\" class=\"data row0 col4\" >28</td>\n",
       "      <td id=\"T_e1157_row0_col5\" class=\"data row0 col5\" >[{'text': 'Golaem', 'value': 'ORGANIZATION'}, {'text': 'France', 'value': 'LOCATION'}, {'text': 'Rennes', 'value': 'LOCATION'}]</td>\n",
       "      <td id=\"T_e1157_row0_col6\" class=\"data row0 col6\" >✔️ [1.000]</td>\n",
       "    </tr>\n",
       "  </tbody>\n",
       "</table>\n"
      ],
      "text/plain": [
       "<pandas.io.formats.style.Styler at 0x140d6d1f0>"
      ]
     },
     "metadata": {},
     "output_type": "display_data"
    },
    {
     "data": {
      "text/html": [
       "\n",
       "                <div style='\n",
       "                    text-align: center;\n",
       "                    font-size: 16px;\n",
       "                    font-weight: bold;\n",
       "                    color: #555;\n",
       "                    margin: 10px 0;'>\n",
       "                    ... 84 more rows not displayed ...\n",
       "                </div>\n",
       "                "
      ],
      "text/plain": [
       "<IPython.core.display.HTML object>"
      ]
     },
     "metadata": {},
     "output_type": "display_data"
    },
    {
     "name": "stdout",
     "output_type": "stream",
     "text": [
      "../data/modified_data/ner/typo_bias_100.json\n"
     ]
    },
    {
     "name": "stderr",
     "output_type": "stream",
     "text": [
      "Average Metric: 58.41782955606483 / 100  (58.4): 100%|██████████| 100/100 [00:00<00:00, 1238.50it/s]\n"
     ]
    },
    {
     "data": {
      "text/html": [
       "<style type=\"text/css\">\n",
       "#T_ec329 th {\n",
       "  text-align: left;\n",
       "}\n",
       "#T_ec329 td {\n",
       "  text-align: left;\n",
       "}\n",
       "#T_ec329_row0_col0, #T_ec329_row0_col1, #T_ec329_row0_col2, #T_ec329_row0_col3, #T_ec329_row0_col4, #T_ec329_row0_col5, #T_ec329_row0_col6 {\n",
       "  text-align: left;\n",
       "  white-space: pre-wrap;\n",
       "  word-wrap: break-word;\n",
       "  max-width: 400px;\n",
       "}\n",
       "</style>\n",
       "<table id=\"T_ec329\">\n",
       "  <thead>\n",
       "    <tr>\n",
       "      <th class=\"blank level0\" >&nbsp;</th>\n",
       "      <th id=\"T_ec329_level0_col0\" class=\"col_heading level0 col0\" >text</th>\n",
       "      <th id=\"T_ec329_level0_col1\" class=\"col_heading level0 col1\" >example_label</th>\n",
       "      <th id=\"T_ec329_level0_col2\" class=\"col_heading level0 col2\" >original_text</th>\n",
       "      <th id=\"T_ec329_level0_col3\" class=\"col_heading level0 col3\" >original_label</th>\n",
       "      <th id=\"T_ec329_level0_col4\" class=\"col_heading level0 col4\" >index</th>\n",
       "      <th id=\"T_ec329_level0_col5\" class=\"col_heading level0 col5\" >pred_label</th>\n",
       "      <th id=\"T_ec329_level0_col6\" class=\"col_heading level0 col6\" >eval_metric</th>\n",
       "    </tr>\n",
       "  </thead>\n",
       "  <tbody>\n",
       "    <tr>\n",
       "      <th id=\"T_ec329_level0_row0\" class=\"row_heading level0 row0\" >0</th>\n",
       "      <td id=\"T_ec329_row0_col0\" class=\"data row0 col0\" >A German teacher for much of her life, MacKeith also advocated for peace during the Aldermaston Marches in the 1950s and demonstrations against the Vietnam...</td>\n",
       "      <td id=\"T_ec329_row0_col1\" class=\"data row0 col1\" >[{'text': 'German', 'value': 'LOCATION'}, {'text': 'MacKeith', 'value': 'PERSON'}, {'text': 'Aldermaston Marches', 'value': 'EVENT'}, {'text': 'Vietnam War', 'value': 'EVENT'}, {'text': 'Grosvenor Squar', 'value': 'LOCATION'}]</td>\n",
       "      <td id=\"T_ec329_row0_col2\" class=\"data row0 col2\" >A German teacher for much of her life, MacKeith also advocated for peace during the Aldermaston Marches in the 1950s and demonstrations against the Vietnam...</td>\n",
       "      <td id=\"T_ec329_row0_col3\" class=\"data row0 col3\" >[{'German': 'LOCATION'}, {'MacKeith': 'PERSON'}, {'Aldermaston Marches': 'EVENT'}, {'Vietnam War': 'EVENT'}, {'Grosvenor Square': 'LOCATION'}]</td>\n",
       "      <td id=\"T_ec329_row0_col4\" class=\"data row0 col4\" >74</td>\n",
       "      <td id=\"T_ec329_row0_col5\" class=\"data row0 col5\" >[{'text': 'Aldermaston Marches', 'value': 'EVENT'}, {'text': 'Vietnam War', 'value': 'EVENT'}, {'text': 'Grosvenor Squar', 'value': 'LOCATION'}, {'text': 'MacKeith', 'value': 'PERSON'}]</td>\n",
       "      <td id=\"T_ec329_row0_col6\" class=\"data row0 col6\" >✔️ [0.889]</td>\n",
       "    </tr>\n",
       "  </tbody>\n",
       "</table>\n"
      ],
      "text/plain": [
       "<pandas.io.formats.style.Styler at 0x140f2abd0>"
      ]
     },
     "metadata": {},
     "output_type": "display_data"
    },
    {
     "data": {
      "text/html": [
       "\n",
       "                <div style='\n",
       "                    text-align: center;\n",
       "                    font-size: 16px;\n",
       "                    font-weight: bold;\n",
       "                    color: #555;\n",
       "                    margin: 10px 0;'>\n",
       "                    ... 99 more rows not displayed ...\n",
       "                </div>\n",
       "                "
      ],
      "text/plain": [
       "<IPython.core.display.HTML object>"
      ]
     },
     "metadata": {},
     "output_type": "display_data"
    },
    {
     "name": "stderr",
     "output_type": "stream",
     "text": [
      "\u001b[2m2024-12-17T00:44:03.236619Z\u001b[0m [\u001b[31m\u001b[1merror    \u001b[0m] \u001b[1mError for example in dev set: \t\t unterminated string literal (detected at line 1) (<unknown>, line 1). Set `provide_traceback=True` to see the stack trace.\u001b[0m [\u001b[0m\u001b[1m\u001b[34mdspy.evaluate.evaluate\u001b[0m]\u001b[0m \u001b[36mfilename\u001b[0m=\u001b[35mevaluate.py\u001b[0m \u001b[36mlineno\u001b[0m=\u001b[35m200\u001b[0m\n"
     ]
    },
    {
     "name": "stdout",
     "output_type": "stream",
     "text": [
      "../data/modified_data/ner/geographical_bias_100.json\n"
     ]
    },
    {
     "name": "stderr",
     "output_type": "stream",
     "text": [
      "Average Metric: 87.02593984962405 / 134  (64.9): 100%|██████████| 134/134 [00:00<00:00, 1510.49it/s]\n"
     ]
    },
    {
     "data": {
      "text/html": [
       "<style type=\"text/css\">\n",
       "#T_7ad51 th {\n",
       "  text-align: left;\n",
       "}\n",
       "#T_7ad51 td {\n",
       "  text-align: left;\n",
       "}\n",
       "#T_7ad51_row0_col0, #T_7ad51_row0_col1, #T_7ad51_row0_col2, #T_7ad51_row0_col3, #T_7ad51_row0_col4, #T_7ad51_row0_col5, #T_7ad51_row0_col6, #T_7ad51_row0_col7 {\n",
       "  text-align: left;\n",
       "  white-space: pre-wrap;\n",
       "  word-wrap: break-word;\n",
       "  max-width: 400px;\n",
       "}\n",
       "</style>\n",
       "<table id=\"T_7ad51\">\n",
       "  <thead>\n",
       "    <tr>\n",
       "      <th class=\"blank level0\" >&nbsp;</th>\n",
       "      <th id=\"T_7ad51_level0_col0\" class=\"col_heading level0 col0\" >text</th>\n",
       "      <th id=\"T_7ad51_level0_col1\" class=\"col_heading level0 col1\" >example_label</th>\n",
       "      <th id=\"T_7ad51_level0_col2\" class=\"col_heading level0 col2\" >original_text</th>\n",
       "      <th id=\"T_7ad51_level0_col3\" class=\"col_heading level0 col3\" >original_label</th>\n",
       "      <th id=\"T_7ad51_level0_col4\" class=\"col_heading level0 col4\" >index</th>\n",
       "      <th id=\"T_7ad51_level0_col5\" class=\"col_heading level0 col5\" >pred_label</th>\n",
       "      <th id=\"T_7ad51_level0_col6\" class=\"col_heading level0 col6\" >eval_metric</th>\n",
       "      <th id=\"T_7ad51_level0_col7\" class=\"col_heading level0 col7\" >label</th>\n",
       "    </tr>\n",
       "  </thead>\n",
       "  <tbody>\n",
       "    <tr>\n",
       "      <th id=\"T_7ad51_level0_row0\" class=\"row_heading level0 row0\" >0</th>\n",
       "      <td id=\"T_7ad51_row0_col0\" class=\"data row0 col0\" >A prototype was installed in the mid-'60s in a unique Bahrain Edition Saloon extended 4'' after the doors and driven by Khalid personally, and a...</td>\n",
       "      <td id=\"T_7ad51_row0_col1\" class=\"data row0 col1\" >[{'value': 'BUILDING', 'text': \"Bahrain Edition Saloon extended 4''\"}, {'value': 'PERSON', 'text': 'Khalid'}, {'text': 'Bahrain Edition Coupe', 'value': 'PRODUCT'}, {'value': 'MISC', 'text': 'V8 engine'}]</td>\n",
       "      <td id=\"T_7ad51_row0_col2\" class=\"data row0 col2\" >A prototype was fitted in the mid-'60s in a one-off DB5 extended 4'' after the doors and driven by Marek personally, and a normally 6-cylinder...</td>\n",
       "      <td id=\"T_7ad51_row0_col3\" class=\"data row0 col3\" >[{\"DB5 extended 4''\": 'PRODUCT'}, {'Marek': 'PERSON'}, {'Aston Martin DB7': 'PRODUCT'}, {'V8 unit': 'PRODUCT'}]</td>\n",
       "      <td id=\"T_7ad51_row0_col4\" class=\"data row0 col4\" >6</td>\n",
       "      <td id=\"T_7ad51_row0_col5\" class=\"data row0 col5\" >[{'text': 'Bahrain Edition Saloon', 'value': 'PRODUCT'}, {'text': 'Khalid', 'value': 'PERSON'}, {'text': 'Bahrain Edition Coupe', 'value': 'PRODUCT'}]</td>\n",
       "      <td id=\"T_7ad51_row0_col6\" class=\"data row0 col6\" >✔️ [0.571]</td>\n",
       "      <td id=\"T_7ad51_row0_col7\" class=\"data row0 col7\" >nan</td>\n",
       "    </tr>\n",
       "  </tbody>\n",
       "</table>\n"
      ],
      "text/plain": [
       "<pandas.io.formats.style.Styler at 0x1404816d0>"
      ]
     },
     "metadata": {},
     "output_type": "display_data"
    },
    {
     "data": {
      "text/html": [
       "\n",
       "                <div style='\n",
       "                    text-align: center;\n",
       "                    font-size: 16px;\n",
       "                    font-weight: bold;\n",
       "                    color: #555;\n",
       "                    margin: 10px 0;'>\n",
       "                    ... 133 more rows not displayed ...\n",
       "                </div>\n",
       "                "
      ],
      "text/plain": [
       "<IPython.core.display.HTML object>"
      ]
     },
     "metadata": {},
     "output_type": "display_data"
    },
    {
     "name": "stdout",
     "output_type": "stream",
     "text": [
      "../data/modified_data/ner/punctuation_100.json\n"
     ]
    },
    {
     "name": "stderr",
     "output_type": "stream",
     "text": [
      "Average Metric: 52.64783549783548 / 100  (52.6): 100%|██████████| 100/100 [00:00<00:00, 2834.54it/s]\n"
     ]
    },
    {
     "data": {
      "text/html": [
       "<style type=\"text/css\">\n",
       "#T_a077a th {\n",
       "  text-align: left;\n",
       "}\n",
       "#T_a077a td {\n",
       "  text-align: left;\n",
       "}\n",
       "#T_a077a_row0_col0, #T_a077a_row0_col1, #T_a077a_row0_col2, #T_a077a_row0_col3, #T_a077a_row0_col4, #T_a077a_row0_col5, #T_a077a_row0_col6 {\n",
       "  text-align: left;\n",
       "  white-space: pre-wrap;\n",
       "  word-wrap: break-word;\n",
       "  max-width: 400px;\n",
       "}\n",
       "</style>\n",
       "<table id=\"T_a077a\">\n",
       "  <thead>\n",
       "    <tr>\n",
       "      <th class=\"blank level0\" >&nbsp;</th>\n",
       "      <th id=\"T_a077a_level0_col0\" class=\"col_heading level0 col0\" >text</th>\n",
       "      <th id=\"T_a077a_level0_col1\" class=\"col_heading level0 col1\" >example_label</th>\n",
       "      <th id=\"T_a077a_level0_col2\" class=\"col_heading level0 col2\" >original_text</th>\n",
       "      <th id=\"T_a077a_level0_col3\" class=\"col_heading level0 col3\" >original_label</th>\n",
       "      <th id=\"T_a077a_level0_col4\" class=\"col_heading level0 col4\" >index</th>\n",
       "      <th id=\"T_a077a_level0_col5\" class=\"col_heading level0 col5\" >pred_label</th>\n",
       "      <th id=\"T_a077a_level0_col6\" class=\"col_heading level0 col6\" >eval_metric</th>\n",
       "    </tr>\n",
       "  </thead>\n",
       "  <tbody>\n",
       "    <tr>\n",
       "      <th id=\"T_a077a_level0_row0\" class=\"row_heading level0 row0\" >0</th>\n",
       "      <td id=\"T_a077a_row0_col0\" class=\"data row0 col0\" >Conway is the hub of operations for Norfolk Southern in the Greater Pittsburgh area, featuring a hump yard and a crew change point for virtually...</td>\n",
       "      <td id=\"T_a077a_row0_col1\" class=\"data row0 col1\" >[{'text': 'Conway', 'value': 'LOCATION'}, {'text': 'Norfolk Southern', 'value': 'LOCATION'}, {'text': 'Greater Pittsburgh', 'value': 'LOCATION'}, {'text': 'Pittsburgh', 'value': 'LOCATION'}, {'text': 'FortWayne Line', 'value': 'LOCATION'}]</td>\n",
       "      <td id=\"T_a077a_row0_col2\" class=\"data row0 col2\" >Conway is the hub of operations for Norfolk Southern in the Greater Pittsburgh area, featuring a hump yard and a crew change point for virtually...</td>\n",
       "      <td id=\"T_a077a_row0_col3\" class=\"data row0 col3\" >[{'Conway': 'LOCATION'}, {'Norfolk Southern': 'LOCATION'}, {'Greater Pittsburgh': 'LOCATION'}, {'Pittsburgh': 'LOCATION'}, {'Fort Wayne Line': 'LOCATION'}]</td>\n",
       "      <td id=\"T_a077a_row0_col4\" class=\"data row0 col4\" >35</td>\n",
       "      <td id=\"T_a077a_row0_col5\" class=\"data row0 col5\" >[{'text': 'Conway', 'value': 'LOCATION'}, {'text': 'Norfolk Southern', 'value': 'ORGANIZATION'}, {'text': 'Greater Pittsburgh', 'value': 'LOCATION'}, {'text': 'Pittsburgh', 'value': 'LOCATION'}, {'text': 'FortWayne Line', 'value': 'LOCATION'}]</td>\n",
       "      <td id=\"T_a077a_row0_col6\" class=\"data row0 col6\" >✔️ [1.000]</td>\n",
       "    </tr>\n",
       "  </tbody>\n",
       "</table>\n"
      ],
      "text/plain": [
       "<pandas.io.formats.style.Styler at 0x1404bd580>"
      ]
     },
     "metadata": {},
     "output_type": "display_data"
    },
    {
     "data": {
      "text/html": [
       "\n",
       "                <div style='\n",
       "                    text-align: center;\n",
       "                    font-size: 16px;\n",
       "                    font-weight: bold;\n",
       "                    color: #555;\n",
       "                    margin: 10px 0;'>\n",
       "                    ... 99 more rows not displayed ...\n",
       "                </div>\n",
       "                "
      ],
      "text/plain": [
       "<IPython.core.display.HTML object>"
      ]
     },
     "metadata": {},
     "output_type": "display_data"
    },
    {
     "name": "stdout",
     "output_type": "stream",
     "text": [
      "../data/modified_data/ner/derivation_100.json\n"
     ]
    },
    {
     "name": "stderr",
     "output_type": "stream",
     "text": [
      "Average Metric: 42.8778584160937 / 66  (65.0): 100%|██████████| 66/66 [00:00<00:00, 2887.89it/s]  \n"
     ]
    },
    {
     "data": {
      "text/html": [
       "<style type=\"text/css\">\n",
       "#T_87f0c th {\n",
       "  text-align: left;\n",
       "}\n",
       "#T_87f0c td {\n",
       "  text-align: left;\n",
       "}\n",
       "#T_87f0c_row0_col0, #T_87f0c_row0_col1, #T_87f0c_row0_col2, #T_87f0c_row0_col3, #T_87f0c_row0_col4, #T_87f0c_row0_col5, #T_87f0c_row0_col6 {\n",
       "  text-align: left;\n",
       "  white-space: pre-wrap;\n",
       "  word-wrap: break-word;\n",
       "  max-width: 400px;\n",
       "}\n",
       "</style>\n",
       "<table id=\"T_87f0c\">\n",
       "  <thead>\n",
       "    <tr>\n",
       "      <th class=\"blank level0\" >&nbsp;</th>\n",
       "      <th id=\"T_87f0c_level0_col0\" class=\"col_heading level0 col0\" >text</th>\n",
       "      <th id=\"T_87f0c_level0_col1\" class=\"col_heading level0 col1\" >example_label</th>\n",
       "      <th id=\"T_87f0c_level0_col2\" class=\"col_heading level0 col2\" >original_text</th>\n",
       "      <th id=\"T_87f0c_level0_col3\" class=\"col_heading level0 col3\" >original_label</th>\n",
       "      <th id=\"T_87f0c_level0_col4\" class=\"col_heading level0 col4\" >index</th>\n",
       "      <th id=\"T_87f0c_level0_col5\" class=\"col_heading level0 col5\" >pred_label</th>\n",
       "      <th id=\"T_87f0c_level0_col6\" class=\"col_heading level0 col6\" >eval_metric</th>\n",
       "    </tr>\n",
       "  </thead>\n",
       "  <tbody>\n",
       "    <tr>\n",
       "      <th id=\"T_87f0c_level0_row0\" class=\"row_heading level0 row0\" >0</th>\n",
       "      <td id=\"T_87f0c_row0_col0\" class=\"data row0 col0\" >The government announced a state funeral and a day of national grief.</td>\n",
       "      <td id=\"T_87f0c_row0_col1\" class=\"data row0 col1\" >[]</td>\n",
       "      <td id=\"T_87f0c_row0_col2\" class=\"data row0 col2\" >The government announced a state funeral and a day of national mourning.</td>\n",
       "      <td id=\"T_87f0c_row0_col3\" class=\"data row0 col3\" >[]</td>\n",
       "      <td id=\"T_87f0c_row0_col4\" class=\"data row0 col4\" >46</td>\n",
       "      <td id=\"T_87f0c_row0_col5\" class=\"data row0 col5\" >[{'text': 'government', 'value': 'ORGANIZATION'}, {'text': 'state funeral', 'value': 'EVENT'}, {'text': 'day of national grief', 'value': 'EVENT'}]</td>\n",
       "      <td id=\"T_87f0c_row0_col6\" class=\"data row0 col6\" ></td>\n",
       "    </tr>\n",
       "  </tbody>\n",
       "</table>\n"
      ],
      "text/plain": [
       "<pandas.io.formats.style.Styler at 0x144799250>"
      ]
     },
     "metadata": {},
     "output_type": "display_data"
    },
    {
     "data": {
      "text/html": [
       "\n",
       "                <div style='\n",
       "                    text-align: center;\n",
       "                    font-size: 16px;\n",
       "                    font-weight: bold;\n",
       "                    color: #555;\n",
       "                    margin: 10px 0;'>\n",
       "                    ... 65 more rows not displayed ...\n",
       "                </div>\n",
       "                "
      ],
      "text/plain": [
       "<IPython.core.display.HTML object>"
      ]
     },
     "metadata": {},
     "output_type": "display_data"
    },
    {
     "name": "stdout",
     "output_type": "stream",
     "text": [
      "../data/modified_data/ner/active_to_passive_100.json\n"
     ]
    },
    {
     "name": "stderr",
     "output_type": "stream",
     "text": [
      "Average Metric: 47.79523809523809 / 81  (59.0): 100%|██████████| 81/81 [00:00<00:00, 2914.64it/s] \n"
     ]
    },
    {
     "data": {
      "text/html": [
       "<style type=\"text/css\">\n",
       "#T_6ad58 th {\n",
       "  text-align: left;\n",
       "}\n",
       "#T_6ad58 td {\n",
       "  text-align: left;\n",
       "}\n",
       "#T_6ad58_row0_col0, #T_6ad58_row0_col1, #T_6ad58_row0_col2, #T_6ad58_row0_col3, #T_6ad58_row0_col4, #T_6ad58_row0_col5, #T_6ad58_row0_col6 {\n",
       "  text-align: left;\n",
       "  white-space: pre-wrap;\n",
       "  word-wrap: break-word;\n",
       "  max-width: 400px;\n",
       "}\n",
       "</style>\n",
       "<table id=\"T_6ad58\">\n",
       "  <thead>\n",
       "    <tr>\n",
       "      <th class=\"blank level0\" >&nbsp;</th>\n",
       "      <th id=\"T_6ad58_level0_col0\" class=\"col_heading level0 col0\" >text</th>\n",
       "      <th id=\"T_6ad58_level0_col1\" class=\"col_heading level0 col1\" >example_label</th>\n",
       "      <th id=\"T_6ad58_level0_col2\" class=\"col_heading level0 col2\" >original_text</th>\n",
       "      <th id=\"T_6ad58_level0_col3\" class=\"col_heading level0 col3\" >original_label</th>\n",
       "      <th id=\"T_6ad58_level0_col4\" class=\"col_heading level0 col4\" >index</th>\n",
       "      <th id=\"T_6ad58_level0_col5\" class=\"col_heading level0 col5\" >pred_label</th>\n",
       "      <th id=\"T_6ad58_level0_col6\" class=\"col_heading level0 col6\" >eval_metric</th>\n",
       "    </tr>\n",
       "  </thead>\n",
       "  <tbody>\n",
       "    <tr>\n",
       "      <th id=\"T_6ad58_level0_row0\" class=\"row_heading level0 row0\" >0</th>\n",
       "      <td id=\"T_6ad58_row0_col0\" class=\"data row0 col0\" >Genre classics are focused on by Back to Basics, with older movies and underground cult films being shown, and with occasional stabs at mainstream and...</td>\n",
       "      <td id=\"T_6ad58_row0_col1\" class=\"data row0 col1\" >[{'text': 'Back to Basics', 'value': 'ORGANIZATION'}]</td>\n",
       "      <td id=\"T_6ad58_row0_col2\" class=\"data row0 col2\" >Back to Basics focuses on genre classics, showing older movies and underground cult films, with occasional stabs at mainstream and newer genre pieces.</td>\n",
       "      <td id=\"T_6ad58_row0_col3\" class=\"data row0 col3\" >[{'Back to Basics': 'ORGANIZATION'}]</td>\n",
       "      <td id=\"T_6ad58_row0_col4\" class=\"data row0 col4\" >56</td>\n",
       "      <td id=\"T_6ad58_row0_col5\" class=\"data row0 col5\" >[{'text': 'Back to Basics', 'value': 'ORGANIZATION'}]</td>\n",
       "      <td id=\"T_6ad58_row0_col6\" class=\"data row0 col6\" >✔️ [1.000]</td>\n",
       "    </tr>\n",
       "  </tbody>\n",
       "</table>\n"
      ],
      "text/plain": [
       "<pandas.io.formats.style.Styler at 0x1447851c0>"
      ]
     },
     "metadata": {},
     "output_type": "display_data"
    },
    {
     "data": {
      "text/html": [
       "\n",
       "                <div style='\n",
       "                    text-align: center;\n",
       "                    font-size: 16px;\n",
       "                    font-weight: bold;\n",
       "                    color: #555;\n",
       "                    margin: 10px 0;'>\n",
       "                    ... 80 more rows not displayed ...\n",
       "                </div>\n",
       "                "
      ],
      "text/plain": [
       "<IPython.core.display.HTML object>"
      ]
     },
     "metadata": {},
     "output_type": "display_data"
    },
    {
     "name": "stdout",
     "output_type": "stream",
     "text": [
      "../data/modified_data/ner/negation_100.json\n"
     ]
    },
    {
     "name": "stderr",
     "output_type": "stream",
     "text": [
      "Average Metric: 57.16134453781511 / 110  (52.0): 100%|██████████| 110/110 [00:00<00:00, 3202.69it/s] \n"
     ]
    },
    {
     "data": {
      "text/html": [
       "<style type=\"text/css\">\n",
       "#T_a83f0 th {\n",
       "  text-align: left;\n",
       "}\n",
       "#T_a83f0 td {\n",
       "  text-align: left;\n",
       "}\n",
       "#T_a83f0_row0_col0, #T_a83f0_row0_col1, #T_a83f0_row0_col2, #T_a83f0_row0_col3, #T_a83f0_row0_col4, #T_a83f0_row0_col5, #T_a83f0_row0_col6 {\n",
       "  text-align: left;\n",
       "  white-space: pre-wrap;\n",
       "  word-wrap: break-word;\n",
       "  max-width: 400px;\n",
       "}\n",
       "</style>\n",
       "<table id=\"T_a83f0\">\n",
       "  <thead>\n",
       "    <tr>\n",
       "      <th class=\"blank level0\" >&nbsp;</th>\n",
       "      <th id=\"T_a83f0_level0_col0\" class=\"col_heading level0 col0\" >text</th>\n",
       "      <th id=\"T_a83f0_level0_col1\" class=\"col_heading level0 col1\" >example_label</th>\n",
       "      <th id=\"T_a83f0_level0_col2\" class=\"col_heading level0 col2\" >original_text</th>\n",
       "      <th id=\"T_a83f0_level0_col3\" class=\"col_heading level0 col3\" >original_label</th>\n",
       "      <th id=\"T_a83f0_level0_col4\" class=\"col_heading level0 col4\" >index</th>\n",
       "      <th id=\"T_a83f0_level0_col5\" class=\"col_heading level0 col5\" >pred_label</th>\n",
       "      <th id=\"T_a83f0_level0_col6\" class=\"col_heading level0 col6\" >eval_metric</th>\n",
       "    </tr>\n",
       "  </thead>\n",
       "  <tbody>\n",
       "    <tr>\n",
       "      <th id=\"T_a83f0_level0_row0\" class=\"row_heading level0 row0\" >0</th>\n",
       "      <td id=\"T_a83f0_row0_col0\" class=\"data row0 col0\" >It is developed by no company, neither Golaem nor any other (created in Rennes in 2009).</td>\n",
       "      <td id=\"T_a83f0_row0_col1\" class=\"data row0 col1\" >[{'text': 'Golaem', 'value': 'ORGANIZATION'}, {'text': 'Rennes', 'value': 'LOCATION'}]</td>\n",
       "      <td id=\"T_a83f0_row0_col2\" class=\"data row0 col2\" >It is developed by Golaem, a France -based software company (created in Rennes in 2009).</td>\n",
       "      <td id=\"T_a83f0_row0_col3\" class=\"data row0 col3\" >[{'Golaem': 'ORGANIZATION'}, {'France': 'LOCATION'}, {'Rennes': 'LOCATION'}]</td>\n",
       "      <td id=\"T_a83f0_row0_col4\" class=\"data row0 col4\" >28</td>\n",
       "      <td id=\"T_a83f0_row0_col5\" class=\"data row0 col5\" >[{'text': 'Golaem', 'value': 'ORGANIZATION'}, {'text': 'Rennes', 'value': 'LOCATION'}]</td>\n",
       "      <td id=\"T_a83f0_row0_col6\" class=\"data row0 col6\" >✔️ [1.000]</td>\n",
       "    </tr>\n",
       "  </tbody>\n",
       "</table>\n"
      ],
      "text/plain": [
       "<pandas.io.formats.style.Styler at 0x140ce1eb0>"
      ]
     },
     "metadata": {},
     "output_type": "display_data"
    },
    {
     "data": {
      "text/html": [
       "\n",
       "                <div style='\n",
       "                    text-align: center;\n",
       "                    font-size: 16px;\n",
       "                    font-weight: bold;\n",
       "                    color: #555;\n",
       "                    margin: 10px 0;'>\n",
       "                    ... 109 more rows not displayed ...\n",
       "                </div>\n",
       "                "
      ],
      "text/plain": [
       "<IPython.core.display.HTML object>"
      ]
     },
     "metadata": {},
     "output_type": "display_data"
    }
   ],
   "source": [
    "# Configure GPT-4 as the language model\n",
    "original_pred_ds = pd.read_csv('results/ner/llama-0shot-ner.csv', index_col=False)\n",
    "original_pred_ds['text'] = original_pred_ds['text'].apply(lambda x: remove_space(x.encode('utf-8').decode('unicode-escape')))  # Replace 'your_function' with the actual function\n",
    "\n",
    "# Get specific json files we want to process\n",
    "json_files = glob.glob('../data/modified_data/ner/*_100.json')\n",
    "\n",
    "for json_file in json_files:\n",
    "    # Load the json file\n",
    "    print(json_file)\n",
    "    with open(json_file, 'r') as f:\n",
    "        data = json.load(f)\n",
    "    \n",
    "    results = evaluate_modified_set(data,simple_ent)\n",
    "\n",
    "    # Convert results to dataframe\n",
    "    items = []\n",
    "    for sample in results[1]:\n",
    "        item = {}\n",
    "        sentence = sample[0]['text']\n",
    "        label = sample[0]['label'] \n",
    "        # print(sample)\n",
    "        if sample[1] == {}:\n",
    "            pred = \"[]\"\n",
    "        else:\n",
    "            pred = sample[1]['label']\n",
    "        item['text'] = sentence\n",
    "        # print(label)\n",
    "        # item['modified_label'] = [{entity['text']: entity['value']} for entity in label]\n",
    "        item['modified_label'] = label\n",
    "        pred = extract_prediction(pred)\n",
    "        item['modified_pred'] = pred\n",
    "        item['modified_pred'] = [{entity['text']: entity['value']} for entity in pred]\n",
    "        original_text = sample[0]['original_text'].encode('utf-8').decode('unicode-escape')\n",
    "        item['original_text'] = original_text\n",
    "        index = sample[0]['index']\n",
    "        # Find the best match for the original_text in the original_pred_ds['text'] using difflib\n",
    "        matches = original_pred_ds['pred'].iloc[index] if index < len(original_pred_ds) else []\n",
    "        # print(matches)\n",
    "        item['original_label'] = sample[0]['original_label']\n",
    "        item['original_pred'] = matches if matches else '[]'\n",
    "        # Check if original_label is NaN and assign modified_label if it is\n",
    "        if pd.isna(item['original_label']):\n",
    "            item['original_label'] = item['modified_label']\n",
    "            \n",
    "        items.append(item)\n",
    "    \n",
    "    df_result = pd.DataFrame(data=items)\n",
    "    \n",
    "    # Save results with filename based on input json\n",
    "    output_filename = f\"results/ner/llama-0shot-{json_file.split('/')[-1].replace('.json', '')}.csv\"\n",
    "    df_result.to_csv(output_filename)\n"
   ]
  },
  {
   "cell_type": "code",
   "execution_count": 97,
   "metadata": {},
   "outputs": [],
   "source": [
    "from scipy import stats"
   ]
  },
  {
   "cell_type": "code",
   "execution_count": 98,
   "metadata": {},
   "outputs": [
    {
     "name": "stdout",
     "output_type": "stream",
     "text": [
      "concept_replacement_100\n",
      "negation_100\n"
     ]
    },
    {
     "name": "stdout",
     "output_type": "stream",
     "text": [
      "temporal_bias_100\n",
      "grammatical_role_100\n",
      "discourse_100\n",
      "coordinating_conjunction_100\n",
      "geographical_bias_100\n",
      "punctuation_100\n",
      "length_bias_100\n",
      "capitalization_100\n",
      "active_to_passive_100\n",
      "compound_word_100\n",
      "dialectal_100\n",
      "typo_bias_100\n",
      "casual_100\n",
      "derivation_100\n",
      "sentiment_100\n",
      "\n",
      "\n"
     ]
    },
    {
     "name": "stderr",
     "output_type": "stream",
     "text": [
      "/var/folders/10/sw0slq6565ddbg_lqxxhpqzh0000gn/T/ipykernel_41203/2690146823.py:118: FutureWarning: The behavior of DataFrame concatenation with empty or all-NA entries is deprecated. In a future version, this will no longer exclude empty or all-NA columns when determining the result dtypes. To retain the old behavior, exclude the relevant entries before the concat operation.\n",
      "  results_df.loc[len(results_df)] = {\n"
     ]
    },
    {
     "data": {
      "text/html": [
       "<style type=\"text/css\">\n",
       "#T_a3971_row0_col0, #T_a3971_row0_col1, #T_a3971_row0_col2, #T_a3971_row0_col3, #T_a3971_row0_col4, #T_a3971_row0_col5, #T_a3971_row0_col6, #T_a3971_row0_col7, #T_a3971_row0_col8, #T_a3971_row0_col9, #T_a3971_row0_col10, #T_a3971_row1_col0, #T_a3971_row1_col1, #T_a3971_row1_col2, #T_a3971_row1_col3, #T_a3971_row1_col4, #T_a3971_row1_col5, #T_a3971_row1_col6, #T_a3971_row1_col7, #T_a3971_row1_col8, #T_a3971_row1_col9, #T_a3971_row1_col10, #T_a3971_row2_col0, #T_a3971_row2_col1, #T_a3971_row2_col2, #T_a3971_row2_col3, #T_a3971_row2_col4, #T_a3971_row2_col5, #T_a3971_row2_col6, #T_a3971_row2_col7, #T_a3971_row2_col8, #T_a3971_row2_col9, #T_a3971_row2_col10, #T_a3971_row4_col0, #T_a3971_row4_col1, #T_a3971_row4_col2, #T_a3971_row4_col3, #T_a3971_row4_col4, #T_a3971_row4_col5, #T_a3971_row4_col6, #T_a3971_row4_col7, #T_a3971_row4_col8, #T_a3971_row4_col9, #T_a3971_row4_col10, #T_a3971_row5_col0, #T_a3971_row5_col1, #T_a3971_row5_col2, #T_a3971_row5_col3, #T_a3971_row5_col4, #T_a3971_row5_col5, #T_a3971_row5_col6, #T_a3971_row5_col7, #T_a3971_row5_col8, #T_a3971_row5_col9, #T_a3971_row5_col10, #T_a3971_row7_col0, #T_a3971_row7_col1, #T_a3971_row7_col2, #T_a3971_row7_col3, #T_a3971_row7_col4, #T_a3971_row7_col5, #T_a3971_row7_col6, #T_a3971_row7_col7, #T_a3971_row7_col8, #T_a3971_row7_col9, #T_a3971_row7_col10, #T_a3971_row8_col0, #T_a3971_row8_col1, #T_a3971_row8_col2, #T_a3971_row8_col3, #T_a3971_row8_col4, #T_a3971_row8_col5, #T_a3971_row8_col6, #T_a3971_row8_col7, #T_a3971_row8_col8, #T_a3971_row8_col9, #T_a3971_row8_col10, #T_a3971_row9_col0, #T_a3971_row9_col1, #T_a3971_row9_col2, #T_a3971_row9_col3, #T_a3971_row9_col4, #T_a3971_row9_col5, #T_a3971_row9_col6, #T_a3971_row9_col7, #T_a3971_row9_col8, #T_a3971_row9_col9, #T_a3971_row9_col10, #T_a3971_row10_col0, #T_a3971_row10_col1, #T_a3971_row10_col2, #T_a3971_row10_col3, #T_a3971_row10_col4, #T_a3971_row10_col5, #T_a3971_row10_col6, #T_a3971_row10_col7, #T_a3971_row10_col8, #T_a3971_row10_col9, #T_a3971_row10_col10, #T_a3971_row11_col0, #T_a3971_row11_col1, #T_a3971_row11_col2, #T_a3971_row11_col3, #T_a3971_row11_col4, #T_a3971_row11_col5, #T_a3971_row11_col6, #T_a3971_row11_col7, #T_a3971_row11_col8, #T_a3971_row11_col9, #T_a3971_row11_col10, #T_a3971_row12_col0, #T_a3971_row12_col1, #T_a3971_row12_col2, #T_a3971_row12_col3, #T_a3971_row12_col4, #T_a3971_row12_col5, #T_a3971_row12_col6, #T_a3971_row12_col7, #T_a3971_row12_col8, #T_a3971_row12_col9, #T_a3971_row12_col10, #T_a3971_row13_col0, #T_a3971_row13_col1, #T_a3971_row13_col2, #T_a3971_row13_col3, #T_a3971_row13_col4, #T_a3971_row13_col5, #T_a3971_row13_col6, #T_a3971_row13_col7, #T_a3971_row13_col8, #T_a3971_row13_col9, #T_a3971_row13_col10, #T_a3971_row14_col0, #T_a3971_row14_col1, #T_a3971_row14_col2, #T_a3971_row14_col3, #T_a3971_row14_col4, #T_a3971_row14_col5, #T_a3971_row14_col6, #T_a3971_row14_col7, #T_a3971_row14_col8, #T_a3971_row14_col9, #T_a3971_row14_col10, #T_a3971_row15_col0, #T_a3971_row15_col1, #T_a3971_row15_col2, #T_a3971_row15_col3, #T_a3971_row15_col4, #T_a3971_row15_col5, #T_a3971_row15_col6, #T_a3971_row15_col7, #T_a3971_row15_col8, #T_a3971_row15_col9, #T_a3971_row15_col10, #T_a3971_row17_col0, #T_a3971_row17_col1, #T_a3971_row17_col2, #T_a3971_row17_col3, #T_a3971_row17_col4, #T_a3971_row17_col5, #T_a3971_row17_col6, #T_a3971_row17_col7, #T_a3971_row17_col8, #T_a3971_row17_col9, #T_a3971_row17_col10 {\n",
       "  background-color: red;\n",
       "}\n",
       "</style>\n",
       "<table id=\"T_a3971\">\n",
       "  <thead>\n",
       "    <tr>\n",
       "      <th class=\"blank level0\" >&nbsp;</th>\n",
       "      <th id=\"T_a3971_level0_col0\" class=\"col_heading level0 col0\" >task</th>\n",
       "      <th id=\"T_a3971_level0_col1\" class=\"col_heading level0 col1\" >modification</th>\n",
       "      <th id=\"T_a3971_level0_col2\" class=\"col_heading level0 col2\" >original_res</th>\n",
       "      <th id=\"T_a3971_level0_col3\" class=\"col_heading level0 col3\" >modified_res</th>\n",
       "      <th id=\"T_a3971_level0_col4\" class=\"col_heading level0 col4\" >difference</th>\n",
       "      <th id=\"T_a3971_level0_col5\" class=\"col_heading level0 col5\" >pct_difference</th>\n",
       "      <th id=\"T_a3971_level0_col6\" class=\"col_heading level0 col6\" >p_value</th>\n",
       "      <th id=\"T_a3971_level0_col7\" class=\"col_heading level0 col7\" >original_precision</th>\n",
       "      <th id=\"T_a3971_level0_col8\" class=\"col_heading level0 col8\" >original_recall</th>\n",
       "      <th id=\"T_a3971_level0_col9\" class=\"col_heading level0 col9\" >modified_precision</th>\n",
       "      <th id=\"T_a3971_level0_col10\" class=\"col_heading level0 col10\" >modified_recall</th>\n",
       "    </tr>\n",
       "  </thead>\n",
       "  <tbody>\n",
       "    <tr>\n",
       "      <th id=\"T_a3971_level0_row0\" class=\"row_heading level0 row0\" >2</th>\n",
       "      <td id=\"T_a3971_row0_col0\" class=\"data row0 col0\" >named_entity_recognition</td>\n",
       "      <td id=\"T_a3971_row0_col1\" class=\"data row0 col1\" >temporal_bias_100</td>\n",
       "      <td id=\"T_a3971_row0_col2\" class=\"data row0 col2\" >0.630000</td>\n",
       "      <td id=\"T_a3971_row0_col3\" class=\"data row0 col3\" >0.600000</td>\n",
       "      <td id=\"T_a3971_row0_col4\" class=\"data row0 col4\" >-0.030000</td>\n",
       "      <td id=\"T_a3971_row0_col5\" class=\"data row0 col5\" >-4.660000</td>\n",
       "      <td id=\"T_a3971_row0_col6\" class=\"data row0 col6\" >1.000000</td>\n",
       "      <td id=\"T_a3971_row0_col7\" class=\"data row0 col7\" >0.620000</td>\n",
       "      <td id=\"T_a3971_row0_col8\" class=\"data row0 col8\" >0.660000</td>\n",
       "      <td id=\"T_a3971_row0_col9\" class=\"data row0 col9\" >0.590000</td>\n",
       "      <td id=\"T_a3971_row0_col10\" class=\"data row0 col10\" >0.630000</td>\n",
       "    </tr>\n",
       "    <tr>\n",
       "      <th id=\"T_a3971_level0_row1\" class=\"row_heading level0 row1\" >6</th>\n",
       "      <td id=\"T_a3971_row1_col0\" class=\"data row1 col0\" >named_entity_recognition</td>\n",
       "      <td id=\"T_a3971_row1_col1\" class=\"data row1 col1\" >geographical_bias_100</td>\n",
       "      <td id=\"T_a3971_row1_col2\" class=\"data row1 col2\" >0.660000</td>\n",
       "      <td id=\"T_a3971_row1_col3\" class=\"data row1 col3\" >0.650000</td>\n",
       "      <td id=\"T_a3971_row1_col4\" class=\"data row1 col4\" >-0.010000</td>\n",
       "      <td id=\"T_a3971_row1_col5\" class=\"data row1 col5\" >-1.040000</td>\n",
       "      <td id=\"T_a3971_row1_col6\" class=\"data row1 col6\" >0.310000</td>\n",
       "      <td id=\"T_a3971_row1_col7\" class=\"data row1 col7\" >0.620000</td>\n",
       "      <td id=\"T_a3971_row1_col8\" class=\"data row1 col8\" >0.710000</td>\n",
       "      <td id=\"T_a3971_row1_col9\" class=\"data row1 col9\" >0.640000</td>\n",
       "      <td id=\"T_a3971_row1_col10\" class=\"data row1 col10\" >0.690000</td>\n",
       "    </tr>\n",
       "    <tr>\n",
       "      <th id=\"T_a3971_level0_row2\" class=\"row_heading level0 row2\" >8</th>\n",
       "      <td id=\"T_a3971_row2_col0\" class=\"data row2 col0\" >named_entity_recognition</td>\n",
       "      <td id=\"T_a3971_row2_col1\" class=\"data row2 col1\" >length_bias_100</td>\n",
       "      <td id=\"T_a3971_row2_col2\" class=\"data row2 col2\" >0.570000</td>\n",
       "      <td id=\"T_a3971_row2_col3\" class=\"data row2 col3\" >0.560000</td>\n",
       "      <td id=\"T_a3971_row2_col4\" class=\"data row2 col4\" >-0.010000</td>\n",
       "      <td id=\"T_a3971_row2_col5\" class=\"data row2 col5\" >-2.070000</td>\n",
       "      <td id=\"T_a3971_row2_col6\" class=\"data row2 col6\" >1.000000</td>\n",
       "      <td id=\"T_a3971_row2_col7\" class=\"data row2 col7\" >0.560000</td>\n",
       "      <td id=\"T_a3971_row2_col8\" class=\"data row2 col8\" >0.610000</td>\n",
       "      <td id=\"T_a3971_row2_col9\" class=\"data row2 col9\" >0.550000</td>\n",
       "      <td id=\"T_a3971_row2_col10\" class=\"data row2 col10\" >0.600000</td>\n",
       "    </tr>\n",
       "    <tr>\n",
       "      <th id=\"T_a3971_level0_row3\" class=\"row_heading level0 row3\" >13</th>\n",
       "      <td id=\"T_a3971_row3_col0\" class=\"data row3 col0\" >named_entity_recognition</td>\n",
       "      <td id=\"T_a3971_row3_col1\" class=\"data row3 col1\" >typo_bias_100</td>\n",
       "      <td id=\"T_a3971_row3_col2\" class=\"data row3 col2\" >0.570000</td>\n",
       "      <td id=\"T_a3971_row3_col3\" class=\"data row3 col3\" >0.580000</td>\n",
       "      <td id=\"T_a3971_row3_col4\" class=\"data row3 col4\" >0.020000</td>\n",
       "      <td id=\"T_a3971_row3_col5\" class=\"data row3 col5\" >2.740000</td>\n",
       "      <td id=\"T_a3971_row3_col6\" class=\"data row3 col6\" >1.000000</td>\n",
       "      <td id=\"T_a3971_row3_col7\" class=\"data row3 col7\" >0.570000</td>\n",
       "      <td id=\"T_a3971_row3_col8\" class=\"data row3 col8\" >0.600000</td>\n",
       "      <td id=\"T_a3971_row3_col9\" class=\"data row3 col9\" >0.580000</td>\n",
       "      <td id=\"T_a3971_row3_col10\" class=\"data row3 col10\" >0.620000</td>\n",
       "    </tr>\n",
       "    <tr>\n",
       "      <th id=\"T_a3971_level0_row4\" class=\"row_heading level0 row4\" >9</th>\n",
       "      <td id=\"T_a3971_row4_col0\" class=\"data row4 col0\" >named_entity_recognition</td>\n",
       "      <td id=\"T_a3971_row4_col1\" class=\"data row4 col1\" >capitalization_100</td>\n",
       "      <td id=\"T_a3971_row4_col2\" class=\"data row4 col2\" >0.660000</td>\n",
       "      <td id=\"T_a3971_row4_col3\" class=\"data row4 col3\" >0.560000</td>\n",
       "      <td id=\"T_a3971_row4_col4\" class=\"data row4 col4\" >-0.110000</td>\n",
       "      <td id=\"T_a3971_row4_col5\" class=\"data row4 col5\" >-16.140000</td>\n",
       "      <td id=\"T_a3971_row4_col6\" class=\"data row4 col6\" >1.000000</td>\n",
       "      <td id=\"T_a3971_row4_col7\" class=\"data row4 col7\" >0.660000</td>\n",
       "      <td id=\"T_a3971_row4_col8\" class=\"data row4 col8\" >0.690000</td>\n",
       "      <td id=\"T_a3971_row4_col9\" class=\"data row4 col9\" >0.560000</td>\n",
       "      <td id=\"T_a3971_row4_col10\" class=\"data row4 col10\" >0.580000</td>\n",
       "    </tr>\n",
       "    <tr>\n",
       "      <th id=\"T_a3971_level0_row5\" class=\"row_heading level0 row5\" >7</th>\n",
       "      <td id=\"T_a3971_row5_col0\" class=\"data row5 col0\" >named_entity_recognition</td>\n",
       "      <td id=\"T_a3971_row5_col1\" class=\"data row5 col1\" >punctuation_100</td>\n",
       "      <td id=\"T_a3971_row5_col2\" class=\"data row5 col2\" >0.600000</td>\n",
       "      <td id=\"T_a3971_row5_col3\" class=\"data row5 col3\" >0.530000</td>\n",
       "      <td id=\"T_a3971_row5_col4\" class=\"data row5 col4\" >-0.070000</td>\n",
       "      <td id=\"T_a3971_row5_col5\" class=\"data row5 col5\" >-11.580000</td>\n",
       "      <td id=\"T_a3971_row5_col6\" class=\"data row5 col6\" >1.000000</td>\n",
       "      <td id=\"T_a3971_row5_col7\" class=\"data row5 col7\" >0.580000</td>\n",
       "      <td id=\"T_a3971_row5_col8\" class=\"data row5 col8\" >0.630000</td>\n",
       "      <td id=\"T_a3971_row5_col9\" class=\"data row5 col9\" >0.520000</td>\n",
       "      <td id=\"T_a3971_row5_col10\" class=\"data row5 col10\" >0.550000</td>\n",
       "    </tr>\n",
       "    <tr>\n",
       "      <th id=\"T_a3971_level0_row6\" class=\"row_heading level0 row6\" >15</th>\n",
       "      <td id=\"T_a3971_row6_col0\" class=\"data row6 col0\" >named_entity_recognition</td>\n",
       "      <td id=\"T_a3971_row6_col1\" class=\"data row6 col1\" >derivation_100</td>\n",
       "      <td id=\"T_a3971_row6_col2\" class=\"data row6 col2\" >0.650000</td>\n",
       "      <td id=\"T_a3971_row6_col3\" class=\"data row6 col3\" >0.650000</td>\n",
       "      <td id=\"T_a3971_row6_col4\" class=\"data row6 col4\" >0.000000</td>\n",
       "      <td id=\"T_a3971_row6_col5\" class=\"data row6 col5\" >0.330000</td>\n",
       "      <td id=\"T_a3971_row6_col6\" class=\"data row6 col6\" >1.000000</td>\n",
       "      <td id=\"T_a3971_row6_col7\" class=\"data row6 col7\" >0.640000</td>\n",
       "      <td id=\"T_a3971_row6_col8\" class=\"data row6 col8\" >0.670000</td>\n",
       "      <td id=\"T_a3971_row6_col9\" class=\"data row6 col9\" >0.640000</td>\n",
       "      <td id=\"T_a3971_row6_col10\" class=\"data row6 col10\" >0.670000</td>\n",
       "    </tr>\n",
       "    <tr>\n",
       "      <th id=\"T_a3971_level0_row7\" class=\"row_heading level0 row7\" >11</th>\n",
       "      <td id=\"T_a3971_row7_col0\" class=\"data row7 col0\" >named_entity_recognition</td>\n",
       "      <td id=\"T_a3971_row7_col1\" class=\"data row7 col1\" >compound_word_100</td>\n",
       "      <td id=\"T_a3971_row7_col2\" class=\"data row7 col2\" >0.620000</td>\n",
       "      <td id=\"T_a3971_row7_col3\" class=\"data row7 col3\" >0.600000</td>\n",
       "      <td id=\"T_a3971_row7_col4\" class=\"data row7 col4\" >-0.010000</td>\n",
       "      <td id=\"T_a3971_row7_col5\" class=\"data row7 col5\" >-2.390000</td>\n",
       "      <td id=\"T_a3971_row7_col6\" class=\"data row7 col6\" >0.790000</td>\n",
       "      <td id=\"T_a3971_row7_col7\" class=\"data row7 col7\" >0.610000</td>\n",
       "      <td id=\"T_a3971_row7_col8\" class=\"data row7 col8\" >0.640000</td>\n",
       "      <td id=\"T_a3971_row7_col9\" class=\"data row7 col9\" >0.600000</td>\n",
       "      <td id=\"T_a3971_row7_col10\" class=\"data row7 col10\" >0.620000</td>\n",
       "    </tr>\n",
       "    <tr>\n",
       "      <th id=\"T_a3971_level0_row8\" class=\"row_heading level0 row8\" >10</th>\n",
       "      <td id=\"T_a3971_row8_col0\" class=\"data row8 col0\" >named_entity_recognition</td>\n",
       "      <td id=\"T_a3971_row8_col1\" class=\"data row8 col1\" >active_to_passive_100</td>\n",
       "      <td id=\"T_a3971_row8_col2\" class=\"data row8 col2\" >0.610000</td>\n",
       "      <td id=\"T_a3971_row8_col3\" class=\"data row8 col3\" >0.590000</td>\n",
       "      <td id=\"T_a3971_row8_col4\" class=\"data row8 col4\" >-0.020000</td>\n",
       "      <td id=\"T_a3971_row8_col5\" class=\"data row8 col5\" >-3.910000</td>\n",
       "      <td id=\"T_a3971_row8_col6\" class=\"data row8 col6\" >1.000000</td>\n",
       "      <td id=\"T_a3971_row8_col7\" class=\"data row8 col7\" >0.600000</td>\n",
       "      <td id=\"T_a3971_row8_col8\" class=\"data row8 col8\" >0.650000</td>\n",
       "      <td id=\"T_a3971_row8_col9\" class=\"data row8 col9\" >0.590000</td>\n",
       "      <td id=\"T_a3971_row8_col10\" class=\"data row8 col10\" >0.620000</td>\n",
       "    </tr>\n",
       "    <tr>\n",
       "      <th id=\"T_a3971_level0_row9\" class=\"row_heading level0 row9\" >3</th>\n",
       "      <td id=\"T_a3971_row9_col0\" class=\"data row9 col0\" >named_entity_recognition</td>\n",
       "      <td id=\"T_a3971_row9_col1\" class=\"data row9 col1\" >grammatical_role_100</td>\n",
       "      <td id=\"T_a3971_row9_col2\" class=\"data row9 col2\" >0.690000</td>\n",
       "      <td id=\"T_a3971_row9_col3\" class=\"data row9 col3\" >0.600000</td>\n",
       "      <td id=\"T_a3971_row9_col4\" class=\"data row9 col4\" >-0.090000</td>\n",
       "      <td id=\"T_a3971_row9_col5\" class=\"data row9 col5\" >-12.710000</td>\n",
       "      <td id=\"T_a3971_row9_col6\" class=\"data row9 col6\" >1.000000</td>\n",
       "      <td id=\"T_a3971_row9_col7\" class=\"data row9 col7\" >0.680000</td>\n",
       "      <td id=\"T_a3971_row9_col8\" class=\"data row9 col8\" >0.720000</td>\n",
       "      <td id=\"T_a3971_row9_col9\" class=\"data row9 col9\" >0.590000</td>\n",
       "      <td id=\"T_a3971_row9_col10\" class=\"data row9 col10\" >0.630000</td>\n",
       "    </tr>\n",
       "    <tr>\n",
       "      <th id=\"T_a3971_level0_row10\" class=\"row_heading level0 row10\" >5</th>\n",
       "      <td id=\"T_a3971_row10_col0\" class=\"data row10 col0\" >named_entity_recognition</td>\n",
       "      <td id=\"T_a3971_row10_col1\" class=\"data row10 col1\" >coordinating_conjunction_100</td>\n",
       "      <td id=\"T_a3971_row10_col2\" class=\"data row10 col2\" >0.690000</td>\n",
       "      <td id=\"T_a3971_row10_col3\" class=\"data row10 col3\" >0.620000</td>\n",
       "      <td id=\"T_a3971_row10_col4\" class=\"data row10 col4\" >-0.070000</td>\n",
       "      <td id=\"T_a3971_row10_col5\" class=\"data row10 col5\" >-10.760000</td>\n",
       "      <td id=\"T_a3971_row10_col6\" class=\"data row10 col6\" >nan</td>\n",
       "      <td id=\"T_a3971_row10_col7\" class=\"data row10 col7\" >0.680000</td>\n",
       "      <td id=\"T_a3971_row10_col8\" class=\"data row10 col8\" >0.720000</td>\n",
       "      <td id=\"T_a3971_row10_col9\" class=\"data row10 col9\" >0.650000</td>\n",
       "      <td id=\"T_a3971_row10_col10\" class=\"data row10 col10\" >0.610000</td>\n",
       "    </tr>\n",
       "    <tr>\n",
       "      <th id=\"T_a3971_level0_row11\" class=\"row_heading level0 row11\" >0</th>\n",
       "      <td id=\"T_a3971_row11_col0\" class=\"data row11 col0\" >named_entity_recognition</td>\n",
       "      <td id=\"T_a3971_row11_col1\" class=\"data row11 col1\" >concept_replacement_100</td>\n",
       "      <td id=\"T_a3971_row11_col2\" class=\"data row11 col2\" >0.620000</td>\n",
       "      <td id=\"T_a3971_row11_col3\" class=\"data row11 col3\" >0.590000</td>\n",
       "      <td id=\"T_a3971_row11_col4\" class=\"data row11 col4\" >-0.030000</td>\n",
       "      <td id=\"T_a3971_row11_col5\" class=\"data row11 col5\" >-5.000000</td>\n",
       "      <td id=\"T_a3971_row11_col6\" class=\"data row11 col6\" >0.730000</td>\n",
       "      <td id=\"T_a3971_row11_col7\" class=\"data row11 col7\" >0.600000</td>\n",
       "      <td id=\"T_a3971_row11_col8\" class=\"data row11 col8\" >0.650000</td>\n",
       "      <td id=\"T_a3971_row11_col9\" class=\"data row11 col9\" >0.570000</td>\n",
       "      <td id=\"T_a3971_row11_col10\" class=\"data row11 col10\" >0.620000</td>\n",
       "    </tr>\n",
       "    <tr>\n",
       "      <th id=\"T_a3971_level0_row12\" class=\"row_heading level0 row12\" >1</th>\n",
       "      <td id=\"T_a3971_row12_col0\" class=\"data row12 col0\" >named_entity_recognition</td>\n",
       "      <td id=\"T_a3971_row12_col1\" class=\"data row12 col1\" >negation_100</td>\n",
       "      <td id=\"T_a3971_row12_col2\" class=\"data row12 col2\" >0.580000</td>\n",
       "      <td id=\"T_a3971_row12_col3\" class=\"data row12 col3\" >0.520000</td>\n",
       "      <td id=\"T_a3971_row12_col4\" class=\"data row12 col4\" >-0.060000</td>\n",
       "      <td id=\"T_a3971_row12_col5\" class=\"data row12 col5\" >-10.730000</td>\n",
       "      <td id=\"T_a3971_row12_col6\" class=\"data row12 col6\" >1.000000</td>\n",
       "      <td id=\"T_a3971_row12_col7\" class=\"data row12 col7\" >0.560000</td>\n",
       "      <td id=\"T_a3971_row12_col8\" class=\"data row12 col8\" >0.620000</td>\n",
       "      <td id=\"T_a3971_row12_col9\" class=\"data row12 col9\" >0.500000</td>\n",
       "      <td id=\"T_a3971_row12_col10\" class=\"data row12 col10\" >0.560000</td>\n",
       "    </tr>\n",
       "    <tr>\n",
       "      <th id=\"T_a3971_level0_row13\" class=\"row_heading level0 row13\" >4</th>\n",
       "      <td id=\"T_a3971_row13_col0\" class=\"data row13 col0\" >named_entity_recognition</td>\n",
       "      <td id=\"T_a3971_row13_col1\" class=\"data row13 col1\" >discourse_100</td>\n",
       "      <td id=\"T_a3971_row13_col2\" class=\"data row13 col2\" >0.620000</td>\n",
       "      <td id=\"T_a3971_row13_col3\" class=\"data row13 col3\" >0.580000</td>\n",
       "      <td id=\"T_a3971_row13_col4\" class=\"data row13 col4\" >-0.040000</td>\n",
       "      <td id=\"T_a3971_row13_col5\" class=\"data row13 col5\" >-7.180000</td>\n",
       "      <td id=\"T_a3971_row13_col6\" class=\"data row13 col6\" >0.760000</td>\n",
       "      <td id=\"T_a3971_row13_col7\" class=\"data row13 col7\" >0.610000</td>\n",
       "      <td id=\"T_a3971_row13_col8\" class=\"data row13 col8\" >0.660000</td>\n",
       "      <td id=\"T_a3971_row13_col9\" class=\"data row13 col9\" >0.560000</td>\n",
       "      <td id=\"T_a3971_row13_col10\" class=\"data row13 col10\" >0.600000</td>\n",
       "    </tr>\n",
       "    <tr>\n",
       "      <th id=\"T_a3971_level0_row14\" class=\"row_heading level0 row14\" >16</th>\n",
       "      <td id=\"T_a3971_row14_col0\" class=\"data row14 col0\" >named_entity_recognition</td>\n",
       "      <td id=\"T_a3971_row14_col1\" class=\"data row14 col1\" >sentiment_100</td>\n",
       "      <td id=\"T_a3971_row14_col2\" class=\"data row14 col2\" >0.640000</td>\n",
       "      <td id=\"T_a3971_row14_col3\" class=\"data row14 col3\" >0.610000</td>\n",
       "      <td id=\"T_a3971_row14_col4\" class=\"data row14 col4\" >-0.030000</td>\n",
       "      <td id=\"T_a3971_row14_col5\" class=\"data row14 col5\" >-4.810000</td>\n",
       "      <td id=\"T_a3971_row14_col6\" class=\"data row14 col6\" >0.800000</td>\n",
       "      <td id=\"T_a3971_row14_col7\" class=\"data row14 col7\" >0.630000</td>\n",
       "      <td id=\"T_a3971_row14_col8\" class=\"data row14 col8\" >0.670000</td>\n",
       "      <td id=\"T_a3971_row14_col9\" class=\"data row14 col9\" >0.610000</td>\n",
       "      <td id=\"T_a3971_row14_col10\" class=\"data row14 col10\" >0.640000</td>\n",
       "    </tr>\n",
       "    <tr>\n",
       "      <th id=\"T_a3971_level0_row15\" class=\"row_heading level0 row15\" >14</th>\n",
       "      <td id=\"T_a3971_row15_col0\" class=\"data row15 col0\" >named_entity_recognition</td>\n",
       "      <td id=\"T_a3971_row15_col1\" class=\"data row15 col1\" >casual_100</td>\n",
       "      <td id=\"T_a3971_row15_col2\" class=\"data row15 col2\" >0.570000</td>\n",
       "      <td id=\"T_a3971_row15_col3\" class=\"data row15 col3\" >0.560000</td>\n",
       "      <td id=\"T_a3971_row15_col4\" class=\"data row15 col4\" >-0.010000</td>\n",
       "      <td id=\"T_a3971_row15_col5\" class=\"data row15 col5\" >-2.070000</td>\n",
       "      <td id=\"T_a3971_row15_col6\" class=\"data row15 col6\" >1.000000</td>\n",
       "      <td id=\"T_a3971_row15_col7\" class=\"data row15 col7\" >0.560000</td>\n",
       "      <td id=\"T_a3971_row15_col8\" class=\"data row15 col8\" >0.610000</td>\n",
       "      <td id=\"T_a3971_row15_col9\" class=\"data row15 col9\" >0.550000</td>\n",
       "      <td id=\"T_a3971_row15_col10\" class=\"data row15 col10\" >0.600000</td>\n",
       "    </tr>\n",
       "    <tr>\n",
       "      <th id=\"T_a3971_level0_row16\" class=\"row_heading level0 row16\" >12</th>\n",
       "      <td id=\"T_a3971_row16_col0\" class=\"data row16 col0\" >named_entity_recognition</td>\n",
       "      <td id=\"T_a3971_row16_col1\" class=\"data row16 col1\" >dialectal_100</td>\n",
       "      <td id=\"T_a3971_row16_col2\" class=\"data row16 col2\" >0.610000</td>\n",
       "      <td id=\"T_a3971_row16_col3\" class=\"data row16 col3\" >0.630000</td>\n",
       "      <td id=\"T_a3971_row16_col4\" class=\"data row16 col4\" >0.030000</td>\n",
       "      <td id=\"T_a3971_row16_col5\" class=\"data row16 col5\" >4.270000</td>\n",
       "      <td id=\"T_a3971_row16_col6\" class=\"data row16 col6\" >1.000000</td>\n",
       "      <td id=\"T_a3971_row16_col7\" class=\"data row16 col7\" >0.600000</td>\n",
       "      <td id=\"T_a3971_row16_col8\" class=\"data row16 col8\" >0.630000</td>\n",
       "      <td id=\"T_a3971_row16_col9\" class=\"data row16 col9\" >0.620000</td>\n",
       "      <td id=\"T_a3971_row16_col10\" class=\"data row16 col10\" >0.660000</td>\n",
       "    </tr>\n",
       "    <tr>\n",
       "      <th id=\"T_a3971_level0_row17\" class=\"row_heading level0 row17\" >17</th>\n",
       "      <td id=\"T_a3971_row17_col0\" class=\"data row17 col0\" >named_entity_recognition</td>\n",
       "      <td id=\"T_a3971_row17_col1\" class=\"data row17 col1\" >average</td>\n",
       "      <td id=\"T_a3971_row17_col2\" class=\"data row17 col2\" >0.620000</td>\n",
       "      <td id=\"T_a3971_row17_col3\" class=\"data row17 col3\" >0.590000</td>\n",
       "      <td id=\"T_a3971_row17_col4\" class=\"data row17 col4\" >-0.030000</td>\n",
       "      <td id=\"T_a3971_row17_col5\" class=\"data row17 col5\" >-5.160000</td>\n",
       "      <td id=\"T_a3971_row17_col6\" class=\"data row17 col6\" >nan</td>\n",
       "      <td id=\"T_a3971_row17_col7\" class=\"data row17 col7\" >0.610000</td>\n",
       "      <td id=\"T_a3971_row17_col8\" class=\"data row17 col8\" >0.660000</td>\n",
       "      <td id=\"T_a3971_row17_col9\" class=\"data row17 col9\" >0.580000</td>\n",
       "      <td id=\"T_a3971_row17_col10\" class=\"data row17 col10\" >0.620000</td>\n",
       "    </tr>\n",
       "  </tbody>\n",
       "</table>\n"
      ],
      "text/plain": [
       "<pandas.io.formats.style.Styler at 0x1448c87a0>"
      ]
     },
     "execution_count": 98,
     "metadata": {},
     "output_type": "execute_result"
    }
   ],
   "source": [
    "result_files = glob.glob('results/ner/llama-0shot-*_100.csv')\n",
    "\n",
    "aggregated_results = []\n",
    "\n",
    "def convert_string_to_entities(entity_str):\n",
    "    \"\"\"Convert string representation of entities to proper format\"\"\"\n",
    "    if isinstance(entity_str, str):\n",
    "        try:\n",
    "            # Convert string to list of dicts\n",
    "            entities = ast.literal_eval(entity_str)\n",
    "            # Handle nested lists by flattening\n",
    "            if isinstance(entities, list):\n",
    "                # Handle double nested lists\n",
    "                if len(entities) > 0 and isinstance(entities[0], list):\n",
    "                    entities = entities[0]\n",
    "                # Handle list of dicts with text/value format\n",
    "                if len(entities) > 0 and isinstance(entities[0], dict) and 'text' in entities[0]:\n",
    "                    return entities\n",
    "                # Handle list of single-key dicts\n",
    "                if all(isinstance(e, dict) and len(e) == 1 for e in entities):\n",
    "                    converted = []\n",
    "                    for e in entities:\n",
    "                        for text, value in e.items():\n",
    "                            converted.append({'text': text, 'value': value})\n",
    "                    return converted\n",
    "            return entities\n",
    "        except:\n",
    "            return []\n",
    "    return entity_str\n",
    "\n",
    "for file in result_files:\n",
    "    # Extract modification type from filename\n",
    "    mod_type = file.split('-')[-1].replace('.csv','')\n",
    "    print(mod_type)\n",
    "    # Read results file\n",
    "    df = pd.read_csv(file)\n",
    "\n",
    "    # Calculate F1 scores row by row\n",
    "    original_f1_scores = []\n",
    "    modified_f1_scores = []\n",
    "    original_precision_scores = []\n",
    "    original_recall_scores = []\n",
    "    modified_precision_scores = []\n",
    "    modified_recall_scores = []\n",
    "\n",
    "    for idx, row in df.iterrows():\n",
    "        # Convert string representations to proper format\n",
    "        original_label = convert_string_to_entities(row['original_label'])\n",
    "        original_pred = convert_string_to_entities(row['original_pred'])\n",
    "        modified_label = convert_string_to_entities(row['modified_label'])\n",
    "        modified_pred = convert_string_to_entities(row['modified_pred'])\n",
    "\n",
    "        # Calculate F1 for original\n",
    "        o_precision, o_recall, o_f1 = calculate_f1_ent(original_label, original_pred)\n",
    "        original_f1_scores.append(o_f1)\n",
    "        original_precision_scores.append(o_precision)\n",
    "        original_recall_scores.append(o_recall)\n",
    "\n",
    "        # Calculate F1 for modified\n",
    "        m_precision, m_recall, m_f1 = calculate_f1_ent(modified_label, modified_pred)\n",
    "        modified_f1_scores.append(m_f1)\n",
    "        modified_precision_scores.append(m_precision)\n",
    "        modified_recall_scores.append(m_recall)\n",
    "\n",
    "    # Take averages\n",
    "    original_f1 = sum(original_f1_scores) / len(original_f1_scores) if original_f1_scores else 0\n",
    "    modified_f1 = sum(modified_f1_scores) / len(modified_f1_scores) if modified_f1_scores else 0\n",
    "    original_precision = sum(original_precision_scores) / len(original_precision_scores) if original_precision_scores else 0\n",
    "    original_recall = sum(original_recall_scores) / len(original_recall_scores) if original_recall_scores else 0\n",
    "    modified_precision = sum(modified_precision_scores) / len(modified_precision_scores) if modified_precision_scores else 0\n",
    "    modified_recall = sum(modified_recall_scores) / len(modified_recall_scores) if modified_recall_scores else 0\n",
    "    \n",
    "    # Calculate the difference between original and modified F1 scores\n",
    "    difference = -round(original_f1 - modified_f1, 2)\n",
    "    \n",
    "    # Calculate percentage difference with respect to original F1\n",
    "    pct_difference = -round((original_f1 - modified_f1) / original_f1 * 100, 2) if original_f1 != 0 else 0\n",
    "    \n",
    "    # Perform t-test between original and modified predictions\n",
    "    t_stat, p_value = stats.ttest_ind(\n",
    "        (df['original_pred'] == df['original_label']).astype(float),\n",
    "        (df['modified_pred'] == df['modified_label']).astype(float)\n",
    "    )\n",
    "    \n",
    "    aggregated_results.append({\n",
    "        'task': 'named_entity_recognition',\n",
    "        'modification': mod_type,\n",
    "        'original_res': round(original_f1, 2),\n",
    "        'modified_res': round(modified_f1, 2),\n",
    "        'difference': difference,  # Difference in F1 score\n",
    "        'pct_difference': pct_difference,  # Percentage difference relative to original F1\n",
    "        'p_value': p_value,  # Add p-value from t-test\n",
    "        'original_precision': round(original_precision, 2),\n",
    "        'original_recall': round(original_recall, 2),\n",
    "        'modified_precision': round(modified_precision, 2), \n",
    "        'modified_recall': round(modified_recall, 2)\n",
    "    })\n",
    "\n",
    "# Create final results dataframe\n",
    "results_df = pd.DataFrame(aggregated_results)\n",
    "\n",
    "# Sort the results based on modification_name\n",
    "modification_name = ['temporal_bias_100', 'geographical_bias_100','length_bias_100', 'typo_bias_100', 'capitalization_100', 'punctuation_100', 'derivation_100', 'compound_word_100','active_to_passive_100','grammatical_role_100', 'coordinating_conjunction_100', 'concept_replacement_100','negation_100','discourse_100','sentiment_100','casual_100', 'dialectal_100']\n",
    "results_df['modification'] = pd.Categorical(results_df['modification'], categories=modification_name, ordered=True)\n",
    "results_df = results_df.sort_values(by='modification')\n",
    "\n",
    "# Calculate averages across all modifications\n",
    "avg_original = results_df['original_res'].mean()\n",
    "avg_modified = results_df['modified_res'].mean()\n",
    "avg_difference = avg_original - avg_modified\n",
    "avg_pct_difference = results_df['pct_difference'].mean()\n",
    "avg_orig_precision = results_df['original_precision'].mean()\n",
    "avg_orig_recall = results_df['original_recall'].mean()\n",
    "avg_mod_precision = results_df['modified_precision'].mean()\n",
    "avg_mod_recall = results_df['modified_recall'].mean()\n",
    "\n",
    "# Add averages as a new row\n",
    "results_df.loc[len(results_df)] = {\n",
    "    'task': 'named_entity_recognition',\n",
    "    'modification': 'average',\n",
    "    'original_res': round(avg_original, 2),\n",
    "    'modified_res': round(avg_modified, 2),\n",
    "    'difference': -round(avg_difference, 2),\n",
    "    'pct_difference': round(avg_pct_difference, 2),\n",
    "    'p_value': None,  # No p-value for average row\n",
    "    'original_precision': round(avg_orig_precision, 2),\n",
    "    'original_recall': round(avg_orig_recall, 2),\n",
    "    'modified_precision': round(avg_mod_precision, 2),\n",
    "    'modified_recall': round(avg_mod_recall, 2)\n",
    "}\n",
    "\n",
    "print(\"\\n\")\n",
    "results_df.to_csv('results/ner/llama-DP.csv')\n",
    "\n",
    "# Apply styling to highlight rows where original_res > modified_res and significant p-values\n",
    "def highlight_drops_and_significance(row):\n",
    "    colors = [''] * len(row)\n",
    "    if row['original_res'] > row['modified_res']:\n",
    "        colors = ['background-color: red'] * len(row)\n",
    "        # If p-value < 0.05, add bold text\n",
    "        if 'p_value' in row and row['p_value'] is not None and row['p_value'] < 0.05:\n",
    "            colors = ['background-color: red; font-weight: bold'] * len(row)\n",
    "    return colors\n",
    "\n",
    "results_df.round(2).style.apply(highlight_drops_and_significance, axis=1)\n"
   ]
  },
  {
   "cell_type": "code",
   "execution_count": null,
   "metadata": {},
   "outputs": [],
   "source": []
  }
 ],
 "metadata": {
  "kernelspec": {
   "display_name": "base",
   "language": "python",
   "name": "python3"
  },
  "language_info": {
   "codemirror_mode": {
    "name": "ipython",
    "version": 3
   },
   "file_extension": ".py",
   "mimetype": "text/x-python",
   "name": "python",
   "nbconvert_exporter": "python",
   "pygments_lexer": "ipython3",
   "version": "3.12.2"
  }
 },
 "nbformat": 4,
 "nbformat_minor": 2
}
